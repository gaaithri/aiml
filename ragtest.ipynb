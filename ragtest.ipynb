{
  "cells": [
    {
      "cell_type": "markdown",
      "metadata": {
        "id": "view-in-github",
        "colab_type": "text"
      },
      "source": [
        "<a href=\"https://colab.research.google.com/github/gaaithri/aiml/blob/main/ragtest.ipynb\" target=\"_parent\"><img src=\"https://colab.research.google.com/assets/colab-badge.svg\" alt=\"Open In Colab\"/></a>"
      ]
    },
    {
      "cell_type": "code",
      "execution_count": null,
      "metadata": {
        "id": "XDKVGCHp6DXf"
      },
      "outputs": [],
      "source": []
    },
    {
      "cell_type": "code",
      "source": [
        "! pip install -r \"/content/sample_data/requirements.txt\""
      ],
      "metadata": {
        "colab": {
          "base_uri": "https://localhost:8080/"
        },
        "id": "QH2YV6Vy6_d7",
        "outputId": "b4a8e880-8b8c-4ffa-c3d8-33caf4870a62"
      },
      "execution_count": 43,
      "outputs": [
        {
          "output_type": "stream",
          "name": "stdout",
          "text": [
            "Requirement already satisfied: llama-index in /usr/local/lib/python3.10/dist-packages (from -r /content/sample_data/requirements.txt (line 1)) (0.12.8)\n",
            "Requirement already satisfied: openai in /usr/local/lib/python3.10/dist-packages (from -r /content/sample_data/requirements.txt (line 2)) (1.58.1)\n",
            "Requirement already satisfied: pypdf in /usr/local/lib/python3.10/dist-packages (from -r /content/sample_data/requirements.txt (line 3)) (5.1.0)\n",
            "Requirement already satisfied: python-dotenv in /usr/local/lib/python3.10/dist-packages (from -r /content/sample_data/requirements.txt (line 4)) (1.0.1)\n",
            "Requirement already satisfied: llama-index-agent-openai<0.5.0,>=0.4.0 in /usr/local/lib/python3.10/dist-packages (from llama-index->-r /content/sample_data/requirements.txt (line 1)) (0.4.1)\n",
            "Requirement already satisfied: llama-index-cli<0.5.0,>=0.4.0 in /usr/local/lib/python3.10/dist-packages (from llama-index->-r /content/sample_data/requirements.txt (line 1)) (0.4.0)\n",
            "Requirement already satisfied: llama-index-core<0.13.0,>=0.12.8 in /usr/local/lib/python3.10/dist-packages (from llama-index->-r /content/sample_data/requirements.txt (line 1)) (0.12.8)\n",
            "Requirement already satisfied: llama-index-embeddings-openai<0.4.0,>=0.3.0 in /usr/local/lib/python3.10/dist-packages (from llama-index->-r /content/sample_data/requirements.txt (line 1)) (0.3.1)\n",
            "Requirement already satisfied: llama-index-indices-managed-llama-cloud>=0.4.0 in /usr/local/lib/python3.10/dist-packages (from llama-index->-r /content/sample_data/requirements.txt (line 1)) (0.6.3)\n",
            "Requirement already satisfied: llama-index-llms-openai<0.4.0,>=0.3.0 in /usr/local/lib/python3.10/dist-packages (from llama-index->-r /content/sample_data/requirements.txt (line 1)) (0.3.12)\n",
            "Requirement already satisfied: llama-index-multi-modal-llms-openai<0.5.0,>=0.4.0 in /usr/local/lib/python3.10/dist-packages (from llama-index->-r /content/sample_data/requirements.txt (line 1)) (0.4.1)\n",
            "Requirement already satisfied: llama-index-program-openai<0.4.0,>=0.3.0 in /usr/local/lib/python3.10/dist-packages (from llama-index->-r /content/sample_data/requirements.txt (line 1)) (0.3.1)\n",
            "Requirement already satisfied: llama-index-question-gen-openai<0.4.0,>=0.3.0 in /usr/local/lib/python3.10/dist-packages (from llama-index->-r /content/sample_data/requirements.txt (line 1)) (0.3.0)\n",
            "Requirement already satisfied: llama-index-readers-file<0.5.0,>=0.4.0 in /usr/local/lib/python3.10/dist-packages (from llama-index->-r /content/sample_data/requirements.txt (line 1)) (0.4.1)\n",
            "Requirement already satisfied: llama-index-readers-llama-parse>=0.4.0 in /usr/local/lib/python3.10/dist-packages (from llama-index->-r /content/sample_data/requirements.txt (line 1)) (0.4.0)\n",
            "Requirement already satisfied: nltk>3.8.1 in /usr/local/lib/python3.10/dist-packages (from llama-index->-r /content/sample_data/requirements.txt (line 1)) (3.9.1)\n",
            "Requirement already satisfied: anyio<5,>=3.5.0 in /usr/local/lib/python3.10/dist-packages (from openai->-r /content/sample_data/requirements.txt (line 2)) (3.7.1)\n",
            "Requirement already satisfied: distro<2,>=1.7.0 in /usr/local/lib/python3.10/dist-packages (from openai->-r /content/sample_data/requirements.txt (line 2)) (1.9.0)\n",
            "Requirement already satisfied: httpx<1,>=0.23.0 in /usr/local/lib/python3.10/dist-packages (from openai->-r /content/sample_data/requirements.txt (line 2)) (0.28.1)\n",
            "Requirement already satisfied: jiter<1,>=0.4.0 in /usr/local/lib/python3.10/dist-packages (from openai->-r /content/sample_data/requirements.txt (line 2)) (0.8.2)\n",
            "Requirement already satisfied: pydantic<3,>=1.9.0 in /usr/local/lib/python3.10/dist-packages (from openai->-r /content/sample_data/requirements.txt (line 2)) (2.10.3)\n",
            "Requirement already satisfied: sniffio in /usr/local/lib/python3.10/dist-packages (from openai->-r /content/sample_data/requirements.txt (line 2)) (1.3.1)\n",
            "Requirement already satisfied: tqdm>4 in /usr/local/lib/python3.10/dist-packages (from openai->-r /content/sample_data/requirements.txt (line 2)) (4.67.1)\n",
            "Requirement already satisfied: typing-extensions<5,>=4.11 in /usr/local/lib/python3.10/dist-packages (from openai->-r /content/sample_data/requirements.txt (line 2)) (4.12.2)\n",
            "Requirement already satisfied: idna>=2.8 in /usr/local/lib/python3.10/dist-packages (from anyio<5,>=3.5.0->openai->-r /content/sample_data/requirements.txt (line 2)) (3.10)\n",
            "Requirement already satisfied: exceptiongroup in /usr/local/lib/python3.10/dist-packages (from anyio<5,>=3.5.0->openai->-r /content/sample_data/requirements.txt (line 2)) (1.2.2)\n",
            "Requirement already satisfied: certifi in /usr/local/lib/python3.10/dist-packages (from httpx<1,>=0.23.0->openai->-r /content/sample_data/requirements.txt (line 2)) (2024.12.14)\n",
            "Requirement already satisfied: httpcore==1.* in /usr/local/lib/python3.10/dist-packages (from httpx<1,>=0.23.0->openai->-r /content/sample_data/requirements.txt (line 2)) (1.0.7)\n",
            "Requirement already satisfied: h11<0.15,>=0.13 in /usr/local/lib/python3.10/dist-packages (from httpcore==1.*->httpx<1,>=0.23.0->openai->-r /content/sample_data/requirements.txt (line 2)) (0.14.0)\n",
            "Requirement already satisfied: PyYAML>=6.0.1 in /usr/local/lib/python3.10/dist-packages (from llama-index-core<0.13.0,>=0.12.8->llama-index->-r /content/sample_data/requirements.txt (line 1)) (6.0.2)\n",
            "Requirement already satisfied: SQLAlchemy>=1.4.49 in /usr/local/lib/python3.10/dist-packages (from SQLAlchemy[asyncio]>=1.4.49->llama-index-core<0.13.0,>=0.12.8->llama-index->-r /content/sample_data/requirements.txt (line 1)) (2.0.36)\n",
            "Requirement already satisfied: aiohttp<4.0.0,>=3.8.6 in /usr/local/lib/python3.10/dist-packages (from llama-index-core<0.13.0,>=0.12.8->llama-index->-r /content/sample_data/requirements.txt (line 1)) (3.11.10)\n",
            "Requirement already satisfied: dataclasses-json in /usr/local/lib/python3.10/dist-packages (from llama-index-core<0.13.0,>=0.12.8->llama-index->-r /content/sample_data/requirements.txt (line 1)) (0.6.7)\n",
            "Requirement already satisfied: deprecated>=1.2.9.3 in /usr/local/lib/python3.10/dist-packages (from llama-index-core<0.13.0,>=0.12.8->llama-index->-r /content/sample_data/requirements.txt (line 1)) (1.2.15)\n",
            "Requirement already satisfied: dirtyjson<2.0.0,>=1.0.8 in /usr/local/lib/python3.10/dist-packages (from llama-index-core<0.13.0,>=0.12.8->llama-index->-r /content/sample_data/requirements.txt (line 1)) (1.0.8)\n",
            "Requirement already satisfied: filetype<2.0.0,>=1.2.0 in /usr/local/lib/python3.10/dist-packages (from llama-index-core<0.13.0,>=0.12.8->llama-index->-r /content/sample_data/requirements.txt (line 1)) (1.2.0)\n",
            "Requirement already satisfied: fsspec>=2023.5.0 in /usr/local/lib/python3.10/dist-packages (from llama-index-core<0.13.0,>=0.12.8->llama-index->-r /content/sample_data/requirements.txt (line 1)) (2024.10.0)\n",
            "Requirement already satisfied: nest-asyncio<2.0.0,>=1.5.8 in /usr/local/lib/python3.10/dist-packages (from llama-index-core<0.13.0,>=0.12.8->llama-index->-r /content/sample_data/requirements.txt (line 1)) (1.6.0)\n",
            "Requirement already satisfied: networkx>=3.0 in /usr/local/lib/python3.10/dist-packages (from llama-index-core<0.13.0,>=0.12.8->llama-index->-r /content/sample_data/requirements.txt (line 1)) (3.4.2)\n",
            "Requirement already satisfied: numpy in /usr/local/lib/python3.10/dist-packages (from llama-index-core<0.13.0,>=0.12.8->llama-index->-r /content/sample_data/requirements.txt (line 1)) (1.26.4)\n",
            "Requirement already satisfied: pillow>=9.0.0 in /usr/local/lib/python3.10/dist-packages (from llama-index-core<0.13.0,>=0.12.8->llama-index->-r /content/sample_data/requirements.txt (line 1)) (11.0.0)\n",
            "Requirement already satisfied: requests>=2.31.0 in /usr/local/lib/python3.10/dist-packages (from llama-index-core<0.13.0,>=0.12.8->llama-index->-r /content/sample_data/requirements.txt (line 1)) (2.32.3)\n",
            "Requirement already satisfied: tenacity!=8.4.0,<10.0.0,>=8.2.0 in /usr/local/lib/python3.10/dist-packages (from llama-index-core<0.13.0,>=0.12.8->llama-index->-r /content/sample_data/requirements.txt (line 1)) (9.0.0)\n",
            "Requirement already satisfied: tiktoken>=0.3.3 in /usr/local/lib/python3.10/dist-packages (from llama-index-core<0.13.0,>=0.12.8->llama-index->-r /content/sample_data/requirements.txt (line 1)) (0.8.0)\n",
            "Requirement already satisfied: typing-inspect>=0.8.0 in /usr/local/lib/python3.10/dist-packages (from llama-index-core<0.13.0,>=0.12.8->llama-index->-r /content/sample_data/requirements.txt (line 1)) (0.9.0)\n",
            "Requirement already satisfied: wrapt in /usr/local/lib/python3.10/dist-packages (from llama-index-core<0.13.0,>=0.12.8->llama-index->-r /content/sample_data/requirements.txt (line 1)) (1.17.0)\n",
            "Requirement already satisfied: llama-cloud>=0.1.5 in /usr/local/lib/python3.10/dist-packages (from llama-index-indices-managed-llama-cloud>=0.4.0->llama-index->-r /content/sample_data/requirements.txt (line 1)) (0.1.7)\n",
            "Requirement already satisfied: beautifulsoup4<5.0.0,>=4.12.3 in /usr/local/lib/python3.10/dist-packages (from llama-index-readers-file<0.5.0,>=0.4.0->llama-index->-r /content/sample_data/requirements.txt (line 1)) (4.12.3)\n",
            "Requirement already satisfied: pandas in /usr/local/lib/python3.10/dist-packages (from llama-index-readers-file<0.5.0,>=0.4.0->llama-index->-r /content/sample_data/requirements.txt (line 1)) (2.2.2)\n",
            "Requirement already satisfied: striprtf<0.0.27,>=0.0.26 in /usr/local/lib/python3.10/dist-packages (from llama-index-readers-file<0.5.0,>=0.4.0->llama-index->-r /content/sample_data/requirements.txt (line 1)) (0.0.26)\n",
            "Requirement already satisfied: llama-parse>=0.5.0 in /usr/local/lib/python3.10/dist-packages (from llama-index-readers-llama-parse>=0.4.0->llama-index->-r /content/sample_data/requirements.txt (line 1)) (0.5.19)\n",
            "Requirement already satisfied: click in /usr/local/lib/python3.10/dist-packages (from nltk>3.8.1->llama-index->-r /content/sample_data/requirements.txt (line 1)) (8.1.7)\n",
            "Requirement already satisfied: joblib in /usr/local/lib/python3.10/dist-packages (from nltk>3.8.1->llama-index->-r /content/sample_data/requirements.txt (line 1)) (1.4.2)\n",
            "Requirement already satisfied: regex>=2021.8.3 in /usr/local/lib/python3.10/dist-packages (from nltk>3.8.1->llama-index->-r /content/sample_data/requirements.txt (line 1)) (2024.11.6)\n",
            "Requirement already satisfied: annotated-types>=0.6.0 in /usr/local/lib/python3.10/dist-packages (from pydantic<3,>=1.9.0->openai->-r /content/sample_data/requirements.txt (line 2)) (0.7.0)\n",
            "Requirement already satisfied: pydantic-core==2.27.1 in /usr/local/lib/python3.10/dist-packages (from pydantic<3,>=1.9.0->openai->-r /content/sample_data/requirements.txt (line 2)) (2.27.1)\n",
            "Requirement already satisfied: aiohappyeyeballs>=2.3.0 in /usr/local/lib/python3.10/dist-packages (from aiohttp<4.0.0,>=3.8.6->llama-index-core<0.13.0,>=0.12.8->llama-index->-r /content/sample_data/requirements.txt (line 1)) (2.4.4)\n",
            "Requirement already satisfied: aiosignal>=1.1.2 in /usr/local/lib/python3.10/dist-packages (from aiohttp<4.0.0,>=3.8.6->llama-index-core<0.13.0,>=0.12.8->llama-index->-r /content/sample_data/requirements.txt (line 1)) (1.3.2)\n",
            "Requirement already satisfied: async-timeout<6.0,>=4.0 in /usr/local/lib/python3.10/dist-packages (from aiohttp<4.0.0,>=3.8.6->llama-index-core<0.13.0,>=0.12.8->llama-index->-r /content/sample_data/requirements.txt (line 1)) (4.0.3)\n",
            "Requirement already satisfied: attrs>=17.3.0 in /usr/local/lib/python3.10/dist-packages (from aiohttp<4.0.0,>=3.8.6->llama-index-core<0.13.0,>=0.12.8->llama-index->-r /content/sample_data/requirements.txt (line 1)) (24.3.0)\n",
            "Requirement already satisfied: frozenlist>=1.1.1 in /usr/local/lib/python3.10/dist-packages (from aiohttp<4.0.0,>=3.8.6->llama-index-core<0.13.0,>=0.12.8->llama-index->-r /content/sample_data/requirements.txt (line 1)) (1.5.0)\n",
            "Requirement already satisfied: multidict<7.0,>=4.5 in /usr/local/lib/python3.10/dist-packages (from aiohttp<4.0.0,>=3.8.6->llama-index-core<0.13.0,>=0.12.8->llama-index->-r /content/sample_data/requirements.txt (line 1)) (6.1.0)\n",
            "Requirement already satisfied: propcache>=0.2.0 in /usr/local/lib/python3.10/dist-packages (from aiohttp<4.0.0,>=3.8.6->llama-index-core<0.13.0,>=0.12.8->llama-index->-r /content/sample_data/requirements.txt (line 1)) (0.2.1)\n",
            "Requirement already satisfied: yarl<2.0,>=1.17.0 in /usr/local/lib/python3.10/dist-packages (from aiohttp<4.0.0,>=3.8.6->llama-index-core<0.13.0,>=0.12.8->llama-index->-r /content/sample_data/requirements.txt (line 1)) (1.18.3)\n",
            "Requirement already satisfied: soupsieve>1.2 in /usr/local/lib/python3.10/dist-packages (from beautifulsoup4<5.0.0,>=4.12.3->llama-index-readers-file<0.5.0,>=0.4.0->llama-index->-r /content/sample_data/requirements.txt (line 1)) (2.6)\n",
            "Requirement already satisfied: charset-normalizer<4,>=2 in /usr/local/lib/python3.10/dist-packages (from requests>=2.31.0->llama-index-core<0.13.0,>=0.12.8->llama-index->-r /content/sample_data/requirements.txt (line 1)) (3.4.0)\n",
            "Requirement already satisfied: urllib3<3,>=1.21.1 in /usr/local/lib/python3.10/dist-packages (from requests>=2.31.0->llama-index-core<0.13.0,>=0.12.8->llama-index->-r /content/sample_data/requirements.txt (line 1)) (2.2.3)\n",
            "Requirement already satisfied: greenlet!=0.4.17 in /usr/local/lib/python3.10/dist-packages (from SQLAlchemy>=1.4.49->SQLAlchemy[asyncio]>=1.4.49->llama-index-core<0.13.0,>=0.12.8->llama-index->-r /content/sample_data/requirements.txt (line 1)) (3.1.1)\n",
            "Requirement already satisfied: mypy-extensions>=0.3.0 in /usr/local/lib/python3.10/dist-packages (from typing-inspect>=0.8.0->llama-index-core<0.13.0,>=0.12.8->llama-index->-r /content/sample_data/requirements.txt (line 1)) (1.0.0)\n",
            "Requirement already satisfied: marshmallow<4.0.0,>=3.18.0 in /usr/local/lib/python3.10/dist-packages (from dataclasses-json->llama-index-core<0.13.0,>=0.12.8->llama-index->-r /content/sample_data/requirements.txt (line 1)) (3.23.2)\n",
            "Requirement already satisfied: python-dateutil>=2.8.2 in /usr/local/lib/python3.10/dist-packages (from pandas->llama-index-readers-file<0.5.0,>=0.4.0->llama-index->-r /content/sample_data/requirements.txt (line 1)) (2.8.2)\n",
            "Requirement already satisfied: pytz>=2020.1 in /usr/local/lib/python3.10/dist-packages (from pandas->llama-index-readers-file<0.5.0,>=0.4.0->llama-index->-r /content/sample_data/requirements.txt (line 1)) (2024.2)\n",
            "Requirement already satisfied: tzdata>=2022.7 in /usr/local/lib/python3.10/dist-packages (from pandas->llama-index-readers-file<0.5.0,>=0.4.0->llama-index->-r /content/sample_data/requirements.txt (line 1)) (2024.2)\n",
            "Requirement already satisfied: packaging>=17.0 in /usr/local/lib/python3.10/dist-packages (from marshmallow<4.0.0,>=3.18.0->dataclasses-json->llama-index-core<0.13.0,>=0.12.8->llama-index->-r /content/sample_data/requirements.txt (line 1)) (24.2)\n",
            "Requirement already satisfied: six>=1.5 in /usr/local/lib/python3.10/dist-packages (from python-dateutil>=2.8.2->pandas->llama-index-readers-file<0.5.0,>=0.4.0->llama-index->-r /content/sample_data/requirements.txt (line 1)) (1.17.0)\n"
          ]
        }
      ]
    },
    {
      "cell_type": "code",
      "execution_count": 2,
      "metadata": {
        "id": "0p3UzHaC6DXi",
        "colab": {
          "base_uri": "https://localhost:8080/",
          "height": 180
        },
        "outputId": "00731b13-4992-400d-a3bc-72a7484fff0b"
      },
      "outputs": [
        {
          "output_type": "error",
          "ename": "NameError",
          "evalue": "name 'SimpleDirectoryReader' is not defined",
          "traceback": [
            "\u001b[0;31m---------------------------------------------------------------------------\u001b[0m",
            "\u001b[0;31mNameError\u001b[0m                                 Traceback (most recent call last)",
            "\u001b[0;32m<ipython-input-2-335b1490b778>\u001b[0m in \u001b[0;36m<cell line: 1>\u001b[0;34m()\u001b[0m\n\u001b[0;32m----> 1\u001b[0;31m \u001b[0mdocuments\u001b[0m \u001b[0;34m=\u001b[0m \u001b[0mSimpleDirectoryReader\u001b[0m\u001b[0;34m(\u001b[0m\u001b[0;34m\"/content/data\"\u001b[0m\u001b[0;34m)\u001b[0m\u001b[0;34m.\u001b[0m\u001b[0mload_data\u001b[0m\u001b[0;34m(\u001b[0m\u001b[0;34m)\u001b[0m\u001b[0;34m\u001b[0m\u001b[0;34m\u001b[0m\u001b[0m\n\u001b[0m",
            "\u001b[0;31mNameError\u001b[0m: name 'SimpleDirectoryReader' is not defined"
          ]
        }
      ],
      "source": [
        "documents = SimpleDirectoryReader(\"/content/data\").load_data()"
      ]
    },
    {
      "cell_type": "code",
      "execution_count": 4,
      "metadata": {
        "colab": {
          "base_uri": "https://localhost:8080/"
        },
        "id": "Nb0JU69Y6DXi",
        "outputId": "e5a002c5-88f5-4527-d126-c93ebd392e4a",
        "collapsed": true
      },
      "outputs": [
        {
          "output_type": "execute_result",
          "data": {
            "text/plain": [
              "[Document(id_='6d592347-982a-4a1d-96c4-ac60698b30a1', embedding=None, metadata={'page_label': '1', 'file_name': 'jess203.pdf', 'file_path': '/content/data/jess203.pdf', 'file_type': 'application/pdf', 'file_size': 3335877, 'creation_date': '2024-12-28', 'last_modified_date': '2024-12-28'}, excluded_embed_metadata_keys=['file_name', 'file_type', 'file_size', 'creation_date', 'last_modified_date', 'last_accessed_date'], excluded_llm_metadata_keys=['file_name', 'file_type', 'file_size', 'creation_date', 'last_modified_date', 'last_accessed_date'], relationships={}, metadata_template='{key}: {value}', metadata_separator='\\n', text_resource=MediaResource(embeddings=None, data=None, text='NOTES FOR THE  TEACHER\\nCHAPTER 3 : MONEY AND CREDIT\\nMoney is a fascinating subject and full of\\ncuriosities. It is important to capture this\\nelement for the students. The history of\\nmoney and how various forms were used at\\ndifferent times is an interesting story. At this\\nstage the purpose is to allow students to\\nrealise the social situation in which these\\nforms were used. Modern forms of money are\\nlinked to the banking system. This is the\\ncentral idea of the first part of the chapter.\\nThe present situation in India, where\\nnewer forms of money are slowly spreading\\nwith computerisation of the banking system,\\noffers many opportunities to students to\\nexplore on their own. We need not get into a\\nformal discussion of the ‘functions of money’\\nbut let it come up as questions. There are\\ncertain areas that are not covered, such as\\n‘creation of money’ (money multiplier) or the\\nbacking of the modern system that may be\\ndiscussed if you desire.\\nAs you would see in the chapter, the stock\\nof money consists of currency held by the\\npublic and the demand deposits that they hold\\nwith the banks. This is the money that people\\ncan use as they wish and the government has\\nto ensure that the system works smoothy.\\nWhat would happen when the government\\ndeclares that some of the currency notes used\\nby people would be made invalid and would be\\nreplaced by new currency? In India, during\\nNovember 2016, currency notes in the\\ndenomination of Rs. 500 and Rs. 1,000 were\\ndeclared invalid. People were asked to\\nsurrender these notes to the bank by a specific\\nperiod and receive new Rs. 500, Rs. 2,000 or\\nother currency notes. This is known as\\n‘demonetisation’. Since then, people were also\\nencouraged to use their bank deposits rather\\nthan cash for transactions. Hence, digital\\ntransactions started by using bank-to-bank\\ntransfer through the internet or mobile\\nphones, cheques, ATM cards, credit cards,\\nand Point of Sale (POS) swipe machines at\\nshops. This is promoted to reduce the\\nrequirement of cash for transactions and also\\ncontrol corruption. Students could be asked\\nto debate on the process and the impact of\\ndemonetisation. They can be guided to make\\na collage of the major areas where people use\\ndigital and cash transactions which are\\nlegitimate and legal. They can also discuss the\\ntransactions which are legal and why. It is also\\nimportant to intimate students that different\\ntypes of plastic cards are used in place of cash\\ntransactions but not all of them money per se.\\nCredit is a crucial element in economic\\nlife and it is, therefore, important to first\\nunderstand this in a conceptual manner.\\nWhat are the aspects that one looks at in\\nany credit arrangement and how this affects\\npeople is the main focus of the second part\\nof the chapter. The world around us offers a\\ntremendous variety of such arrangements\\nand it would be ideal to explain these\\naspects of credit from situations that are\\nfamiliar to your students. The other crucial\\nissue of credit is its availability to all,\\nespecially the poor, and on reasonable\\nterms. We need to emphasise that this is a\\nright of the people and without which a large\\nsection of them would be kept out of the\\ndevelopment process. There are many\\ninnovative interventions, such as that of\\nGrameen Bank, of which students may be\\nmade familiar with but it is important to\\nrealise that we don’t have answers to all\\nquestions. We need to find new ways and\\nthis is one of the social challenges that\\ndeveloping countries face.\\nSources for Information\\nThe data on formal and informal sector credit\\nused in this chapter is drawn from the\\nsurvey on rural debt by the National Sample\\nSurvey Organisation (All India Debt and\\nInvestment Survey, 70 th  Round 2013,\\nconducted by NSSO) now known as National\\nStatistical Office (NSO). The information and\\ndata on Grameen Bank is taken from\\nnewspaper reports and websites. In order\\nto get the details of bank-related statistics\\nor a particular detail of a bank, you can log\\non to the websites of the Reserve Bank of\\nIndia (www.rbi.org)  and the concerned\\nbanks. Data on self-help groups is provided\\non the website of the National Bank for\\nAgriculture and Rural Development\\n(NABARD) (www.nabard.org).\\n38 3838 3838 U UUUUNDERST NDERSTNDERST NDERSTNDERST ANDINGANDINGANDING ANDINGANDING  E  E E  E E CONOMICCONOMICCONOMICCONOMICCONOMIC  D  D D  D D EVEL EVELEVEL EVELEVEL OPMENT OPMENTOPMENT OPMENTOPMENT\\n2024-25\\n', mimetype=None, path=None, url=None), image_resource=None, audio_resource=None, video_resource=None, text_template='{metadata_str}\\n\\n{content}'),\n",
              " Document(id_='029cff01-262c-46b8-8629-a6a5609589cc', embedding=None, metadata={'page_label': '2', 'file_name': 'jess203.pdf', 'file_path': '/content/data/jess203.pdf', 'file_type': 'application/pdf', 'file_size': 3335877, 'creation_date': '2024-12-28', 'last_modified_date': '2024-12-28'}, excluded_embed_metadata_keys=['file_name', 'file_type', 'file_size', 'creation_date', 'last_modified_date', 'last_accessed_date'], excluded_llm_metadata_keys=['file_name', 'file_type', 'file_size', 'creation_date', 'last_modified_date', 'last_accessed_date'], relationships={}, metadata_template='{key}: {value}', metadata_separator='\\n', text_resource=MediaResource(embeddings=None, data=None, text='M MM MMONEYONEYONEY ONEYONEY      AND ANDAND ANDAND  C  C C  C C REDIT REDITREDIT REDITREDIT 39 3939 3939\\nThe use of money spans a very large\\npart of our everyday life. Look around\\nyou and you would easily be able to\\nidentify several transactions involving\\nmoney in any single day. Can you\\nmake a list of these? In many of these\\ntransactions, goods are being bought\\nand sold with the use of money. In\\nsome of these transactions, services\\nare being exchanged with money.  For\\nsome, there might not be any actual\\ntransfer of money taking place now\\nbut a promise to pay money later.\\nHave you ever wondered why\\ntransactions are made in\\nmoney? The reason is simple.\\nA person holding money can easily\\nexchange it for any commodity or\\nservice that he or she might want.\\nThus everyone  prefers to receive\\npayments in money and then\\nexchange the money for things that\\nthey want.  Take the case of a shoe\\nmanufacturer. He wants to sell shoes\\nin the market and buy wheat.  The\\nshoe manufacturer will first exchange\\nshoes that he has produced for\\nmoney, and then exchange the money\\nfor wheat. Imagine how much more\\ndifficult it would be if the shoe\\nmanufacturer had to directly\\nexchange shoes for wheat without the\\nuse of money. He would have to look\\nfor a wheat growing farmer who not\\nonly wants to sell wheat\\nbut also wants to buy the\\nshoes in exchange.\\nThat is, both parties\\nhave to agree to\\nsell and buy each\\nothers commodities.\\nThis is known as\\ndouble coincidence\\nof wants.  What a person\\ndesires to sell is exactly what the\\nother wishes to buy. In a barter\\nsystem where goods are directly\\nexchanged without the use of money,\\ndouble coincidence of wants is an\\nessential feature.\\nIn contrast, in an economy where\\nmoney is in use, money by providing\\nthe crucial intermediate step\\neliminates the need for double\\ncoincidence of wants. It is no longer\\nnecessary for the shoe manufacturer\\nto look for a farmer who will buy his\\nshoes and at the same time sell him\\nMONEY MONEYMONEYMONEYMONEY\\nANDANDAND\\nANDAND\\nCREDIT CREDIT\\nCREDIT CREDITCREDIT\\nCHAPTER 3\\nMONEY AS A MEDIUM OF EX CHANGE\\nI’LL GIVE\\nYOU SHOES\\nFOR YOUR\\nWHEAT.\\nI DON’T NEED\\nSHOES. I NEED\\nCLOTHES.\\nI WANT SHOES.\\nBUT I DON’T HAVE\\nWHEAT.\\n2024-25\\n', mimetype=None, path=None, url=None), image_resource=None, audio_resource=None, video_resource=None, text_template='{metadata_str}\\n\\n{content}'),\n",
              " Document(id_='41533084-3a32-472a-96ba-b4e43e91f466', embedding=None, metadata={'page_label': '3', 'file_name': 'jess203.pdf', 'file_path': '/content/data/jess203.pdf', 'file_type': 'application/pdf', 'file_size': 3335877, 'creation_date': '2024-12-28', 'last_modified_date': '2024-12-28'}, excluded_embed_metadata_keys=['file_name', 'file_type', 'file_size', 'creation_date', 'last_modified_date', 'last_accessed_date'], excluded_llm_metadata_keys=['file_name', 'file_type', 'file_size', 'creation_date', 'last_modified_date', 'last_accessed_date'], relationships={}, metadata_template='{key}: {value}', metadata_separator='\\n', text_resource=MediaResource(embeddings=None, data=None, text='40 4040 4040 U UUUUNDERST NDERSTNDERSTNDERSTNDERST ANDING ANDINGANDING ANDINGANDING  E  E E  E E CONOMICCONOMICCONOMICCONOMICCONOMIC  D  D D  D D EVEL EVELEVEL EVELEVEL OPMENT OPMENTOPMENT OPMENTOPMENT\\nWe have seen that money is\\nsomething that can act as a medium\\nof exchange in transactions.  Before\\nthe introduction of coins, a variety of\\nobjects was used as money. For\\nexample, since the very early ages,\\nIndians used  grains and cattle as\\nmoney. Thereafter came the use of\\nmetallic coins — gold, silver, copper\\ncoins — a phase which continued well\\ninto the last century.\\nCurrency\\nModern forms of money include\\ncurrency — paper notes and coins.\\nUnlike the things that were used as\\nmoney earlier, modern currency is not\\nmade of precious metal such as gold,\\nsilver and copper.  And unlike grain\\nand cattle, they are neither of\\neveryday use. The modern currency\\nis without any use of its own.\\nThen, why is it accepted as a\\nmedium of exchange?  It is accepted\\nas a medium of exchange because the\\ncurrency is authorised by the\\ngovernment of the country.\\nIn India, the Reserve Bank of India\\nissues currency notes on behalf of the\\ncentral government. As per Indian\\nlaw, no other individual or\\norganisation is allowed to issue\\ncurrency. Moreover, the law legalises\\nthe use of rupee as a medium of\\npayment that cannot be refused in\\nsettling transactions in India. No\\nindividual in India can legally refuse\\na payment made in rupees. Hence,\\nthe rupee is widely accepted as a\\nmedium of exchange.\\nDeposits with Banks\\nThe other form in which people hold\\nmoney is as deposits with banks. At\\na point of time, people need only some\\ncurrency  for their day-to-day needs.\\nFor instance, workers who receive\\ntheir salaries at the end of each month\\nhave extra cash at the beginning of\\nthe month. What do people do with\\nthis extra cash? They deposit it with\\nthe banks by opening a bank\\naccount in their name. Banks accept\\nthe deposits and also pay an amount\\nas interest on the deposits. In this way\\npeople’s money is safe with the\\nbanks and it earns an amount as\\ninterest.  People also have the\\nprovision to withdraw the money as\\nand when they require. Since the\\ndeposits in the bank accounts can be\\nwithdrawn on demand, these\\ndeposits are called demand deposits.\\n1. How does the use of money make it easier to exchange things?\\n2. Can you think of some examples of goods / services being exchanged or wages being\\npaid through barter?\\nLET’S WORK THESE OUT\\nMODERN FORMS OF  MONEY\\nEarly punch-\\nmarked coins\\n(may be 2500\\nyears old)\\nGupta\\ncoins\\nGold\\nMohar\\nfrom\\nAkbar’s\\nreign\\nwheat. All he has to do is find a buyer\\nfor his shoes. Once he has exchanged\\nhis shoes for money, he can purchase\\nwheat or any other commodity in the\\nmarket. Since money acts as an\\nintermediate in the exchange process,\\nit is called a medium of exchange.\\nTughlaq\\ncoin\\nModern coin\\n2024-25\\n', mimetype=None, path=None, url=None), image_resource=None, audio_resource=None, video_resource=None, text_template='{metadata_str}\\n\\n{content}'),\n",
              " Document(id_='861ea2df-f7ed-4a43-9bae-25877a8d8915', embedding=None, metadata={'page_label': '4', 'file_name': 'jess203.pdf', 'file_path': '/content/data/jess203.pdf', 'file_type': 'application/pdf', 'file_size': 3335877, 'creation_date': '2024-12-28', 'last_modified_date': '2024-12-28'}, excluded_embed_metadata_keys=['file_name', 'file_type', 'file_size', 'creation_date', 'last_modified_date', 'last_accessed_date'], excluded_llm_metadata_keys=['file_name', 'file_type', 'file_size', 'creation_date', 'last_modified_date', 'last_accessed_date'], relationships={}, metadata_template='{key}: {value}', metadata_separator='\\n', text_resource=MediaResource(embeddings=None, data=None, text='M MM MMONEYONEYONEY ONEYONEY      AND ANDAND ANDAND  C  C C  C C REDIT REDITREDIT REDITREDIT 41 4141 4141\\nCheque PaymentsCheque PaymentsCheque PaymentsCheque PaymentsCheque Payments\\nA shoe manufactur er, M. Salim has to make a payment to the leather supplier and writes\\na cheque for a specific amount. This means that the shoe manufacturer instructs his\\nbank to pay this amount to the leather supplier . The leather supplier takes this cheque,\\nand  deposits it in his own account in the bank. The money is transferred from one bank\\naccount to another bank account in a couple of days. The transaction is complete without\\nany payment of cash.\\nThus we see that demand deposits\\nshare the essential features of money.\\nThe facility of cheques against demand\\ndeposits makes it possible to directly\\nsettle payments without the use of cash.\\nSince demand deposits are accepted\\nwidely as a means of payment, along\\nwith currency, they constitute money\\nin the modern economy.\\nYou must remember the role that\\nthe banks play here. But for the\\nbanks, there would be no demand\\ndeposits and no payments by\\ncheques against these deposits.  The\\nmodern forms of money — currency\\nand deposits — are closely linked to\\nthe working of the modern banking\\nsystem.\\nAccount number\\nCoding used by banksCheque number\\nDemand deposits offer another\\ninteresting facility. It is this facility\\nwhich lends it the essential\\ncharacteristics of money (that of a\\nmedium of exchange). You would\\nhave heard of payments being\\nmade by cheques instead of cash.\\nFor payment through cheque, the\\npayer who has an account with the\\nbank, makes out a cheque for a\\nspecific amount. A cheque is a\\npaper instructing the bank to pay\\na specific amount from the\\nperson’s account to the person in\\nwhose name the cheque has been\\nissued.\\nBank branch\\ncode\\nLET US TRY AND UNDERSTAND\\nHOW CHEQUE PAYMENTS ARE\\nMADE AND REALISED WITH\\nAN EXAMPLE.\\n2024-25\\n', mimetype=None, path=None, url=None), image_resource=None, audio_resource=None, video_resource=None, text_template='{metadata_str}\\n\\n{content}'),\n",
              " Document(id_='e3730a46-d977-4f81-a6e4-872ba9e6c5a3', embedding=None, metadata={'page_label': '5', 'file_name': 'jess203.pdf', 'file_path': '/content/data/jess203.pdf', 'file_type': 'application/pdf', 'file_size': 3335877, 'creation_date': '2024-12-28', 'last_modified_date': '2024-12-28'}, excluded_embed_metadata_keys=['file_name', 'file_type', 'file_size', 'creation_date', 'last_modified_date', 'last_accessed_date'], excluded_llm_metadata_keys=['file_name', 'file_type', 'file_size', 'creation_date', 'last_modified_date', 'last_accessed_date'], relationships={}, metadata_template='{key}: {value}', metadata_separator='\\n', text_resource=MediaResource(embeddings=None, data=None, text='42 4242 4242 U UUUUNDERST NDERSTNDERSTNDERSTNDERST ANDING ANDINGANDING ANDINGANDING  E  E E  E E CONOMICCONOMICCONOMICCONOMICCONOMIC  D  D D  D D EVEL EVELEVEL EVELEVEL OPMENT OPMENTOPMENT OPMENTOPMENT\\nLet us take the story of banks further.\\nWhat do the banks do with the\\ndeposits which they accept from the\\npublic? There is an interesting\\nmechanism at work here. Banks keep\\nonly a small proportion of their\\ndeposits as cash with themselves.  For\\nexample, banks in India these days\\nhold about 15 per cent of their\\ndeposits as cash. This is kept as\\nprovision to pay the depositors who\\nmight come to withdraw money from\\nthe bank on any given day. Since, on\\nany particular day, only some of its\\nmany depositors come to withdraw\\ncash, the bank is able to manage with\\nthis cash.\\nBanks use the major portion of the\\ndeposits to extend loans.  There is a\\nhuge demand for loans for various\\neconomic activities. We shall read more\\nabout this in the following sections.\\nBanks make use of the deposits to\\nmeet the loan requirements of the\\npeople.  In this way, banks mediate\\nbetween those who have surplus\\nfunds (the depositors) and those who\\nare in need of these funds (the\\nborrowers). Banks charge a higher\\ninterest rate on loans than what they\\noffer on deposits. The difference\\nbetween what is charged from\\nborrowers and what is paid to\\ndepositors is their main source of\\nincome.\\nLOAN ACTIVITIES OF BANKS\\nPeople make\\ndeposits\\nPeople make\\nwithdrawals and\\nget interest\\nPeople take\\nloans\\nPeople repay\\nloans with\\ninterest\\nDEPOSITORS BORROWERS\\n1. M. Salim wants to withdraw Rs 20,000 in cash for making payments. How would he\\nwrite a cheque to withdraw money?\\n2. Tick the correct answer .\\nAfter the transaction between Salim and Prem,\\n(i) Salim’s balance in his bank account increases, and Prem’s balance increases.\\n(ii) Salim’s balance in his bank account decreases and Prem’s balance increases.\\n(iii) Salim’s balance in his bank account increases and Prem’s balance decreases.\\n3. Why are demand deposits considered as money?\\nLET’S WORK THESE OUT\\nWhat do you think would happen\\nif all the depositors went to ask\\nfor their money at the same time?\\n2024-25\\n', mimetype=None, path=None, url=None), image_resource=None, audio_resource=None, video_resource=None, text_template='{metadata_str}\\n\\n{content}'),\n",
              " Document(id_='97cf524a-4200-4053-b6d5-60e518deb7eb', embedding=None, metadata={'page_label': '6', 'file_name': 'jess203.pdf', 'file_path': '/content/data/jess203.pdf', 'file_type': 'application/pdf', 'file_size': 3335877, 'creation_date': '2024-12-28', 'last_modified_date': '2024-12-28'}, excluded_embed_metadata_keys=['file_name', 'file_type', 'file_size', 'creation_date', 'last_modified_date', 'last_accessed_date'], excluded_llm_metadata_keys=['file_name', 'file_type', 'file_size', 'creation_date', 'last_modified_date', 'last_accessed_date'], relationships={}, metadata_template='{key}: {value}', metadata_separator='\\n', text_resource=MediaResource(embeddings=None, data=None, text='M MM MMONEYONEYONEY ONEYONEY      AND ANDAND ANDAND  C  C C  C C REDIT REDITREDIT REDITREDIT 43 4343 4343\\nA large number of transactions in our day-to-day activities\\ninvolve credit in some form or the other. Credit (loan) refers to\\nan agreement in which the lender supplies the borrower with\\nmoney, goods or services in return for the promise of future\\npayment. Let us see how credit works through the following\\ntwo examples.\\n(1) Festival Season(1) Festival Season(1) Festival Season(1) Festival Season(1) Festival Season\\nIt is festival season two months from now\\nand the shoe manufactur er, Salim, has\\nreceived an order from a large trader in\\ntown for 3,000 pairs of shoes to be\\ndelivered in a month time. To complete\\nproduction on time, Salim has to hire a few\\nmore workers for stitching and pasting\\nwork. He has to purchase the raw\\nmaterials. To meet these expenses, Salim\\nobtains loans from two sources. First, he\\nasks the leather supplier to supply leather\\nnow and pr omises to pay him later .\\nSecond, he obtains loan in cash from the\\nlarge trader as advance payment for\\n1000 pairs of shoes with a promise to\\ndeliver the whole order by the end of the\\nmonth.\\nAt the end of the month, Salim is able to\\ndeliver the order, make a good profit, and\\nrepay the money that he had borrowed.\\n(2) Swapna’s Problem(2) Swapna’s Problem(2) Swapna’s Problem(2) Swapna’s Problem(2) Swapna’s Problem\\nTWO DIFFERENT CREDIT SITU ATIONS\\nIn this case, Salim obtains credit to meet the working\\ncapital needs of production. The credit helps him to meet the\\nongoing expenses of production, complete production on time,\\nand thereby increase his earnings. Credit therefore plays a\\nvital and positive role in this situation.\\nSwapna, a small farmer, grows groundnut on her three\\nacres of land. She takes a loan from the moneylender\\nto meet the expenses of cultivation, hoping that her\\nharvest would help repay the loan. Midway through\\nthe season the crop is hit by pests and the crop\\nfails. Though Swapna sprays  her crops with\\nexpensive pesticides, it makes little difference. She\\nis unable to repay the moneylender and the debt\\ngrows over the year into a large amount. Next\\nyear, Swapna takes a fresh loan for cultivation.\\nIt is a nor mal crop this year. But the ear nings\\nare not enough to cover the old loan.\\nShe is caught in debt. She has to sell\\na part of the land to pay off the debt.\\n2024-25\\n', mimetype=None, path=None, url=None), image_resource=None, audio_resource=None, video_resource=None, text_template='{metadata_str}\\n\\n{content}'),\n",
              " Document(id_='f74bdefc-5bff-4411-864e-8be27b3f30d3', embedding=None, metadata={'page_label': '7', 'file_name': 'jess203.pdf', 'file_path': '/content/data/jess203.pdf', 'file_type': 'application/pdf', 'file_size': 3335877, 'creation_date': '2024-12-28', 'last_modified_date': '2024-12-28'}, excluded_embed_metadata_keys=['file_name', 'file_type', 'file_size', 'creation_date', 'last_modified_date', 'last_accessed_date'], excluded_llm_metadata_keys=['file_name', 'file_type', 'file_size', 'creation_date', 'last_modified_date', 'last_accessed_date'], relationships={}, metadata_template='{key}: {value}', metadata_separator='\\n', text_resource=MediaResource(embeddings=None, data=None, text='TERMS OF CREDIT\\nEvery loan agreement specifies an\\ninterest rate which the borrower must\\npay to the lender along with the\\nIn rural areas, the main demand\\nfor credit is for crop production. Crop\\nproduction involves considerable\\ncosts on seeds, fertilisers, pesticides,\\nwater, electricity, repair of equipment,\\netc. There is a minimum stretch of\\nthree to four months between the time\\nwhen the farmers buy these inputs\\nand when they sell the crop. Farmers\\nusually take crop loans at the\\nbeginning of the season and repay the\\nloan after harvest. Repayment of the\\nloan is crucially dependent on the\\nincome from farming.\\n1. Fill the following table.\\n2. Supposing Salim continues to get orders from traders. What would be\\nhis position after 6 years?\\n3. What are the reasons that make Swapna’s situation so risky? Discuss\\nfactors – pesticides; role of moneylenders; climate.\\nLET’S WORK THESE OUT\\nSalim Swapna\\nWhy did they need credit?\\nWhat was the risk?\\nWhat was the outcome?\\nIn Swapna’s case, the failure of the\\ncrop made loan repayment\\nimpossible. She had to sell part of the\\nland to repay the loan. Credit, instead\\nof helping Swapna improve her\\nearnings, left her worse off. This is an\\nexample of what is commonly called\\ndebt-trap. Credit in this case pushes\\nthe borrower into a situation from\\nwhich recovery is very painful.\\nIn one situation credit helps to\\nincrease earnings and therefore the\\nperson is better off than before. In\\nanother situation, because of the\\ncrop failure, credit\\npushes the person into\\na debt trap. To repay\\nher loan she has to sell\\na portion of her land.\\nShe is clearly much\\nworse off than before.\\nWhether credit would\\nbe useful or not,\\ntherefore, depends\\non the risks in the\\nsituation and whether\\nthere is some support ,\\nin case of loss.\\nrepayment of the principal. In\\naddition, lenders may demand\\ncollateral (security) against loans.\\nCollateral is an asset that the\\nborrower owns (such as land,\\nbuilding, vehicle, livestocks,\\ndeposits with banks) and  uses this\\nas a guarantee to a lender until\\nthe loan is repaid. If the borrower\\nfails to repay the loan, the lender has\\nthe right to sell the asset or collateral\\nto obtain payment. Property such as\\nland titles, deposits with banks,\\nlivestock are some common examples\\nof collateral used for borrowing.\\n2024-25\\n', mimetype=None, path=None, url=None), image_resource=None, audio_resource=None, video_resource=None, text_template='{metadata_str}\\n\\n{content}'),\n",
              " Document(id_='230724aa-b473-4271-87ce-6e5b786b06e5', embedding=None, metadata={'page_label': '8', 'file_name': 'jess203.pdf', 'file_path': '/content/data/jess203.pdf', 'file_type': 'application/pdf', 'file_size': 3335877, 'creation_date': '2024-12-28', 'last_modified_date': '2024-12-28'}, excluded_embed_metadata_keys=['file_name', 'file_type', 'file_size', 'creation_date', 'last_modified_date', 'last_accessed_date'], excluded_llm_metadata_keys=['file_name', 'file_type', 'file_size', 'creation_date', 'last_modified_date', 'last_accessed_date'], relationships={}, metadata_template='{key}: {value}', metadata_separator='\\n', text_resource=MediaResource(embeddings=None, data=None, text='M MM MMONEYONEYONEY ONEYONEY      AND ANDAND ANDAND  C  C C  C C REDIT REDITREDIT REDITREDIT 45 4545 4545\\nA House LoanA House LoanA House LoanA House LoanA House Loan\\nMegha has taken a loan of Rs 5 lakhs from the\\nbank  to purchase a house. The annual interest\\nrate on the loan is 12 per cent and the loan is to\\nbe repaid in 10 years in monthly instalments.\\nMegha had to submit to the bank, documents\\nshowing her employment records and salary\\nbefore the bank agreed to give her the loan. The\\nbank retained as collateral the papers of the new\\nhouse, which will be returned to Megha only\\nwhen she repays the entire loan with interest.\\nFill the following details of Megha’s housing loan.\\nInterest rate, collateral and\\ndocumentation requirement, and the\\nmode of repayment together comprise\\nwhat is called the terms of credit. The\\nterms of credit vary substantially from\\none credit arrangement to another .\\nThey may vary depending on the\\nnature of the lender and the borrower.\\nThe next section will provide examples\\nof the varying terms of credit in\\ndifferent credit arrangements.\\n1. Why do lenders ask for collateral while lending?\\n2. Given that a large number of people in our country are poor , does it in any way\\naffect their capacity to borrow?\\n3. Fill in the blanks choosing the correct option from the brackets.\\nWhile taking a loan, borrowers look for easy terms of credit. This\\nmeans __________ (low/high) interest rate, ______________(easy/\\ntough) conditions for repayment, ___________(less/more) collateral\\nand documentation requirements.\\nLET’S WORK THESE OUT\\nLoan amount (in Rupees)\\nDuration of loan\\nDocuments required\\nInterest rate\\nMode of repayment\\nCollateral\\n2024-25\\n', mimetype=None, path=None, url=None), image_resource=None, audio_resource=None, video_resource=None, text_template='{metadata_str}\\n\\n{content}'),\n",
              " Document(id_='aba01ea7-537f-4656-b9af-b0537a5a8723', embedding=None, metadata={'page_label': '9', 'file_name': 'jess203.pdf', 'file_path': '/content/data/jess203.pdf', 'file_type': 'application/pdf', 'file_size': 3335877, 'creation_date': '2024-12-28', 'last_modified_date': '2024-12-28'}, excluded_embed_metadata_keys=['file_name', 'file_type', 'file_size', 'creation_date', 'last_modified_date', 'last_accessed_date'], excluded_llm_metadata_keys=['file_name', 'file_type', 'file_size', 'creation_date', 'last_modified_date', 'last_accessed_date'], relationships={}, metadata_template='{key}: {value}', metadata_separator='\\n', text_resource=MediaResource(embeddings=None, data=None, text='S SS SShyamal tells us that every season he needs\\nloans for cultivation on his 1.5 acres of land. Till\\na few years back, he would borrow money from\\nthe village moneylender at an interest rate of\\nfive per cent per month (60% per annum).\\nFor the last few years , Shyamal has been\\nborrowing from an agricultural trader in the\\nvillage at an interest rate of three per cent\\nper month. At the beginning of the cropping\\nseason, the trader supplies the farm inputs on\\ncredit, which is  to be repaid when the crops\\nare ready for harvest.\\nBesides the interest charge on the loan, the\\ntrader also makes the farmers promise to\\nsell the crop to him. This way the trader\\ncan ensure that the money is repaid\\npromptly. Also, since the crop prices are low\\nafter the harvest, the trader is able to\\nmake a profit from buying the crop at a low\\nprice from the farmers and then selling it\\nlater when the price has risen.\\nVariety of Credit ArrangementsVariety of Credit ArrangementsVariety of Credit ArrangementsVariety of Credit ArrangementsVariety of Credit Arrangements\\nExample of a Village\\nRohit and Ranjan had finished reading about the terms of credit in class.\\nThey were eager to know the various credit arrangements that existed in\\ntheir area: who were the people who provided credit? Who were the\\nborrowers? What were the terms of credit? They decided to talk to some\\npeople in their village.  Read what they record...\\n15th Nov, 2019.\\nWe head directly for the fields where most farmers and\\nlabourers would be working at this time of the day\\n. The fields\\nare planted with potato crops\\n. We first meet Shyamal, a small\\nfarmer in Sonpur, a small irrigated village. W WW WWe next meet Arun who is supervising the\\nwork of one farm labour er. Arun has sev en\\nacres of land. He is one of the few persons\\nin Sonpur to receive bank loan for\\ncultivation. The interest rate on the  loan\\nis 8.5 per cent per annum, and can be repaid\\nanytime in the next three years.  Arun plans\\nto repay the loan after harvest by selling a\\npart of the crop . He then intends to stor e\\nthe rest of the potatoes in a cold storage\\nand  apply for a fresh loan from the bank\\nagainst the cold storage receipt. The bank\\noffers this facility to farmers who have\\ntaken crop loan from them.\\nRRRRRama is working in a neighbouring field. She\\nworks as an agricultural labourer. There areseveral months in the year when Rama has\\nno work, and needs credit to meet the daily\\nexpenses. Expenses on sudden illnesses or\\nfunctions in the family are also met through\\nloans. Rama has to depend on her employer,a medium landowner in Sonpur , for cr edit.The landowner char ges an inter est rate of5 per cent per month. Rama repays the\\nmoney by working for the landowner . Mostof the time, Rama has to take a fresh loan,\\nbefore the previous loan has been repaid.\\nAt present, she owes the landowner\\nRs 5,000. Though the landowner doesn’t\\ntreat her well, she continues to work for him\\nsince she can get loans from him when in\\nneed. Rama tells us that the only source of\\ncredit for the landless people in Sonpur are\\nthe landowner-employers.\\n2024-25\\n', mimetype=None, path=None, url=None), image_resource=None, audio_resource=None, video_resource=None, text_template='{metadata_str}\\n\\n{content}'),\n",
              " Document(id_='9b69b598-11b9-4a41-b2b1-3c4af56d54e5', embedding=None, metadata={'page_label': '10', 'file_name': 'jess203.pdf', 'file_path': '/content/data/jess203.pdf', 'file_type': 'application/pdf', 'file_size': 3335877, 'creation_date': '2024-12-28', 'last_modified_date': '2024-12-28'}, excluded_embed_metadata_keys=['file_name', 'file_type', 'file_size', 'creation_date', 'last_modified_date', 'last_accessed_date'], excluded_llm_metadata_keys=['file_name', 'file_type', 'file_size', 'creation_date', 'last_modified_date', 'last_accessed_date'], relationships={}, metadata_template='{key}: {value}', metadata_separator='\\n', text_resource=MediaResource(embeddings=None, data=None, text='Loans from CooperativesLoans from CooperativesLoans from CooperativesLoans from CooperativesLoans from Cooperatives\\nBesides banks, the other major source of cheap credit\\nin rural areas are the cooperative societies (or\\ncooperatives).  Members of a cooperative pool their\\nresources for cooperation in certain areas. There are\\nseveral types of cooperatives possible such as\\nfarmers cooperatives, weavers cooperatives,\\nindustrial workers cooperatives, etc. Krishak\\nCooperative functions in a village not very far away\\nfrom Sonpur . It has 2300 far mers as members. It\\naccepts deposits from its members. With these\\ndeposits as collateral, the Cooperative has obtained\\na large loan from the bank. These funds are used to\\nprovide loans to members. Once these loans are\\nrepaid, another round of lending can take place.\\nKrishak Cooperative provides loans for the purchase\\nof agricultural implements, loans for cultivation\\nand agricultural trade, fishery loans, loans for\\nconstruction of houses and for a variety of other\\nexpenses.\\n1. List the various sources of credit in Sonpur .\\n2. Underline the various uses of credit in Sonpur in the above passages.\\n3. Compare the terms of credit for the small farmer, the medium farmer and the landless\\nagricultural worker in Sonpur .\\n4. Why will Arun have a higher income from cultivation comp ared to Shyamal?\\n5. Can everyone in Sonpur get credit at a cheap rate? Who are the people who can?\\n6. Tick the correct answer .\\n(i) Over the years, Rama’s debt\\n· will rise.\\n· will remain constant.\\n· will decline.\\n(ii) Arun is one of the few people in Sonpur to t ake a bank loan because\\n· other people in the village prefer to borrow from the moneylenders.\\n· banks demand collateral which everyone cannot provide.\\n· interest rate on bank loans is same as the interest rate charged by\\nthe traders.\\n7. Talk to some people to find out the credit arrangements that exist in your area. Record\\nyour conversation. Note the differences in the terms of credit across people.\\nLET’S WORK THESE OUT\\nM MM MMONEYONEYONEY ONEYONEY      AND ANDAND ANDAND  C  C C  C C REDIT REDITREDIT REDITREDIT 47 4747 4747\\n2024-25\\n', mimetype=None, path=None, url=None), image_resource=None, audio_resource=None, video_resource=None, text_template='{metadata_str}\\n\\n{content}'),\n",
              " Document(id_='0cdbde4b-b6f7-4acd-9d99-56665d1ef2c9', embedding=None, metadata={'page_label': '11', 'file_name': 'jess203.pdf', 'file_path': '/content/data/jess203.pdf', 'file_type': 'application/pdf', 'file_size': 3335877, 'creation_date': '2024-12-28', 'last_modified_date': '2024-12-28'}, excluded_embed_metadata_keys=['file_name', 'file_type', 'file_size', 'creation_date', 'last_modified_date', 'last_accessed_date'], excluded_llm_metadata_keys=['file_name', 'file_type', 'file_size', 'creation_date', 'last_modified_date', 'last_accessed_date'], relationships={}, metadata_template='{key}: {value}', metadata_separator='\\n', text_resource=MediaResource(embeddings=None, data=None, text='the RBI sees that the banks give loans\\nnot just to profit-making businesses\\nand traders but also to small\\ncultivators, small scale industries, to\\nsmall borrowers etc. Periodically,\\nbanks have to submit information to\\nthe RBI on how much they are\\nlending, to whom, at what interest\\nrate, etc.\\nThere is no organisation which\\nsupervises the credit activities of\\nlenders in the informal sector. They\\ncan lend at whatever interest rate they\\nWe have seen in the\\nabove examples that\\npeople obtain loans from\\nvarious sources. The\\nvarious types of loans\\ncan be conveniently\\ngrouped as formal\\nsector loans and\\ninformal sector loans.\\nAmong the former\\nare loans from banks\\nand cooperatives. The\\ninformal lenders include\\nmoneylenders, traders,\\nemployers, relatives and\\nfriends, etc.  In Graph 1\\nyou can see the various\\nsources of credit to rural\\nhouseholds in India. Is more credit\\ncoming from the formal sector or the\\ninformal sector?\\nThe Reserve Bank of India\\nsupervises the functioning of formal\\nsources of loans.  For instance, we\\nhave seen that the banks maintain a\\nminimum cash balance out of the\\ndeposits they receive. The RBI\\nmonitors the banks in actually\\nmaintaining cash balance. Similarly,\\nFORMAL SECTOR CREDIT IN INDIA\\nBUT WHY SHOULD\\nA BANK WANT US USUS USUS     TO\\nHAVE A HIGHER INCOME?\\nGraph 1 : Sources of Credit in Rural India, 2019\\nOther Informal\\nAgencies, 3%\\nCooperative Banks\\nand Society , 10%\\nRelatives and\\nFriends, 7%\\nLandlords, 1%\\nCommercial\\nBanks, 51%\\nMoneylenders,\\n23%\\nOther Formal\\nAgencies, 5%\\n2024-25\\n', mimetype=None, path=None, url=None), image_resource=None, audio_resource=None, video_resource=None, text_template='{metadata_str}\\n\\n{content}'),\n",
              " Document(id_='64866235-f798-4d51-9633-cbae996339f7', embedding=None, metadata={'page_label': '12', 'file_name': 'jess203.pdf', 'file_path': '/content/data/jess203.pdf', 'file_type': 'application/pdf', 'file_size': 3335877, 'creation_date': '2024-12-28', 'last_modified_date': '2024-12-28'}, excluded_embed_metadata_keys=['file_name', 'file_type', 'file_size', 'creation_date', 'last_modified_date', 'last_accessed_date'], excluded_llm_metadata_keys=['file_name', 'file_type', 'file_size', 'creation_date', 'last_modified_date', 'last_accessed_date'], relationships={}, metadata_template='{key}: {value}', metadata_separator='\\n', text_resource=MediaResource(embeddings=None, data=None, text='M MM MMONEY ONEYONEYONEYONEY      AND ANDAND ANDAND  C  C C  C C REDIT REDITREDIT REDITREDIT 49 4949 4949\\nchoose. There is no one to stop them\\nfrom using unfair means to get their\\nmoney back.\\nCompared to the formal lenders,\\nmost of the informal lenders charge a\\nmuch higher interest on loans. Thus,\\nthe cost to the borrower of informal\\nloans is much higher.\\nHigher cost of borrowing means a\\nlarger part of the earnings of the\\nborrowers is used to repay the loan.\\nHence, borrowers have less income\\nleft for themselves (as we saw for\\nShyamal in Sonpur). In certain\\ncases, the high interest rate for\\nborrowing can mean that the amount\\nto be repaid is greater than the\\nincome of the borrower. This could\\nlead to increasing debt (as we saw for\\nRama in Sonpur) and debt trap. Also,\\npeople who might wish to start an\\nenterprise by borrowing may not do\\nso because of the high cost of\\nborrowing.\\nFor these reasons, banks and\\ncooperative societies need to lend\\nmore. This would lead to higher in-\\ncomes and many people could then\\nborrow cheaply for a variety\\nof needs. They could grow crops,\\ndo business, set up small-scale indus-\\ntries etc. They could set up new indus-\\ntries or trade in goods. Cheap and\\naffordable credit is crucial for the\\ncountry’s development.\\nFormal and Informal Credit:\\nWho gets what?\\nGraph 2 shows the importance of\\nformal and informal sources of credit\\nfor people in urban areas.  The people\\nare divided into four groups, from poor\\nto rich, as shown in the figure. You can\\nsee that 84 per cent of the loans taken\\nby poor households in the urban areas\\nare from informal sources. Compare\\nthis with the rich urban households.\\nWhat do you find? Only 17 per cent of\\ntheir loans are from informal sources,\\nwhile 83 per cent are from formal\\nsources. A similar pattern is also found\\nin rural areas. The rich households are\\navailing cheap credit from formal\\nlenders whereas the poor households\\nhave to pay a large amount for\\nborrowing.\\nWhat does all this suggest? First,\\nthe formal sector still meets only about\\nhalf of the total credit needs of the\\nrural people. The remaining credit\\nneeds are met from informal sources.\\nPoor Households    Well-off       Rich\\nHouseholds with a few assets    Households      Households\\nBLUE : Per cent of loans from the FORMAL sector\\nORANGE: Per cent of loans from the INFORMAL sector\\nGraph 2 : Of all the loans taken by urban households, what\\npercentage was formal and what percentage was informal?\\n2024-25\\n', mimetype=None, path=None, url=None), image_resource=None, audio_resource=None, video_resource=None, text_template='{metadata_str}\\n\\n{content}'),\n",
              " Document(id_='e7ebc035-ca87-4748-b3f3-388aa76bd9fc', embedding=None, metadata={'page_label': '13', 'file_name': 'jess203.pdf', 'file_path': '/content/data/jess203.pdf', 'file_type': 'application/pdf', 'file_size': 3335877, 'creation_date': '2024-12-28', 'last_modified_date': '2024-12-28'}, excluded_embed_metadata_keys=['file_name', 'file_type', 'file_size', 'creation_date', 'last_modified_date', 'last_accessed_date'], excluded_llm_metadata_keys=['file_name', 'file_type', 'file_size', 'creation_date', 'last_modified_date', 'last_accessed_date'], relationships={}, metadata_template='{key}: {value}', metadata_separator='\\n', text_resource=MediaResource(embeddings=None, data=None, text='50 5050 5050 U UUUUNDERST NDERSTNDERSTNDERSTNDERST ANDING ANDINGANDING ANDINGANDING  E  E E  E E CONOMICCONOMICCONOMICCONOMICCONOMIC  D  D D  D D EVEL EVELEVEL EVELEVEL OPMENT OPMENTOPMENT OPMENTOPMENT\\nMost loans from informal lenders\\ncarry a very high interest rate and do\\nlittle to increase the income of the\\nborrowers. Thus, it is necessary\\nthat banks and cooperatives\\nincrease their lending particularly\\nin the rural areas, so that the\\ndependence on informal sources\\nof credit reduces.\\n1. What are the differences between formal and informal sources of credit?\\n2. Why should credit at reasonable rates be available for all?\\n3. Should there be a supervisor , such as the Reserve Bank of India, that looks into the\\nloan activities of informal lenders? Why would its task be quite difficult?\\n4. Why do you think that the share of formal sector credit is higher for the richer households\\ncompared to the poorer households?\\nLET’S WORK THESE OUT\\nSELF-HELP GROUPS FOR THE POOR\\nSecondly, while formal sector\\nloans need to expand, it is also\\nnecessary that everyone receives\\nthese loans. At present, it is the richer\\nhouseholds who receive formal credit\\nwhereas the poor have to depend on\\nthe informal sources. It is important\\nthat the formal credit is distributed\\nmore equally so that the poor can\\nbenefit from the cheaper loans.\\nIn the previous section we have seen\\nthat poor households are still\\ndependent on informal sources of\\ncredit. Why is it so? Banks are not\\npresent everywhere in rural India.\\nEven when they are present, getting a\\nloan from a bank is much more\\ndifficult than taking a loan from\\ninformal sources. As we saw for\\nMegha, bank loans require proper\\ndocuments and collateral. Absence of\\ncollateral is one of the major reasons\\nwhich prevents the poor from getting\\nbank loans. Informal lenders such as\\nmoneylenders, on the other hand,\\nknow the borrowers personally and\\nhence are often willing to give a\\nloan without collateral. The borrowers\\ncan, if necessary, approach the\\nmoneylenders even without repaying\\nA worker\\nstitching a quilt\\nDO YOU THINK A BANK\\nWILL GIVE ME A\\nLOAN?\\n2024-25\\n', mimetype=None, path=None, url=None), image_resource=None, audio_resource=None, video_resource=None, text_template='{metadata_str}\\n\\n{content}'),\n",
              " Document(id_='4b0d6ac4-1a5f-45a5-9b13-184d24ef6abe', embedding=None, metadata={'page_label': '14', 'file_name': 'jess203.pdf', 'file_path': '/content/data/jess203.pdf', 'file_type': 'application/pdf', 'file_size': 3335877, 'creation_date': '2024-12-28', 'last_modified_date': '2024-12-28'}, excluded_embed_metadata_keys=['file_name', 'file_type', 'file_size', 'creation_date', 'last_modified_date', 'last_accessed_date'], excluded_llm_metadata_keys=['file_name', 'file_type', 'file_size', 'creation_date', 'last_modified_date', 'last_accessed_date'], relationships={}, metadata_template='{key}: {value}', metadata_separator='\\n', text_resource=MediaResource(embeddings=None, data=None, text='M MM MMONEYONEYONEY ONEYONEY      AND ANDAND ANDAND  C  C C  C C REDIT REDITREDIT REDITREDIT 51 5151 5151\\ntheir earlier loans. However , the\\nmoneylenders charge very high rates\\nof interest, keep no records of the\\ntransactions and harass the poor\\nborrowers.\\nIn recent years, people have tried\\nout some newer ways of providing\\nloans to the poor . The idea is to\\norganise rural poor , in particular\\nwomen, into small Self Help Groups\\n(SHGs) and pool (collect) their\\nsavings. A typical SHG has 15-20\\nmembers, usually belonging to one\\nneighbourhood, who meet and save\\nregularly. Saving per member varies\\nfrom Rs 25 to Rs 100 or more,\\ndepending on the ability of the people\\nto save. Members can take small loans\\nfrom the group itself to meet their\\nneeds. The group charges interest on\\nthese loans but this is still less than\\nwhat the moneylender charges. After\\na year or two, if the group is regular\\nin savings, it becomes eligible for\\navailing loan from the bank.\\nLoan is sanctioned in the\\nname of the group and is\\nmeant to create self-\\nemployment opportunities\\nfor the members. For\\ninstance, small loans are\\nprovided to the members for\\nreleasing mortgaged land,\\nfor meeting working capital\\nneeds (e.g. buying seeds,\\nfertilisers, raw materials\\nlike bamboo and cloth), for\\nhousing materials, for\\nacquiring assets like sewing\\nmachine, handlooms, cattle,\\netc.\\nMost of the important\\ndecisions regarding the\\nsavings and loan activities\\nare taken by the group\\nmembers. The group\\ndecides as regards the loans\\nto be granted — the purpose, amount,\\ninterest to be charged, repayment\\nschedule etc.  Also, it is the group\\nwhich is responsible for the repayment\\nof the loan. Any case of non-\\nrepayment of loan by any one\\nmember is followed up seriously by\\nother members in the group. Because\\nof this feature, banks are willing to\\nlend to the poor women when\\norganised in SHGs, even though they\\nhave no collateral as such.\\nThus, the SHGs help borrowers\\novercome the problem of lack of\\ncollateral. They can get timely loans\\nfor a variety of purposes and at a\\nreasonable inter est rate. Mor eover,\\nSHGs are the building blocks of\\norganisation of the rural poor . Not\\nonly does it help women to become\\nfinancially self-reliant, the regular\\nmeetings of the group provide a\\nplatform to discuss and act on a\\nvariety of social issues such as health,\\nnutrition, domestic violence, etc.\\nA women’s self-help group\\nmeeting in Gujarat\\n2024-25\\n', mimetype=None, path=None, url=None), image_resource=None, audio_resource=None, video_resource=None, text_template='{metadata_str}\\n\\n{content}'),\n",
              " Document(id_='a76733f3-3d25-400e-a234-9c5a98cc302c', embedding=None, metadata={'page_label': '15', 'file_name': 'jess203.pdf', 'file_path': '/content/data/jess203.pdf', 'file_type': 'application/pdf', 'file_size': 3335877, 'creation_date': '2024-12-28', 'last_modified_date': '2024-12-28'}, excluded_embed_metadata_keys=['file_name', 'file_type', 'file_size', 'creation_date', 'last_modified_date', 'last_accessed_date'], excluded_llm_metadata_keys=['file_name', 'file_type', 'file_size', 'creation_date', 'last_modified_date', 'last_accessed_date'], relationships={}, metadata_template='{key}: {value}', metadata_separator='\\n', text_resource=MediaResource(embeddings=None, data=None, text='In this chapter we have looked at the\\nmodern forms of money and how they\\nare linked with the banking system.\\nOn one side are the depositors who\\nkeep their money in the banks and on\\nthe other side are the borrowers who\\ntake loans from these banks. Economic\\nactivities require loans or credit. Credit,\\nas we saw can have a positive impact,\\nor in certain situations make the\\nborrower worse off.\\nCredit is available from a variety of\\nsources. These can be either formal\\nsources or informal sources. Terms of\\nGrameen Bank of BangladeshGrameen Bank of BangladeshGrameen Bank of BangladeshGrameen Bank of BangladeshGrameen Bank of Bangladesh\\n“If credit can be made available to\\nthe poor people on terms and\\nconditions that are appropriate and\\nreasonable these millions of small\\npeople with their millions of small\\npursuits can add up to create the\\nbiggest development wonder.”\\nProfessor Muhammad Yunus,\\nthe founder of Grameen Bank,\\nand recipient of 2006 Nobel Prize for Peace\\nSUMMING UP\\ncredit var y substantially between\\nformal and informal lenders. At\\npresent, it is the richer households\\nwho receive credit from formal sources\\nwhereas the poor have to depend on\\nthe informal sources. It is essential\\nthat the total formal sector credit\\nincreases so that the dependence on\\nthe more expensive informal credit\\nbecomes less. Also, the poor should\\nget a much greater share of formal\\nloans from banks, cooperative\\nsocieties etc. Both these steps are\\nimportant for development.\\nGrameen Bank of Bangladesh is one of the\\nbiggest success stories in reaching the poor to\\nmeet their credit needs at reasonable rates.\\nStarted in the 1970s as a small project,\\nGrameen Bank in 2018 ha d over 9 million\\nmembers in about 81, 600 villages spread\\nacross Bangladesh. Almost all of the borrowers\\nare women and belong to poorest sections of\\nthe society. These borrowers have proved that\\nnot only are poor women reliable borrowers, but\\nthat they can start and run a variety of small\\nincome-generating activities successfully.\\nEXERCISES\\n1. In situations with high risks, credit might create further problems for the borrower .\\nExplain.\\n2. How does money solve the problem of double coincidence of wants? Explain with\\nan example of your own.\\n3. How do banks mediate between those who have surplus money and those who\\nneed money?\\n4. Look at a 10 rupee note. What is written on top? Can you explain this statement?\\n5. Why do we need to expand formal sources of credit in India?\\n6. What is the basic idea behind the SHGs for the poor? Explain in your own words.\\n7. What are the reasons why the banks might not be willing to lend to certain borrowers?\\n52 5252 5252 U UUUUNDERST NDERSTNDERST NDERSTNDERST ANDINGANDINGANDING ANDINGANDING  E  E E  E E CONOMICCONOMICCONOMICCONOMICCONOMIC  D  D D  D D EVEL EVELEVEL EVELEVEL OPMENT OPMENTOPMENT OPMENTOPMENT\\n2024-25\\n', mimetype=None, path=None, url=None), image_resource=None, audio_resource=None, video_resource=None, text_template='{metadata_str}\\n\\n{content}'),\n",
              " Document(id_='0e7468dc-e69f-40ac-b5ab-35cd052d6d7a', embedding=None, metadata={'page_label': '16', 'file_name': 'jess203.pdf', 'file_path': '/content/data/jess203.pdf', 'file_type': 'application/pdf', 'file_size': 3335877, 'creation_date': '2024-12-28', 'last_modified_date': '2024-12-28'}, excluded_embed_metadata_keys=['file_name', 'file_type', 'file_size', 'creation_date', 'last_modified_date', 'last_accessed_date'], excluded_llm_metadata_keys=['file_name', 'file_type', 'file_size', 'creation_date', 'last_modified_date', 'last_accessed_date'], relationships={}, metadata_template='{key}: {value}', metadata_separator='\\n', text_resource=MediaResource(embeddings=None, data=None, text='8. In what ways does the Reserve Bank of India supervise the functioning of banks?\\nWhy is this necessary?\\n9. Analyse the role of credit for development.\\n10. Manav needs a loan to set up a small business. On what basis will Manav decide\\nwhether to borrow from the bank or the moneylender? Discuss.\\n11. In India, about 80 per cent of farmers are small farmers, who need credit for cultivation.\\n(a) Why might banks be unwilling to lend to small farmers?\\n(b) What are the other sources from which the small farmers can borrow?\\n(c) Explain with an example how the terms of credit can be unfavourable for the\\nsmall farmer.\\n(d) Suggest some ways by which small farmers can get cheap credit.\\n12. Fill in the blanks:\\n(i) Majority of the credit needs of the _________________households are met\\nfrom informal sources.\\n(ii) ___________________costs of borrowing increase the debt-burden.\\n(iii) __________________  issues currency notes on behalf of the Central\\nGovernment.\\n(iv) Banks charge a higher interest rate on loans than what they offer on\\n__________.\\n(v) _______________ is an asset that the borrower owns and uses as a guarantee\\nuntil the loan is rep aid to the lender .\\n13. Choose the most appropriate answer .\\n(i) In a SHG most of the decisions regarding savings and loan activities are taken by\\n(a) Bank.\\n(b) Members.\\n(c) Non-government organisation.\\n(ii) Formal sources of credit does not include\\n(a) Banks.\\n(b) Cooperatives.\\n(c) Employers.\\nThe following table shows people in a variety of occupations in urban areas. What\\nare the purposes for which the following people might need loans? Fill in the column.\\nOccupations Reason for needing a Loan\\nConstruction worker\\xa0\\nGraduate student who is computer literate \\xa0\\nA person employed in government service \\xa0\\nMigrant labourer in Delhi \\xa0\\nHousehold maid \\xa0\\nSmall trader \\xa0\\nAutorickshaw driver \\xa0\\nA worker whose factory has closed down \\xa0\\nNext, classify the people into two groups based on whom you think might get a bank\\nloan and those who might not. What is the criterion that you have used for classification?\\nADDITIONAL PROJECT / ACTIVITY\\nM MM MMONEYONEYONEY ONEYONEY      AND ANDAND ANDAND  C  C C  C C REDIT REDITREDIT REDITREDIT 53 5353 5353\\n2024-25\\n', mimetype=None, path=None, url=None), image_resource=None, audio_resource=None, video_resource=None, text_template='{metadata_str}\\n\\n{content}')]"
            ]
          },
          "metadata": {},
          "execution_count": 4
        }
      ],
      "source": [
        "documents"
      ]
    },
    {
      "cell_type": "code",
      "execution_count": 2,
      "metadata": {
        "id": "62fSBKFG6DXj"
      },
      "outputs": [],
      "source": [
        "! pip install -q transformers einops accelerate langchain bitsandbytes"
      ]
    },
    {
      "cell_type": "code",
      "execution_count": 3,
      "metadata": {
        "colab": {
          "base_uri": "https://localhost:8080/"
        },
        "id": "2psz7-RR6DXk",
        "outputId": "90a89472-ff6c-40cc-afcb-445e6cd932a0"
      },
      "outputs": [
        {
          "output_type": "stream",
          "name": "stdout",
          "text": [
            "Requirement already satisfied: sentence_transformers in /usr/local/lib/python3.10/dist-packages (3.3.1)\n",
            "Collecting transformers<5.0.0,>=4.41.0 (from sentence_transformers)\n",
            "  Using cached transformers-4.47.1-py3-none-any.whl.metadata (44 kB)\n",
            "Requirement already satisfied: tqdm in /usr/local/lib/python3.10/dist-packages (from sentence_transformers) (4.67.1)\n",
            "Requirement already satisfied: torch>=1.11.0 in /usr/local/lib/python3.10/dist-packages (from sentence_transformers) (2.5.1+cu121)\n",
            "Requirement already satisfied: scikit-learn in /usr/local/lib/python3.10/dist-packages (from sentence_transformers) (1.6.0)\n",
            "Requirement already satisfied: scipy in /usr/local/lib/python3.10/dist-packages (from sentence_transformers) (1.13.1)\n",
            "Collecting huggingface-hub>=0.20.0 (from sentence_transformers)\n",
            "  Using cached huggingface_hub-0.27.0-py3-none-any.whl.metadata (13 kB)\n",
            "Requirement already satisfied: Pillow in /usr/local/lib/python3.10/dist-packages (from sentence_transformers) (11.0.0)\n",
            "Requirement already satisfied: filelock in /usr/local/lib/python3.10/dist-packages (from huggingface-hub>=0.20.0->sentence_transformers) (3.16.1)\n",
            "Requirement already satisfied: fsspec>=2023.5.0 in /usr/local/lib/python3.10/dist-packages (from huggingface-hub>=0.20.0->sentence_transformers) (2024.10.0)\n",
            "Requirement already satisfied: packaging>=20.9 in /usr/local/lib/python3.10/dist-packages (from huggingface-hub>=0.20.0->sentence_transformers) (24.2)\n",
            "Requirement already satisfied: pyyaml>=5.1 in /usr/local/lib/python3.10/dist-packages (from huggingface-hub>=0.20.0->sentence_transformers) (6.0.2)\n",
            "Requirement already satisfied: requests in /usr/local/lib/python3.10/dist-packages (from huggingface-hub>=0.20.0->sentence_transformers) (2.32.3)\n",
            "Requirement already satisfied: typing-extensions>=3.7.4.3 in /usr/local/lib/python3.10/dist-packages (from huggingface-hub>=0.20.0->sentence_transformers) (4.12.2)\n",
            "Requirement already satisfied: networkx in /usr/local/lib/python3.10/dist-packages (from torch>=1.11.0->sentence_transformers) (3.4.2)\n",
            "Requirement already satisfied: jinja2 in /usr/local/lib/python3.10/dist-packages (from torch>=1.11.0->sentence_transformers) (3.1.4)\n",
            "Requirement already satisfied: sympy==1.13.1 in /usr/local/lib/python3.10/dist-packages (from torch>=1.11.0->sentence_transformers) (1.13.1)\n",
            "Requirement already satisfied: mpmath<1.4,>=1.1.0 in /usr/local/lib/python3.10/dist-packages (from sympy==1.13.1->torch>=1.11.0->sentence_transformers) (1.3.0)\n",
            "Requirement already satisfied: numpy>=1.17 in /usr/local/lib/python3.10/dist-packages (from transformers<5.0.0,>=4.41.0->sentence_transformers) (1.26.4)\n",
            "Requirement already satisfied: regex!=2019.12.17 in /usr/local/lib/python3.10/dist-packages (from transformers<5.0.0,>=4.41.0->sentence_transformers) (2024.11.6)\n",
            "Collecting tokenizers<0.22,>=0.21 (from transformers<5.0.0,>=4.41.0->sentence_transformers)\n",
            "  Using cached tokenizers-0.21.0-cp39-abi3-manylinux_2_17_x86_64.manylinux2014_x86_64.whl.metadata (6.7 kB)\n",
            "Requirement already satisfied: safetensors>=0.4.1 in /usr/local/lib/python3.10/dist-packages (from transformers<5.0.0,>=4.41.0->sentence_transformers) (0.4.5)\n",
            "Requirement already satisfied: joblib>=1.2.0 in /usr/local/lib/python3.10/dist-packages (from scikit-learn->sentence_transformers) (1.4.2)\n",
            "Requirement already satisfied: threadpoolctl>=3.1.0 in /usr/local/lib/python3.10/dist-packages (from scikit-learn->sentence_transformers) (3.5.0)\n",
            "Requirement already satisfied: MarkupSafe>=2.0 in /usr/local/lib/python3.10/dist-packages (from jinja2->torch>=1.11.0->sentence_transformers) (3.0.2)\n",
            "Requirement already satisfied: charset-normalizer<4,>=2 in /usr/local/lib/python3.10/dist-packages (from requests->huggingface-hub>=0.20.0->sentence_transformers) (3.4.0)\n",
            "Requirement already satisfied: idna<4,>=2.5 in /usr/local/lib/python3.10/dist-packages (from requests->huggingface-hub>=0.20.0->sentence_transformers) (3.10)\n",
            "Requirement already satisfied: urllib3<3,>=1.21.1 in /usr/local/lib/python3.10/dist-packages (from requests->huggingface-hub>=0.20.0->sentence_transformers) (2.2.3)\n",
            "Requirement already satisfied: certifi>=2017.4.17 in /usr/local/lib/python3.10/dist-packages (from requests->huggingface-hub>=0.20.0->sentence_transformers) (2024.12.14)\n",
            "Using cached huggingface_hub-0.27.0-py3-none-any.whl (450 kB)\n",
            "Using cached transformers-4.47.1-py3-none-any.whl (10.1 MB)\n",
            "Using cached tokenizers-0.21.0-cp39-abi3-manylinux_2_17_x86_64.manylinux2014_x86_64.whl (3.0 MB)\n",
            "Installing collected packages: huggingface-hub, tokenizers, transformers\n",
            "  Attempting uninstall: huggingface-hub\n",
            "    Found existing installation: huggingface-hub 0.16.4\n",
            "    Uninstalling huggingface-hub-0.16.4:\n",
            "      Successfully uninstalled huggingface-hub-0.16.4\n",
            "  Attempting uninstall: tokenizers\n",
            "    Found existing installation: tokenizers 0.13.3\n",
            "    Uninstalling tokenizers-0.13.3:\n",
            "      Successfully uninstalled tokenizers-0.13.3\n",
            "  Attempting uninstall: transformers\n",
            "    Found existing installation: transformers 4.31.0\n",
            "    Uninstalling transformers-4.31.0:\n",
            "      Successfully uninstalled transformers-4.31.0\n",
            "\u001b[31mERROR: pip's dependency resolver does not currently take into account all the packages that are installed. This behaviour is the source of the following dependency conflicts.\n",
            "llama-index-llms-huggingface 0.4.1 requires huggingface-hub<0.24.0,>=0.23.0, but you have huggingface-hub 0.27.0 which is incompatible.\u001b[0m\u001b[31m\n",
            "\u001b[0mSuccessfully installed huggingface-hub-0.27.0 tokenizers-0.21.0 transformers-4.47.1\n"
          ]
        }
      ],
      "source": [
        "# Embedings\n",
        "! pip install sentence_transformers"
      ]
    },
    {
      "cell_type": "code",
      "execution_count": 44,
      "metadata": {
        "id": "CpYAQhyn6DXk"
      },
      "outputs": [],
      "source": [
        "from llama_index.core import VectorStoreIndex, SimpleDirectoryReader,ServiceContext\n"
      ]
    },
    {
      "cell_type": "markdown",
      "metadata": {
        "id": "s6Tqat1T6DXk"
      },
      "source": []
    },
    {
      "cell_type": "code",
      "execution_count": 7,
      "metadata": {
        "colab": {
          "base_uri": "https://localhost:8080/"
        },
        "id": "355jxKKz6DXl",
        "outputId": "1972a3dd-be8b-42dc-eea7-d23a095c2792",
        "collapsed": true
      },
      "outputs": [
        {
          "output_type": "stream",
          "name": "stdout",
          "text": [
            "Requirement already satisfied: llama-index in /usr/local/lib/python3.10/dist-packages (0.12.8)\n",
            "Requirement already satisfied: llama-index-agent-openai<0.5.0,>=0.4.0 in /usr/local/lib/python3.10/dist-packages (from llama-index) (0.4.1)\n",
            "Requirement already satisfied: llama-index-cli<0.5.0,>=0.4.0 in /usr/local/lib/python3.10/dist-packages (from llama-index) (0.4.0)\n",
            "Requirement already satisfied: llama-index-core<0.13.0,>=0.12.8 in /usr/local/lib/python3.10/dist-packages (from llama-index) (0.12.8)\n",
            "Requirement already satisfied: llama-index-embeddings-openai<0.4.0,>=0.3.0 in /usr/local/lib/python3.10/dist-packages (from llama-index) (0.3.1)\n",
            "Requirement already satisfied: llama-index-indices-managed-llama-cloud>=0.4.0 in /usr/local/lib/python3.10/dist-packages (from llama-index) (0.6.3)\n",
            "Requirement already satisfied: llama-index-llms-openai<0.4.0,>=0.3.0 in /usr/local/lib/python3.10/dist-packages (from llama-index) (0.3.12)\n",
            "Requirement already satisfied: llama-index-multi-modal-llms-openai<0.5.0,>=0.4.0 in /usr/local/lib/python3.10/dist-packages (from llama-index) (0.4.1)\n",
            "Requirement already satisfied: llama-index-program-openai<0.4.0,>=0.3.0 in /usr/local/lib/python3.10/dist-packages (from llama-index) (0.3.1)\n",
            "Requirement already satisfied: llama-index-question-gen-openai<0.4.0,>=0.3.0 in /usr/local/lib/python3.10/dist-packages (from llama-index) (0.3.0)\n",
            "Requirement already satisfied: llama-index-readers-file<0.5.0,>=0.4.0 in /usr/local/lib/python3.10/dist-packages (from llama-index) (0.4.1)\n",
            "Requirement already satisfied: llama-index-readers-llama-parse>=0.4.0 in /usr/local/lib/python3.10/dist-packages (from llama-index) (0.4.0)\n",
            "Requirement already satisfied: nltk>3.8.1 in /usr/local/lib/python3.10/dist-packages (from llama-index) (3.9.1)\n",
            "Requirement already satisfied: openai>=1.14.0 in /usr/local/lib/python3.10/dist-packages (from llama-index-agent-openai<0.5.0,>=0.4.0->llama-index) (1.58.1)\n",
            "Requirement already satisfied: PyYAML>=6.0.1 in /usr/local/lib/python3.10/dist-packages (from llama-index-core<0.13.0,>=0.12.8->llama-index) (6.0.2)\n",
            "Requirement already satisfied: SQLAlchemy>=1.4.49 in /usr/local/lib/python3.10/dist-packages (from SQLAlchemy[asyncio]>=1.4.49->llama-index-core<0.13.0,>=0.12.8->llama-index) (2.0.36)\n",
            "Requirement already satisfied: aiohttp<4.0.0,>=3.8.6 in /usr/local/lib/python3.10/dist-packages (from llama-index-core<0.13.0,>=0.12.8->llama-index) (3.11.10)\n",
            "Requirement already satisfied: dataclasses-json in /usr/local/lib/python3.10/dist-packages (from llama-index-core<0.13.0,>=0.12.8->llama-index) (0.6.7)\n",
            "Requirement already satisfied: deprecated>=1.2.9.3 in /usr/local/lib/python3.10/dist-packages (from llama-index-core<0.13.0,>=0.12.8->llama-index) (1.2.15)\n",
            "Requirement already satisfied: dirtyjson<2.0.0,>=1.0.8 in /usr/local/lib/python3.10/dist-packages (from llama-index-core<0.13.0,>=0.12.8->llama-index) (1.0.8)\n",
            "Requirement already satisfied: filetype<2.0.0,>=1.2.0 in /usr/local/lib/python3.10/dist-packages (from llama-index-core<0.13.0,>=0.12.8->llama-index) (1.2.0)\n",
            "Requirement already satisfied: fsspec>=2023.5.0 in /usr/local/lib/python3.10/dist-packages (from llama-index-core<0.13.0,>=0.12.8->llama-index) (2024.10.0)\n",
            "Requirement already satisfied: httpx in /usr/local/lib/python3.10/dist-packages (from llama-index-core<0.13.0,>=0.12.8->llama-index) (0.28.1)\n",
            "Requirement already satisfied: nest-asyncio<2.0.0,>=1.5.8 in /usr/local/lib/python3.10/dist-packages (from llama-index-core<0.13.0,>=0.12.8->llama-index) (1.6.0)\n",
            "Requirement already satisfied: networkx>=3.0 in /usr/local/lib/python3.10/dist-packages (from llama-index-core<0.13.0,>=0.12.8->llama-index) (3.4.2)\n",
            "Requirement already satisfied: numpy in /usr/local/lib/python3.10/dist-packages (from llama-index-core<0.13.0,>=0.12.8->llama-index) (1.26.4)\n",
            "Requirement already satisfied: pillow>=9.0.0 in /usr/local/lib/python3.10/dist-packages (from llama-index-core<0.13.0,>=0.12.8->llama-index) (11.0.0)\n",
            "Requirement already satisfied: pydantic>=2.8.0 in /usr/local/lib/python3.10/dist-packages (from llama-index-core<0.13.0,>=0.12.8->llama-index) (2.10.3)\n",
            "Requirement already satisfied: requests>=2.31.0 in /usr/local/lib/python3.10/dist-packages (from llama-index-core<0.13.0,>=0.12.8->llama-index) (2.32.3)\n",
            "Requirement already satisfied: tenacity!=8.4.0,<10.0.0,>=8.2.0 in /usr/local/lib/python3.10/dist-packages (from llama-index-core<0.13.0,>=0.12.8->llama-index) (9.0.0)\n",
            "Requirement already satisfied: tiktoken>=0.3.3 in /usr/local/lib/python3.10/dist-packages (from llama-index-core<0.13.0,>=0.12.8->llama-index) (0.8.0)\n",
            "Requirement already satisfied: tqdm<5.0.0,>=4.66.1 in /usr/local/lib/python3.10/dist-packages (from llama-index-core<0.13.0,>=0.12.8->llama-index) (4.67.1)\n",
            "Requirement already satisfied: typing-extensions>=4.5.0 in /usr/local/lib/python3.10/dist-packages (from llama-index-core<0.13.0,>=0.12.8->llama-index) (4.12.2)\n",
            "Requirement already satisfied: typing-inspect>=0.8.0 in /usr/local/lib/python3.10/dist-packages (from llama-index-core<0.13.0,>=0.12.8->llama-index) (0.9.0)\n",
            "Requirement already satisfied: wrapt in /usr/local/lib/python3.10/dist-packages (from llama-index-core<0.13.0,>=0.12.8->llama-index) (1.17.0)\n",
            "Requirement already satisfied: llama-cloud>=0.1.5 in /usr/local/lib/python3.10/dist-packages (from llama-index-indices-managed-llama-cloud>=0.4.0->llama-index) (0.1.7)\n",
            "Requirement already satisfied: beautifulsoup4<5.0.0,>=4.12.3 in /usr/local/lib/python3.10/dist-packages (from llama-index-readers-file<0.5.0,>=0.4.0->llama-index) (4.12.3)\n",
            "Requirement already satisfied: pandas in /usr/local/lib/python3.10/dist-packages (from llama-index-readers-file<0.5.0,>=0.4.0->llama-index) (2.2.2)\n",
            "Requirement already satisfied: pypdf<6.0.0,>=5.1.0 in /usr/local/lib/python3.10/dist-packages (from llama-index-readers-file<0.5.0,>=0.4.0->llama-index) (5.1.0)\n",
            "Requirement already satisfied: striprtf<0.0.27,>=0.0.26 in /usr/local/lib/python3.10/dist-packages (from llama-index-readers-file<0.5.0,>=0.4.0->llama-index) (0.0.26)\n",
            "Requirement already satisfied: llama-parse>=0.5.0 in /usr/local/lib/python3.10/dist-packages (from llama-index-readers-llama-parse>=0.4.0->llama-index) (0.5.19)\n",
            "Requirement already satisfied: click in /usr/local/lib/python3.10/dist-packages (from nltk>3.8.1->llama-index) (8.1.7)\n",
            "Requirement already satisfied: joblib in /usr/local/lib/python3.10/dist-packages (from nltk>3.8.1->llama-index) (1.4.2)\n",
            "Requirement already satisfied: regex>=2021.8.3 in /usr/local/lib/python3.10/dist-packages (from nltk>3.8.1->llama-index) (2024.11.6)\n",
            "Requirement already satisfied: aiohappyeyeballs>=2.3.0 in /usr/local/lib/python3.10/dist-packages (from aiohttp<4.0.0,>=3.8.6->llama-index-core<0.13.0,>=0.12.8->llama-index) (2.4.4)\n",
            "Requirement already satisfied: aiosignal>=1.1.2 in /usr/local/lib/python3.10/dist-packages (from aiohttp<4.0.0,>=3.8.6->llama-index-core<0.13.0,>=0.12.8->llama-index) (1.3.2)\n",
            "Requirement already satisfied: async-timeout<6.0,>=4.0 in /usr/local/lib/python3.10/dist-packages (from aiohttp<4.0.0,>=3.8.6->llama-index-core<0.13.0,>=0.12.8->llama-index) (4.0.3)\n",
            "Requirement already satisfied: attrs>=17.3.0 in /usr/local/lib/python3.10/dist-packages (from aiohttp<4.0.0,>=3.8.6->llama-index-core<0.13.0,>=0.12.8->llama-index) (24.3.0)\n",
            "Requirement already satisfied: frozenlist>=1.1.1 in /usr/local/lib/python3.10/dist-packages (from aiohttp<4.0.0,>=3.8.6->llama-index-core<0.13.0,>=0.12.8->llama-index) (1.5.0)\n",
            "Requirement already satisfied: multidict<7.0,>=4.5 in /usr/local/lib/python3.10/dist-packages (from aiohttp<4.0.0,>=3.8.6->llama-index-core<0.13.0,>=0.12.8->llama-index) (6.1.0)\n",
            "Requirement already satisfied: propcache>=0.2.0 in /usr/local/lib/python3.10/dist-packages (from aiohttp<4.0.0,>=3.8.6->llama-index-core<0.13.0,>=0.12.8->llama-index) (0.2.1)\n",
            "Requirement already satisfied: yarl<2.0,>=1.17.0 in /usr/local/lib/python3.10/dist-packages (from aiohttp<4.0.0,>=3.8.6->llama-index-core<0.13.0,>=0.12.8->llama-index) (1.18.3)\n",
            "Requirement already satisfied: soupsieve>1.2 in /usr/local/lib/python3.10/dist-packages (from beautifulsoup4<5.0.0,>=4.12.3->llama-index-readers-file<0.5.0,>=0.4.0->llama-index) (2.6)\n",
            "Requirement already satisfied: certifi<2025.0.0,>=2024.7.4 in /usr/local/lib/python3.10/dist-packages (from llama-cloud>=0.1.5->llama-index-indices-managed-llama-cloud>=0.4.0->llama-index) (2024.12.14)\n",
            "Requirement already satisfied: anyio in /usr/local/lib/python3.10/dist-packages (from httpx->llama-index-core<0.13.0,>=0.12.8->llama-index) (3.7.1)\n",
            "Requirement already satisfied: httpcore==1.* in /usr/local/lib/python3.10/dist-packages (from httpx->llama-index-core<0.13.0,>=0.12.8->llama-index) (1.0.7)\n",
            "Requirement already satisfied: idna in /usr/local/lib/python3.10/dist-packages (from httpx->llama-index-core<0.13.0,>=0.12.8->llama-index) (3.10)\n",
            "Requirement already satisfied: h11<0.15,>=0.13 in /usr/local/lib/python3.10/dist-packages (from httpcore==1.*->httpx->llama-index-core<0.13.0,>=0.12.8->llama-index) (0.14.0)\n",
            "Requirement already satisfied: distro<2,>=1.7.0 in /usr/local/lib/python3.10/dist-packages (from openai>=1.14.0->llama-index-agent-openai<0.5.0,>=0.4.0->llama-index) (1.9.0)\n",
            "Requirement already satisfied: jiter<1,>=0.4.0 in /usr/local/lib/python3.10/dist-packages (from openai>=1.14.0->llama-index-agent-openai<0.5.0,>=0.4.0->llama-index) (0.8.2)\n",
            "Requirement already satisfied: sniffio in /usr/local/lib/python3.10/dist-packages (from openai>=1.14.0->llama-index-agent-openai<0.5.0,>=0.4.0->llama-index) (1.3.1)\n",
            "Requirement already satisfied: annotated-types>=0.6.0 in /usr/local/lib/python3.10/dist-packages (from pydantic>=2.8.0->llama-index-core<0.13.0,>=0.12.8->llama-index) (0.7.0)\n",
            "Requirement already satisfied: pydantic-core==2.27.1 in /usr/local/lib/python3.10/dist-packages (from pydantic>=2.8.0->llama-index-core<0.13.0,>=0.12.8->llama-index) (2.27.1)\n",
            "Requirement already satisfied: charset-normalizer<4,>=2 in /usr/local/lib/python3.10/dist-packages (from requests>=2.31.0->llama-index-core<0.13.0,>=0.12.8->llama-index) (3.4.0)\n",
            "Requirement already satisfied: urllib3<3,>=1.21.1 in /usr/local/lib/python3.10/dist-packages (from requests>=2.31.0->llama-index-core<0.13.0,>=0.12.8->llama-index) (2.2.3)\n",
            "Requirement already satisfied: greenlet!=0.4.17 in /usr/local/lib/python3.10/dist-packages (from SQLAlchemy>=1.4.49->SQLAlchemy[asyncio]>=1.4.49->llama-index-core<0.13.0,>=0.12.8->llama-index) (3.1.1)\n",
            "Requirement already satisfied: mypy-extensions>=0.3.0 in /usr/local/lib/python3.10/dist-packages (from typing-inspect>=0.8.0->llama-index-core<0.13.0,>=0.12.8->llama-index) (1.0.0)\n",
            "Requirement already satisfied: marshmallow<4.0.0,>=3.18.0 in /usr/local/lib/python3.10/dist-packages (from dataclasses-json->llama-index-core<0.13.0,>=0.12.8->llama-index) (3.23.2)\n",
            "Requirement already satisfied: python-dateutil>=2.8.2 in /usr/local/lib/python3.10/dist-packages (from pandas->llama-index-readers-file<0.5.0,>=0.4.0->llama-index) (2.8.2)\n",
            "Requirement already satisfied: pytz>=2020.1 in /usr/local/lib/python3.10/dist-packages (from pandas->llama-index-readers-file<0.5.0,>=0.4.0->llama-index) (2024.2)\n",
            "Requirement already satisfied: tzdata>=2022.7 in /usr/local/lib/python3.10/dist-packages (from pandas->llama-index-readers-file<0.5.0,>=0.4.0->llama-index) (2024.2)\n",
            "Requirement already satisfied: exceptiongroup in /usr/local/lib/python3.10/dist-packages (from anyio->httpx->llama-index-core<0.13.0,>=0.12.8->llama-index) (1.2.2)\n",
            "Requirement already satisfied: packaging>=17.0 in /usr/local/lib/python3.10/dist-packages (from marshmallow<4.0.0,>=3.18.0->dataclasses-json->llama-index-core<0.13.0,>=0.12.8->llama-index) (24.2)\n",
            "Requirement already satisfied: six>=1.5 in /usr/local/lib/python3.10/dist-packages (from python-dateutil>=2.8.2->pandas->llama-index-readers-file<0.5.0,>=0.4.0->llama-index) (1.17.0)\n"
          ]
        }
      ],
      "source": [
        "%pip install llama-index\n"
      ]
    },
    {
      "cell_type": "code",
      "source": [
        "%pip install llama-index-llms-huggingface\n"
      ],
      "metadata": {
        "colab": {
          "base_uri": "https://localhost:8080/"
        },
        "id": "Qk_jz3Iw-cnX",
        "outputId": "837add31-87ed-4046-bd83-d99a7263cda4"
      },
      "execution_count": 45,
      "outputs": [
        {
          "output_type": "stream",
          "name": "stdout",
          "text": [
            "Requirement already satisfied: llama-index-llms-huggingface in /usr/local/lib/python3.10/dist-packages (0.4.1)\n",
            "Requirement already satisfied: huggingface-hub<0.24.0,>=0.23.0 in /usr/local/lib/python3.10/dist-packages (from llama-index-llms-huggingface) (0.23.5)\n",
            "Requirement already satisfied: llama-index-core<0.13.0,>=0.12.0 in /usr/local/lib/python3.10/dist-packages (from llama-index-llms-huggingface) (0.12.8)\n",
            "Requirement already satisfied: text-generation<0.8.0,>=0.7.0 in /usr/local/lib/python3.10/dist-packages (from llama-index-llms-huggingface) (0.7.0)\n",
            "Requirement already satisfied: torch<3.0.0,>=2.1.2 in /usr/local/lib/python3.10/dist-packages (from llama-index-llms-huggingface) (2.5.1+cu121)\n",
            "Requirement already satisfied: transformers<5.0.0,>=4.37.0 in /usr/local/lib/python3.10/dist-packages (from transformers[torch]<5.0.0,>=4.37.0->llama-index-llms-huggingface) (4.46.3)\n",
            "Requirement already satisfied: filelock in /usr/local/lib/python3.10/dist-packages (from huggingface-hub<0.24.0,>=0.23.0->llama-index-llms-huggingface) (3.16.1)\n",
            "Requirement already satisfied: fsspec>=2023.5.0 in /usr/local/lib/python3.10/dist-packages (from huggingface-hub<0.24.0,>=0.23.0->llama-index-llms-huggingface) (2024.10.0)\n",
            "Requirement already satisfied: packaging>=20.9 in /usr/local/lib/python3.10/dist-packages (from huggingface-hub<0.24.0,>=0.23.0->llama-index-llms-huggingface) (24.2)\n",
            "Requirement already satisfied: pyyaml>=5.1 in /usr/local/lib/python3.10/dist-packages (from huggingface-hub<0.24.0,>=0.23.0->llama-index-llms-huggingface) (6.0.2)\n",
            "Requirement already satisfied: requests in /usr/local/lib/python3.10/dist-packages (from huggingface-hub<0.24.0,>=0.23.0->llama-index-llms-huggingface) (2.32.3)\n",
            "Requirement already satisfied: tqdm>=4.42.1 in /usr/local/lib/python3.10/dist-packages (from huggingface-hub<0.24.0,>=0.23.0->llama-index-llms-huggingface) (4.67.1)\n",
            "Requirement already satisfied: typing-extensions>=3.7.4.3 in /usr/local/lib/python3.10/dist-packages (from huggingface-hub<0.24.0,>=0.23.0->llama-index-llms-huggingface) (4.12.2)\n",
            "Requirement already satisfied: SQLAlchemy>=1.4.49 in /usr/local/lib/python3.10/dist-packages (from SQLAlchemy[asyncio]>=1.4.49->llama-index-core<0.13.0,>=0.12.0->llama-index-llms-huggingface) (2.0.36)\n",
            "Requirement already satisfied: aiohttp<4.0.0,>=3.8.6 in /usr/local/lib/python3.10/dist-packages (from llama-index-core<0.13.0,>=0.12.0->llama-index-llms-huggingface) (3.11.10)\n",
            "Requirement already satisfied: dataclasses-json in /usr/local/lib/python3.10/dist-packages (from llama-index-core<0.13.0,>=0.12.0->llama-index-llms-huggingface) (0.6.7)\n",
            "Requirement already satisfied: deprecated>=1.2.9.3 in /usr/local/lib/python3.10/dist-packages (from llama-index-core<0.13.0,>=0.12.0->llama-index-llms-huggingface) (1.2.15)\n",
            "Requirement already satisfied: dirtyjson<2.0.0,>=1.0.8 in /usr/local/lib/python3.10/dist-packages (from llama-index-core<0.13.0,>=0.12.0->llama-index-llms-huggingface) (1.0.8)\n",
            "Requirement already satisfied: filetype<2.0.0,>=1.2.0 in /usr/local/lib/python3.10/dist-packages (from llama-index-core<0.13.0,>=0.12.0->llama-index-llms-huggingface) (1.2.0)\n",
            "Requirement already satisfied: httpx in /usr/local/lib/python3.10/dist-packages (from llama-index-core<0.13.0,>=0.12.0->llama-index-llms-huggingface) (0.28.1)\n",
            "Requirement already satisfied: nest-asyncio<2.0.0,>=1.5.8 in /usr/local/lib/python3.10/dist-packages (from llama-index-core<0.13.0,>=0.12.0->llama-index-llms-huggingface) (1.6.0)\n",
            "Requirement already satisfied: networkx>=3.0 in /usr/local/lib/python3.10/dist-packages (from llama-index-core<0.13.0,>=0.12.0->llama-index-llms-huggingface) (3.4.2)\n",
            "Requirement already satisfied: nltk>3.8.1 in /usr/local/lib/python3.10/dist-packages (from llama-index-core<0.13.0,>=0.12.0->llama-index-llms-huggingface) (3.9.1)\n",
            "Requirement already satisfied: numpy in /usr/local/lib/python3.10/dist-packages (from llama-index-core<0.13.0,>=0.12.0->llama-index-llms-huggingface) (1.26.4)\n",
            "Requirement already satisfied: pillow>=9.0.0 in /usr/local/lib/python3.10/dist-packages (from llama-index-core<0.13.0,>=0.12.0->llama-index-llms-huggingface) (11.0.0)\n",
            "Requirement already satisfied: pydantic>=2.8.0 in /usr/local/lib/python3.10/dist-packages (from llama-index-core<0.13.0,>=0.12.0->llama-index-llms-huggingface) (2.10.3)\n",
            "Requirement already satisfied: tenacity!=8.4.0,<10.0.0,>=8.2.0 in /usr/local/lib/python3.10/dist-packages (from llama-index-core<0.13.0,>=0.12.0->llama-index-llms-huggingface) (9.0.0)\n",
            "Requirement already satisfied: tiktoken>=0.3.3 in /usr/local/lib/python3.10/dist-packages (from llama-index-core<0.13.0,>=0.12.0->llama-index-llms-huggingface) (0.8.0)\n",
            "Requirement already satisfied: typing-inspect>=0.8.0 in /usr/local/lib/python3.10/dist-packages (from llama-index-core<0.13.0,>=0.12.0->llama-index-llms-huggingface) (0.9.0)\n",
            "Requirement already satisfied: wrapt in /usr/local/lib/python3.10/dist-packages (from llama-index-core<0.13.0,>=0.12.0->llama-index-llms-huggingface) (1.17.0)\n",
            "Requirement already satisfied: jinja2 in /usr/local/lib/python3.10/dist-packages (from torch<3.0.0,>=2.1.2->llama-index-llms-huggingface) (3.1.4)\n",
            "Requirement already satisfied: sympy==1.13.1 in /usr/local/lib/python3.10/dist-packages (from torch<3.0.0,>=2.1.2->llama-index-llms-huggingface) (1.13.1)\n",
            "Requirement already satisfied: mpmath<1.4,>=1.1.0 in /usr/local/lib/python3.10/dist-packages (from sympy==1.13.1->torch<3.0.0,>=2.1.2->llama-index-llms-huggingface) (1.3.0)\n",
            "Requirement already satisfied: regex!=2019.12.17 in /usr/local/lib/python3.10/dist-packages (from transformers<5.0.0,>=4.37.0->transformers[torch]<5.0.0,>=4.37.0->llama-index-llms-huggingface) (2024.11.6)\n",
            "Requirement already satisfied: tokenizers<0.21,>=0.20 in /usr/local/lib/python3.10/dist-packages (from transformers<5.0.0,>=4.37.0->transformers[torch]<5.0.0,>=4.37.0->llama-index-llms-huggingface) (0.20.3)\n",
            "Requirement already satisfied: safetensors>=0.4.1 in /usr/local/lib/python3.10/dist-packages (from transformers<5.0.0,>=4.37.0->transformers[torch]<5.0.0,>=4.37.0->llama-index-llms-huggingface) (0.4.5)\n",
            "Requirement already satisfied: accelerate>=0.26.0 in /usr/local/lib/python3.10/dist-packages (from transformers[torch]<5.0.0,>=4.37.0->llama-index-llms-huggingface) (1.2.1)\n",
            "Requirement already satisfied: psutil in /usr/local/lib/python3.10/dist-packages (from accelerate>=0.26.0->transformers[torch]<5.0.0,>=4.37.0->llama-index-llms-huggingface) (5.9.5)\n",
            "Requirement already satisfied: aiohappyeyeballs>=2.3.0 in /usr/local/lib/python3.10/dist-packages (from aiohttp<4.0.0,>=3.8.6->llama-index-core<0.13.0,>=0.12.0->llama-index-llms-huggingface) (2.4.4)\n",
            "Requirement already satisfied: aiosignal>=1.1.2 in /usr/local/lib/python3.10/dist-packages (from aiohttp<4.0.0,>=3.8.6->llama-index-core<0.13.0,>=0.12.0->llama-index-llms-huggingface) (1.3.2)\n",
            "Requirement already satisfied: async-timeout<6.0,>=4.0 in /usr/local/lib/python3.10/dist-packages (from aiohttp<4.0.0,>=3.8.6->llama-index-core<0.13.0,>=0.12.0->llama-index-llms-huggingface) (4.0.3)\n",
            "Requirement already satisfied: attrs>=17.3.0 in /usr/local/lib/python3.10/dist-packages (from aiohttp<4.0.0,>=3.8.6->llama-index-core<0.13.0,>=0.12.0->llama-index-llms-huggingface) (24.3.0)\n",
            "Requirement already satisfied: frozenlist>=1.1.1 in /usr/local/lib/python3.10/dist-packages (from aiohttp<4.0.0,>=3.8.6->llama-index-core<0.13.0,>=0.12.0->llama-index-llms-huggingface) (1.5.0)\n",
            "Requirement already satisfied: multidict<7.0,>=4.5 in /usr/local/lib/python3.10/dist-packages (from aiohttp<4.0.0,>=3.8.6->llama-index-core<0.13.0,>=0.12.0->llama-index-llms-huggingface) (6.1.0)\n",
            "Requirement already satisfied: propcache>=0.2.0 in /usr/local/lib/python3.10/dist-packages (from aiohttp<4.0.0,>=3.8.6->llama-index-core<0.13.0,>=0.12.0->llama-index-llms-huggingface) (0.2.1)\n",
            "Requirement already satisfied: yarl<2.0,>=1.17.0 in /usr/local/lib/python3.10/dist-packages (from aiohttp<4.0.0,>=3.8.6->llama-index-core<0.13.0,>=0.12.0->llama-index-llms-huggingface) (1.18.3)\n",
            "Requirement already satisfied: click in /usr/local/lib/python3.10/dist-packages (from nltk>3.8.1->llama-index-core<0.13.0,>=0.12.0->llama-index-llms-huggingface) (8.1.7)\n",
            "Requirement already satisfied: joblib in /usr/local/lib/python3.10/dist-packages (from nltk>3.8.1->llama-index-core<0.13.0,>=0.12.0->llama-index-llms-huggingface) (1.4.2)\n",
            "Requirement already satisfied: annotated-types>=0.6.0 in /usr/local/lib/python3.10/dist-packages (from pydantic>=2.8.0->llama-index-core<0.13.0,>=0.12.0->llama-index-llms-huggingface) (0.7.0)\n",
            "Requirement already satisfied: pydantic-core==2.27.1 in /usr/local/lib/python3.10/dist-packages (from pydantic>=2.8.0->llama-index-core<0.13.0,>=0.12.0->llama-index-llms-huggingface) (2.27.1)\n",
            "Requirement already satisfied: charset-normalizer<4,>=2 in /usr/local/lib/python3.10/dist-packages (from requests->huggingface-hub<0.24.0,>=0.23.0->llama-index-llms-huggingface) (3.4.0)\n",
            "Requirement already satisfied: idna<4,>=2.5 in /usr/local/lib/python3.10/dist-packages (from requests->huggingface-hub<0.24.0,>=0.23.0->llama-index-llms-huggingface) (3.10)\n",
            "Requirement already satisfied: urllib3<3,>=1.21.1 in /usr/local/lib/python3.10/dist-packages (from requests->huggingface-hub<0.24.0,>=0.23.0->llama-index-llms-huggingface) (2.2.3)\n",
            "Requirement already satisfied: certifi>=2017.4.17 in /usr/local/lib/python3.10/dist-packages (from requests->huggingface-hub<0.24.0,>=0.23.0->llama-index-llms-huggingface) (2024.12.14)\n",
            "Requirement already satisfied: greenlet!=0.4.17 in /usr/local/lib/python3.10/dist-packages (from SQLAlchemy>=1.4.49->SQLAlchemy[asyncio]>=1.4.49->llama-index-core<0.13.0,>=0.12.0->llama-index-llms-huggingface) (3.1.1)\n",
            "Requirement already satisfied: mypy-extensions>=0.3.0 in /usr/local/lib/python3.10/dist-packages (from typing-inspect>=0.8.0->llama-index-core<0.13.0,>=0.12.0->llama-index-llms-huggingface) (1.0.0)\n",
            "Requirement already satisfied: marshmallow<4.0.0,>=3.18.0 in /usr/local/lib/python3.10/dist-packages (from dataclasses-json->llama-index-core<0.13.0,>=0.12.0->llama-index-llms-huggingface) (3.23.2)\n",
            "Requirement already satisfied: anyio in /usr/local/lib/python3.10/dist-packages (from httpx->llama-index-core<0.13.0,>=0.12.0->llama-index-llms-huggingface) (3.7.1)\n",
            "Requirement already satisfied: httpcore==1.* in /usr/local/lib/python3.10/dist-packages (from httpx->llama-index-core<0.13.0,>=0.12.0->llama-index-llms-huggingface) (1.0.7)\n",
            "Requirement already satisfied: h11<0.15,>=0.13 in /usr/local/lib/python3.10/dist-packages (from httpcore==1.*->httpx->llama-index-core<0.13.0,>=0.12.0->llama-index-llms-huggingface) (0.14.0)\n",
            "Requirement already satisfied: MarkupSafe>=2.0 in /usr/local/lib/python3.10/dist-packages (from jinja2->torch<3.0.0,>=2.1.2->llama-index-llms-huggingface) (3.0.2)\n",
            "Requirement already satisfied: sniffio>=1.1 in /usr/local/lib/python3.10/dist-packages (from anyio->httpx->llama-index-core<0.13.0,>=0.12.0->llama-index-llms-huggingface) (1.3.1)\n",
            "Requirement already satisfied: exceptiongroup in /usr/local/lib/python3.10/dist-packages (from anyio->httpx->llama-index-core<0.13.0,>=0.12.0->llama-index-llms-huggingface) (1.2.2)\n"
          ]
        }
      ]
    },
    {
      "cell_type": "code",
      "source": [
        "# prompt: ! pip install upgrade huggingface-hub<0.24.0\n",
        "\n",
        "! pip install --upgrade huggingface-hub<0.24.0\n"
      ],
      "metadata": {
        "colab": {
          "base_uri": "https://localhost:8080/"
        },
        "id": "4VuT4Wjs-dlq",
        "outputId": "02729449-ccc5-44ec-95d1-41e5c90d0ff5"
      },
      "execution_count": 17,
      "outputs": [
        {
          "output_type": "stream",
          "name": "stdout",
          "text": [
            "/bin/bash: line 1: 0.24.0: No such file or directory\n"
          ]
        }
      ]
    },
    {
      "cell_type": "code",
      "source": [
        "! pip uninstall huggingface-hub"
      ],
      "metadata": {
        "colab": {
          "base_uri": "https://localhost:8080/"
        },
        "id": "tvAsPp9K_E81",
        "outputId": "35b036af-3479-4263-99c5-0344280b1ca9"
      },
      "execution_count": null,
      "outputs": [
        {
          "output_type": "stream",
          "name": "stdout",
          "text": [
            "Found existing installation: huggingface-hub 0.23.0\n",
            "Uninstalling huggingface-hub-0.23.0:\n",
            "  Would remove:\n",
            "    /usr/local/bin/huggingface-cli\n",
            "    /usr/local/lib/python3.10/dist-packages/huggingface_hub-0.23.0.dist-info/*\n",
            "    /usr/local/lib/python3.10/dist-packages/huggingface_hub/*\n",
            "Proceed (Y/n)? Y\n",
            "  Successfully uninstalled huggingface-hub-0.23.0\n"
          ]
        }
      ]
    },
    {
      "cell_type": "code",
      "source": [
        "!pip install huggingface_hub==0.23.2"
      ],
      "metadata": {
        "colab": {
          "base_uri": "https://localhost:8080/"
        },
        "id": "Xy1bvA2D_KkZ",
        "outputId": "284f46cf-b597-491f-f208-769dc7b59708"
      },
      "execution_count": 9,
      "outputs": [
        {
          "output_type": "stream",
          "name": "stdout",
          "text": [
            "Collecting huggingface_hub==0.23.2\n",
            "  Using cached huggingface_hub-0.23.2-py3-none-any.whl.metadata (12 kB)\n",
            "Requirement already satisfied: filelock in /usr/local/lib/python3.10/dist-packages (from huggingface_hub==0.23.2) (3.16.1)\n",
            "Requirement already satisfied: fsspec>=2023.5.0 in /usr/local/lib/python3.10/dist-packages (from huggingface_hub==0.23.2) (2024.10.0)\n",
            "Requirement already satisfied: packaging>=20.9 in /usr/local/lib/python3.10/dist-packages (from huggingface_hub==0.23.2) (24.2)\n",
            "Requirement already satisfied: pyyaml>=5.1 in /usr/local/lib/python3.10/dist-packages (from huggingface_hub==0.23.2) (6.0.2)\n",
            "Requirement already satisfied: requests in /usr/local/lib/python3.10/dist-packages (from huggingface_hub==0.23.2) (2.32.3)\n",
            "Requirement already satisfied: tqdm>=4.42.1 in /usr/local/lib/python3.10/dist-packages (from huggingface_hub==0.23.2) (4.67.1)\n",
            "Requirement already satisfied: typing-extensions>=3.7.4.3 in /usr/local/lib/python3.10/dist-packages (from huggingface_hub==0.23.2) (4.12.2)\n",
            "Requirement already satisfied: charset-normalizer<4,>=2 in /usr/local/lib/python3.10/dist-packages (from requests->huggingface_hub==0.23.2) (3.4.0)\n",
            "Requirement already satisfied: idna<4,>=2.5 in /usr/local/lib/python3.10/dist-packages (from requests->huggingface_hub==0.23.2) (3.10)\n",
            "Requirement already satisfied: urllib3<3,>=1.21.1 in /usr/local/lib/python3.10/dist-packages (from requests->huggingface_hub==0.23.2) (2.2.3)\n",
            "Requirement already satisfied: certifi>=2017.4.17 in /usr/local/lib/python3.10/dist-packages (from requests->huggingface_hub==0.23.2) (2024.12.14)\n",
            "Using cached huggingface_hub-0.23.2-py3-none-any.whl (401 kB)\n",
            "Installing collected packages: huggingface_hub\n",
            "  Attempting uninstall: huggingface_hub\n",
            "    Found existing installation: huggingface-hub 0.23.5\n",
            "    Uninstalling huggingface-hub-0.23.5:\n",
            "      Successfully uninstalled huggingface-hub-0.23.5\n",
            "\u001b[31mERROR: pip's dependency resolver does not currently take into account all the packages that are installed. This behaviour is the source of the following dependency conflicts.\n",
            "peft 0.14.0 requires huggingface-hub>=0.25.0, but you have huggingface-hub 0.23.2 which is incompatible.\u001b[0m\u001b[31m\n",
            "\u001b[0mSuccessfully installed huggingface_hub-0.23.2\n"
          ]
        }
      ]
    },
    {
      "cell_type": "code",
      "source": [
        "!pip uninstall peft\n"
      ],
      "metadata": {
        "colab": {
          "base_uri": "https://localhost:8080/"
        },
        "id": "AX2nnZGI_1nM",
        "outputId": "11cf2677-7e71-4318-ac13-93a2aaca5559"
      },
      "execution_count": null,
      "outputs": [
        {
          "output_type": "stream",
          "name": "stdout",
          "text": [
            "Found existing installation: peft 0.14.0\n",
            "Uninstalling peft-0.14.0:\n",
            "  Would remove:\n",
            "    /usr/local/lib/python3.10/dist-packages/peft-0.14.0.dist-info/*\n",
            "    /usr/local/lib/python3.10/dist-packages/peft/*\n",
            "Proceed (Y/n)? Y\n",
            "  Successfully uninstalled peft-0.14.0\n"
          ]
        }
      ]
    },
    {
      "cell_type": "code",
      "source": [
        "\n",
        "!pip install peft"
      ],
      "metadata": {
        "colab": {
          "base_uri": "https://localhost:8080/"
        },
        "id": "argRCjXWAKL_",
        "outputId": "b36e839b-8f0c-4a3d-cc07-9e2fa8ba3cec"
      },
      "execution_count": 6,
      "outputs": [
        {
          "output_type": "stream",
          "name": "stdout",
          "text": [
            "Requirement already satisfied: peft in /usr/local/lib/python3.10/dist-packages (0.4.0)\n",
            "Requirement already satisfied: numpy>=1.17 in /usr/local/lib/python3.10/dist-packages (from peft) (1.26.4)\n",
            "Requirement already satisfied: packaging>=20.0 in /usr/local/lib/python3.10/dist-packages (from peft) (24.2)\n",
            "Requirement already satisfied: psutil in /usr/local/lib/python3.10/dist-packages (from peft) (5.9.5)\n",
            "Requirement already satisfied: pyyaml in /usr/local/lib/python3.10/dist-packages (from peft) (6.0.2)\n",
            "Requirement already satisfied: torch>=1.13.0 in /usr/local/lib/python3.10/dist-packages (from peft) (2.5.1+cu121)\n",
            "Requirement already satisfied: transformers in /usr/local/lib/python3.10/dist-packages (from peft) (4.46.3)\n",
            "Requirement already satisfied: accelerate in /usr/local/lib/python3.10/dist-packages (from peft) (1.2.1)\n",
            "Requirement already satisfied: safetensors in /usr/local/lib/python3.10/dist-packages (from peft) (0.4.5)\n",
            "Requirement already satisfied: filelock in /usr/local/lib/python3.10/dist-packages (from torch>=1.13.0->peft) (3.16.1)\n",
            "Requirement already satisfied: typing-extensions>=4.8.0 in /usr/local/lib/python3.10/dist-packages (from torch>=1.13.0->peft) (4.12.2)\n",
            "Requirement already satisfied: networkx in /usr/local/lib/python3.10/dist-packages (from torch>=1.13.0->peft) (3.4.2)\n",
            "Requirement already satisfied: jinja2 in /usr/local/lib/python3.10/dist-packages (from torch>=1.13.0->peft) (3.1.4)\n",
            "Requirement already satisfied: fsspec in /usr/local/lib/python3.10/dist-packages (from torch>=1.13.0->peft) (2024.10.0)\n",
            "Requirement already satisfied: sympy==1.13.1 in /usr/local/lib/python3.10/dist-packages (from torch>=1.13.0->peft) (1.13.1)\n",
            "Requirement already satisfied: mpmath<1.4,>=1.1.0 in /usr/local/lib/python3.10/dist-packages (from sympy==1.13.1->torch>=1.13.0->peft) (1.3.0)\n",
            "Requirement already satisfied: huggingface-hub>=0.21.0 in /usr/local/lib/python3.10/dist-packages (from accelerate->peft) (0.23.5)\n",
            "Requirement already satisfied: regex!=2019.12.17 in /usr/local/lib/python3.10/dist-packages (from transformers->peft) (2024.11.6)\n",
            "Requirement already satisfied: requests in /usr/local/lib/python3.10/dist-packages (from transformers->peft) (2.32.3)\n",
            "Requirement already satisfied: tokenizers<0.21,>=0.20 in /usr/local/lib/python3.10/dist-packages (from transformers->peft) (0.20.3)\n",
            "Requirement already satisfied: tqdm>=4.27 in /usr/local/lib/python3.10/dist-packages (from transformers->peft) (4.67.1)\n",
            "Requirement already satisfied: MarkupSafe>=2.0 in /usr/local/lib/python3.10/dist-packages (from jinja2->torch>=1.13.0->peft) (3.0.2)\n",
            "Requirement already satisfied: charset-normalizer<4,>=2 in /usr/local/lib/python3.10/dist-packages (from requests->transformers->peft) (3.4.0)\n",
            "Requirement already satisfied: idna<4,>=2.5 in /usr/local/lib/python3.10/dist-packages (from requests->transformers->peft) (3.10)\n",
            "Requirement already satisfied: urllib3<3,>=1.21.1 in /usr/local/lib/python3.10/dist-packages (from requests->transformers->peft) (2.2.3)\n",
            "Requirement already satisfied: certifi>=2017.4.17 in /usr/local/lib/python3.10/dist-packages (from requests->transformers->peft) (2024.12.14)\n"
          ]
        }
      ]
    },
    {
      "cell_type": "code",
      "source": [
        "from llama_index.llms.huggingface import HuggingFaceLLM\n"
      ],
      "metadata": {
        "id": "5pTOg8WuAOyi"
      },
      "execution_count": 46,
      "outputs": []
    },
    {
      "cell_type": "code",
      "source": [],
      "metadata": {
        "id": "C2UCsftlTTMY"
      },
      "execution_count": null,
      "outputs": []
    },
    {
      "cell_type": "code",
      "source": [
        "!pip install llama-index-llms-huggingface\n",
        "\n",
        "# from llama_index.llms.huggingface import HuggingFaceLLM\n"
      ],
      "metadata": {
        "colab": {
          "base_uri": "https://localhost:8080/"
        },
        "id": "bNl-dQReAXuM",
        "outputId": "5d6d8635-147b-4e15-e2ee-8b7e80563f95",
        "collapsed": true
      },
      "execution_count": 21,
      "outputs": [
        {
          "output_type": "stream",
          "name": "stdout",
          "text": [
            "Requirement already satisfied: llama-index-llms-huggingface in /usr/local/lib/python3.10/dist-packages (0.4.1)\n",
            "Requirement already satisfied: huggingface-hub<0.24.0,>=0.23.0 in /usr/local/lib/python3.10/dist-packages (from llama-index-llms-huggingface) (0.23.2)\n",
            "Requirement already satisfied: llama-index-core<0.13.0,>=0.12.0 in /usr/local/lib/python3.10/dist-packages (from llama-index-llms-huggingface) (0.12.8)\n",
            "Requirement already satisfied: text-generation<0.8.0,>=0.7.0 in /usr/local/lib/python3.10/dist-packages (from llama-index-llms-huggingface) (0.7.0)\n",
            "Requirement already satisfied: torch<3.0.0,>=2.1.2 in /usr/local/lib/python3.10/dist-packages (from llama-index-llms-huggingface) (2.5.1+cu121)\n",
            "Requirement already satisfied: transformers<5.0.0,>=4.37.0 in /usr/local/lib/python3.10/dist-packages (from transformers[torch]<5.0.0,>=4.37.0->llama-index-llms-huggingface) (4.46.3)\n",
            "Requirement already satisfied: filelock in /usr/local/lib/python3.10/dist-packages (from huggingface-hub<0.24.0,>=0.23.0->llama-index-llms-huggingface) (3.16.1)\n",
            "Requirement already satisfied: fsspec>=2023.5.0 in /usr/local/lib/python3.10/dist-packages (from huggingface-hub<0.24.0,>=0.23.0->llama-index-llms-huggingface) (2024.10.0)\n",
            "Requirement already satisfied: packaging>=20.9 in /usr/local/lib/python3.10/dist-packages (from huggingface-hub<0.24.0,>=0.23.0->llama-index-llms-huggingface) (24.2)\n",
            "Requirement already satisfied: pyyaml>=5.1 in /usr/local/lib/python3.10/dist-packages (from huggingface-hub<0.24.0,>=0.23.0->llama-index-llms-huggingface) (6.0.2)\n",
            "Requirement already satisfied: requests in /usr/local/lib/python3.10/dist-packages (from huggingface-hub<0.24.0,>=0.23.0->llama-index-llms-huggingface) (2.32.3)\n",
            "Requirement already satisfied: tqdm>=4.42.1 in /usr/local/lib/python3.10/dist-packages (from huggingface-hub<0.24.0,>=0.23.0->llama-index-llms-huggingface) (4.67.1)\n",
            "Requirement already satisfied: typing-extensions>=3.7.4.3 in /usr/local/lib/python3.10/dist-packages (from huggingface-hub<0.24.0,>=0.23.0->llama-index-llms-huggingface) (4.12.2)\n",
            "Requirement already satisfied: SQLAlchemy>=1.4.49 in /usr/local/lib/python3.10/dist-packages (from SQLAlchemy[asyncio]>=1.4.49->llama-index-core<0.13.0,>=0.12.0->llama-index-llms-huggingface) (2.0.36)\n",
            "Requirement already satisfied: aiohttp<4.0.0,>=3.8.6 in /usr/local/lib/python3.10/dist-packages (from llama-index-core<0.13.0,>=0.12.0->llama-index-llms-huggingface) (3.11.10)\n",
            "Requirement already satisfied: dataclasses-json in /usr/local/lib/python3.10/dist-packages (from llama-index-core<0.13.0,>=0.12.0->llama-index-llms-huggingface) (0.6.7)\n",
            "Requirement already satisfied: deprecated>=1.2.9.3 in /usr/local/lib/python3.10/dist-packages (from llama-index-core<0.13.0,>=0.12.0->llama-index-llms-huggingface) (1.2.15)\n",
            "Requirement already satisfied: dirtyjson<2.0.0,>=1.0.8 in /usr/local/lib/python3.10/dist-packages (from llama-index-core<0.13.0,>=0.12.0->llama-index-llms-huggingface) (1.0.8)\n",
            "Requirement already satisfied: filetype<2.0.0,>=1.2.0 in /usr/local/lib/python3.10/dist-packages (from llama-index-core<0.13.0,>=0.12.0->llama-index-llms-huggingface) (1.2.0)\n",
            "Requirement already satisfied: httpx in /usr/local/lib/python3.10/dist-packages (from llama-index-core<0.13.0,>=0.12.0->llama-index-llms-huggingface) (0.28.1)\n",
            "Requirement already satisfied: nest-asyncio<2.0.0,>=1.5.8 in /usr/local/lib/python3.10/dist-packages (from llama-index-core<0.13.0,>=0.12.0->llama-index-llms-huggingface) (1.6.0)\n",
            "Requirement already satisfied: networkx>=3.0 in /usr/local/lib/python3.10/dist-packages (from llama-index-core<0.13.0,>=0.12.0->llama-index-llms-huggingface) (3.4.2)\n",
            "Requirement already satisfied: nltk>3.8.1 in /usr/local/lib/python3.10/dist-packages (from llama-index-core<0.13.0,>=0.12.0->llama-index-llms-huggingface) (3.9.1)\n",
            "Requirement already satisfied: numpy in /usr/local/lib/python3.10/dist-packages (from llama-index-core<0.13.0,>=0.12.0->llama-index-llms-huggingface) (1.26.4)\n",
            "Requirement already satisfied: pillow>=9.0.0 in /usr/local/lib/python3.10/dist-packages (from llama-index-core<0.13.0,>=0.12.0->llama-index-llms-huggingface) (11.0.0)\n",
            "Requirement already satisfied: pydantic>=2.8.0 in /usr/local/lib/python3.10/dist-packages (from llama-index-core<0.13.0,>=0.12.0->llama-index-llms-huggingface) (2.10.3)\n",
            "Requirement already satisfied: tenacity!=8.4.0,<10.0.0,>=8.2.0 in /usr/local/lib/python3.10/dist-packages (from llama-index-core<0.13.0,>=0.12.0->llama-index-llms-huggingface) (9.0.0)\n",
            "Requirement already satisfied: tiktoken>=0.3.3 in /usr/local/lib/python3.10/dist-packages (from llama-index-core<0.13.0,>=0.12.0->llama-index-llms-huggingface) (0.8.0)\n",
            "Requirement already satisfied: typing-inspect>=0.8.0 in /usr/local/lib/python3.10/dist-packages (from llama-index-core<0.13.0,>=0.12.0->llama-index-llms-huggingface) (0.9.0)\n",
            "Requirement already satisfied: wrapt in /usr/local/lib/python3.10/dist-packages (from llama-index-core<0.13.0,>=0.12.0->llama-index-llms-huggingface) (1.17.0)\n",
            "Requirement already satisfied: jinja2 in /usr/local/lib/python3.10/dist-packages (from torch<3.0.0,>=2.1.2->llama-index-llms-huggingface) (3.1.4)\n",
            "Requirement already satisfied: sympy==1.13.1 in /usr/local/lib/python3.10/dist-packages (from torch<3.0.0,>=2.1.2->llama-index-llms-huggingface) (1.13.1)\n",
            "Requirement already satisfied: mpmath<1.4,>=1.1.0 in /usr/local/lib/python3.10/dist-packages (from sympy==1.13.1->torch<3.0.0,>=2.1.2->llama-index-llms-huggingface) (1.3.0)\n",
            "Requirement already satisfied: regex!=2019.12.17 in /usr/local/lib/python3.10/dist-packages (from transformers<5.0.0,>=4.37.0->transformers[torch]<5.0.0,>=4.37.0->llama-index-llms-huggingface) (2024.11.6)\n",
            "Requirement already satisfied: tokenizers<0.21,>=0.20 in /usr/local/lib/python3.10/dist-packages (from transformers<5.0.0,>=4.37.0->transformers[torch]<5.0.0,>=4.37.0->llama-index-llms-huggingface) (0.20.3)\n",
            "Requirement already satisfied: safetensors>=0.4.1 in /usr/local/lib/python3.10/dist-packages (from transformers<5.0.0,>=4.37.0->transformers[torch]<5.0.0,>=4.37.0->llama-index-llms-huggingface) (0.4.5)\n",
            "Requirement already satisfied: accelerate>=0.26.0 in /usr/local/lib/python3.10/dist-packages (from transformers[torch]<5.0.0,>=4.37.0->llama-index-llms-huggingface) (1.2.0.dev0)\n",
            "Requirement already satisfied: psutil in /usr/local/lib/python3.10/dist-packages (from accelerate>=0.26.0->transformers[torch]<5.0.0,>=4.37.0->llama-index-llms-huggingface) (5.9.5)\n",
            "Requirement already satisfied: aiohappyeyeballs>=2.3.0 in /usr/local/lib/python3.10/dist-packages (from aiohttp<4.0.0,>=3.8.6->llama-index-core<0.13.0,>=0.12.0->llama-index-llms-huggingface) (2.4.4)\n",
            "Requirement already satisfied: aiosignal>=1.1.2 in /usr/local/lib/python3.10/dist-packages (from aiohttp<4.0.0,>=3.8.6->llama-index-core<0.13.0,>=0.12.0->llama-index-llms-huggingface) (1.3.2)\n",
            "Requirement already satisfied: async-timeout<6.0,>=4.0 in /usr/local/lib/python3.10/dist-packages (from aiohttp<4.0.0,>=3.8.6->llama-index-core<0.13.0,>=0.12.0->llama-index-llms-huggingface) (4.0.3)\n",
            "Requirement already satisfied: attrs>=17.3.0 in /usr/local/lib/python3.10/dist-packages (from aiohttp<4.0.0,>=3.8.6->llama-index-core<0.13.0,>=0.12.0->llama-index-llms-huggingface) (24.3.0)\n",
            "Requirement already satisfied: frozenlist>=1.1.1 in /usr/local/lib/python3.10/dist-packages (from aiohttp<4.0.0,>=3.8.6->llama-index-core<0.13.0,>=0.12.0->llama-index-llms-huggingface) (1.5.0)\n",
            "Requirement already satisfied: multidict<7.0,>=4.5 in /usr/local/lib/python3.10/dist-packages (from aiohttp<4.0.0,>=3.8.6->llama-index-core<0.13.0,>=0.12.0->llama-index-llms-huggingface) (6.1.0)\n",
            "Requirement already satisfied: propcache>=0.2.0 in /usr/local/lib/python3.10/dist-packages (from aiohttp<4.0.0,>=3.8.6->llama-index-core<0.13.0,>=0.12.0->llama-index-llms-huggingface) (0.2.1)\n",
            "Requirement already satisfied: yarl<2.0,>=1.17.0 in /usr/local/lib/python3.10/dist-packages (from aiohttp<4.0.0,>=3.8.6->llama-index-core<0.13.0,>=0.12.0->llama-index-llms-huggingface) (1.18.3)\n",
            "Requirement already satisfied: click in /usr/local/lib/python3.10/dist-packages (from nltk>3.8.1->llama-index-core<0.13.0,>=0.12.0->llama-index-llms-huggingface) (8.1.7)\n",
            "Requirement already satisfied: joblib in /usr/local/lib/python3.10/dist-packages (from nltk>3.8.1->llama-index-core<0.13.0,>=0.12.0->llama-index-llms-huggingface) (1.4.2)\n",
            "Requirement already satisfied: annotated-types>=0.6.0 in /usr/local/lib/python3.10/dist-packages (from pydantic>=2.8.0->llama-index-core<0.13.0,>=0.12.0->llama-index-llms-huggingface) (0.7.0)\n",
            "Requirement already satisfied: pydantic-core==2.27.1 in /usr/local/lib/python3.10/dist-packages (from pydantic>=2.8.0->llama-index-core<0.13.0,>=0.12.0->llama-index-llms-huggingface) (2.27.1)\n",
            "Requirement already satisfied: charset-normalizer<4,>=2 in /usr/local/lib/python3.10/dist-packages (from requests->huggingface-hub<0.24.0,>=0.23.0->llama-index-llms-huggingface) (3.4.0)\n",
            "Requirement already satisfied: idna<4,>=2.5 in /usr/local/lib/python3.10/dist-packages (from requests->huggingface-hub<0.24.0,>=0.23.0->llama-index-llms-huggingface) (3.10)\n",
            "Requirement already satisfied: urllib3<3,>=1.21.1 in /usr/local/lib/python3.10/dist-packages (from requests->huggingface-hub<0.24.0,>=0.23.0->llama-index-llms-huggingface) (2.2.3)\n",
            "Requirement already satisfied: certifi>=2017.4.17 in /usr/local/lib/python3.10/dist-packages (from requests->huggingface-hub<0.24.0,>=0.23.0->llama-index-llms-huggingface) (2024.12.14)\n",
            "Requirement already satisfied: greenlet!=0.4.17 in /usr/local/lib/python3.10/dist-packages (from SQLAlchemy>=1.4.49->SQLAlchemy[asyncio]>=1.4.49->llama-index-core<0.13.0,>=0.12.0->llama-index-llms-huggingface) (3.1.1)\n",
            "Requirement already satisfied: mypy-extensions>=0.3.0 in /usr/local/lib/python3.10/dist-packages (from typing-inspect>=0.8.0->llama-index-core<0.13.0,>=0.12.0->llama-index-llms-huggingface) (1.0.0)\n",
            "Requirement already satisfied: marshmallow<4.0.0,>=3.18.0 in /usr/local/lib/python3.10/dist-packages (from dataclasses-json->llama-index-core<0.13.0,>=0.12.0->llama-index-llms-huggingface) (3.23.2)\n",
            "Requirement already satisfied: anyio in /usr/local/lib/python3.10/dist-packages (from httpx->llama-index-core<0.13.0,>=0.12.0->llama-index-llms-huggingface) (3.7.1)\n",
            "Requirement already satisfied: httpcore==1.* in /usr/local/lib/python3.10/dist-packages (from httpx->llama-index-core<0.13.0,>=0.12.0->llama-index-llms-huggingface) (1.0.7)\n",
            "Requirement already satisfied: h11<0.15,>=0.13 in /usr/local/lib/python3.10/dist-packages (from httpcore==1.*->httpx->llama-index-core<0.13.0,>=0.12.0->llama-index-llms-huggingface) (0.14.0)\n",
            "Requirement already satisfied: MarkupSafe>=2.0 in /usr/local/lib/python3.10/dist-packages (from jinja2->torch<3.0.0,>=2.1.2->llama-index-llms-huggingface) (3.0.2)\n",
            "Requirement already satisfied: sniffio>=1.1 in /usr/local/lib/python3.10/dist-packages (from anyio->httpx->llama-index-core<0.13.0,>=0.12.0->llama-index-llms-huggingface) (1.3.1)\n",
            "Requirement already satisfied: exceptiongroup in /usr/local/lib/python3.10/dist-packages (from anyio->httpx->llama-index-core<0.13.0,>=0.12.0->llama-index-llms-huggingface) (1.2.2)\n"
          ]
        }
      ]
    },
    {
      "cell_type": "code",
      "source": [
        "from llama_index.core.prompts.prompts import SimpleInputPrompt"
      ],
      "metadata": {
        "id": "7Gl0W28FTVaQ"
      },
      "execution_count": 47,
      "outputs": []
    },
    {
      "cell_type": "code",
      "source": [
        "documents = SimpleDirectoryReader(\"/content/data\").load_data()"
      ],
      "metadata": {
        "id": "71_O7yaMuUt7"
      },
      "execution_count": 48,
      "outputs": []
    },
    {
      "cell_type": "code",
      "source": [
        "system_prompts= \"\"\"\n",
        "You are a QA asssistant. Your goal is to answer question as accruately as possible based on the instruction and context provided.\n",
        "\"\"\"\n",
        "\n",
        "query_wrapper_prompt= SimpleInputPrompt(\"<|USER|> (query_str)<|ASSISTANT|>\")"
      ],
      "metadata": {
        "id": "srBM6on1udsT"
      },
      "execution_count": 10,
      "outputs": []
    },
    {
      "cell_type": "code",
      "source": [
        "! huggingface-cli login"
      ],
      "metadata": {
        "colab": {
          "base_uri": "https://localhost:8080/"
        },
        "id": "7aXPSzHjud-6",
        "outputId": "eb39710b-b685-4a9c-c7d5-ac2c870ecaef"
      },
      "execution_count": 50,
      "outputs": [
        {
          "output_type": "stream",
          "name": "stdout",
          "text": [
            "\n",
            "    _|    _|  _|    _|    _|_|_|    _|_|_|  _|_|_|  _|      _|    _|_|_|      _|_|_|_|    _|_|      _|_|_|  _|_|_|_|\n",
            "    _|    _|  _|    _|  _|        _|          _|    _|_|    _|  _|            _|        _|    _|  _|        _|\n",
            "    _|_|_|_|  _|    _|  _|  _|_|  _|  _|_|    _|    _|  _|  _|  _|  _|_|      _|_|_|    _|_|_|_|  _|        _|_|_|\n",
            "    _|    _|  _|    _|  _|    _|  _|    _|    _|    _|    _|_|  _|    _|      _|        _|    _|  _|        _|\n",
            "    _|    _|    _|_|      _|_|_|    _|_|_|  _|_|_|  _|      _|    _|_|_|      _|        _|    _|    _|_|_|  _|_|_|_|\n",
            "\n",
            "    A token is already saved on your machine. Run `huggingface-cli whoami` to get more information or `huggingface-cli logout` if you want to log out.\n",
            "    Setting a new token will erase the existing one.\n",
            "    To login, `huggingface_hub` requires a token generated from https://huggingface.co/settings/tokens .\n",
            "Enter your token (input will not be visible): \n",
            "Add token as git credential? (Y/n) n\n",
            "Token is valid (permission: read).\n",
            "Your token has been saved to /root/.cache/huggingface/token\n",
            "Login successful\n"
          ]
        }
      ]
    },
    {
      "cell_type": "code",
      "source": [
        "import torch"
      ],
      "metadata": {
        "id": "mK5wsk5Ru-oa"
      },
      "execution_count": 51,
      "outputs": []
    },
    {
      "cell_type": "code",
      "source": [
        "!pip install -U git+https://github.com/huggingface/accelerate.git"
      ],
      "metadata": {
        "colab": {
          "base_uri": "https://localhost:8080/"
        },
        "id": "4-BEGk3OvvWj",
        "outputId": "a905011d-1e5b-413d-e36f-096157fcf809"
      },
      "execution_count": 32,
      "outputs": [
        {
          "output_type": "stream",
          "name": "stdout",
          "text": [
            "Collecting git+https://github.com/huggingface/accelerate.git\n",
            "  Cloning https://github.com/huggingface/accelerate.git to /tmp/pip-req-build-b6zap2zd\n",
            "  Running command git clone --filter=blob:none --quiet https://github.com/huggingface/accelerate.git /tmp/pip-req-build-b6zap2zd\n",
            "  Resolved https://github.com/huggingface/accelerate.git to commit d6d3e03cd4868b1f69d4f334ddd341e4d414c342\n",
            "  Installing build dependencies ... \u001b[?25l\u001b[?25hdone\n",
            "  Getting requirements to build wheel ... \u001b[?25l\u001b[?25hdone\n",
            "  Preparing metadata (pyproject.toml) ... \u001b[?25l\u001b[?25hdone\n",
            "Requirement already satisfied: numpy<3.0.0,>=1.17 in /usr/local/lib/python3.10/dist-packages (from accelerate==1.2.0.dev0) (1.26.4)\n",
            "Requirement already satisfied: packaging>=20.0 in /usr/local/lib/python3.10/dist-packages (from accelerate==1.2.0.dev0) (24.2)\n",
            "Requirement already satisfied: psutil in /usr/local/lib/python3.10/dist-packages (from accelerate==1.2.0.dev0) (5.9.5)\n",
            "Requirement already satisfied: pyyaml in /usr/local/lib/python3.10/dist-packages (from accelerate==1.2.0.dev0) (6.0.2)\n",
            "Requirement already satisfied: torch>=1.10.0 in /usr/local/lib/python3.10/dist-packages (from accelerate==1.2.0.dev0) (2.5.1+cu121)\n",
            "Requirement already satisfied: huggingface_hub>=0.21.0 in /usr/local/lib/python3.10/dist-packages (from accelerate==1.2.0.dev0) (0.23.2)\n",
            "Requirement already satisfied: safetensors>=0.4.3 in /usr/local/lib/python3.10/dist-packages (from accelerate==1.2.0.dev0) (0.4.5)\n",
            "Requirement already satisfied: filelock in /usr/local/lib/python3.10/dist-packages (from huggingface_hub>=0.21.0->accelerate==1.2.0.dev0) (3.16.1)\n",
            "Requirement already satisfied: fsspec>=2023.5.0 in /usr/local/lib/python3.10/dist-packages (from huggingface_hub>=0.21.0->accelerate==1.2.0.dev0) (2024.10.0)\n",
            "Requirement already satisfied: requests in /usr/local/lib/python3.10/dist-packages (from huggingface_hub>=0.21.0->accelerate==1.2.0.dev0) (2.32.3)\n",
            "Requirement already satisfied: tqdm>=4.42.1 in /usr/local/lib/python3.10/dist-packages (from huggingface_hub>=0.21.0->accelerate==1.2.0.dev0) (4.67.1)\n",
            "Requirement already satisfied: typing-extensions>=3.7.4.3 in /usr/local/lib/python3.10/dist-packages (from huggingface_hub>=0.21.0->accelerate==1.2.0.dev0) (4.12.2)\n",
            "Requirement already satisfied: networkx in /usr/local/lib/python3.10/dist-packages (from torch>=1.10.0->accelerate==1.2.0.dev0) (3.4.2)\n",
            "Requirement already satisfied: jinja2 in /usr/local/lib/python3.10/dist-packages (from torch>=1.10.0->accelerate==1.2.0.dev0) (3.1.4)\n",
            "Requirement already satisfied: sympy==1.13.1 in /usr/local/lib/python3.10/dist-packages (from torch>=1.10.0->accelerate==1.2.0.dev0) (1.13.1)\n",
            "Requirement already satisfied: mpmath<1.4,>=1.1.0 in /usr/local/lib/python3.10/dist-packages (from sympy==1.13.1->torch>=1.10.0->accelerate==1.2.0.dev0) (1.3.0)\n",
            "Requirement already satisfied: MarkupSafe>=2.0 in /usr/local/lib/python3.10/dist-packages (from jinja2->torch>=1.10.0->accelerate==1.2.0.dev0) (3.0.2)\n",
            "Requirement already satisfied: charset-normalizer<4,>=2 in /usr/local/lib/python3.10/dist-packages (from requests->huggingface_hub>=0.21.0->accelerate==1.2.0.dev0) (3.4.0)\n",
            "Requirement already satisfied: idna<4,>=2.5 in /usr/local/lib/python3.10/dist-packages (from requests->huggingface_hub>=0.21.0->accelerate==1.2.0.dev0) (3.10)\n",
            "Requirement already satisfied: urllib3<3,>=1.21.1 in /usr/local/lib/python3.10/dist-packages (from requests->huggingface_hub>=0.21.0->accelerate==1.2.0.dev0) (2.2.3)\n",
            "Requirement already satisfied: certifi>=2017.4.17 in /usr/local/lib/python3.10/dist-packages (from requests->huggingface_hub>=0.21.0->accelerate==1.2.0.dev0) (2024.12.14)\n"
          ]
        }
      ]
    },
    {
      "cell_type": "code",
      "source": [
        "pip install --upgrade transformers"
      ],
      "metadata": {
        "colab": {
          "base_uri": "https://localhost:8080/",
          "height": 849
        },
        "id": "TPeaOWu00ImU",
        "outputId": "90619ae1-31d0-4c00-ed26-e3ae0e3d5c03"
      },
      "execution_count": 13,
      "outputs": [
        {
          "output_type": "stream",
          "name": "stdout",
          "text": [
            "Requirement already satisfied: transformers in /usr/local/lib/python3.10/dist-packages (4.46.3)\n",
            "Collecting transformers\n",
            "  Using cached transformers-4.47.1-py3-none-any.whl.metadata (44 kB)\n",
            "Requirement already satisfied: filelock in /usr/local/lib/python3.10/dist-packages (from transformers) (3.16.1)\n",
            "Collecting huggingface-hub<1.0,>=0.24.0 (from transformers)\n",
            "  Using cached huggingface_hub-0.27.0-py3-none-any.whl.metadata (13 kB)\n",
            "Requirement already satisfied: numpy>=1.17 in /usr/local/lib/python3.10/dist-packages (from transformers) (1.26.4)\n",
            "Requirement already satisfied: packaging>=20.0 in /usr/local/lib/python3.10/dist-packages (from transformers) (24.2)\n",
            "Requirement already satisfied: pyyaml>=5.1 in /usr/local/lib/python3.10/dist-packages (from transformers) (6.0.2)\n",
            "Requirement already satisfied: regex!=2019.12.17 in /usr/local/lib/python3.10/dist-packages (from transformers) (2024.11.6)\n",
            "Requirement already satisfied: requests in /usr/local/lib/python3.10/dist-packages (from transformers) (2.32.3)\n",
            "Collecting tokenizers<0.22,>=0.21 (from transformers)\n",
            "  Using cached tokenizers-0.21.0-cp39-abi3-manylinux_2_17_x86_64.manylinux2014_x86_64.whl.metadata (6.7 kB)\n",
            "Requirement already satisfied: safetensors>=0.4.1 in /usr/local/lib/python3.10/dist-packages (from transformers) (0.4.5)\n",
            "Requirement already satisfied: tqdm>=4.27 in /usr/local/lib/python3.10/dist-packages (from transformers) (4.67.1)\n",
            "Requirement already satisfied: fsspec>=2023.5.0 in /usr/local/lib/python3.10/dist-packages (from huggingface-hub<1.0,>=0.24.0->transformers) (2024.10.0)\n",
            "Requirement already satisfied: typing-extensions>=3.7.4.3 in /usr/local/lib/python3.10/dist-packages (from huggingface-hub<1.0,>=0.24.0->transformers) (4.12.2)\n",
            "Requirement already satisfied: charset-normalizer<4,>=2 in /usr/local/lib/python3.10/dist-packages (from requests->transformers) (3.4.0)\n",
            "Requirement already satisfied: idna<4,>=2.5 in /usr/local/lib/python3.10/dist-packages (from requests->transformers) (3.10)\n",
            "Requirement already satisfied: urllib3<3,>=1.21.1 in /usr/local/lib/python3.10/dist-packages (from requests->transformers) (2.2.3)\n",
            "Requirement already satisfied: certifi>=2017.4.17 in /usr/local/lib/python3.10/dist-packages (from requests->transformers) (2024.12.14)\n",
            "Using cached transformers-4.47.1-py3-none-any.whl (10.1 MB)\n",
            "Using cached huggingface_hub-0.27.0-py3-none-any.whl (450 kB)\n",
            "Using cached tokenizers-0.21.0-cp39-abi3-manylinux_2_17_x86_64.manylinux2014_x86_64.whl (3.0 MB)\n",
            "Installing collected packages: huggingface-hub, tokenizers, transformers\n",
            "  Attempting uninstall: huggingface-hub\n",
            "    Found existing installation: huggingface-hub 0.23.5\n",
            "    Uninstalling huggingface-hub-0.23.5:\n",
            "      Successfully uninstalled huggingface-hub-0.23.5\n",
            "  Attempting uninstall: tokenizers\n",
            "    Found existing installation: tokenizers 0.20.3\n",
            "    Uninstalling tokenizers-0.20.3:\n",
            "      Successfully uninstalled tokenizers-0.20.3\n",
            "  Attempting uninstall: transformers\n",
            "    Found existing installation: transformers 4.46.3\n",
            "    Uninstalling transformers-4.46.3:\n",
            "      Successfully uninstalled transformers-4.46.3\n",
            "\u001b[31mERROR: pip's dependency resolver does not currently take into account all the packages that are installed. This behaviour is the source of the following dependency conflicts.\n",
            "llama-index-llms-huggingface 0.4.1 requires huggingface-hub<0.24.0,>=0.23.0, but you have huggingface-hub 0.27.0 which is incompatible.\u001b[0m\u001b[31m\n",
            "\u001b[0mSuccessfully installed huggingface-hub-0.27.0 tokenizers-0.21.0 transformers-4.47.1\n"
          ]
        },
        {
          "output_type": "display_data",
          "data": {
            "application/vnd.colab-display-data+json": {
              "pip_warning": {
                "packages": [
                  "huggingface_hub",
                  "transformers"
                ]
              },
              "id": "375ea5a25375418cbebd3f860084d769"
            }
          },
          "metadata": {}
        }
      ]
    },
    {
      "cell_type": "code",
      "source": [
        "!pip install transformers==4.31.0\n",
        "!pip install accelerate==0.21.0"
      ],
      "metadata": {
        "colab": {
          "base_uri": "https://localhost:8080/",
          "height": 1000
        },
        "id": "tRIeyKkVA8dj",
        "outputId": "5cfadc71-810c-4ce9-d958-9383348aa7bc"
      },
      "execution_count": 16,
      "outputs": [
        {
          "output_type": "stream",
          "name": "stdout",
          "text": [
            "Collecting transformers==4.31.0\n",
            "  Downloading transformers-4.31.0-py3-none-any.whl.metadata (116 kB)\n",
            "\u001b[?25l     \u001b[90m━━━━━━━━━━━━━━━━━━━━━━━━━━━━━━━━━━━━━━━━\u001b[0m \u001b[32m0.0/116.9 kB\u001b[0m \u001b[31m?\u001b[0m eta \u001b[36m-:--:--\u001b[0m\r\u001b[2K     \u001b[90m━━━━━━━━━━━━━━━━━━━━━━━━━━━━━━━━━━━━━━━━\u001b[0m \u001b[32m116.9/116.9 kB\u001b[0m \u001b[31m3.5 MB/s\u001b[0m eta \u001b[36m0:00:00\u001b[0m\n",
            "\u001b[?25hRequirement already satisfied: filelock in /usr/local/lib/python3.10/dist-packages (from transformers==4.31.0) (3.16.1)\n",
            "Requirement already satisfied: huggingface-hub<1.0,>=0.14.1 in /usr/local/lib/python3.10/dist-packages (from transformers==4.31.0) (0.27.0)\n",
            "Requirement already satisfied: numpy>=1.17 in /usr/local/lib/python3.10/dist-packages (from transformers==4.31.0) (1.26.4)\n",
            "Requirement already satisfied: packaging>=20.0 in /usr/local/lib/python3.10/dist-packages (from transformers==4.31.0) (24.2)\n",
            "Requirement already satisfied: pyyaml>=5.1 in /usr/local/lib/python3.10/dist-packages (from transformers==4.31.0) (6.0.2)\n",
            "Requirement already satisfied: regex!=2019.12.17 in /usr/local/lib/python3.10/dist-packages (from transformers==4.31.0) (2024.11.6)\n",
            "Requirement already satisfied: requests in /usr/local/lib/python3.10/dist-packages (from transformers==4.31.0) (2.32.3)\n",
            "Collecting tokenizers!=0.11.3,<0.14,>=0.11.1 (from transformers==4.31.0)\n",
            "  Downloading tokenizers-0.13.3-cp310-cp310-manylinux_2_17_x86_64.manylinux2014_x86_64.whl.metadata (6.7 kB)\n",
            "Requirement already satisfied: safetensors>=0.3.1 in /usr/local/lib/python3.10/dist-packages (from transformers==4.31.0) (0.4.5)\n",
            "Requirement already satisfied: tqdm>=4.27 in /usr/local/lib/python3.10/dist-packages (from transformers==4.31.0) (4.67.1)\n",
            "Requirement already satisfied: fsspec>=2023.5.0 in /usr/local/lib/python3.10/dist-packages (from huggingface-hub<1.0,>=0.14.1->transformers==4.31.0) (2024.10.0)\n",
            "Requirement already satisfied: typing-extensions>=3.7.4.3 in /usr/local/lib/python3.10/dist-packages (from huggingface-hub<1.0,>=0.14.1->transformers==4.31.0) (4.12.2)\n",
            "Requirement already satisfied: charset-normalizer<4,>=2 in /usr/local/lib/python3.10/dist-packages (from requests->transformers==4.31.0) (3.4.0)\n",
            "Requirement already satisfied: idna<4,>=2.5 in /usr/local/lib/python3.10/dist-packages (from requests->transformers==4.31.0) (3.10)\n",
            "Requirement already satisfied: urllib3<3,>=1.21.1 in /usr/local/lib/python3.10/dist-packages (from requests->transformers==4.31.0) (2.2.3)\n",
            "Requirement already satisfied: certifi>=2017.4.17 in /usr/local/lib/python3.10/dist-packages (from requests->transformers==4.31.0) (2024.12.14)\n",
            "Downloading transformers-4.31.0-py3-none-any.whl (7.4 MB)\n",
            "\u001b[2K   \u001b[90m━━━━━━━━━━━━━━━━━━━━━━━━━━━━━━━━━━━━━━━━\u001b[0m \u001b[32m7.4/7.4 MB\u001b[0m \u001b[31m59.0 MB/s\u001b[0m eta \u001b[36m0:00:00\u001b[0m\n",
            "\u001b[?25hDownloading tokenizers-0.13.3-cp310-cp310-manylinux_2_17_x86_64.manylinux2014_x86_64.whl (7.8 MB)\n",
            "\u001b[2K   \u001b[90m━━━━━━━━━━━━━━━━━━━━━━━━━━━━━━━━━━━━━━━━\u001b[0m \u001b[32m7.8/7.8 MB\u001b[0m \u001b[31m79.2 MB/s\u001b[0m eta \u001b[36m0:00:00\u001b[0m\n",
            "\u001b[?25hInstalling collected packages: tokenizers, transformers\n",
            "  Attempting uninstall: tokenizers\n",
            "    Found existing installation: tokenizers 0.21.0\n",
            "    Uninstalling tokenizers-0.21.0:\n",
            "      Successfully uninstalled tokenizers-0.21.0\n",
            "  Attempting uninstall: transformers\n",
            "    Found existing installation: transformers 4.47.1\n",
            "    Uninstalling transformers-4.47.1:\n",
            "      Successfully uninstalled transformers-4.47.1\n",
            "\u001b[31mERROR: pip's dependency resolver does not currently take into account all the packages that are installed. This behaviour is the source of the following dependency conflicts.\n",
            "llama-index-llms-huggingface 0.4.1 requires huggingface-hub<0.24.0,>=0.23.0, but you have huggingface-hub 0.27.0 which is incompatible.\n",
            "llama-index-llms-huggingface 0.4.1 requires transformers[torch]<5.0.0,>=4.37.0, but you have transformers 4.31.0 which is incompatible.\n",
            "sentence-transformers 3.3.1 requires transformers<5.0.0,>=4.41.0, but you have transformers 4.31.0 which is incompatible.\u001b[0m\u001b[31m\n",
            "\u001b[0mSuccessfully installed tokenizers-0.13.3 transformers-4.31.0\n"
          ]
        },
        {
          "output_type": "display_data",
          "data": {
            "application/vnd.colab-display-data+json": {
              "pip_warning": {
                "packages": [
                  "tokenizers",
                  "transformers"
                ]
              },
              "id": "fecace97a87e45af8689654bbf81ac7c"
            }
          },
          "metadata": {}
        },
        {
          "output_type": "stream",
          "name": "stdout",
          "text": [
            "Collecting accelerate==0.21.0\n",
            "  Downloading accelerate-0.21.0-py3-none-any.whl.metadata (17 kB)\n",
            "Requirement already satisfied: numpy>=1.17 in /usr/local/lib/python3.10/dist-packages (from accelerate==0.21.0) (1.26.4)\n",
            "Requirement already satisfied: packaging>=20.0 in /usr/local/lib/python3.10/dist-packages (from accelerate==0.21.0) (24.2)\n",
            "Requirement already satisfied: psutil in /usr/local/lib/python3.10/dist-packages (from accelerate==0.21.0) (5.9.5)\n",
            "Requirement already satisfied: pyyaml in /usr/local/lib/python3.10/dist-packages (from accelerate==0.21.0) (6.0.2)\n",
            "Requirement already satisfied: torch>=1.10.0 in /usr/local/lib/python3.10/dist-packages (from accelerate==0.21.0) (2.5.1+cu121)\n",
            "Requirement already satisfied: filelock in /usr/local/lib/python3.10/dist-packages (from torch>=1.10.0->accelerate==0.21.0) (3.16.1)\n",
            "Requirement already satisfied: typing-extensions>=4.8.0 in /usr/local/lib/python3.10/dist-packages (from torch>=1.10.0->accelerate==0.21.0) (4.12.2)\n",
            "Requirement already satisfied: networkx in /usr/local/lib/python3.10/dist-packages (from torch>=1.10.0->accelerate==0.21.0) (3.4.2)\n",
            "Requirement already satisfied: jinja2 in /usr/local/lib/python3.10/dist-packages (from torch>=1.10.0->accelerate==0.21.0) (3.1.4)\n",
            "Requirement already satisfied: fsspec in /usr/local/lib/python3.10/dist-packages (from torch>=1.10.0->accelerate==0.21.0) (2024.10.0)\n",
            "Requirement already satisfied: sympy==1.13.1 in /usr/local/lib/python3.10/dist-packages (from torch>=1.10.0->accelerate==0.21.0) (1.13.1)\n",
            "Requirement already satisfied: mpmath<1.4,>=1.1.0 in /usr/local/lib/python3.10/dist-packages (from sympy==1.13.1->torch>=1.10.0->accelerate==0.21.0) (1.3.0)\n",
            "Requirement already satisfied: MarkupSafe>=2.0 in /usr/local/lib/python3.10/dist-packages (from jinja2->torch>=1.10.0->accelerate==0.21.0) (3.0.2)\n",
            "Downloading accelerate-0.21.0-py3-none-any.whl (244 kB)\n",
            "\u001b[2K   \u001b[90m━━━━━━━━━━━━━━━━━━━━━━━━━━━━━━━━━━━━━━━━\u001b[0m \u001b[32m244.2/244.2 kB\u001b[0m \u001b[31m1.4 MB/s\u001b[0m eta \u001b[36m0:00:00\u001b[0m\n",
            "\u001b[?25hInstalling collected packages: accelerate\n",
            "  Attempting uninstall: accelerate\n",
            "    Found existing installation: accelerate 1.2.0.dev0\n",
            "    Uninstalling accelerate-1.2.0.dev0:\n",
            "      Successfully uninstalled accelerate-1.2.0.dev0\n",
            "Successfully installed accelerate-0.21.0\n"
          ]
        },
        {
          "output_type": "display_data",
          "data": {
            "application/vnd.colab-display-data+json": {
              "pip_warning": {
                "packages": [
                  "accelerate"
                ]
              },
              "id": "52c68eb39f54448694ec33b8b11dc628"
            }
          },
          "metadata": {}
        }
      ]
    },
    {
      "cell_type": "markdown",
      "source": [],
      "metadata": {
        "id": "9DPViwO1v7Ym"
      }
    },
    {
      "cell_type": "code",
      "source": [
        "llm = HuggingFaceLLM(context_window=4096,\n",
        "                     max_new_tokens=256,\n",
        "                     generate_kwargs={\"temperature\":0.0,\"do_sample\": False },\n",
        "                     system_prompt=system_prompts,\n",
        "                     query_wrapper_prompt= query_wrapper_prompt,\n",
        "                     tokenizer_name=\"meta-llama/Llama-2-7b-chat-hf\",\n",
        "                     model_name=\"meta-llama/Llama-2-7b-chat-hf\",\n",
        "                     device_map=\"auto\",\n",
        "                     tokenizer_kwargs={\"trust_remote_code\": True},\n",
        "                     model_kwargs={\"torch_dtype\": torch.float16})\n",
        "\n",
        ""
      ],
      "metadata": {
        "colab": {
          "base_uri": "https://localhost:8080/",
          "height": 87,
          "referenced_widgets": [
            "158a688062a94bf4b83bcb3fd7a17369",
            "28d950a0b4664f8aa03d002c40dc2a99",
            "0ac0a4dfabe949ef9e1e468908c7af28",
            "8b3444c390b94bdab715038cd0e0b54c",
            "32a23aa8b2b044d9aaa165dc2e256985",
            "5a74e5c070264c2187f0b3aaed9fd615",
            "f0f5274e58874b338697c067d816ec61",
            "98ea86c7d09142f68582b7a90ee365b0",
            "487879fe6c8848e9b5bcc5778102fef7",
            "8c92d442f59c4652a05f4ca5928042ba",
            "ff7c1082e5b14711a0420f82a1e6a14c"
          ]
        },
        "id": "OPGFRc6HvFfk",
        "outputId": "7e7b1282-8563-445a-b355-524a1929c731"
      },
      "execution_count": 52,
      "outputs": [
        {
          "output_type": "display_data",
          "data": {
            "text/plain": [
              "Loading checkpoint shards:   0%|          | 0/2 [00:00<?, ?it/s]"
            ],
            "application/vnd.jupyter.widget-view+json": {
              "version_major": 2,
              "version_minor": 0,
              "model_id": "158a688062a94bf4b83bcb3fd7a17369"
            }
          },
          "metadata": {}
        },
        {
          "output_type": "stream",
          "name": "stderr",
          "text": [
            "WARNING:accelerate.big_modeling:Some parameters are on the meta device because they were offloaded to the disk and cpu.\n"
          ]
        }
      ]
    },
    {
      "cell_type": "code",
      "source": [
        "!pip install peft"
      ],
      "metadata": {
        "colab": {
          "base_uri": "https://localhost:8080/"
        },
        "id": "qZTTivXKBVaN",
        "outputId": "5a4c684b-00f9-4ee2-ed51-2dd2549b4910"
      },
      "execution_count": 19,
      "outputs": [
        {
          "output_type": "stream",
          "name": "stdout",
          "text": [
            "Requirement already satisfied: peft in /usr/local/lib/python3.10/dist-packages (0.14.0)\n",
            "Requirement already satisfied: numpy>=1.17 in /usr/local/lib/python3.10/dist-packages (from peft) (1.26.4)\n",
            "Requirement already satisfied: packaging>=20.0 in /usr/local/lib/python3.10/dist-packages (from peft) (24.2)\n",
            "Requirement already satisfied: psutil in /usr/local/lib/python3.10/dist-packages (from peft) (5.9.5)\n",
            "Requirement already satisfied: pyyaml in /usr/local/lib/python3.10/dist-packages (from peft) (6.0.2)\n",
            "Requirement already satisfied: torch>=1.13.0 in /usr/local/lib/python3.10/dist-packages (from peft) (2.5.1+cu121)\n",
            "Requirement already satisfied: transformers in /usr/local/lib/python3.10/dist-packages (from peft) (4.31.0)\n",
            "Requirement already satisfied: tqdm in /usr/local/lib/python3.10/dist-packages (from peft) (4.67.1)\n",
            "Requirement already satisfied: accelerate>=0.21.0 in /usr/local/lib/python3.10/dist-packages (from peft) (0.21.0)\n",
            "Requirement already satisfied: safetensors in /usr/local/lib/python3.10/dist-packages (from peft) (0.4.5)\n",
            "Requirement already satisfied: huggingface-hub>=0.25.0 in /usr/local/lib/python3.10/dist-packages (from peft) (0.27.0)\n",
            "Requirement already satisfied: filelock in /usr/local/lib/python3.10/dist-packages (from huggingface-hub>=0.25.0->peft) (3.16.1)\n",
            "Requirement already satisfied: fsspec>=2023.5.0 in /usr/local/lib/python3.10/dist-packages (from huggingface-hub>=0.25.0->peft) (2024.10.0)\n",
            "Requirement already satisfied: requests in /usr/local/lib/python3.10/dist-packages (from huggingface-hub>=0.25.0->peft) (2.32.3)\n",
            "Requirement already satisfied: typing-extensions>=3.7.4.3 in /usr/local/lib/python3.10/dist-packages (from huggingface-hub>=0.25.0->peft) (4.12.2)\n",
            "Requirement already satisfied: networkx in /usr/local/lib/python3.10/dist-packages (from torch>=1.13.0->peft) (3.4.2)\n",
            "Requirement already satisfied: jinja2 in /usr/local/lib/python3.10/dist-packages (from torch>=1.13.0->peft) (3.1.4)\n",
            "Requirement already satisfied: sympy==1.13.1 in /usr/local/lib/python3.10/dist-packages (from torch>=1.13.0->peft) (1.13.1)\n",
            "Requirement already satisfied: mpmath<1.4,>=1.1.0 in /usr/local/lib/python3.10/dist-packages (from sympy==1.13.1->torch>=1.13.0->peft) (1.3.0)\n",
            "Requirement already satisfied: regex!=2019.12.17 in /usr/local/lib/python3.10/dist-packages (from transformers->peft) (2024.11.6)\n",
            "Requirement already satisfied: tokenizers!=0.11.3,<0.14,>=0.11.1 in /usr/local/lib/python3.10/dist-packages (from transformers->peft) (0.13.3)\n",
            "Requirement already satisfied: MarkupSafe>=2.0 in /usr/local/lib/python3.10/dist-packages (from jinja2->torch>=1.13.0->peft) (3.0.2)\n",
            "Requirement already satisfied: charset-normalizer<4,>=2 in /usr/local/lib/python3.10/dist-packages (from requests->huggingface-hub>=0.25.0->peft) (3.4.0)\n",
            "Requirement already satisfied: idna<4,>=2.5 in /usr/local/lib/python3.10/dist-packages (from requests->huggingface-hub>=0.25.0->peft) (3.10)\n",
            "Requirement already satisfied: urllib3<3,>=1.21.1 in /usr/local/lib/python3.10/dist-packages (from requests->huggingface-hub>=0.25.0->peft) (2.2.3)\n",
            "Requirement already satisfied: certifi>=2017.4.17 in /usr/local/lib/python3.10/dist-packages (from requests->huggingface-hub>=0.25.0->peft) (2024.12.14)\n"
          ]
        }
      ]
    },
    {
      "cell_type": "code",
      "source": [
        "!pip install --upgrade huggingface_hub"
      ],
      "metadata": {
        "colab": {
          "base_uri": "https://localhost:8080/"
        },
        "id": "9no-pQA2Bhp_",
        "outputId": "de0a953d-ae02-4ad7-fbbf-1c6e2145f477"
      },
      "execution_count": 21,
      "outputs": [
        {
          "output_type": "stream",
          "name": "stdout",
          "text": [
            "Requirement already satisfied: huggingface_hub in /usr/local/lib/python3.10/dist-packages (0.27.0)\n",
            "Requirement already satisfied: filelock in /usr/local/lib/python3.10/dist-packages (from huggingface_hub) (3.16.1)\n",
            "Requirement already satisfied: fsspec>=2023.5.0 in /usr/local/lib/python3.10/dist-packages (from huggingface_hub) (2024.10.0)\n",
            "Requirement already satisfied: packaging>=20.9 in /usr/local/lib/python3.10/dist-packages (from huggingface_hub) (24.2)\n",
            "Requirement already satisfied: pyyaml>=5.1 in /usr/local/lib/python3.10/dist-packages (from huggingface_hub) (6.0.2)\n",
            "Requirement already satisfied: requests in /usr/local/lib/python3.10/dist-packages (from huggingface_hub) (2.32.3)\n",
            "Requirement already satisfied: tqdm>=4.42.1 in /usr/local/lib/python3.10/dist-packages (from huggingface_hub) (4.67.1)\n",
            "Requirement already satisfied: typing-extensions>=3.7.4.3 in /usr/local/lib/python3.10/dist-packages (from huggingface_hub) (4.12.2)\n",
            "Requirement already satisfied: charset-normalizer<4,>=2 in /usr/local/lib/python3.10/dist-packages (from requests->huggingface_hub) (3.4.0)\n",
            "Requirement already satisfied: idna<4,>=2.5 in /usr/local/lib/python3.10/dist-packages (from requests->huggingface_hub) (3.10)\n",
            "Requirement already satisfied: urllib3<3,>=1.21.1 in /usr/local/lib/python3.10/dist-packages (from requests->huggingface_hub) (2.2.3)\n",
            "Requirement already satisfied: certifi>=2017.4.17 in /usr/local/lib/python3.10/dist-packages (from requests->huggingface_hub) (2024.12.14)\n"
          ]
        }
      ]
    },
    {
      "cell_type": "code",
      "source": [
        "!pip uninstall huggingface_hub peft transformers -y\n"
      ],
      "metadata": {
        "colab": {
          "base_uri": "https://localhost:8080/"
        },
        "id": "843f23YoBxLy",
        "outputId": "e8b3ccc9-79ec-4670-90bd-3b0eb4d124b7"
      },
      "execution_count": 23,
      "outputs": [
        {
          "output_type": "stream",
          "name": "stdout",
          "text": [
            "Found existing installation: huggingface-hub 0.27.0\n",
            "Uninstalling huggingface-hub-0.27.0:\n",
            "  Successfully uninstalled huggingface-hub-0.27.0\n",
            "Found existing installation: peft 0.14.0\n",
            "Uninstalling peft-0.14.0:\n",
            "  Successfully uninstalled peft-0.14.0\n",
            "Found existing installation: transformers 4.31.0\n",
            "Uninstalling transformers-4.31.0:\n",
            "  Successfully uninstalled transformers-4.31.0\n"
          ]
        }
      ]
    },
    {
      "cell_type": "code",
      "source": [
        "!pip install huggingface_hub==0.16.4\n",
        "!pip install transformers==4.31.0\n",
        "!pip install peft==0.4.0"
      ],
      "metadata": {
        "colab": {
          "base_uri": "https://localhost:8080/",
          "height": 1000
        },
        "id": "qna3VhelBzR7",
        "outputId": "44731298-c084-4359-b75b-b2665fe349c9"
      },
      "execution_count": 24,
      "outputs": [
        {
          "output_type": "stream",
          "name": "stdout",
          "text": [
            "Collecting huggingface_hub==0.16.4\n",
            "  Downloading huggingface_hub-0.16.4-py3-none-any.whl.metadata (12 kB)\n",
            "Requirement already satisfied: filelock in /usr/local/lib/python3.10/dist-packages (from huggingface_hub==0.16.4) (3.16.1)\n",
            "Requirement already satisfied: fsspec in /usr/local/lib/python3.10/dist-packages (from huggingface_hub==0.16.4) (2024.10.0)\n",
            "Requirement already satisfied: requests in /usr/local/lib/python3.10/dist-packages (from huggingface_hub==0.16.4) (2.32.3)\n",
            "Requirement already satisfied: tqdm>=4.42.1 in /usr/local/lib/python3.10/dist-packages (from huggingface_hub==0.16.4) (4.67.1)\n",
            "Requirement already satisfied: pyyaml>=5.1 in /usr/local/lib/python3.10/dist-packages (from huggingface_hub==0.16.4) (6.0.2)\n",
            "Requirement already satisfied: typing-extensions>=3.7.4.3 in /usr/local/lib/python3.10/dist-packages (from huggingface_hub==0.16.4) (4.12.2)\n",
            "Requirement already satisfied: packaging>=20.9 in /usr/local/lib/python3.10/dist-packages (from huggingface_hub==0.16.4) (24.2)\n",
            "Requirement already satisfied: charset-normalizer<4,>=2 in /usr/local/lib/python3.10/dist-packages (from requests->huggingface_hub==0.16.4) (3.4.0)\n",
            "Requirement already satisfied: idna<4,>=2.5 in /usr/local/lib/python3.10/dist-packages (from requests->huggingface_hub==0.16.4) (3.10)\n",
            "Requirement already satisfied: urllib3<3,>=1.21.1 in /usr/local/lib/python3.10/dist-packages (from requests->huggingface_hub==0.16.4) (2.2.3)\n",
            "Requirement already satisfied: certifi>=2017.4.17 in /usr/local/lib/python3.10/dist-packages (from requests->huggingface_hub==0.16.4) (2024.12.14)\n",
            "Downloading huggingface_hub-0.16.4-py3-none-any.whl (268 kB)\n",
            "\u001b[2K   \u001b[90m━━━━━━━━━━━━━━━━━━━━━━━━━━━━━━━━━━━━━━━━\u001b[0m \u001b[32m268.8/268.8 kB\u001b[0m \u001b[31m4.7 MB/s\u001b[0m eta \u001b[36m0:00:00\u001b[0m\n",
            "\u001b[?25hInstalling collected packages: huggingface_hub\n",
            "\u001b[31mERROR: pip's dependency resolver does not currently take into account all the packages that are installed. This behaviour is the source of the following dependency conflicts.\n",
            "llama-index-llms-huggingface 0.4.1 requires transformers[torch]<5.0.0,>=4.37.0, which is not installed.\n",
            "sentence-transformers 3.3.1 requires transformers<5.0.0,>=4.41.0, which is not installed.\n",
            "diffusers 0.31.0 requires huggingface-hub>=0.23.2, but you have huggingface-hub 0.16.4 which is incompatible.\n",
            "llama-index-llms-huggingface 0.4.1 requires huggingface-hub<0.24.0,>=0.23.0, but you have huggingface-hub 0.16.4 which is incompatible.\n",
            "sentence-transformers 3.3.1 requires huggingface-hub>=0.20.0, but you have huggingface-hub 0.16.4 which is incompatible.\u001b[0m\u001b[31m\n",
            "\u001b[0mSuccessfully installed huggingface_hub-0.16.4\n"
          ]
        },
        {
          "output_type": "display_data",
          "data": {
            "application/vnd.colab-display-data+json": {
              "pip_warning": {
                "packages": [
                  "huggingface_hub"
                ]
              },
              "id": "c5ec2384ee9d437588c597f80901267a"
            }
          },
          "metadata": {}
        },
        {
          "output_type": "stream",
          "name": "stdout",
          "text": [
            "Collecting transformers==4.31.0\n",
            "  Using cached transformers-4.31.0-py3-none-any.whl.metadata (116 kB)\n",
            "Requirement already satisfied: filelock in /usr/local/lib/python3.10/dist-packages (from transformers==4.31.0) (3.16.1)\n",
            "Requirement already satisfied: huggingface-hub<1.0,>=0.14.1 in /usr/local/lib/python3.10/dist-packages (from transformers==4.31.0) (0.16.4)\n",
            "Requirement already satisfied: numpy>=1.17 in /usr/local/lib/python3.10/dist-packages (from transformers==4.31.0) (1.26.4)\n",
            "Requirement already satisfied: packaging>=20.0 in /usr/local/lib/python3.10/dist-packages (from transformers==4.31.0) (24.2)\n",
            "Requirement already satisfied: pyyaml>=5.1 in /usr/local/lib/python3.10/dist-packages (from transformers==4.31.0) (6.0.2)\n",
            "Requirement already satisfied: regex!=2019.12.17 in /usr/local/lib/python3.10/dist-packages (from transformers==4.31.0) (2024.11.6)\n",
            "Requirement already satisfied: requests in /usr/local/lib/python3.10/dist-packages (from transformers==4.31.0) (2.32.3)\n",
            "Requirement already satisfied: tokenizers!=0.11.3,<0.14,>=0.11.1 in /usr/local/lib/python3.10/dist-packages (from transformers==4.31.0) (0.13.3)\n",
            "Requirement already satisfied: safetensors>=0.3.1 in /usr/local/lib/python3.10/dist-packages (from transformers==4.31.0) (0.4.5)\n",
            "Requirement already satisfied: tqdm>=4.27 in /usr/local/lib/python3.10/dist-packages (from transformers==4.31.0) (4.67.1)\n",
            "Requirement already satisfied: fsspec in /usr/local/lib/python3.10/dist-packages (from huggingface-hub<1.0,>=0.14.1->transformers==4.31.0) (2024.10.0)\n",
            "Requirement already satisfied: typing-extensions>=3.7.4.3 in /usr/local/lib/python3.10/dist-packages (from huggingface-hub<1.0,>=0.14.1->transformers==4.31.0) (4.12.2)\n",
            "Requirement already satisfied: charset-normalizer<4,>=2 in /usr/local/lib/python3.10/dist-packages (from requests->transformers==4.31.0) (3.4.0)\n",
            "Requirement already satisfied: idna<4,>=2.5 in /usr/local/lib/python3.10/dist-packages (from requests->transformers==4.31.0) (3.10)\n",
            "Requirement already satisfied: urllib3<3,>=1.21.1 in /usr/local/lib/python3.10/dist-packages (from requests->transformers==4.31.0) (2.2.3)\n",
            "Requirement already satisfied: certifi>=2017.4.17 in /usr/local/lib/python3.10/dist-packages (from requests->transformers==4.31.0) (2024.12.14)\n",
            "Using cached transformers-4.31.0-py3-none-any.whl (7.4 MB)\n",
            "Installing collected packages: transformers\n",
            "\u001b[31mERROR: pip's dependency resolver does not currently take into account all the packages that are installed. This behaviour is the source of the following dependency conflicts.\n",
            "llama-index-llms-huggingface 0.4.1 requires huggingface-hub<0.24.0,>=0.23.0, but you have huggingface-hub 0.16.4 which is incompatible.\n",
            "llama-index-llms-huggingface 0.4.1 requires transformers[torch]<5.0.0,>=4.37.0, but you have transformers 4.31.0 which is incompatible.\n",
            "sentence-transformers 3.3.1 requires huggingface-hub>=0.20.0, but you have huggingface-hub 0.16.4 which is incompatible.\n",
            "sentence-transformers 3.3.1 requires transformers<5.0.0,>=4.41.0, but you have transformers 4.31.0 which is incompatible.\u001b[0m\u001b[31m\n",
            "\u001b[0mSuccessfully installed transformers-4.31.0\n"
          ]
        },
        {
          "output_type": "display_data",
          "data": {
            "application/vnd.colab-display-data+json": {
              "pip_warning": {
                "packages": [
                  "transformers"
                ]
              },
              "id": "49fbeac95f6c4b519326c4cfd7b48c91"
            }
          },
          "metadata": {}
        },
        {
          "output_type": "stream",
          "name": "stdout",
          "text": [
            "Collecting peft==0.4.0\n",
            "  Downloading peft-0.4.0-py3-none-any.whl.metadata (21 kB)\n",
            "Requirement already satisfied: numpy>=1.17 in /usr/local/lib/python3.10/dist-packages (from peft==0.4.0) (1.26.4)\n",
            "Requirement already satisfied: packaging>=20.0 in /usr/local/lib/python3.10/dist-packages (from peft==0.4.0) (24.2)\n",
            "Requirement already satisfied: psutil in /usr/local/lib/python3.10/dist-packages (from peft==0.4.0) (5.9.5)\n",
            "Requirement already satisfied: pyyaml in /usr/local/lib/python3.10/dist-packages (from peft==0.4.0) (6.0.2)\n",
            "Requirement already satisfied: torch>=1.13.0 in /usr/local/lib/python3.10/dist-packages (from peft==0.4.0) (2.5.1+cu121)\n",
            "Requirement already satisfied: transformers in /usr/local/lib/python3.10/dist-packages (from peft==0.4.0) (4.31.0)\n",
            "Requirement already satisfied: accelerate in /usr/local/lib/python3.10/dist-packages (from peft==0.4.0) (0.21.0)\n",
            "Requirement already satisfied: safetensors in /usr/local/lib/python3.10/dist-packages (from peft==0.4.0) (0.4.5)\n",
            "Requirement already satisfied: filelock in /usr/local/lib/python3.10/dist-packages (from torch>=1.13.0->peft==0.4.0) (3.16.1)\n",
            "Requirement already satisfied: typing-extensions>=4.8.0 in /usr/local/lib/python3.10/dist-packages (from torch>=1.13.0->peft==0.4.0) (4.12.2)\n",
            "Requirement already satisfied: networkx in /usr/local/lib/python3.10/dist-packages (from torch>=1.13.0->peft==0.4.0) (3.4.2)\n",
            "Requirement already satisfied: jinja2 in /usr/local/lib/python3.10/dist-packages (from torch>=1.13.0->peft==0.4.0) (3.1.4)\n",
            "Requirement already satisfied: fsspec in /usr/local/lib/python3.10/dist-packages (from torch>=1.13.0->peft==0.4.0) (2024.10.0)\n",
            "Requirement already satisfied: sympy==1.13.1 in /usr/local/lib/python3.10/dist-packages (from torch>=1.13.0->peft==0.4.0) (1.13.1)\n",
            "Requirement already satisfied: mpmath<1.4,>=1.1.0 in /usr/local/lib/python3.10/dist-packages (from sympy==1.13.1->torch>=1.13.0->peft==0.4.0) (1.3.0)\n",
            "Requirement already satisfied: huggingface-hub<1.0,>=0.14.1 in /usr/local/lib/python3.10/dist-packages (from transformers->peft==0.4.0) (0.16.4)\n",
            "Requirement already satisfied: regex!=2019.12.17 in /usr/local/lib/python3.10/dist-packages (from transformers->peft==0.4.0) (2024.11.6)\n",
            "Requirement already satisfied: requests in /usr/local/lib/python3.10/dist-packages (from transformers->peft==0.4.0) (2.32.3)\n",
            "Requirement already satisfied: tokenizers!=0.11.3,<0.14,>=0.11.1 in /usr/local/lib/python3.10/dist-packages (from transformers->peft==0.4.0) (0.13.3)\n",
            "Requirement already satisfied: tqdm>=4.27 in /usr/local/lib/python3.10/dist-packages (from transformers->peft==0.4.0) (4.67.1)\n",
            "Requirement already satisfied: MarkupSafe>=2.0 in /usr/local/lib/python3.10/dist-packages (from jinja2->torch>=1.13.0->peft==0.4.0) (3.0.2)\n",
            "Requirement already satisfied: charset-normalizer<4,>=2 in /usr/local/lib/python3.10/dist-packages (from requests->transformers->peft==0.4.0) (3.4.0)\n",
            "Requirement already satisfied: idna<4,>=2.5 in /usr/local/lib/python3.10/dist-packages (from requests->transformers->peft==0.4.0) (3.10)\n",
            "Requirement already satisfied: urllib3<3,>=1.21.1 in /usr/local/lib/python3.10/dist-packages (from requests->transformers->peft==0.4.0) (2.2.3)\n",
            "Requirement already satisfied: certifi>=2017.4.17 in /usr/local/lib/python3.10/dist-packages (from requests->transformers->peft==0.4.0) (2024.12.14)\n",
            "Downloading peft-0.4.0-py3-none-any.whl (72 kB)\n",
            "\u001b[2K   \u001b[90m━━━━━━━━━━━━━━━━━━━━━━━━━━━━━━━━━━━━━━━━\u001b[0m \u001b[32m72.9/72.9 kB\u001b[0m \u001b[31m2.0 MB/s\u001b[0m eta \u001b[36m0:00:00\u001b[0m\n",
            "\u001b[?25hInstalling collected packages: peft\n",
            "Successfully installed peft-0.4.0\n"
          ]
        }
      ]
    },
    {
      "cell_type": "code",
      "source": [
        "from transformers import AutoModelForCausalLM, AutoTokenizer\n",
        "from peft import PeftModel\n",
        "\n",
        "# Load the base model and tokenizer\n",
        "base_model = AutoModelForCausalLM.from_pretrained(\n",
        "    \"meta-llama/Llama-2-7b-chat-hf\",\n",
        "      # Optional: Load in 8-bit for memory efficiency\n",
        "    device_map=\"auto\",\n",
        "    torch_dtype=torch.float16,\n",
        ")\n",
        "tokenizer = AutoTokenizer.from_pretrained(\n",
        "    \"meta-llama/Llama-2-7b-chat-hf\", trust_remote_code=True\n",
        ")\n",
        "\n",
        "# Load the LoRA adapter if you have one (replace with your adapter path)\n",
        "# adapter_path = \"your_adapter_path\"\n",
        "# model = PeftModel.from_pretrained(base_model, adapter_path)\n",
        "\n",
        "# If you don't have an adapter, just use the base model:\n",
        "model = base_model\n",
        "\n",
        "# Now, initialize HuggingFaceLLM with the loaded model and tokenizer\n",
        "llm = HuggingFaceLLM(\n",
        "    context_window=4096,\n",
        "    max_new_tokens=256,\n",
        "    generate_kwargs={\"temperature\": 0.0, \"do_sample\": False},\n",
        "    system_prompt=system_prompts,\n",
        "    query_wrapper_prompt=query_wrapper_prompt,\n",
        "    # Provide the loaded model and tokenizer directly\n",
        "    model=model,\n",
        "    tokenizer=tokenizer,\n",
        ")"
      ],
      "metadata": {
        "colab": {
          "base_uri": "https://localhost:8080/",
          "height": 472
        },
        "id": "NoOunfcfBQHW",
        "outputId": "2cc7ddab-4373-4b4e-c5e7-f68110f6500b"
      },
      "execution_count": 26,
      "outputs": [
        {
          "output_type": "error",
          "ename": "TypeError",
          "evalue": "LlamaForCausalLM.__init__() got an unexpected keyword argument 'adapter_kwargs'",
          "traceback": [
            "\u001b[0;31m---------------------------------------------------------------------------\u001b[0m",
            "\u001b[0;31mTypeError\u001b[0m                                 Traceback (most recent call last)",
            "\u001b[0;32m<ipython-input-26-1aa96b61fc75>\u001b[0m in \u001b[0;36m<cell line: 5>\u001b[0;34m()\u001b[0m\n\u001b[1;32m      3\u001b[0m \u001b[0;34m\u001b[0m\u001b[0m\n\u001b[1;32m      4\u001b[0m \u001b[0;31m# Load the base model and tokenizer\u001b[0m\u001b[0;34m\u001b[0m\u001b[0;34m\u001b[0m\u001b[0m\n\u001b[0;32m----> 5\u001b[0;31m base_model = AutoModelForCausalLM.from_pretrained(\n\u001b[0m\u001b[1;32m      6\u001b[0m     \u001b[0;34m\"meta-llama/Llama-2-7b-chat-hf\"\u001b[0m\u001b[0;34m,\u001b[0m\u001b[0;34m\u001b[0m\u001b[0;34m\u001b[0m\u001b[0m\n\u001b[1;32m      7\u001b[0m       \u001b[0;31m# Optional: Load in 8-bit for memory efficiency\u001b[0m\u001b[0;34m\u001b[0m\u001b[0;34m\u001b[0m\u001b[0m\n",
            "\u001b[0;32m/usr/local/lib/python3.10/dist-packages/transformers/models/auto/auto_factory.py\u001b[0m in \u001b[0;36mfrom_pretrained\u001b[0;34m(cls, pretrained_model_name_or_path, *model_args, **kwargs)\u001b[0m\n\u001b[1;32m    562\u001b[0m \u001b[0;34m\u001b[0m\u001b[0m\n\u001b[1;32m    563\u001b[0m \u001b[0;32mdef\u001b[0m \u001b[0minsert_head_doc\u001b[0m\u001b[0;34m(\u001b[0m\u001b[0mdocstring\u001b[0m\u001b[0;34m,\u001b[0m \u001b[0mhead_doc\u001b[0m\u001b[0;34m=\u001b[0m\u001b[0;34m\"\"\u001b[0m\u001b[0;34m)\u001b[0m\u001b[0;34m:\u001b[0m\u001b[0;34m\u001b[0m\u001b[0;34m\u001b[0m\u001b[0m\n\u001b[0;32m--> 564\u001b[0;31m     \u001b[0;32mif\u001b[0m \u001b[0mlen\u001b[0m\u001b[0;34m(\u001b[0m\u001b[0mhead_doc\u001b[0m\u001b[0;34m)\u001b[0m \u001b[0;34m>\u001b[0m \u001b[0;36m0\u001b[0m\u001b[0;34m:\u001b[0m\u001b[0;34m\u001b[0m\u001b[0;34m\u001b[0m\u001b[0m\n\u001b[0m\u001b[1;32m    565\u001b[0m         return docstring.replace(\n\u001b[1;32m    566\u001b[0m             \u001b[0;34m\"one of the model classes of the library \"\u001b[0m\u001b[0;34m,\u001b[0m\u001b[0;34m\u001b[0m\u001b[0;34m\u001b[0m\u001b[0m\n",
            "\u001b[0;32m/usr/local/lib/python3.10/dist-packages/transformers/modeling_utils.py\u001b[0m in \u001b[0;36mfrom_pretrained\u001b[0;34m(cls, pretrained_model_name_or_path, config, cache_dir, ignore_mismatched_sizes, force_download, local_files_only, token, revision, use_safetensors, *model_args, **kwargs)\u001b[0m\n\u001b[1;32m   2698\u001b[0m \u001b[0;34m\u001b[0m\u001b[0m\n\u001b[1;32m   2699\u001b[0m         \u001b[0;32mwith\u001b[0m \u001b[0mContextManagers\u001b[0m\u001b[0;34m(\u001b[0m\u001b[0minit_contexts\u001b[0m\u001b[0;34m)\u001b[0m\u001b[0;34m:\u001b[0m\u001b[0;34m\u001b[0m\u001b[0;34m\u001b[0m\u001b[0m\n\u001b[0;32m-> 2700\u001b[0;31m             \u001b[0mmodel\u001b[0m \u001b[0;34m=\u001b[0m \u001b[0mcls\u001b[0m\u001b[0;34m(\u001b[0m\u001b[0mconfig\u001b[0m\u001b[0;34m,\u001b[0m \u001b[0;34m*\u001b[0m\u001b[0mmodel_args\u001b[0m\u001b[0;34m,\u001b[0m \u001b[0;34m**\u001b[0m\u001b[0mmodel_kwargs\u001b[0m\u001b[0;34m)\u001b[0m\u001b[0;34m\u001b[0m\u001b[0;34m\u001b[0m\u001b[0m\n\u001b[0m\u001b[1;32m   2701\u001b[0m \u001b[0;34m\u001b[0m\u001b[0m\n\u001b[1;32m   2702\u001b[0m         \u001b[0;31m# Check first if we are `from_pt`\u001b[0m\u001b[0;34m\u001b[0m\u001b[0;34m\u001b[0m\u001b[0m\n",
            "\u001b[0;31mTypeError\u001b[0m: LlamaForCausalLM.__init__() got an unexpected keyword argument 'adapter_kwargs'"
          ]
        }
      ]
    },
    {
      "cell_type": "code",
      "source": [
        "!pip install -U langchain-community"
      ],
      "metadata": {
        "colab": {
          "base_uri": "https://localhost:8080/"
        },
        "id": "vpvwGtDq-sV6",
        "outputId": "b778be03-a88f-4553-d3e3-2daf164529c2"
      },
      "execution_count": 53,
      "outputs": [
        {
          "output_type": "stream",
          "name": "stdout",
          "text": [
            "Requirement already satisfied: langchain-community in /usr/local/lib/python3.10/dist-packages (0.3.13)\n",
            "Requirement already satisfied: PyYAML>=5.3 in /usr/local/lib/python3.10/dist-packages (from langchain-community) (6.0.2)\n",
            "Requirement already satisfied: SQLAlchemy<3,>=1.4 in /usr/local/lib/python3.10/dist-packages (from langchain-community) (2.0.36)\n",
            "Requirement already satisfied: aiohttp<4.0.0,>=3.8.3 in /usr/local/lib/python3.10/dist-packages (from langchain-community) (3.11.10)\n",
            "Requirement already satisfied: dataclasses-json<0.7,>=0.5.7 in /usr/local/lib/python3.10/dist-packages (from langchain-community) (0.6.7)\n",
            "Requirement already satisfied: httpx-sse<0.5.0,>=0.4.0 in /usr/local/lib/python3.10/dist-packages (from langchain-community) (0.4.0)\n",
            "Requirement already satisfied: langchain<0.4.0,>=0.3.13 in /usr/local/lib/python3.10/dist-packages (from langchain-community) (0.3.13)\n",
            "Requirement already satisfied: langchain-core<0.4.0,>=0.3.27 in /usr/local/lib/python3.10/dist-packages (from langchain-community) (0.3.28)\n",
            "Requirement already satisfied: langsmith<0.3,>=0.1.125 in /usr/local/lib/python3.10/dist-packages (from langchain-community) (0.2.3)\n",
            "Requirement already satisfied: numpy<2,>=1.22.4 in /usr/local/lib/python3.10/dist-packages (from langchain-community) (1.26.4)\n",
            "Requirement already satisfied: pydantic-settings<3.0.0,>=2.4.0 in /usr/local/lib/python3.10/dist-packages (from langchain-community) (2.7.0)\n",
            "Requirement already satisfied: requests<3,>=2 in /usr/local/lib/python3.10/dist-packages (from langchain-community) (2.32.3)\n",
            "Requirement already satisfied: tenacity!=8.4.0,<10,>=8.1.0 in /usr/local/lib/python3.10/dist-packages (from langchain-community) (9.0.0)\n",
            "Requirement already satisfied: aiohappyeyeballs>=2.3.0 in /usr/local/lib/python3.10/dist-packages (from aiohttp<4.0.0,>=3.8.3->langchain-community) (2.4.4)\n",
            "Requirement already satisfied: aiosignal>=1.1.2 in /usr/local/lib/python3.10/dist-packages (from aiohttp<4.0.0,>=3.8.3->langchain-community) (1.3.2)\n",
            "Requirement already satisfied: async-timeout<6.0,>=4.0 in /usr/local/lib/python3.10/dist-packages (from aiohttp<4.0.0,>=3.8.3->langchain-community) (4.0.3)\n",
            "Requirement already satisfied: attrs>=17.3.0 in /usr/local/lib/python3.10/dist-packages (from aiohttp<4.0.0,>=3.8.3->langchain-community) (24.3.0)\n",
            "Requirement already satisfied: frozenlist>=1.1.1 in /usr/local/lib/python3.10/dist-packages (from aiohttp<4.0.0,>=3.8.3->langchain-community) (1.5.0)\n",
            "Requirement already satisfied: multidict<7.0,>=4.5 in /usr/local/lib/python3.10/dist-packages (from aiohttp<4.0.0,>=3.8.3->langchain-community) (6.1.0)\n",
            "Requirement already satisfied: propcache>=0.2.0 in /usr/local/lib/python3.10/dist-packages (from aiohttp<4.0.0,>=3.8.3->langchain-community) (0.2.1)\n",
            "Requirement already satisfied: yarl<2.0,>=1.17.0 in /usr/local/lib/python3.10/dist-packages (from aiohttp<4.0.0,>=3.8.3->langchain-community) (1.18.3)\n",
            "Requirement already satisfied: marshmallow<4.0.0,>=3.18.0 in /usr/local/lib/python3.10/dist-packages (from dataclasses-json<0.7,>=0.5.7->langchain-community) (3.23.2)\n",
            "Requirement already satisfied: typing-inspect<1,>=0.4.0 in /usr/local/lib/python3.10/dist-packages (from dataclasses-json<0.7,>=0.5.7->langchain-community) (0.9.0)\n",
            "Requirement already satisfied: langchain-text-splitters<0.4.0,>=0.3.3 in /usr/local/lib/python3.10/dist-packages (from langchain<0.4.0,>=0.3.13->langchain-community) (0.3.3)\n",
            "Requirement already satisfied: pydantic<3.0.0,>=2.7.4 in /usr/local/lib/python3.10/dist-packages (from langchain<0.4.0,>=0.3.13->langchain-community) (2.10.3)\n",
            "Requirement already satisfied: jsonpatch<2.0,>=1.33 in /usr/local/lib/python3.10/dist-packages (from langchain-core<0.4.0,>=0.3.27->langchain-community) (1.33)\n",
            "Requirement already satisfied: packaging<25,>=23.2 in /usr/local/lib/python3.10/dist-packages (from langchain-core<0.4.0,>=0.3.27->langchain-community) (24.2)\n",
            "Requirement already satisfied: typing-extensions>=4.7 in /usr/local/lib/python3.10/dist-packages (from langchain-core<0.4.0,>=0.3.27->langchain-community) (4.12.2)\n",
            "Requirement already satisfied: httpx<1,>=0.23.0 in /usr/local/lib/python3.10/dist-packages (from langsmith<0.3,>=0.1.125->langchain-community) (0.28.1)\n",
            "Requirement already satisfied: orjson<4.0.0,>=3.9.14 in /usr/local/lib/python3.10/dist-packages (from langsmith<0.3,>=0.1.125->langchain-community) (3.10.12)\n",
            "Requirement already satisfied: requests-toolbelt<2.0.0,>=1.0.0 in /usr/local/lib/python3.10/dist-packages (from langsmith<0.3,>=0.1.125->langchain-community) (1.0.0)\n",
            "Requirement already satisfied: python-dotenv>=0.21.0 in /usr/local/lib/python3.10/dist-packages (from pydantic-settings<3.0.0,>=2.4.0->langchain-community) (1.0.1)\n",
            "Requirement already satisfied: charset-normalizer<4,>=2 in /usr/local/lib/python3.10/dist-packages (from requests<3,>=2->langchain-community) (3.4.0)\n",
            "Requirement already satisfied: idna<4,>=2.5 in /usr/local/lib/python3.10/dist-packages (from requests<3,>=2->langchain-community) (3.10)\n",
            "Requirement already satisfied: urllib3<3,>=1.21.1 in /usr/local/lib/python3.10/dist-packages (from requests<3,>=2->langchain-community) (2.2.3)\n",
            "Requirement already satisfied: certifi>=2017.4.17 in /usr/local/lib/python3.10/dist-packages (from requests<3,>=2->langchain-community) (2024.12.14)\n",
            "Requirement already satisfied: greenlet!=0.4.17 in /usr/local/lib/python3.10/dist-packages (from SQLAlchemy<3,>=1.4->langchain-community) (3.1.1)\n",
            "Requirement already satisfied: anyio in /usr/local/lib/python3.10/dist-packages (from httpx<1,>=0.23.0->langsmith<0.3,>=0.1.125->langchain-community) (3.7.1)\n",
            "Requirement already satisfied: httpcore==1.* in /usr/local/lib/python3.10/dist-packages (from httpx<1,>=0.23.0->langsmith<0.3,>=0.1.125->langchain-community) (1.0.7)\n",
            "Requirement already satisfied: h11<0.15,>=0.13 in /usr/local/lib/python3.10/dist-packages (from httpcore==1.*->httpx<1,>=0.23.0->langsmith<0.3,>=0.1.125->langchain-community) (0.14.0)\n",
            "Requirement already satisfied: jsonpointer>=1.9 in /usr/local/lib/python3.10/dist-packages (from jsonpatch<2.0,>=1.33->langchain-core<0.4.0,>=0.3.27->langchain-community) (3.0.0)\n",
            "Requirement already satisfied: annotated-types>=0.6.0 in /usr/local/lib/python3.10/dist-packages (from pydantic<3.0.0,>=2.7.4->langchain<0.4.0,>=0.3.13->langchain-community) (0.7.0)\n",
            "Requirement already satisfied: pydantic-core==2.27.1 in /usr/local/lib/python3.10/dist-packages (from pydantic<3.0.0,>=2.7.4->langchain<0.4.0,>=0.3.13->langchain-community) (2.27.1)\n",
            "Requirement already satisfied: mypy-extensions>=0.3.0 in /usr/local/lib/python3.10/dist-packages (from typing-inspect<1,>=0.4.0->dataclasses-json<0.7,>=0.5.7->langchain-community) (1.0.0)\n",
            "Requirement already satisfied: sniffio>=1.1 in /usr/local/lib/python3.10/dist-packages (from anyio->httpx<1,>=0.23.0->langsmith<0.3,>=0.1.125->langchain-community) (1.3.1)\n",
            "Requirement already satisfied: exceptiongroup in /usr/local/lib/python3.10/dist-packages (from anyio->httpx<1,>=0.23.0->langsmith<0.3,>=0.1.125->langchain-community) (1.2.2)\n"
          ]
        }
      ]
    },
    {
      "cell_type": "code",
      "source": [
        "from langchain.embeddings.huggingface import HuggingFaceEmbeddings\n",
        "from llama_index.core import  ServiceContext"
      ],
      "metadata": {
        "id": "lHgtHeRpvxUy"
      },
      "execution_count": 54,
      "outputs": []
    },
    {
      "cell_type": "code",
      "source": [
        "!pip install llama-index-embeddings-langchain\n",
        "\n",
        "from llama_index.embeddings.langchain import LangchainEmbedding"
      ],
      "metadata": {
        "colab": {
          "base_uri": "https://localhost:8080/"
        },
        "id": "lF8YK45p-Fgl",
        "outputId": "cae24e00-91c4-449b-d908-aab4fe9cb6e8"
      },
      "execution_count": 55,
      "outputs": [
        {
          "output_type": "stream",
          "name": "stdout",
          "text": [
            "Requirement already satisfied: llama-index-embeddings-langchain in /usr/local/lib/python3.10/dist-packages (0.3.0)\n",
            "Requirement already satisfied: llama-index-core<0.13.0,>=0.12.0 in /usr/local/lib/python3.10/dist-packages (from llama-index-embeddings-langchain) (0.12.8)\n",
            "Requirement already satisfied: PyYAML>=6.0.1 in /usr/local/lib/python3.10/dist-packages (from llama-index-core<0.13.0,>=0.12.0->llama-index-embeddings-langchain) (6.0.2)\n",
            "Requirement already satisfied: SQLAlchemy>=1.4.49 in /usr/local/lib/python3.10/dist-packages (from SQLAlchemy[asyncio]>=1.4.49->llama-index-core<0.13.0,>=0.12.0->llama-index-embeddings-langchain) (2.0.36)\n",
            "Requirement already satisfied: aiohttp<4.0.0,>=3.8.6 in /usr/local/lib/python3.10/dist-packages (from llama-index-core<0.13.0,>=0.12.0->llama-index-embeddings-langchain) (3.11.10)\n",
            "Requirement already satisfied: dataclasses-json in /usr/local/lib/python3.10/dist-packages (from llama-index-core<0.13.0,>=0.12.0->llama-index-embeddings-langchain) (0.6.7)\n",
            "Requirement already satisfied: deprecated>=1.2.9.3 in /usr/local/lib/python3.10/dist-packages (from llama-index-core<0.13.0,>=0.12.0->llama-index-embeddings-langchain) (1.2.15)\n",
            "Requirement already satisfied: dirtyjson<2.0.0,>=1.0.8 in /usr/local/lib/python3.10/dist-packages (from llama-index-core<0.13.0,>=0.12.0->llama-index-embeddings-langchain) (1.0.8)\n",
            "Requirement already satisfied: filetype<2.0.0,>=1.2.0 in /usr/local/lib/python3.10/dist-packages (from llama-index-core<0.13.0,>=0.12.0->llama-index-embeddings-langchain) (1.2.0)\n",
            "Requirement already satisfied: fsspec>=2023.5.0 in /usr/local/lib/python3.10/dist-packages (from llama-index-core<0.13.0,>=0.12.0->llama-index-embeddings-langchain) (2024.10.0)\n",
            "Requirement already satisfied: httpx in /usr/local/lib/python3.10/dist-packages (from llama-index-core<0.13.0,>=0.12.0->llama-index-embeddings-langchain) (0.28.1)\n",
            "Requirement already satisfied: nest-asyncio<2.0.0,>=1.5.8 in /usr/local/lib/python3.10/dist-packages (from llama-index-core<0.13.0,>=0.12.0->llama-index-embeddings-langchain) (1.6.0)\n",
            "Requirement already satisfied: networkx>=3.0 in /usr/local/lib/python3.10/dist-packages (from llama-index-core<0.13.0,>=0.12.0->llama-index-embeddings-langchain) (3.4.2)\n",
            "Requirement already satisfied: nltk>3.8.1 in /usr/local/lib/python3.10/dist-packages (from llama-index-core<0.13.0,>=0.12.0->llama-index-embeddings-langchain) (3.9.1)\n",
            "Requirement already satisfied: numpy in /usr/local/lib/python3.10/dist-packages (from llama-index-core<0.13.0,>=0.12.0->llama-index-embeddings-langchain) (1.26.4)\n",
            "Requirement already satisfied: pillow>=9.0.0 in /usr/local/lib/python3.10/dist-packages (from llama-index-core<0.13.0,>=0.12.0->llama-index-embeddings-langchain) (11.0.0)\n",
            "Requirement already satisfied: pydantic>=2.8.0 in /usr/local/lib/python3.10/dist-packages (from llama-index-core<0.13.0,>=0.12.0->llama-index-embeddings-langchain) (2.10.3)\n",
            "Requirement already satisfied: requests>=2.31.0 in /usr/local/lib/python3.10/dist-packages (from llama-index-core<0.13.0,>=0.12.0->llama-index-embeddings-langchain) (2.32.3)\n",
            "Requirement already satisfied: tenacity!=8.4.0,<10.0.0,>=8.2.0 in /usr/local/lib/python3.10/dist-packages (from llama-index-core<0.13.0,>=0.12.0->llama-index-embeddings-langchain) (9.0.0)\n",
            "Requirement already satisfied: tiktoken>=0.3.3 in /usr/local/lib/python3.10/dist-packages (from llama-index-core<0.13.0,>=0.12.0->llama-index-embeddings-langchain) (0.8.0)\n",
            "Requirement already satisfied: tqdm<5.0.0,>=4.66.1 in /usr/local/lib/python3.10/dist-packages (from llama-index-core<0.13.0,>=0.12.0->llama-index-embeddings-langchain) (4.67.1)\n",
            "Requirement already satisfied: typing-extensions>=4.5.0 in /usr/local/lib/python3.10/dist-packages (from llama-index-core<0.13.0,>=0.12.0->llama-index-embeddings-langchain) (4.12.2)\n",
            "Requirement already satisfied: typing-inspect>=0.8.0 in /usr/local/lib/python3.10/dist-packages (from llama-index-core<0.13.0,>=0.12.0->llama-index-embeddings-langchain) (0.9.0)\n",
            "Requirement already satisfied: wrapt in /usr/local/lib/python3.10/dist-packages (from llama-index-core<0.13.0,>=0.12.0->llama-index-embeddings-langchain) (1.17.0)\n",
            "Requirement already satisfied: aiohappyeyeballs>=2.3.0 in /usr/local/lib/python3.10/dist-packages (from aiohttp<4.0.0,>=3.8.6->llama-index-core<0.13.0,>=0.12.0->llama-index-embeddings-langchain) (2.4.4)\n",
            "Requirement already satisfied: aiosignal>=1.1.2 in /usr/local/lib/python3.10/dist-packages (from aiohttp<4.0.0,>=3.8.6->llama-index-core<0.13.0,>=0.12.0->llama-index-embeddings-langchain) (1.3.2)\n",
            "Requirement already satisfied: async-timeout<6.0,>=4.0 in /usr/local/lib/python3.10/dist-packages (from aiohttp<4.0.0,>=3.8.6->llama-index-core<0.13.0,>=0.12.0->llama-index-embeddings-langchain) (4.0.3)\n",
            "Requirement already satisfied: attrs>=17.3.0 in /usr/local/lib/python3.10/dist-packages (from aiohttp<4.0.0,>=3.8.6->llama-index-core<0.13.0,>=0.12.0->llama-index-embeddings-langchain) (24.3.0)\n",
            "Requirement already satisfied: frozenlist>=1.1.1 in /usr/local/lib/python3.10/dist-packages (from aiohttp<4.0.0,>=3.8.6->llama-index-core<0.13.0,>=0.12.0->llama-index-embeddings-langchain) (1.5.0)\n",
            "Requirement already satisfied: multidict<7.0,>=4.5 in /usr/local/lib/python3.10/dist-packages (from aiohttp<4.0.0,>=3.8.6->llama-index-core<0.13.0,>=0.12.0->llama-index-embeddings-langchain) (6.1.0)\n",
            "Requirement already satisfied: propcache>=0.2.0 in /usr/local/lib/python3.10/dist-packages (from aiohttp<4.0.0,>=3.8.6->llama-index-core<0.13.0,>=0.12.0->llama-index-embeddings-langchain) (0.2.1)\n",
            "Requirement already satisfied: yarl<2.0,>=1.17.0 in /usr/local/lib/python3.10/dist-packages (from aiohttp<4.0.0,>=3.8.6->llama-index-core<0.13.0,>=0.12.0->llama-index-embeddings-langchain) (1.18.3)\n",
            "Requirement already satisfied: click in /usr/local/lib/python3.10/dist-packages (from nltk>3.8.1->llama-index-core<0.13.0,>=0.12.0->llama-index-embeddings-langchain) (8.1.7)\n",
            "Requirement already satisfied: joblib in /usr/local/lib/python3.10/dist-packages (from nltk>3.8.1->llama-index-core<0.13.0,>=0.12.0->llama-index-embeddings-langchain) (1.4.2)\n",
            "Requirement already satisfied: regex>=2021.8.3 in /usr/local/lib/python3.10/dist-packages (from nltk>3.8.1->llama-index-core<0.13.0,>=0.12.0->llama-index-embeddings-langchain) (2024.11.6)\n",
            "Requirement already satisfied: annotated-types>=0.6.0 in /usr/local/lib/python3.10/dist-packages (from pydantic>=2.8.0->llama-index-core<0.13.0,>=0.12.0->llama-index-embeddings-langchain) (0.7.0)\n",
            "Requirement already satisfied: pydantic-core==2.27.1 in /usr/local/lib/python3.10/dist-packages (from pydantic>=2.8.0->llama-index-core<0.13.0,>=0.12.0->llama-index-embeddings-langchain) (2.27.1)\n",
            "Requirement already satisfied: charset-normalizer<4,>=2 in /usr/local/lib/python3.10/dist-packages (from requests>=2.31.0->llama-index-core<0.13.0,>=0.12.0->llama-index-embeddings-langchain) (3.4.0)\n",
            "Requirement already satisfied: idna<4,>=2.5 in /usr/local/lib/python3.10/dist-packages (from requests>=2.31.0->llama-index-core<0.13.0,>=0.12.0->llama-index-embeddings-langchain) (3.10)\n",
            "Requirement already satisfied: urllib3<3,>=1.21.1 in /usr/local/lib/python3.10/dist-packages (from requests>=2.31.0->llama-index-core<0.13.0,>=0.12.0->llama-index-embeddings-langchain) (2.2.3)\n",
            "Requirement already satisfied: certifi>=2017.4.17 in /usr/local/lib/python3.10/dist-packages (from requests>=2.31.0->llama-index-core<0.13.0,>=0.12.0->llama-index-embeddings-langchain) (2024.12.14)\n",
            "Requirement already satisfied: greenlet!=0.4.17 in /usr/local/lib/python3.10/dist-packages (from SQLAlchemy>=1.4.49->SQLAlchemy[asyncio]>=1.4.49->llama-index-core<0.13.0,>=0.12.0->llama-index-embeddings-langchain) (3.1.1)\n",
            "Requirement already satisfied: mypy-extensions>=0.3.0 in /usr/local/lib/python3.10/dist-packages (from typing-inspect>=0.8.0->llama-index-core<0.13.0,>=0.12.0->llama-index-embeddings-langchain) (1.0.0)\n",
            "Requirement already satisfied: marshmallow<4.0.0,>=3.18.0 in /usr/local/lib/python3.10/dist-packages (from dataclasses-json->llama-index-core<0.13.0,>=0.12.0->llama-index-embeddings-langchain) (3.23.2)\n",
            "Requirement already satisfied: anyio in /usr/local/lib/python3.10/dist-packages (from httpx->llama-index-core<0.13.0,>=0.12.0->llama-index-embeddings-langchain) (3.7.1)\n",
            "Requirement already satisfied: httpcore==1.* in /usr/local/lib/python3.10/dist-packages (from httpx->llama-index-core<0.13.0,>=0.12.0->llama-index-embeddings-langchain) (1.0.7)\n",
            "Requirement already satisfied: h11<0.15,>=0.13 in /usr/local/lib/python3.10/dist-packages (from httpcore==1.*->httpx->llama-index-core<0.13.0,>=0.12.0->llama-index-embeddings-langchain) (0.14.0)\n",
            "Requirement already satisfied: packaging>=17.0 in /usr/local/lib/python3.10/dist-packages (from marshmallow<4.0.0,>=3.18.0->dataclasses-json->llama-index-core<0.13.0,>=0.12.0->llama-index-embeddings-langchain) (24.2)\n",
            "Requirement already satisfied: sniffio>=1.1 in /usr/local/lib/python3.10/dist-packages (from anyio->httpx->llama-index-core<0.13.0,>=0.12.0->llama-index-embeddings-langchain) (1.3.1)\n",
            "Requirement already satisfied: exceptiongroup in /usr/local/lib/python3.10/dist-packages (from anyio->httpx->llama-index-core<0.13.0,>=0.12.0->llama-index-embeddings-langchain) (1.2.2)\n"
          ]
        }
      ]
    },
    {
      "cell_type": "code",
      "source": [
        "!pip install --upgrade huggingface_hub\n",
        "!pip install --upgrade peft"
      ],
      "metadata": {
        "colab": {
          "base_uri": "https://localhost:8080/",
          "height": 1000
        },
        "id": "g_wY-mSy_62I",
        "outputId": "040074eb-e3f9-49a6-a655-85d90ba15b36"
      },
      "execution_count": 48,
      "outputs": [
        {
          "output_type": "stream",
          "name": "stdout",
          "text": [
            "Requirement already satisfied: huggingface_hub in /usr/local/lib/python3.10/dist-packages (0.23.2)\n",
            "Collecting huggingface_hub\n",
            "  Using cached huggingface_hub-0.27.0-py3-none-any.whl.metadata (13 kB)\n",
            "Requirement already satisfied: filelock in /usr/local/lib/python3.10/dist-packages (from huggingface_hub) (3.16.1)\n",
            "Requirement already satisfied: fsspec>=2023.5.0 in /usr/local/lib/python3.10/dist-packages (from huggingface_hub) (2024.10.0)\n",
            "Requirement already satisfied: packaging>=20.9 in /usr/local/lib/python3.10/dist-packages (from huggingface_hub) (24.2)\n",
            "Requirement already satisfied: pyyaml>=5.1 in /usr/local/lib/python3.10/dist-packages (from huggingface_hub) (6.0.2)\n",
            "Requirement already satisfied: requests in /usr/local/lib/python3.10/dist-packages (from huggingface_hub) (2.32.3)\n",
            "Requirement already satisfied: tqdm>=4.42.1 in /usr/local/lib/python3.10/dist-packages (from huggingface_hub) (4.67.1)\n",
            "Requirement already satisfied: typing-extensions>=3.7.4.3 in /usr/local/lib/python3.10/dist-packages (from huggingface_hub) (4.12.2)\n",
            "Requirement already satisfied: charset-normalizer<4,>=2 in /usr/local/lib/python3.10/dist-packages (from requests->huggingface_hub) (3.4.0)\n",
            "Requirement already satisfied: idna<4,>=2.5 in /usr/local/lib/python3.10/dist-packages (from requests->huggingface_hub) (3.10)\n",
            "Requirement already satisfied: urllib3<3,>=1.21.1 in /usr/local/lib/python3.10/dist-packages (from requests->huggingface_hub) (2.2.3)\n",
            "Requirement already satisfied: certifi>=2017.4.17 in /usr/local/lib/python3.10/dist-packages (from requests->huggingface_hub) (2024.12.14)\n",
            "Using cached huggingface_hub-0.27.0-py3-none-any.whl (450 kB)\n",
            "Installing collected packages: huggingface_hub\n",
            "  Attempting uninstall: huggingface_hub\n",
            "    Found existing installation: huggingface-hub 0.23.2\n",
            "    Uninstalling huggingface-hub-0.23.2:\n",
            "      Successfully uninstalled huggingface-hub-0.23.2\n",
            "\u001b[31mERROR: pip's dependency resolver does not currently take into account all the packages that are installed. This behaviour is the source of the following dependency conflicts.\n",
            "llama-index-llms-huggingface 0.4.1 requires huggingface-hub<0.24.0,>=0.23.0, but you have huggingface-hub 0.27.0 which is incompatible.\u001b[0m\u001b[31m\n",
            "\u001b[0mSuccessfully installed huggingface_hub-0.27.0\n"
          ]
        },
        {
          "output_type": "display_data",
          "data": {
            "application/vnd.colab-display-data+json": {
              "pip_warning": {
                "packages": [
                  "huggingface_hub"
                ]
              },
              "id": "2ff1782ab7d94bfa908e2d301ad8dfba"
            }
          },
          "metadata": {}
        },
        {
          "output_type": "stream",
          "name": "stdout",
          "text": [
            "Requirement already satisfied: peft in /usr/local/lib/python3.10/dist-packages (0.14.0)\n",
            "Requirement already satisfied: numpy>=1.17 in /usr/local/lib/python3.10/dist-packages (from peft) (1.26.4)\n",
            "Requirement already satisfied: packaging>=20.0 in /usr/local/lib/python3.10/dist-packages (from peft) (24.2)\n",
            "Requirement already satisfied: psutil in /usr/local/lib/python3.10/dist-packages (from peft) (5.9.5)\n",
            "Requirement already satisfied: pyyaml in /usr/local/lib/python3.10/dist-packages (from peft) (6.0.2)\n",
            "Requirement already satisfied: torch>=1.13.0 in /usr/local/lib/python3.10/dist-packages (from peft) (2.5.1+cu121)\n",
            "Requirement already satisfied: transformers in /usr/local/lib/python3.10/dist-packages (from peft) (4.46.3)\n",
            "Requirement already satisfied: tqdm in /usr/local/lib/python3.10/dist-packages (from peft) (4.67.1)\n",
            "Requirement already satisfied: accelerate>=0.21.0 in /usr/local/lib/python3.10/dist-packages (from peft) (1.2.0.dev0)\n",
            "Requirement already satisfied: safetensors in /usr/local/lib/python3.10/dist-packages (from peft) (0.4.5)\n",
            "Requirement already satisfied: huggingface-hub>=0.25.0 in /usr/local/lib/python3.10/dist-packages (from peft) (0.27.0)\n",
            "Requirement already satisfied: filelock in /usr/local/lib/python3.10/dist-packages (from huggingface-hub>=0.25.0->peft) (3.16.1)\n",
            "Requirement already satisfied: fsspec>=2023.5.0 in /usr/local/lib/python3.10/dist-packages (from huggingface-hub>=0.25.0->peft) (2024.10.0)\n",
            "Requirement already satisfied: requests in /usr/local/lib/python3.10/dist-packages (from huggingface-hub>=0.25.0->peft) (2.32.3)\n",
            "Requirement already satisfied: typing-extensions>=3.7.4.3 in /usr/local/lib/python3.10/dist-packages (from huggingface-hub>=0.25.0->peft) (4.12.2)\n",
            "Requirement already satisfied: networkx in /usr/local/lib/python3.10/dist-packages (from torch>=1.13.0->peft) (3.4.2)\n",
            "Requirement already satisfied: jinja2 in /usr/local/lib/python3.10/dist-packages (from torch>=1.13.0->peft) (3.1.4)\n",
            "Requirement already satisfied: sympy==1.13.1 in /usr/local/lib/python3.10/dist-packages (from torch>=1.13.0->peft) (1.13.1)\n",
            "Requirement already satisfied: mpmath<1.4,>=1.1.0 in /usr/local/lib/python3.10/dist-packages (from sympy==1.13.1->torch>=1.13.0->peft) (1.3.0)\n",
            "Requirement already satisfied: regex!=2019.12.17 in /usr/local/lib/python3.10/dist-packages (from transformers->peft) (2024.11.6)\n",
            "Requirement already satisfied: tokenizers<0.21,>=0.20 in /usr/local/lib/python3.10/dist-packages (from transformers->peft) (0.20.3)\n",
            "Requirement already satisfied: MarkupSafe>=2.0 in /usr/local/lib/python3.10/dist-packages (from jinja2->torch>=1.13.0->peft) (3.0.2)\n",
            "Requirement already satisfied: charset-normalizer<4,>=2 in /usr/local/lib/python3.10/dist-packages (from requests->huggingface-hub>=0.25.0->peft) (3.4.0)\n",
            "Requirement already satisfied: idna<4,>=2.5 in /usr/local/lib/python3.10/dist-packages (from requests->huggingface-hub>=0.25.0->peft) (3.10)\n",
            "Requirement already satisfied: urllib3<3,>=1.21.1 in /usr/local/lib/python3.10/dist-packages (from requests->huggingface-hub>=0.25.0->peft) (2.2.3)\n",
            "Requirement already satisfied: certifi>=2017.4.17 in /usr/local/lib/python3.10/dist-packages (from requests->huggingface-hub>=0.25.0->peft) (2024.12.14)\n"
          ]
        }
      ]
    },
    {
      "cell_type": "code",
      "source": [
        "embed_model = LangchainEmbedding(HuggingFaceEmbeddings(\n",
        "    model_name=\"sentence-transformers/all-mpnet-base-v2\"\n",
        "))"
      ],
      "metadata": {
        "id": "ewagCDS8_Vdu"
      },
      "execution_count": 56,
      "outputs": []
    },
    {
      "cell_type": "code",
      "source": [
        "!pip install llama_index.settings"
      ],
      "metadata": {
        "colab": {
          "base_uri": "https://localhost:8080/"
        },
        "id": "GK5A9XoREr6L",
        "outputId": "e040a9f1-5413-4a49-a203-d76512709b05"
      },
      "execution_count": 22,
      "outputs": [
        {
          "output_type": "stream",
          "name": "stdout",
          "text": [
            "\u001b[31mERROR: Could not find a version that satisfies the requirement llama_index.settings (from versions: none)\u001b[0m\u001b[31m\n",
            "\u001b[0m\u001b[31mERROR: No matching distribution found for llama_index.settings\u001b[0m\u001b[31m\n",
            "\u001b[0m"
          ]
        }
      ]
    },
    {
      "cell_type": "code",
      "source": [
        "from llama_index.core import Settings\n",
        "Settings.chunk_size=1024\n",
        "Settings.llm = llm\n",
        "Settings.embed_model = embed_model\n"
      ],
      "metadata": {
        "id": "SmCtZbeED_SM"
      },
      "execution_count": 57,
      "outputs": []
    },
    {
      "cell_type": "code",
      "source": [
        "from llama_index.core import VectorStoreIndex\n",
        "from llama_index.core import Settings\n",
        "\n",
        "# Assumes llm, embed_model, and chunk_size are already defined\n",
        "# ... your existing code to define llm, embed_model and chunk_size ...\n",
        "\n",
        "# Create a Settings object and configure it\n",
        "settings = Settings(\n",
        "    llm=llm,\n",
        "    embed_model=embed_model,\n",
        "    chunk_size=1024  # Override chunk size here if desired\n",
        ")\n",
        "\n",
        "# Create the VectorStoreIndex with the settings\n",
        "index = VectorStoreIndex.from_documents(documents, settings=settings)"
      ],
      "metadata": {
        "colab": {
          "base_uri": "https://localhost:8080/",
          "height": 251
        },
        "id": "lPe5SJlcGK7G",
        "outputId": "48baaced-713a-40a8-f887-498e335422d7"
      },
      "execution_count": 31,
      "outputs": [
        {
          "output_type": "error",
          "ename": "TypeError",
          "evalue": "'_Settings' object is not callable",
          "traceback": [
            "\u001b[0;31m---------------------------------------------------------------------------\u001b[0m",
            "\u001b[0;31mTypeError\u001b[0m                                 Traceback (most recent call last)",
            "\u001b[0;32m<ipython-input-31-0eb676d718a3>\u001b[0m in \u001b[0;36m<cell line: 8>\u001b[0;34m()\u001b[0m\n\u001b[1;32m      6\u001b[0m \u001b[0;34m\u001b[0m\u001b[0m\n\u001b[1;32m      7\u001b[0m \u001b[0;31m# Create a Settings object and configure it\u001b[0m\u001b[0;34m\u001b[0m\u001b[0;34m\u001b[0m\u001b[0m\n\u001b[0;32m----> 8\u001b[0;31m settings = Settings(\n\u001b[0m\u001b[1;32m      9\u001b[0m     \u001b[0mllm\u001b[0m\u001b[0;34m=\u001b[0m\u001b[0mllm\u001b[0m\u001b[0;34m,\u001b[0m\u001b[0;34m\u001b[0m\u001b[0;34m\u001b[0m\u001b[0m\n\u001b[1;32m     10\u001b[0m     \u001b[0membed_model\u001b[0m\u001b[0;34m=\u001b[0m\u001b[0membed_model\u001b[0m\u001b[0;34m,\u001b[0m\u001b[0;34m\u001b[0m\u001b[0;34m\u001b[0m\u001b[0m\n",
            "\u001b[0;31mTypeError\u001b[0m: '_Settings' object is not callable"
          ]
        }
      ]
    },
    {
      "cell_type": "code",
      "source": [
        "from llama_index.core import VectorStoreIndex\n",
        "#from llama_index.core import Settings  # No need to import Settings again\n",
        "\n",
        "# Assumes llm, embed_model, and chunk_size are already defined\n",
        "# ... your existing code to define llm, embed_model and chunk_size ...\n",
        "\n",
        "# You already have a Settings object instance, access it directly\n",
        "# No need to create another Settings object\n",
        "# settings = Settings(\n",
        "#     llm=llm,\n",
        "#     embed_model=embed_model,\n",
        "#     chunk_size=1024  # Override chunk size here if desired\n",
        "# )\n",
        "\n",
        "# Update the attributes of your existing Settings object\n",
        "# instead of creating a new one.\n",
        "Settings.llm = llm\n",
        "Settings.embed_model = embed_model\n",
        "Settings.chunk_size = 1024  # Set or override chunk size here\n",
        "\n",
        "\n",
        "# Create the VectorStoreIndex with the settings\n",
        "index = VectorStoreIndex.from_documents(documents, settings=Settings) # Using global settings object instance"
      ],
      "metadata": {
        "id": "b0LrJjsQGcHD"
      },
      "execution_count": 58,
      "outputs": []
    },
    {
      "cell_type": "code",
      "source": [
        "index"
      ],
      "metadata": {
        "colab": {
          "base_uri": "https://localhost:8080/"
        },
        "id": "opwh4uW1Gm0E",
        "outputId": "08b882e9-ec1d-47df-d358-2cc129873398"
      },
      "execution_count": 59,
      "outputs": [
        {
          "output_type": "execute_result",
          "data": {
            "text/plain": [
              "<llama_index.core.indices.vector_store.base.VectorStoreIndex at 0x7e05b48870a0>"
            ]
          },
          "metadata": {},
          "execution_count": 59
        }
      ]
    },
    {
      "cell_type": "code",
      "source": [
        "documents"
      ],
      "metadata": {
        "colab": {
          "base_uri": "https://localhost:8080/"
        },
        "collapsed": true,
        "id": "LezOmOMxGrP0",
        "outputId": "a7b946bd-4e1b-4025-a5b4-d9359c1cb669"
      },
      "execution_count": 60,
      "outputs": [
        {
          "output_type": "execute_result",
          "data": {
            "text/plain": [
              "[Document(id_='b6e64fec-23ca-4837-850d-f25cfebcef42', embedding=None, metadata={'page_label': '1', 'file_name': 'jess203.pdf', 'file_path': '/content/data/jess203.pdf', 'file_type': 'application/pdf', 'file_size': 3335877, 'creation_date': '2024-12-28', 'last_modified_date': '2024-12-28'}, excluded_embed_metadata_keys=['file_name', 'file_type', 'file_size', 'creation_date', 'last_modified_date', 'last_accessed_date'], excluded_llm_metadata_keys=['file_name', 'file_type', 'file_size', 'creation_date', 'last_modified_date', 'last_accessed_date'], relationships={}, metadata_template='{key}: {value}', metadata_separator='\\n', text_resource=MediaResource(embeddings=None, data=None, text='NOTES FOR THE  TEACHER\\nCHAPTER 3 : MONEY AND CREDIT\\nMoney is a fascinating subject and full of\\ncuriosities. It is important to capture this\\nelement for the students. The history of\\nmoney and how various forms were used at\\ndifferent times is an interesting story. At this\\nstage the purpose is to allow students to\\nrealise the social situation in which these\\nforms were used. Modern forms of money are\\nlinked to the banking system. This is the\\ncentral idea of the first part of the chapter.\\nThe present situation in India, where\\nnewer forms of money are slowly spreading\\nwith computerisation of the banking system,\\noffers many opportunities to students to\\nexplore on their own. We need not get into a\\nformal discussion of the ‘functions of money’\\nbut let it come up as questions. There are\\ncertain areas that are not covered, such as\\n‘creation of money’ (money multiplier) or the\\nbacking of the modern system that may be\\ndiscussed if you desire.\\nAs you would see in the chapter, the stock\\nof money consists of currency held by the\\npublic and the demand deposits that they hold\\nwith the banks. This is the money that people\\ncan use as they wish and the government has\\nto ensure that the system works smoothy.\\nWhat would happen when the government\\ndeclares that some of the currency notes used\\nby people would be made invalid and would be\\nreplaced by new currency? In India, during\\nNovember 2016, currency notes in the\\ndenomination of Rs. 500 and Rs. 1,000 were\\ndeclared invalid. People were asked to\\nsurrender these notes to the bank by a specific\\nperiod and receive new Rs. 500, Rs. 2,000 or\\nother currency notes. This is known as\\n‘demonetisation’. Since then, people were also\\nencouraged to use their bank deposits rather\\nthan cash for transactions. Hence, digital\\ntransactions started by using bank-to-bank\\ntransfer through the internet or mobile\\nphones, cheques, ATM cards, credit cards,\\nand Point of Sale (POS) swipe machines at\\nshops. This is promoted to reduce the\\nrequirement of cash for transactions and also\\ncontrol corruption. Students could be asked\\nto debate on the process and the impact of\\ndemonetisation. They can be guided to make\\na collage of the major areas where people use\\ndigital and cash transactions which are\\nlegitimate and legal. They can also discuss the\\ntransactions which are legal and why. It is also\\nimportant to intimate students that different\\ntypes of plastic cards are used in place of cash\\ntransactions but not all of them money per se.\\nCredit is a crucial element in economic\\nlife and it is, therefore, important to first\\nunderstand this in a conceptual manner.\\nWhat are the aspects that one looks at in\\nany credit arrangement and how this affects\\npeople is the main focus of the second part\\nof the chapter. The world around us offers a\\ntremendous variety of such arrangements\\nand it would be ideal to explain these\\naspects of credit from situations that are\\nfamiliar to your students. The other crucial\\nissue of credit is its availability to all,\\nespecially the poor, and on reasonable\\nterms. We need to emphasise that this is a\\nright of the people and without which a large\\nsection of them would be kept out of the\\ndevelopment process. There are many\\ninnovative interventions, such as that of\\nGrameen Bank, of which students may be\\nmade familiar with but it is important to\\nrealise that we don’t have answers to all\\nquestions. We need to find new ways and\\nthis is one of the social challenges that\\ndeveloping countries face.\\nSources for Information\\nThe data on formal and informal sector credit\\nused in this chapter is drawn from the\\nsurvey on rural debt by the National Sample\\nSurvey Organisation (All India Debt and\\nInvestment Survey, 70 th  Round 2013,\\nconducted by NSSO) now known as National\\nStatistical Office (NSO). The information and\\ndata on Grameen Bank is taken from\\nnewspaper reports and websites. In order\\nto get the details of bank-related statistics\\nor a particular detail of a bank, you can log\\non to the websites of the Reserve Bank of\\nIndia (www.rbi.org)  and the concerned\\nbanks. Data on self-help groups is provided\\non the website of the National Bank for\\nAgriculture and Rural Development\\n(NABARD) (www.nabard.org).\\n38 3838 3838 U UUUUNDERST NDERSTNDERST NDERSTNDERST ANDINGANDINGANDING ANDINGANDING  E  E E  E E CONOMICCONOMICCONOMICCONOMICCONOMIC  D  D D  D D EVEL EVELEVEL EVELEVEL OPMENT OPMENTOPMENT OPMENTOPMENT\\n2024-25\\n', mimetype=None, path=None, url=None), image_resource=None, audio_resource=None, video_resource=None, text_template='{metadata_str}\\n\\n{content}'),\n",
              " Document(id_='1307f659-6cbc-4eb1-b139-7011409e50c6', embedding=None, metadata={'page_label': '2', 'file_name': 'jess203.pdf', 'file_path': '/content/data/jess203.pdf', 'file_type': 'application/pdf', 'file_size': 3335877, 'creation_date': '2024-12-28', 'last_modified_date': '2024-12-28'}, excluded_embed_metadata_keys=['file_name', 'file_type', 'file_size', 'creation_date', 'last_modified_date', 'last_accessed_date'], excluded_llm_metadata_keys=['file_name', 'file_type', 'file_size', 'creation_date', 'last_modified_date', 'last_accessed_date'], relationships={}, metadata_template='{key}: {value}', metadata_separator='\\n', text_resource=MediaResource(embeddings=None, data=None, text='M MM MMONEYONEYONEY ONEYONEY      AND ANDAND ANDAND  C  C C  C C REDIT REDITREDIT REDITREDIT 39 3939 3939\\nThe use of money spans a very large\\npart of our everyday life. Look around\\nyou and you would easily be able to\\nidentify several transactions involving\\nmoney in any single day. Can you\\nmake a list of these? In many of these\\ntransactions, goods are being bought\\nand sold with the use of money. In\\nsome of these transactions, services\\nare being exchanged with money.  For\\nsome, there might not be any actual\\ntransfer of money taking place now\\nbut a promise to pay money later.\\nHave you ever wondered why\\ntransactions are made in\\nmoney? The reason is simple.\\nA person holding money can easily\\nexchange it for any commodity or\\nservice that he or she might want.\\nThus everyone  prefers to receive\\npayments in money and then\\nexchange the money for things that\\nthey want.  Take the case of a shoe\\nmanufacturer. He wants to sell shoes\\nin the market and buy wheat.  The\\nshoe manufacturer will first exchange\\nshoes that he has produced for\\nmoney, and then exchange the money\\nfor wheat. Imagine how much more\\ndifficult it would be if the shoe\\nmanufacturer had to directly\\nexchange shoes for wheat without the\\nuse of money. He would have to look\\nfor a wheat growing farmer who not\\nonly wants to sell wheat\\nbut also wants to buy the\\nshoes in exchange.\\nThat is, both parties\\nhave to agree to\\nsell and buy each\\nothers commodities.\\nThis is known as\\ndouble coincidence\\nof wants.  What a person\\ndesires to sell is exactly what the\\nother wishes to buy. In a barter\\nsystem where goods are directly\\nexchanged without the use of money,\\ndouble coincidence of wants is an\\nessential feature.\\nIn contrast, in an economy where\\nmoney is in use, money by providing\\nthe crucial intermediate step\\neliminates the need for double\\ncoincidence of wants. It is no longer\\nnecessary for the shoe manufacturer\\nto look for a farmer who will buy his\\nshoes and at the same time sell him\\nMONEY MONEYMONEYMONEYMONEY\\nANDANDAND\\nANDAND\\nCREDIT CREDIT\\nCREDIT CREDITCREDIT\\nCHAPTER 3\\nMONEY AS A MEDIUM OF EX CHANGE\\nI’LL GIVE\\nYOU SHOES\\nFOR YOUR\\nWHEAT.\\nI DON’T NEED\\nSHOES. I NEED\\nCLOTHES.\\nI WANT SHOES.\\nBUT I DON’T HAVE\\nWHEAT.\\n2024-25\\n', mimetype=None, path=None, url=None), image_resource=None, audio_resource=None, video_resource=None, text_template='{metadata_str}\\n\\n{content}'),\n",
              " Document(id_='e6c1ccda-0083-4137-88fe-dd42bd60e06d', embedding=None, metadata={'page_label': '3', 'file_name': 'jess203.pdf', 'file_path': '/content/data/jess203.pdf', 'file_type': 'application/pdf', 'file_size': 3335877, 'creation_date': '2024-12-28', 'last_modified_date': '2024-12-28'}, excluded_embed_metadata_keys=['file_name', 'file_type', 'file_size', 'creation_date', 'last_modified_date', 'last_accessed_date'], excluded_llm_metadata_keys=['file_name', 'file_type', 'file_size', 'creation_date', 'last_modified_date', 'last_accessed_date'], relationships={}, metadata_template='{key}: {value}', metadata_separator='\\n', text_resource=MediaResource(embeddings=None, data=None, text='40 4040 4040 U UUUUNDERST NDERSTNDERSTNDERSTNDERST ANDING ANDINGANDING ANDINGANDING  E  E E  E E CONOMICCONOMICCONOMICCONOMICCONOMIC  D  D D  D D EVEL EVELEVEL EVELEVEL OPMENT OPMENTOPMENT OPMENTOPMENT\\nWe have seen that money is\\nsomething that can act as a medium\\nof exchange in transactions.  Before\\nthe introduction of coins, a variety of\\nobjects was used as money. For\\nexample, since the very early ages,\\nIndians used  grains and cattle as\\nmoney. Thereafter came the use of\\nmetallic coins — gold, silver, copper\\ncoins — a phase which continued well\\ninto the last century.\\nCurrency\\nModern forms of money include\\ncurrency — paper notes and coins.\\nUnlike the things that were used as\\nmoney earlier, modern currency is not\\nmade of precious metal such as gold,\\nsilver and copper.  And unlike grain\\nand cattle, they are neither of\\neveryday use. The modern currency\\nis without any use of its own.\\nThen, why is it accepted as a\\nmedium of exchange?  It is accepted\\nas a medium of exchange because the\\ncurrency is authorised by the\\ngovernment of the country.\\nIn India, the Reserve Bank of India\\nissues currency notes on behalf of the\\ncentral government. As per Indian\\nlaw, no other individual or\\norganisation is allowed to issue\\ncurrency. Moreover, the law legalises\\nthe use of rupee as a medium of\\npayment that cannot be refused in\\nsettling transactions in India. No\\nindividual in India can legally refuse\\na payment made in rupees. Hence,\\nthe rupee is widely accepted as a\\nmedium of exchange.\\nDeposits with Banks\\nThe other form in which people hold\\nmoney is as deposits with banks. At\\na point of time, people need only some\\ncurrency  for their day-to-day needs.\\nFor instance, workers who receive\\ntheir salaries at the end of each month\\nhave extra cash at the beginning of\\nthe month. What do people do with\\nthis extra cash? They deposit it with\\nthe banks by opening a bank\\naccount in their name. Banks accept\\nthe deposits and also pay an amount\\nas interest on the deposits. In this way\\npeople’s money is safe with the\\nbanks and it earns an amount as\\ninterest.  People also have the\\nprovision to withdraw the money as\\nand when they require. Since the\\ndeposits in the bank accounts can be\\nwithdrawn on demand, these\\ndeposits are called demand deposits.\\n1. How does the use of money make it easier to exchange things?\\n2. Can you think of some examples of goods / services being exchanged or wages being\\npaid through barter?\\nLET’S WORK THESE OUT\\nMODERN FORMS OF  MONEY\\nEarly punch-\\nmarked coins\\n(may be 2500\\nyears old)\\nGupta\\ncoins\\nGold\\nMohar\\nfrom\\nAkbar’s\\nreign\\nwheat. All he has to do is find a buyer\\nfor his shoes. Once he has exchanged\\nhis shoes for money, he can purchase\\nwheat or any other commodity in the\\nmarket. Since money acts as an\\nintermediate in the exchange process,\\nit is called a medium of exchange.\\nTughlaq\\ncoin\\nModern coin\\n2024-25\\n', mimetype=None, path=None, url=None), image_resource=None, audio_resource=None, video_resource=None, text_template='{metadata_str}\\n\\n{content}'),\n",
              " Document(id_='80c27725-d776-4ff6-ba28-97ff0aef45a5', embedding=None, metadata={'page_label': '4', 'file_name': 'jess203.pdf', 'file_path': '/content/data/jess203.pdf', 'file_type': 'application/pdf', 'file_size': 3335877, 'creation_date': '2024-12-28', 'last_modified_date': '2024-12-28'}, excluded_embed_metadata_keys=['file_name', 'file_type', 'file_size', 'creation_date', 'last_modified_date', 'last_accessed_date'], excluded_llm_metadata_keys=['file_name', 'file_type', 'file_size', 'creation_date', 'last_modified_date', 'last_accessed_date'], relationships={}, metadata_template='{key}: {value}', metadata_separator='\\n', text_resource=MediaResource(embeddings=None, data=None, text='M MM MMONEYONEYONEY ONEYONEY      AND ANDAND ANDAND  C  C C  C C REDIT REDITREDIT REDITREDIT 41 4141 4141\\nCheque PaymentsCheque PaymentsCheque PaymentsCheque PaymentsCheque Payments\\nA shoe manufactur er, M. Salim has to make a payment to the leather supplier and writes\\na cheque for a specific amount. This means that the shoe manufacturer instructs his\\nbank to pay this amount to the leather supplier . The leather supplier takes this cheque,\\nand  deposits it in his own account in the bank. The money is transferred from one bank\\naccount to another bank account in a couple of days. The transaction is complete without\\nany payment of cash.\\nThus we see that demand deposits\\nshare the essential features of money.\\nThe facility of cheques against demand\\ndeposits makes it possible to directly\\nsettle payments without the use of cash.\\nSince demand deposits are accepted\\nwidely as a means of payment, along\\nwith currency, they constitute money\\nin the modern economy.\\nYou must remember the role that\\nthe banks play here. But for the\\nbanks, there would be no demand\\ndeposits and no payments by\\ncheques against these deposits.  The\\nmodern forms of money — currency\\nand deposits — are closely linked to\\nthe working of the modern banking\\nsystem.\\nAccount number\\nCoding used by banksCheque number\\nDemand deposits offer another\\ninteresting facility. It is this facility\\nwhich lends it the essential\\ncharacteristics of money (that of a\\nmedium of exchange). You would\\nhave heard of payments being\\nmade by cheques instead of cash.\\nFor payment through cheque, the\\npayer who has an account with the\\nbank, makes out a cheque for a\\nspecific amount. A cheque is a\\npaper instructing the bank to pay\\na specific amount from the\\nperson’s account to the person in\\nwhose name the cheque has been\\nissued.\\nBank branch\\ncode\\nLET US TRY AND UNDERSTAND\\nHOW CHEQUE PAYMENTS ARE\\nMADE AND REALISED WITH\\nAN EXAMPLE.\\n2024-25\\n', mimetype=None, path=None, url=None), image_resource=None, audio_resource=None, video_resource=None, text_template='{metadata_str}\\n\\n{content}'),\n",
              " Document(id_='f139f08f-a965-432d-8d8e-3215bd91286b', embedding=None, metadata={'page_label': '5', 'file_name': 'jess203.pdf', 'file_path': '/content/data/jess203.pdf', 'file_type': 'application/pdf', 'file_size': 3335877, 'creation_date': '2024-12-28', 'last_modified_date': '2024-12-28'}, excluded_embed_metadata_keys=['file_name', 'file_type', 'file_size', 'creation_date', 'last_modified_date', 'last_accessed_date'], excluded_llm_metadata_keys=['file_name', 'file_type', 'file_size', 'creation_date', 'last_modified_date', 'last_accessed_date'], relationships={}, metadata_template='{key}: {value}', metadata_separator='\\n', text_resource=MediaResource(embeddings=None, data=None, text='42 4242 4242 U UUUUNDERST NDERSTNDERSTNDERSTNDERST ANDING ANDINGANDING ANDINGANDING  E  E E  E E CONOMICCONOMICCONOMICCONOMICCONOMIC  D  D D  D D EVEL EVELEVEL EVELEVEL OPMENT OPMENTOPMENT OPMENTOPMENT\\nLet us take the story of banks further.\\nWhat do the banks do with the\\ndeposits which they accept from the\\npublic? There is an interesting\\nmechanism at work here. Banks keep\\nonly a small proportion of their\\ndeposits as cash with themselves.  For\\nexample, banks in India these days\\nhold about 15 per cent of their\\ndeposits as cash. This is kept as\\nprovision to pay the depositors who\\nmight come to withdraw money from\\nthe bank on any given day. Since, on\\nany particular day, only some of its\\nmany depositors come to withdraw\\ncash, the bank is able to manage with\\nthis cash.\\nBanks use the major portion of the\\ndeposits to extend loans.  There is a\\nhuge demand for loans for various\\neconomic activities. We shall read more\\nabout this in the following sections.\\nBanks make use of the deposits to\\nmeet the loan requirements of the\\npeople.  In this way, banks mediate\\nbetween those who have surplus\\nfunds (the depositors) and those who\\nare in need of these funds (the\\nborrowers). Banks charge a higher\\ninterest rate on loans than what they\\noffer on deposits. The difference\\nbetween what is charged from\\nborrowers and what is paid to\\ndepositors is their main source of\\nincome.\\nLOAN ACTIVITIES OF BANKS\\nPeople make\\ndeposits\\nPeople make\\nwithdrawals and\\nget interest\\nPeople take\\nloans\\nPeople repay\\nloans with\\ninterest\\nDEPOSITORS BORROWERS\\n1. M. Salim wants to withdraw Rs 20,000 in cash for making payments. How would he\\nwrite a cheque to withdraw money?\\n2. Tick the correct answer .\\nAfter the transaction between Salim and Prem,\\n(i) Salim’s balance in his bank account increases, and Prem’s balance increases.\\n(ii) Salim’s balance in his bank account decreases and Prem’s balance increases.\\n(iii) Salim’s balance in his bank account increases and Prem’s balance decreases.\\n3. Why are demand deposits considered as money?\\nLET’S WORK THESE OUT\\nWhat do you think would happen\\nif all the depositors went to ask\\nfor their money at the same time?\\n2024-25\\n', mimetype=None, path=None, url=None), image_resource=None, audio_resource=None, video_resource=None, text_template='{metadata_str}\\n\\n{content}'),\n",
              " Document(id_='34e18533-94f5-4def-b278-d4491edb5d70', embedding=None, metadata={'page_label': '6', 'file_name': 'jess203.pdf', 'file_path': '/content/data/jess203.pdf', 'file_type': 'application/pdf', 'file_size': 3335877, 'creation_date': '2024-12-28', 'last_modified_date': '2024-12-28'}, excluded_embed_metadata_keys=['file_name', 'file_type', 'file_size', 'creation_date', 'last_modified_date', 'last_accessed_date'], excluded_llm_metadata_keys=['file_name', 'file_type', 'file_size', 'creation_date', 'last_modified_date', 'last_accessed_date'], relationships={}, metadata_template='{key}: {value}', metadata_separator='\\n', text_resource=MediaResource(embeddings=None, data=None, text='M MM MMONEYONEYONEY ONEYONEY      AND ANDAND ANDAND  C  C C  C C REDIT REDITREDIT REDITREDIT 43 4343 4343\\nA large number of transactions in our day-to-day activities\\ninvolve credit in some form or the other. Credit (loan) refers to\\nan agreement in which the lender supplies the borrower with\\nmoney, goods or services in return for the promise of future\\npayment. Let us see how credit works through the following\\ntwo examples.\\n(1) Festival Season(1) Festival Season(1) Festival Season(1) Festival Season(1) Festival Season\\nIt is festival season two months from now\\nand the shoe manufactur er, Salim, has\\nreceived an order from a large trader in\\ntown for 3,000 pairs of shoes to be\\ndelivered in a month time. To complete\\nproduction on time, Salim has to hire a few\\nmore workers for stitching and pasting\\nwork. He has to purchase the raw\\nmaterials. To meet these expenses, Salim\\nobtains loans from two sources. First, he\\nasks the leather supplier to supply leather\\nnow and pr omises to pay him later .\\nSecond, he obtains loan in cash from the\\nlarge trader as advance payment for\\n1000 pairs of shoes with a promise to\\ndeliver the whole order by the end of the\\nmonth.\\nAt the end of the month, Salim is able to\\ndeliver the order, make a good profit, and\\nrepay the money that he had borrowed.\\n(2) Swapna’s Problem(2) Swapna’s Problem(2) Swapna’s Problem(2) Swapna’s Problem(2) Swapna’s Problem\\nTWO DIFFERENT CREDIT SITU ATIONS\\nIn this case, Salim obtains credit to meet the working\\ncapital needs of production. The credit helps him to meet the\\nongoing expenses of production, complete production on time,\\nand thereby increase his earnings. Credit therefore plays a\\nvital and positive role in this situation.\\nSwapna, a small farmer, grows groundnut on her three\\nacres of land. She takes a loan from the moneylender\\nto meet the expenses of cultivation, hoping that her\\nharvest would help repay the loan. Midway through\\nthe season the crop is hit by pests and the crop\\nfails. Though Swapna sprays  her crops with\\nexpensive pesticides, it makes little difference. She\\nis unable to repay the moneylender and the debt\\ngrows over the year into a large amount. Next\\nyear, Swapna takes a fresh loan for cultivation.\\nIt is a nor mal crop this year. But the ear nings\\nare not enough to cover the old loan.\\nShe is caught in debt. She has to sell\\na part of the land to pay off the debt.\\n2024-25\\n', mimetype=None, path=None, url=None), image_resource=None, audio_resource=None, video_resource=None, text_template='{metadata_str}\\n\\n{content}'),\n",
              " Document(id_='2371672b-9358-4c73-9196-1becbca03c49', embedding=None, metadata={'page_label': '7', 'file_name': 'jess203.pdf', 'file_path': '/content/data/jess203.pdf', 'file_type': 'application/pdf', 'file_size': 3335877, 'creation_date': '2024-12-28', 'last_modified_date': '2024-12-28'}, excluded_embed_metadata_keys=['file_name', 'file_type', 'file_size', 'creation_date', 'last_modified_date', 'last_accessed_date'], excluded_llm_metadata_keys=['file_name', 'file_type', 'file_size', 'creation_date', 'last_modified_date', 'last_accessed_date'], relationships={}, metadata_template='{key}: {value}', metadata_separator='\\n', text_resource=MediaResource(embeddings=None, data=None, text='TERMS OF CREDIT\\nEvery loan agreement specifies an\\ninterest rate which the borrower must\\npay to the lender along with the\\nIn rural areas, the main demand\\nfor credit is for crop production. Crop\\nproduction involves considerable\\ncosts on seeds, fertilisers, pesticides,\\nwater, electricity, repair of equipment,\\netc. There is a minimum stretch of\\nthree to four months between the time\\nwhen the farmers buy these inputs\\nand when they sell the crop. Farmers\\nusually take crop loans at the\\nbeginning of the season and repay the\\nloan after harvest. Repayment of the\\nloan is crucially dependent on the\\nincome from farming.\\n1. Fill the following table.\\n2. Supposing Salim continues to get orders from traders. What would be\\nhis position after 6 years?\\n3. What are the reasons that make Swapna’s situation so risky? Discuss\\nfactors – pesticides; role of moneylenders; climate.\\nLET’S WORK THESE OUT\\nSalim Swapna\\nWhy did they need credit?\\nWhat was the risk?\\nWhat was the outcome?\\nIn Swapna’s case, the failure of the\\ncrop made loan repayment\\nimpossible. She had to sell part of the\\nland to repay the loan. Credit, instead\\nof helping Swapna improve her\\nearnings, left her worse off. This is an\\nexample of what is commonly called\\ndebt-trap. Credit in this case pushes\\nthe borrower into a situation from\\nwhich recovery is very painful.\\nIn one situation credit helps to\\nincrease earnings and therefore the\\nperson is better off than before. In\\nanother situation, because of the\\ncrop failure, credit\\npushes the person into\\na debt trap. To repay\\nher loan she has to sell\\na portion of her land.\\nShe is clearly much\\nworse off than before.\\nWhether credit would\\nbe useful or not,\\ntherefore, depends\\non the risks in the\\nsituation and whether\\nthere is some support ,\\nin case of loss.\\nrepayment of the principal. In\\naddition, lenders may demand\\ncollateral (security) against loans.\\nCollateral is an asset that the\\nborrower owns (such as land,\\nbuilding, vehicle, livestocks,\\ndeposits with banks) and  uses this\\nas a guarantee to a lender until\\nthe loan is repaid. If the borrower\\nfails to repay the loan, the lender has\\nthe right to sell the asset or collateral\\nto obtain payment. Property such as\\nland titles, deposits with banks,\\nlivestock are some common examples\\nof collateral used for borrowing.\\n2024-25\\n', mimetype=None, path=None, url=None), image_resource=None, audio_resource=None, video_resource=None, text_template='{metadata_str}\\n\\n{content}'),\n",
              " Document(id_='40077338-e2a4-462d-b803-bceeee24ac02', embedding=None, metadata={'page_label': '8', 'file_name': 'jess203.pdf', 'file_path': '/content/data/jess203.pdf', 'file_type': 'application/pdf', 'file_size': 3335877, 'creation_date': '2024-12-28', 'last_modified_date': '2024-12-28'}, excluded_embed_metadata_keys=['file_name', 'file_type', 'file_size', 'creation_date', 'last_modified_date', 'last_accessed_date'], excluded_llm_metadata_keys=['file_name', 'file_type', 'file_size', 'creation_date', 'last_modified_date', 'last_accessed_date'], relationships={}, metadata_template='{key}: {value}', metadata_separator='\\n', text_resource=MediaResource(embeddings=None, data=None, text='M MM MMONEYONEYONEY ONEYONEY      AND ANDAND ANDAND  C  C C  C C REDIT REDITREDIT REDITREDIT 45 4545 4545\\nA House LoanA House LoanA House LoanA House LoanA House Loan\\nMegha has taken a loan of Rs 5 lakhs from the\\nbank  to purchase a house. The annual interest\\nrate on the loan is 12 per cent and the loan is to\\nbe repaid in 10 years in monthly instalments.\\nMegha had to submit to the bank, documents\\nshowing her employment records and salary\\nbefore the bank agreed to give her the loan. The\\nbank retained as collateral the papers of the new\\nhouse, which will be returned to Megha only\\nwhen she repays the entire loan with interest.\\nFill the following details of Megha’s housing loan.\\nInterest rate, collateral and\\ndocumentation requirement, and the\\nmode of repayment together comprise\\nwhat is called the terms of credit. The\\nterms of credit vary substantially from\\none credit arrangement to another .\\nThey may vary depending on the\\nnature of the lender and the borrower.\\nThe next section will provide examples\\nof the varying terms of credit in\\ndifferent credit arrangements.\\n1. Why do lenders ask for collateral while lending?\\n2. Given that a large number of people in our country are poor , does it in any way\\naffect their capacity to borrow?\\n3. Fill in the blanks choosing the correct option from the brackets.\\nWhile taking a loan, borrowers look for easy terms of credit. This\\nmeans __________ (low/high) interest rate, ______________(easy/\\ntough) conditions for repayment, ___________(less/more) collateral\\nand documentation requirements.\\nLET’S WORK THESE OUT\\nLoan amount (in Rupees)\\nDuration of loan\\nDocuments required\\nInterest rate\\nMode of repayment\\nCollateral\\n2024-25\\n', mimetype=None, path=None, url=None), image_resource=None, audio_resource=None, video_resource=None, text_template='{metadata_str}\\n\\n{content}'),\n",
              " Document(id_='5c6ecb56-dd41-4fde-b0f4-bbc04d28d92c', embedding=None, metadata={'page_label': '9', 'file_name': 'jess203.pdf', 'file_path': '/content/data/jess203.pdf', 'file_type': 'application/pdf', 'file_size': 3335877, 'creation_date': '2024-12-28', 'last_modified_date': '2024-12-28'}, excluded_embed_metadata_keys=['file_name', 'file_type', 'file_size', 'creation_date', 'last_modified_date', 'last_accessed_date'], excluded_llm_metadata_keys=['file_name', 'file_type', 'file_size', 'creation_date', 'last_modified_date', 'last_accessed_date'], relationships={}, metadata_template='{key}: {value}', metadata_separator='\\n', text_resource=MediaResource(embeddings=None, data=None, text='S SS SShyamal tells us that every season he needs\\nloans for cultivation on his 1.5 acres of land. Till\\na few years back, he would borrow money from\\nthe village moneylender at an interest rate of\\nfive per cent per month (60% per annum).\\nFor the last few years , Shyamal has been\\nborrowing from an agricultural trader in the\\nvillage at an interest rate of three per cent\\nper month. At the beginning of the cropping\\nseason, the trader supplies the farm inputs on\\ncredit, which is  to be repaid when the crops\\nare ready for harvest.\\nBesides the interest charge on the loan, the\\ntrader also makes the farmers promise to\\nsell the crop to him. This way the trader\\ncan ensure that the money is repaid\\npromptly. Also, since the crop prices are low\\nafter the harvest, the trader is able to\\nmake a profit from buying the crop at a low\\nprice from the farmers and then selling it\\nlater when the price has risen.\\nVariety of Credit ArrangementsVariety of Credit ArrangementsVariety of Credit ArrangementsVariety of Credit ArrangementsVariety of Credit Arrangements\\nExample of a Village\\nRohit and Ranjan had finished reading about the terms of credit in class.\\nThey were eager to know the various credit arrangements that existed in\\ntheir area: who were the people who provided credit? Who were the\\nborrowers? What were the terms of credit? They decided to talk to some\\npeople in their village.  Read what they record...\\n15th Nov, 2019.\\nWe head directly for the fields where most farmers and\\nlabourers would be working at this time of the day\\n. The fields\\nare planted with potato crops\\n. We first meet Shyamal, a small\\nfarmer in Sonpur, a small irrigated village. W WW WWe next meet Arun who is supervising the\\nwork of one farm labour er. Arun has sev en\\nacres of land. He is one of the few persons\\nin Sonpur to receive bank loan for\\ncultivation. The interest rate on the  loan\\nis 8.5 per cent per annum, and can be repaid\\nanytime in the next three years.  Arun plans\\nto repay the loan after harvest by selling a\\npart of the crop . He then intends to stor e\\nthe rest of the potatoes in a cold storage\\nand  apply for a fresh loan from the bank\\nagainst the cold storage receipt. The bank\\noffers this facility to farmers who have\\ntaken crop loan from them.\\nRRRRRama is working in a neighbouring field. She\\nworks as an agricultural labourer. There areseveral months in the year when Rama has\\nno work, and needs credit to meet the daily\\nexpenses. Expenses on sudden illnesses or\\nfunctions in the family are also met through\\nloans. Rama has to depend on her employer,a medium landowner in Sonpur , for cr edit.The landowner char ges an inter est rate of5 per cent per month. Rama repays the\\nmoney by working for the landowner . Mostof the time, Rama has to take a fresh loan,\\nbefore the previous loan has been repaid.\\nAt present, she owes the landowner\\nRs 5,000. Though the landowner doesn’t\\ntreat her well, she continues to work for him\\nsince she can get loans from him when in\\nneed. Rama tells us that the only source of\\ncredit for the landless people in Sonpur are\\nthe landowner-employers.\\n2024-25\\n', mimetype=None, path=None, url=None), image_resource=None, audio_resource=None, video_resource=None, text_template='{metadata_str}\\n\\n{content}'),\n",
              " Document(id_='22085ea8-d825-40d4-a942-fe467cc9ff2e', embedding=None, metadata={'page_label': '10', 'file_name': 'jess203.pdf', 'file_path': '/content/data/jess203.pdf', 'file_type': 'application/pdf', 'file_size': 3335877, 'creation_date': '2024-12-28', 'last_modified_date': '2024-12-28'}, excluded_embed_metadata_keys=['file_name', 'file_type', 'file_size', 'creation_date', 'last_modified_date', 'last_accessed_date'], excluded_llm_metadata_keys=['file_name', 'file_type', 'file_size', 'creation_date', 'last_modified_date', 'last_accessed_date'], relationships={}, metadata_template='{key}: {value}', metadata_separator='\\n', text_resource=MediaResource(embeddings=None, data=None, text='Loans from CooperativesLoans from CooperativesLoans from CooperativesLoans from CooperativesLoans from Cooperatives\\nBesides banks, the other major source of cheap credit\\nin rural areas are the cooperative societies (or\\ncooperatives).  Members of a cooperative pool their\\nresources for cooperation in certain areas. There are\\nseveral types of cooperatives possible such as\\nfarmers cooperatives, weavers cooperatives,\\nindustrial workers cooperatives, etc. Krishak\\nCooperative functions in a village not very far away\\nfrom Sonpur . It has 2300 far mers as members. It\\naccepts deposits from its members. With these\\ndeposits as collateral, the Cooperative has obtained\\na large loan from the bank. These funds are used to\\nprovide loans to members. Once these loans are\\nrepaid, another round of lending can take place.\\nKrishak Cooperative provides loans for the purchase\\nof agricultural implements, loans for cultivation\\nand agricultural trade, fishery loans, loans for\\nconstruction of houses and for a variety of other\\nexpenses.\\n1. List the various sources of credit in Sonpur .\\n2. Underline the various uses of credit in Sonpur in the above passages.\\n3. Compare the terms of credit for the small farmer, the medium farmer and the landless\\nagricultural worker in Sonpur .\\n4. Why will Arun have a higher income from cultivation comp ared to Shyamal?\\n5. Can everyone in Sonpur get credit at a cheap rate? Who are the people who can?\\n6. Tick the correct answer .\\n(i) Over the years, Rama’s debt\\n· will rise.\\n· will remain constant.\\n· will decline.\\n(ii) Arun is one of the few people in Sonpur to t ake a bank loan because\\n· other people in the village prefer to borrow from the moneylenders.\\n· banks demand collateral which everyone cannot provide.\\n· interest rate on bank loans is same as the interest rate charged by\\nthe traders.\\n7. Talk to some people to find out the credit arrangements that exist in your area. Record\\nyour conversation. Note the differences in the terms of credit across people.\\nLET’S WORK THESE OUT\\nM MM MMONEYONEYONEY ONEYONEY      AND ANDAND ANDAND  C  C C  C C REDIT REDITREDIT REDITREDIT 47 4747 4747\\n2024-25\\n', mimetype=None, path=None, url=None), image_resource=None, audio_resource=None, video_resource=None, text_template='{metadata_str}\\n\\n{content}'),\n",
              " Document(id_='b49c3872-f652-4805-8b26-4e0e2b2c4eb1', embedding=None, metadata={'page_label': '11', 'file_name': 'jess203.pdf', 'file_path': '/content/data/jess203.pdf', 'file_type': 'application/pdf', 'file_size': 3335877, 'creation_date': '2024-12-28', 'last_modified_date': '2024-12-28'}, excluded_embed_metadata_keys=['file_name', 'file_type', 'file_size', 'creation_date', 'last_modified_date', 'last_accessed_date'], excluded_llm_metadata_keys=['file_name', 'file_type', 'file_size', 'creation_date', 'last_modified_date', 'last_accessed_date'], relationships={}, metadata_template='{key}: {value}', metadata_separator='\\n', text_resource=MediaResource(embeddings=None, data=None, text='the RBI sees that the banks give loans\\nnot just to profit-making businesses\\nand traders but also to small\\ncultivators, small scale industries, to\\nsmall borrowers etc. Periodically,\\nbanks have to submit information to\\nthe RBI on how much they are\\nlending, to whom, at what interest\\nrate, etc.\\nThere is no organisation which\\nsupervises the credit activities of\\nlenders in the informal sector. They\\ncan lend at whatever interest rate they\\nWe have seen in the\\nabove examples that\\npeople obtain loans from\\nvarious sources. The\\nvarious types of loans\\ncan be conveniently\\ngrouped as formal\\nsector loans and\\ninformal sector loans.\\nAmong the former\\nare loans from banks\\nand cooperatives. The\\ninformal lenders include\\nmoneylenders, traders,\\nemployers, relatives and\\nfriends, etc.  In Graph 1\\nyou can see the various\\nsources of credit to rural\\nhouseholds in India. Is more credit\\ncoming from the formal sector or the\\ninformal sector?\\nThe Reserve Bank of India\\nsupervises the functioning of formal\\nsources of loans.  For instance, we\\nhave seen that the banks maintain a\\nminimum cash balance out of the\\ndeposits they receive. The RBI\\nmonitors the banks in actually\\nmaintaining cash balance. Similarly,\\nFORMAL SECTOR CREDIT IN INDIA\\nBUT WHY SHOULD\\nA BANK WANT US USUS USUS     TO\\nHAVE A HIGHER INCOME?\\nGraph 1 : Sources of Credit in Rural India, 2019\\nOther Informal\\nAgencies, 3%\\nCooperative Banks\\nand Society , 10%\\nRelatives and\\nFriends, 7%\\nLandlords, 1%\\nCommercial\\nBanks, 51%\\nMoneylenders,\\n23%\\nOther Formal\\nAgencies, 5%\\n2024-25\\n', mimetype=None, path=None, url=None), image_resource=None, audio_resource=None, video_resource=None, text_template='{metadata_str}\\n\\n{content}'),\n",
              " Document(id_='35bd925c-26e2-46c4-8de8-1a4208376375', embedding=None, metadata={'page_label': '12', 'file_name': 'jess203.pdf', 'file_path': '/content/data/jess203.pdf', 'file_type': 'application/pdf', 'file_size': 3335877, 'creation_date': '2024-12-28', 'last_modified_date': '2024-12-28'}, excluded_embed_metadata_keys=['file_name', 'file_type', 'file_size', 'creation_date', 'last_modified_date', 'last_accessed_date'], excluded_llm_metadata_keys=['file_name', 'file_type', 'file_size', 'creation_date', 'last_modified_date', 'last_accessed_date'], relationships={}, metadata_template='{key}: {value}', metadata_separator='\\n', text_resource=MediaResource(embeddings=None, data=None, text='M MM MMONEY ONEYONEYONEYONEY      AND ANDAND ANDAND  C  C C  C C REDIT REDITREDIT REDITREDIT 49 4949 4949\\nchoose. There is no one to stop them\\nfrom using unfair means to get their\\nmoney back.\\nCompared to the formal lenders,\\nmost of the informal lenders charge a\\nmuch higher interest on loans. Thus,\\nthe cost to the borrower of informal\\nloans is much higher.\\nHigher cost of borrowing means a\\nlarger part of the earnings of the\\nborrowers is used to repay the loan.\\nHence, borrowers have less income\\nleft for themselves (as we saw for\\nShyamal in Sonpur). In certain\\ncases, the high interest rate for\\nborrowing can mean that the amount\\nto be repaid is greater than the\\nincome of the borrower. This could\\nlead to increasing debt (as we saw for\\nRama in Sonpur) and debt trap. Also,\\npeople who might wish to start an\\nenterprise by borrowing may not do\\nso because of the high cost of\\nborrowing.\\nFor these reasons, banks and\\ncooperative societies need to lend\\nmore. This would lead to higher in-\\ncomes and many people could then\\nborrow cheaply for a variety\\nof needs. They could grow crops,\\ndo business, set up small-scale indus-\\ntries etc. They could set up new indus-\\ntries or trade in goods. Cheap and\\naffordable credit is crucial for the\\ncountry’s development.\\nFormal and Informal Credit:\\nWho gets what?\\nGraph 2 shows the importance of\\nformal and informal sources of credit\\nfor people in urban areas.  The people\\nare divided into four groups, from poor\\nto rich, as shown in the figure. You can\\nsee that 84 per cent of the loans taken\\nby poor households in the urban areas\\nare from informal sources. Compare\\nthis with the rich urban households.\\nWhat do you find? Only 17 per cent of\\ntheir loans are from informal sources,\\nwhile 83 per cent are from formal\\nsources. A similar pattern is also found\\nin rural areas. The rich households are\\navailing cheap credit from formal\\nlenders whereas the poor households\\nhave to pay a large amount for\\nborrowing.\\nWhat does all this suggest? First,\\nthe formal sector still meets only about\\nhalf of the total credit needs of the\\nrural people. The remaining credit\\nneeds are met from informal sources.\\nPoor Households    Well-off       Rich\\nHouseholds with a few assets    Households      Households\\nBLUE : Per cent of loans from the FORMAL sector\\nORANGE: Per cent of loans from the INFORMAL sector\\nGraph 2 : Of all the loans taken by urban households, what\\npercentage was formal and what percentage was informal?\\n2024-25\\n', mimetype=None, path=None, url=None), image_resource=None, audio_resource=None, video_resource=None, text_template='{metadata_str}\\n\\n{content}'),\n",
              " Document(id_='9409a2bc-f5b1-45bf-9e32-41cf0172bab7', embedding=None, metadata={'page_label': '13', 'file_name': 'jess203.pdf', 'file_path': '/content/data/jess203.pdf', 'file_type': 'application/pdf', 'file_size': 3335877, 'creation_date': '2024-12-28', 'last_modified_date': '2024-12-28'}, excluded_embed_metadata_keys=['file_name', 'file_type', 'file_size', 'creation_date', 'last_modified_date', 'last_accessed_date'], excluded_llm_metadata_keys=['file_name', 'file_type', 'file_size', 'creation_date', 'last_modified_date', 'last_accessed_date'], relationships={}, metadata_template='{key}: {value}', metadata_separator='\\n', text_resource=MediaResource(embeddings=None, data=None, text='50 5050 5050 U UUUUNDERST NDERSTNDERSTNDERSTNDERST ANDING ANDINGANDING ANDINGANDING  E  E E  E E CONOMICCONOMICCONOMICCONOMICCONOMIC  D  D D  D D EVEL EVELEVEL EVELEVEL OPMENT OPMENTOPMENT OPMENTOPMENT\\nMost loans from informal lenders\\ncarry a very high interest rate and do\\nlittle to increase the income of the\\nborrowers. Thus, it is necessary\\nthat banks and cooperatives\\nincrease their lending particularly\\nin the rural areas, so that the\\ndependence on informal sources\\nof credit reduces.\\n1. What are the differences between formal and informal sources of credit?\\n2. Why should credit at reasonable rates be available for all?\\n3. Should there be a supervisor , such as the Reserve Bank of India, that looks into the\\nloan activities of informal lenders? Why would its task be quite difficult?\\n4. Why do you think that the share of formal sector credit is higher for the richer households\\ncompared to the poorer households?\\nLET’S WORK THESE OUT\\nSELF-HELP GROUPS FOR THE POOR\\nSecondly, while formal sector\\nloans need to expand, it is also\\nnecessary that everyone receives\\nthese loans. At present, it is the richer\\nhouseholds who receive formal credit\\nwhereas the poor have to depend on\\nthe informal sources. It is important\\nthat the formal credit is distributed\\nmore equally so that the poor can\\nbenefit from the cheaper loans.\\nIn the previous section we have seen\\nthat poor households are still\\ndependent on informal sources of\\ncredit. Why is it so? Banks are not\\npresent everywhere in rural India.\\nEven when they are present, getting a\\nloan from a bank is much more\\ndifficult than taking a loan from\\ninformal sources. As we saw for\\nMegha, bank loans require proper\\ndocuments and collateral. Absence of\\ncollateral is one of the major reasons\\nwhich prevents the poor from getting\\nbank loans. Informal lenders such as\\nmoneylenders, on the other hand,\\nknow the borrowers personally and\\nhence are often willing to give a\\nloan without collateral. The borrowers\\ncan, if necessary, approach the\\nmoneylenders even without repaying\\nA worker\\nstitching a quilt\\nDO YOU THINK A BANK\\nWILL GIVE ME A\\nLOAN?\\n2024-25\\n', mimetype=None, path=None, url=None), image_resource=None, audio_resource=None, video_resource=None, text_template='{metadata_str}\\n\\n{content}'),\n",
              " Document(id_='3d410747-83fc-4fc0-98dc-560cbbef688d', embedding=None, metadata={'page_label': '14', 'file_name': 'jess203.pdf', 'file_path': '/content/data/jess203.pdf', 'file_type': 'application/pdf', 'file_size': 3335877, 'creation_date': '2024-12-28', 'last_modified_date': '2024-12-28'}, excluded_embed_metadata_keys=['file_name', 'file_type', 'file_size', 'creation_date', 'last_modified_date', 'last_accessed_date'], excluded_llm_metadata_keys=['file_name', 'file_type', 'file_size', 'creation_date', 'last_modified_date', 'last_accessed_date'], relationships={}, metadata_template='{key}: {value}', metadata_separator='\\n', text_resource=MediaResource(embeddings=None, data=None, text='M MM MMONEYONEYONEY ONEYONEY      AND ANDAND ANDAND  C  C C  C C REDIT REDITREDIT REDITREDIT 51 5151 5151\\ntheir earlier loans. However , the\\nmoneylenders charge very high rates\\nof interest, keep no records of the\\ntransactions and harass the poor\\nborrowers.\\nIn recent years, people have tried\\nout some newer ways of providing\\nloans to the poor . The idea is to\\norganise rural poor , in particular\\nwomen, into small Self Help Groups\\n(SHGs) and pool (collect) their\\nsavings. A typical SHG has 15-20\\nmembers, usually belonging to one\\nneighbourhood, who meet and save\\nregularly. Saving per member varies\\nfrom Rs 25 to Rs 100 or more,\\ndepending on the ability of the people\\nto save. Members can take small loans\\nfrom the group itself to meet their\\nneeds. The group charges interest on\\nthese loans but this is still less than\\nwhat the moneylender charges. After\\na year or two, if the group is regular\\nin savings, it becomes eligible for\\navailing loan from the bank.\\nLoan is sanctioned in the\\nname of the group and is\\nmeant to create self-\\nemployment opportunities\\nfor the members. For\\ninstance, small loans are\\nprovided to the members for\\nreleasing mortgaged land,\\nfor meeting working capital\\nneeds (e.g. buying seeds,\\nfertilisers, raw materials\\nlike bamboo and cloth), for\\nhousing materials, for\\nacquiring assets like sewing\\nmachine, handlooms, cattle,\\netc.\\nMost of the important\\ndecisions regarding the\\nsavings and loan activities\\nare taken by the group\\nmembers. The group\\ndecides as regards the loans\\nto be granted — the purpose, amount,\\ninterest to be charged, repayment\\nschedule etc.  Also, it is the group\\nwhich is responsible for the repayment\\nof the loan. Any case of non-\\nrepayment of loan by any one\\nmember is followed up seriously by\\nother members in the group. Because\\nof this feature, banks are willing to\\nlend to the poor women when\\norganised in SHGs, even though they\\nhave no collateral as such.\\nThus, the SHGs help borrowers\\novercome the problem of lack of\\ncollateral. They can get timely loans\\nfor a variety of purposes and at a\\nreasonable inter est rate. Mor eover,\\nSHGs are the building blocks of\\norganisation of the rural poor . Not\\nonly does it help women to become\\nfinancially self-reliant, the regular\\nmeetings of the group provide a\\nplatform to discuss and act on a\\nvariety of social issues such as health,\\nnutrition, domestic violence, etc.\\nA women’s self-help group\\nmeeting in Gujarat\\n2024-25\\n', mimetype=None, path=None, url=None), image_resource=None, audio_resource=None, video_resource=None, text_template='{metadata_str}\\n\\n{content}'),\n",
              " Document(id_='e598b31a-4d5b-4afb-ae10-82d51d5056a8', embedding=None, metadata={'page_label': '15', 'file_name': 'jess203.pdf', 'file_path': '/content/data/jess203.pdf', 'file_type': 'application/pdf', 'file_size': 3335877, 'creation_date': '2024-12-28', 'last_modified_date': '2024-12-28'}, excluded_embed_metadata_keys=['file_name', 'file_type', 'file_size', 'creation_date', 'last_modified_date', 'last_accessed_date'], excluded_llm_metadata_keys=['file_name', 'file_type', 'file_size', 'creation_date', 'last_modified_date', 'last_accessed_date'], relationships={}, metadata_template='{key}: {value}', metadata_separator='\\n', text_resource=MediaResource(embeddings=None, data=None, text='In this chapter we have looked at the\\nmodern forms of money and how they\\nare linked with the banking system.\\nOn one side are the depositors who\\nkeep their money in the banks and on\\nthe other side are the borrowers who\\ntake loans from these banks. Economic\\nactivities require loans or credit. Credit,\\nas we saw can have a positive impact,\\nor in certain situations make the\\nborrower worse off.\\nCredit is available from a variety of\\nsources. These can be either formal\\nsources or informal sources. Terms of\\nGrameen Bank of BangladeshGrameen Bank of BangladeshGrameen Bank of BangladeshGrameen Bank of BangladeshGrameen Bank of Bangladesh\\n“If credit can be made available to\\nthe poor people on terms and\\nconditions that are appropriate and\\nreasonable these millions of small\\npeople with their millions of small\\npursuits can add up to create the\\nbiggest development wonder.”\\nProfessor Muhammad Yunus,\\nthe founder of Grameen Bank,\\nand recipient of 2006 Nobel Prize for Peace\\nSUMMING UP\\ncredit var y substantially between\\nformal and informal lenders. At\\npresent, it is the richer households\\nwho receive credit from formal sources\\nwhereas the poor have to depend on\\nthe informal sources. It is essential\\nthat the total formal sector credit\\nincreases so that the dependence on\\nthe more expensive informal credit\\nbecomes less. Also, the poor should\\nget a much greater share of formal\\nloans from banks, cooperative\\nsocieties etc. Both these steps are\\nimportant for development.\\nGrameen Bank of Bangladesh is one of the\\nbiggest success stories in reaching the poor to\\nmeet their credit needs at reasonable rates.\\nStarted in the 1970s as a small project,\\nGrameen Bank in 2018 ha d over 9 million\\nmembers in about 81, 600 villages spread\\nacross Bangladesh. Almost all of the borrowers\\nare women and belong to poorest sections of\\nthe society. These borrowers have proved that\\nnot only are poor women reliable borrowers, but\\nthat they can start and run a variety of small\\nincome-generating activities successfully.\\nEXERCISES\\n1. In situations with high risks, credit might create further problems for the borrower .\\nExplain.\\n2. How does money solve the problem of double coincidence of wants? Explain with\\nan example of your own.\\n3. How do banks mediate between those who have surplus money and those who\\nneed money?\\n4. Look at a 10 rupee note. What is written on top? Can you explain this statement?\\n5. Why do we need to expand formal sources of credit in India?\\n6. What is the basic idea behind the SHGs for the poor? Explain in your own words.\\n7. What are the reasons why the banks might not be willing to lend to certain borrowers?\\n52 5252 5252 U UUUUNDERST NDERSTNDERST NDERSTNDERST ANDINGANDINGANDING ANDINGANDING  E  E E  E E CONOMICCONOMICCONOMICCONOMICCONOMIC  D  D D  D D EVEL EVELEVEL EVELEVEL OPMENT OPMENTOPMENT OPMENTOPMENT\\n2024-25\\n', mimetype=None, path=None, url=None), image_resource=None, audio_resource=None, video_resource=None, text_template='{metadata_str}\\n\\n{content}'),\n",
              " Document(id_='89616577-aac2-48fa-96c7-5d869463ce86', embedding=None, metadata={'page_label': '16', 'file_name': 'jess203.pdf', 'file_path': '/content/data/jess203.pdf', 'file_type': 'application/pdf', 'file_size': 3335877, 'creation_date': '2024-12-28', 'last_modified_date': '2024-12-28'}, excluded_embed_metadata_keys=['file_name', 'file_type', 'file_size', 'creation_date', 'last_modified_date', 'last_accessed_date'], excluded_llm_metadata_keys=['file_name', 'file_type', 'file_size', 'creation_date', 'last_modified_date', 'last_accessed_date'], relationships={}, metadata_template='{key}: {value}', metadata_separator='\\n', text_resource=MediaResource(embeddings=None, data=None, text='8. In what ways does the Reserve Bank of India supervise the functioning of banks?\\nWhy is this necessary?\\n9. Analyse the role of credit for development.\\n10. Manav needs a loan to set up a small business. On what basis will Manav decide\\nwhether to borrow from the bank or the moneylender? Discuss.\\n11. In India, about 80 per cent of farmers are small farmers, who need credit for cultivation.\\n(a) Why might banks be unwilling to lend to small farmers?\\n(b) What are the other sources from which the small farmers can borrow?\\n(c) Explain with an example how the terms of credit can be unfavourable for the\\nsmall farmer.\\n(d) Suggest some ways by which small farmers can get cheap credit.\\n12. Fill in the blanks:\\n(i) Majority of the credit needs of the _________________households are met\\nfrom informal sources.\\n(ii) ___________________costs of borrowing increase the debt-burden.\\n(iii) __________________  issues currency notes on behalf of the Central\\nGovernment.\\n(iv) Banks charge a higher interest rate on loans than what they offer on\\n__________.\\n(v) _______________ is an asset that the borrower owns and uses as a guarantee\\nuntil the loan is rep aid to the lender .\\n13. Choose the most appropriate answer .\\n(i) In a SHG most of the decisions regarding savings and loan activities are taken by\\n(a) Bank.\\n(b) Members.\\n(c) Non-government organisation.\\n(ii) Formal sources of credit does not include\\n(a) Banks.\\n(b) Cooperatives.\\n(c) Employers.\\nThe following table shows people in a variety of occupations in urban areas. What\\nare the purposes for which the following people might need loans? Fill in the column.\\nOccupations Reason for needing a Loan\\nConstruction worker\\xa0\\nGraduate student who is computer literate \\xa0\\nA person employed in government service \\xa0\\nMigrant labourer in Delhi \\xa0\\nHousehold maid \\xa0\\nSmall trader \\xa0\\nAutorickshaw driver \\xa0\\nA worker whose factory has closed down \\xa0\\nNext, classify the people into two groups based on whom you think might get a bank\\nloan and those who might not. What is the criterion that you have used for classification?\\nADDITIONAL PROJECT / ACTIVITY\\nM MM MMONEYONEYONEY ONEYONEY      AND ANDAND ANDAND  C  C C  C C REDIT REDITREDIT REDITREDIT 53 5353 5353\\n2024-25\\n', mimetype=None, path=None, url=None), image_resource=None, audio_resource=None, video_resource=None, text_template='{metadata_str}\\n\\n{content}')]"
            ]
          },
          "metadata": {},
          "execution_count": 60
        }
      ]
    },
    {
      "cell_type": "code",
      "source": [
        "query_engine=index.as_query_engine()"
      ],
      "metadata": {
        "id": "N0PInkcSG4rc"
      },
      "execution_count": 61,
      "outputs": []
    },
    {
      "cell_type": "code",
      "source": [
        "query_engine.query(\"what is money?\")"
      ],
      "metadata": {
        "id": "7LwC7RHMHAAi"
      },
      "execution_count": null,
      "outputs": []
    }
  ],
  "metadata": {
    "kernelspec": {
      "display_name": ".venv",
      "language": "python",
      "name": "python3"
    },
    "language_info": {
      "codemirror_mode": {
        "name": "ipython",
        "version": 3
      },
      "file_extension": ".py",
      "mimetype": "text/x-python",
      "name": "python",
      "nbconvert_exporter": "python",
      "pygments_lexer": "ipython3",
      "version": "3.9.6"
    },
    "colab": {
      "provenance": [],
      "include_colab_link": true
    },
    "widgets": {
      "application/vnd.jupyter.widget-state+json": {
        "158a688062a94bf4b83bcb3fd7a17369": {
          "model_module": "@jupyter-widgets/controls",
          "model_name": "HBoxModel",
          "model_module_version": "1.5.0",
          "state": {
            "_dom_classes": [],
            "_model_module": "@jupyter-widgets/controls",
            "_model_module_version": "1.5.0",
            "_model_name": "HBoxModel",
            "_view_count": null,
            "_view_module": "@jupyter-widgets/controls",
            "_view_module_version": "1.5.0",
            "_view_name": "HBoxView",
            "box_style": "",
            "children": [
              "IPY_MODEL_28d950a0b4664f8aa03d002c40dc2a99",
              "IPY_MODEL_0ac0a4dfabe949ef9e1e468908c7af28",
              "IPY_MODEL_8b3444c390b94bdab715038cd0e0b54c"
            ],
            "layout": "IPY_MODEL_32a23aa8b2b044d9aaa165dc2e256985"
          }
        },
        "28d950a0b4664f8aa03d002c40dc2a99": {
          "model_module": "@jupyter-widgets/controls",
          "model_name": "HTMLModel",
          "model_module_version": "1.5.0",
          "state": {
            "_dom_classes": [],
            "_model_module": "@jupyter-widgets/controls",
            "_model_module_version": "1.5.0",
            "_model_name": "HTMLModel",
            "_view_count": null,
            "_view_module": "@jupyter-widgets/controls",
            "_view_module_version": "1.5.0",
            "_view_name": "HTMLView",
            "description": "",
            "description_tooltip": null,
            "layout": "IPY_MODEL_5a74e5c070264c2187f0b3aaed9fd615",
            "placeholder": "​",
            "style": "IPY_MODEL_f0f5274e58874b338697c067d816ec61",
            "value": "Loading checkpoint shards: 100%"
          }
        },
        "0ac0a4dfabe949ef9e1e468908c7af28": {
          "model_module": "@jupyter-widgets/controls",
          "model_name": "FloatProgressModel",
          "model_module_version": "1.5.0",
          "state": {
            "_dom_classes": [],
            "_model_module": "@jupyter-widgets/controls",
            "_model_module_version": "1.5.0",
            "_model_name": "FloatProgressModel",
            "_view_count": null,
            "_view_module": "@jupyter-widgets/controls",
            "_view_module_version": "1.5.0",
            "_view_name": "ProgressView",
            "bar_style": "success",
            "description": "",
            "description_tooltip": null,
            "layout": "IPY_MODEL_98ea86c7d09142f68582b7a90ee365b0",
            "max": 2,
            "min": 0,
            "orientation": "horizontal",
            "style": "IPY_MODEL_487879fe6c8848e9b5bcc5778102fef7",
            "value": 2
          }
        },
        "8b3444c390b94bdab715038cd0e0b54c": {
          "model_module": "@jupyter-widgets/controls",
          "model_name": "HTMLModel",
          "model_module_version": "1.5.0",
          "state": {
            "_dom_classes": [],
            "_model_module": "@jupyter-widgets/controls",
            "_model_module_version": "1.5.0",
            "_model_name": "HTMLModel",
            "_view_count": null,
            "_view_module": "@jupyter-widgets/controls",
            "_view_module_version": "1.5.0",
            "_view_name": "HTMLView",
            "description": "",
            "description_tooltip": null,
            "layout": "IPY_MODEL_8c92d442f59c4652a05f4ca5928042ba",
            "placeholder": "​",
            "style": "IPY_MODEL_ff7c1082e5b14711a0420f82a1e6a14c",
            "value": " 2/2 [00:03&lt;00:00,  1.42s/it]"
          }
        },
        "32a23aa8b2b044d9aaa165dc2e256985": {
          "model_module": "@jupyter-widgets/base",
          "model_name": "LayoutModel",
          "model_module_version": "1.2.0",
          "state": {
            "_model_module": "@jupyter-widgets/base",
            "_model_module_version": "1.2.0",
            "_model_name": "LayoutModel",
            "_view_count": null,
            "_view_module": "@jupyter-widgets/base",
            "_view_module_version": "1.2.0",
            "_view_name": "LayoutView",
            "align_content": null,
            "align_items": null,
            "align_self": null,
            "border": null,
            "bottom": null,
            "display": null,
            "flex": null,
            "flex_flow": null,
            "grid_area": null,
            "grid_auto_columns": null,
            "grid_auto_flow": null,
            "grid_auto_rows": null,
            "grid_column": null,
            "grid_gap": null,
            "grid_row": null,
            "grid_template_areas": null,
            "grid_template_columns": null,
            "grid_template_rows": null,
            "height": null,
            "justify_content": null,
            "justify_items": null,
            "left": null,
            "margin": null,
            "max_height": null,
            "max_width": null,
            "min_height": null,
            "min_width": null,
            "object_fit": null,
            "object_position": null,
            "order": null,
            "overflow": null,
            "overflow_x": null,
            "overflow_y": null,
            "padding": null,
            "right": null,
            "top": null,
            "visibility": null,
            "width": null
          }
        },
        "5a74e5c070264c2187f0b3aaed9fd615": {
          "model_module": "@jupyter-widgets/base",
          "model_name": "LayoutModel",
          "model_module_version": "1.2.0",
          "state": {
            "_model_module": "@jupyter-widgets/base",
            "_model_module_version": "1.2.0",
            "_model_name": "LayoutModel",
            "_view_count": null,
            "_view_module": "@jupyter-widgets/base",
            "_view_module_version": "1.2.0",
            "_view_name": "LayoutView",
            "align_content": null,
            "align_items": null,
            "align_self": null,
            "border": null,
            "bottom": null,
            "display": null,
            "flex": null,
            "flex_flow": null,
            "grid_area": null,
            "grid_auto_columns": null,
            "grid_auto_flow": null,
            "grid_auto_rows": null,
            "grid_column": null,
            "grid_gap": null,
            "grid_row": null,
            "grid_template_areas": null,
            "grid_template_columns": null,
            "grid_template_rows": null,
            "height": null,
            "justify_content": null,
            "justify_items": null,
            "left": null,
            "margin": null,
            "max_height": null,
            "max_width": null,
            "min_height": null,
            "min_width": null,
            "object_fit": null,
            "object_position": null,
            "order": null,
            "overflow": null,
            "overflow_x": null,
            "overflow_y": null,
            "padding": null,
            "right": null,
            "top": null,
            "visibility": null,
            "width": null
          }
        },
        "f0f5274e58874b338697c067d816ec61": {
          "model_module": "@jupyter-widgets/controls",
          "model_name": "DescriptionStyleModel",
          "model_module_version": "1.5.0",
          "state": {
            "_model_module": "@jupyter-widgets/controls",
            "_model_module_version": "1.5.0",
            "_model_name": "DescriptionStyleModel",
            "_view_count": null,
            "_view_module": "@jupyter-widgets/base",
            "_view_module_version": "1.2.0",
            "_view_name": "StyleView",
            "description_width": ""
          }
        },
        "98ea86c7d09142f68582b7a90ee365b0": {
          "model_module": "@jupyter-widgets/base",
          "model_name": "LayoutModel",
          "model_module_version": "1.2.0",
          "state": {
            "_model_module": "@jupyter-widgets/base",
            "_model_module_version": "1.2.0",
            "_model_name": "LayoutModel",
            "_view_count": null,
            "_view_module": "@jupyter-widgets/base",
            "_view_module_version": "1.2.0",
            "_view_name": "LayoutView",
            "align_content": null,
            "align_items": null,
            "align_self": null,
            "border": null,
            "bottom": null,
            "display": null,
            "flex": null,
            "flex_flow": null,
            "grid_area": null,
            "grid_auto_columns": null,
            "grid_auto_flow": null,
            "grid_auto_rows": null,
            "grid_column": null,
            "grid_gap": null,
            "grid_row": null,
            "grid_template_areas": null,
            "grid_template_columns": null,
            "grid_template_rows": null,
            "height": null,
            "justify_content": null,
            "justify_items": null,
            "left": null,
            "margin": null,
            "max_height": null,
            "max_width": null,
            "min_height": null,
            "min_width": null,
            "object_fit": null,
            "object_position": null,
            "order": null,
            "overflow": null,
            "overflow_x": null,
            "overflow_y": null,
            "padding": null,
            "right": null,
            "top": null,
            "visibility": null,
            "width": null
          }
        },
        "487879fe6c8848e9b5bcc5778102fef7": {
          "model_module": "@jupyter-widgets/controls",
          "model_name": "ProgressStyleModel",
          "model_module_version": "1.5.0",
          "state": {
            "_model_module": "@jupyter-widgets/controls",
            "_model_module_version": "1.5.0",
            "_model_name": "ProgressStyleModel",
            "_view_count": null,
            "_view_module": "@jupyter-widgets/base",
            "_view_module_version": "1.2.0",
            "_view_name": "StyleView",
            "bar_color": null,
            "description_width": ""
          }
        },
        "8c92d442f59c4652a05f4ca5928042ba": {
          "model_module": "@jupyter-widgets/base",
          "model_name": "LayoutModel",
          "model_module_version": "1.2.0",
          "state": {
            "_model_module": "@jupyter-widgets/base",
            "_model_module_version": "1.2.0",
            "_model_name": "LayoutModel",
            "_view_count": null,
            "_view_module": "@jupyter-widgets/base",
            "_view_module_version": "1.2.0",
            "_view_name": "LayoutView",
            "align_content": null,
            "align_items": null,
            "align_self": null,
            "border": null,
            "bottom": null,
            "display": null,
            "flex": null,
            "flex_flow": null,
            "grid_area": null,
            "grid_auto_columns": null,
            "grid_auto_flow": null,
            "grid_auto_rows": null,
            "grid_column": null,
            "grid_gap": null,
            "grid_row": null,
            "grid_template_areas": null,
            "grid_template_columns": null,
            "grid_template_rows": null,
            "height": null,
            "justify_content": null,
            "justify_items": null,
            "left": null,
            "margin": null,
            "max_height": null,
            "max_width": null,
            "min_height": null,
            "min_width": null,
            "object_fit": null,
            "object_position": null,
            "order": null,
            "overflow": null,
            "overflow_x": null,
            "overflow_y": null,
            "padding": null,
            "right": null,
            "top": null,
            "visibility": null,
            "width": null
          }
        },
        "ff7c1082e5b14711a0420f82a1e6a14c": {
          "model_module": "@jupyter-widgets/controls",
          "model_name": "DescriptionStyleModel",
          "model_module_version": "1.5.0",
          "state": {
            "_model_module": "@jupyter-widgets/controls",
            "_model_module_version": "1.5.0",
            "_model_name": "DescriptionStyleModel",
            "_view_count": null,
            "_view_module": "@jupyter-widgets/base",
            "_view_module_version": "1.2.0",
            "_view_name": "StyleView",
            "description_width": ""
          }
        }
      }
    }
  },
  "nbformat": 4,
  "nbformat_minor": 0
}