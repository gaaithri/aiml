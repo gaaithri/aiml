{
  "cells": [
    {
      "cell_type": "markdown",
      "metadata": {
        "id": "view-in-github",
        "colab_type": "text"
      },
      "source": [
        "<a href=\"https://colab.research.google.com/github/gaaithri/aiml/blob/main/ragtest.ipynb\" target=\"_parent\"><img src=\"https://colab.research.google.com/assets/colab-badge.svg\" alt=\"Open In Colab\"/></a>"
      ]
    },
    {
      "cell_type": "code",
      "execution_count": null,
      "metadata": {
        "id": "XDKVGCHp6DXf"
      },
      "outputs": [],
      "source": []
    },
    {
      "cell_type": "code",
      "execution_count": 1,
      "metadata": {
        "colab": {
          "base_uri": "https://localhost:8080/"
        },
        "id": "QH2YV6Vy6_d7",
        "outputId": "12ab6bae-9115-42e8-b7c0-756d67708084",
        "collapsed": true
      },
      "outputs": [
        {
          "output_type": "stream",
          "name": "stdout",
          "text": [
            "Requirement already satisfied: llama-index in /usr/local/lib/python3.10/dist-packages (from -r /content/sample_data/requirements.txt (line 1)) (0.12.8)\n",
            "Requirement already satisfied: openai in /usr/local/lib/python3.10/dist-packages (from -r /content/sample_data/requirements.txt (line 2)) (1.58.1)\n",
            "Requirement already satisfied: pypdf in /usr/local/lib/python3.10/dist-packages (from -r /content/sample_data/requirements.txt (line 3)) (5.1.0)\n",
            "Requirement already satisfied: python-dotenv in /usr/local/lib/python3.10/dist-packages (from -r /content/sample_data/requirements.txt (line 4)) (1.0.1)\n",
            "Requirement already satisfied: llama-index-agent-openai<0.5.0,>=0.4.0 in /usr/local/lib/python3.10/dist-packages (from llama-index->-r /content/sample_data/requirements.txt (line 1)) (0.4.1)\n",
            "Requirement already satisfied: llama-index-cli<0.5.0,>=0.4.0 in /usr/local/lib/python3.10/dist-packages (from llama-index->-r /content/sample_data/requirements.txt (line 1)) (0.4.0)\n",
            "Requirement already satisfied: llama-index-core<0.13.0,>=0.12.8 in /usr/local/lib/python3.10/dist-packages (from llama-index->-r /content/sample_data/requirements.txt (line 1)) (0.12.8)\n",
            "Requirement already satisfied: llama-index-embeddings-openai<0.4.0,>=0.3.0 in /usr/local/lib/python3.10/dist-packages (from llama-index->-r /content/sample_data/requirements.txt (line 1)) (0.3.1)\n",
            "Requirement already satisfied: llama-index-indices-managed-llama-cloud>=0.4.0 in /usr/local/lib/python3.10/dist-packages (from llama-index->-r /content/sample_data/requirements.txt (line 1)) (0.6.3)\n",
            "Requirement already satisfied: llama-index-llms-openai<0.4.0,>=0.3.0 in /usr/local/lib/python3.10/dist-packages (from llama-index->-r /content/sample_data/requirements.txt (line 1)) (0.3.12)\n",
            "Requirement already satisfied: llama-index-multi-modal-llms-openai<0.5.0,>=0.4.0 in /usr/local/lib/python3.10/dist-packages (from llama-index->-r /content/sample_data/requirements.txt (line 1)) (0.4.1)\n",
            "Requirement already satisfied: llama-index-program-openai<0.4.0,>=0.3.0 in /usr/local/lib/python3.10/dist-packages (from llama-index->-r /content/sample_data/requirements.txt (line 1)) (0.3.1)\n",
            "Requirement already satisfied: llama-index-question-gen-openai<0.4.0,>=0.3.0 in /usr/local/lib/python3.10/dist-packages (from llama-index->-r /content/sample_data/requirements.txt (line 1)) (0.3.0)\n",
            "Requirement already satisfied: llama-index-readers-file<0.5.0,>=0.4.0 in /usr/local/lib/python3.10/dist-packages (from llama-index->-r /content/sample_data/requirements.txt (line 1)) (0.4.1)\n",
            "Requirement already satisfied: llama-index-readers-llama-parse>=0.4.0 in /usr/local/lib/python3.10/dist-packages (from llama-index->-r /content/sample_data/requirements.txt (line 1)) (0.4.0)\n",
            "Requirement already satisfied: nltk>3.8.1 in /usr/local/lib/python3.10/dist-packages (from llama-index->-r /content/sample_data/requirements.txt (line 1)) (3.9.1)\n",
            "Requirement already satisfied: anyio<5,>=3.5.0 in /usr/local/lib/python3.10/dist-packages (from openai->-r /content/sample_data/requirements.txt (line 2)) (3.7.1)\n",
            "Requirement already satisfied: distro<2,>=1.7.0 in /usr/local/lib/python3.10/dist-packages (from openai->-r /content/sample_data/requirements.txt (line 2)) (1.9.0)\n",
            "Requirement already satisfied: httpx<1,>=0.23.0 in /usr/local/lib/python3.10/dist-packages (from openai->-r /content/sample_data/requirements.txt (line 2)) (0.28.1)\n",
            "Requirement already satisfied: jiter<1,>=0.4.0 in /usr/local/lib/python3.10/dist-packages (from openai->-r /content/sample_data/requirements.txt (line 2)) (0.8.2)\n",
            "Requirement already satisfied: pydantic<3,>=1.9.0 in /usr/local/lib/python3.10/dist-packages (from openai->-r /content/sample_data/requirements.txt (line 2)) (2.10.3)\n",
            "Requirement already satisfied: sniffio in /usr/local/lib/python3.10/dist-packages (from openai->-r /content/sample_data/requirements.txt (line 2)) (1.3.1)\n",
            "Requirement already satisfied: tqdm>4 in /usr/local/lib/python3.10/dist-packages (from openai->-r /content/sample_data/requirements.txt (line 2)) (4.67.1)\n",
            "Requirement already satisfied: typing-extensions<5,>=4.11 in /usr/local/lib/python3.10/dist-packages (from openai->-r /content/sample_data/requirements.txt (line 2)) (4.12.2)\n",
            "Requirement already satisfied: idna>=2.8 in /usr/local/lib/python3.10/dist-packages (from anyio<5,>=3.5.0->openai->-r /content/sample_data/requirements.txt (line 2)) (3.10)\n",
            "Requirement already satisfied: exceptiongroup in /usr/local/lib/python3.10/dist-packages (from anyio<5,>=3.5.0->openai->-r /content/sample_data/requirements.txt (line 2)) (1.2.2)\n",
            "Requirement already satisfied: certifi in /usr/local/lib/python3.10/dist-packages (from httpx<1,>=0.23.0->openai->-r /content/sample_data/requirements.txt (line 2)) (2024.12.14)\n",
            "Requirement already satisfied: httpcore==1.* in /usr/local/lib/python3.10/dist-packages (from httpx<1,>=0.23.0->openai->-r /content/sample_data/requirements.txt (line 2)) (1.0.7)\n",
            "Requirement already satisfied: h11<0.15,>=0.13 in /usr/local/lib/python3.10/dist-packages (from httpcore==1.*->httpx<1,>=0.23.0->openai->-r /content/sample_data/requirements.txt (line 2)) (0.14.0)\n",
            "Requirement already satisfied: PyYAML>=6.0.1 in /usr/local/lib/python3.10/dist-packages (from llama-index-core<0.13.0,>=0.12.8->llama-index->-r /content/sample_data/requirements.txt (line 1)) (6.0.2)\n",
            "Requirement already satisfied: SQLAlchemy>=1.4.49 in /usr/local/lib/python3.10/dist-packages (from SQLAlchemy[asyncio]>=1.4.49->llama-index-core<0.13.0,>=0.12.8->llama-index->-r /content/sample_data/requirements.txt (line 1)) (2.0.36)\n",
            "Requirement already satisfied: aiohttp<4.0.0,>=3.8.6 in /usr/local/lib/python3.10/dist-packages (from llama-index-core<0.13.0,>=0.12.8->llama-index->-r /content/sample_data/requirements.txt (line 1)) (3.11.10)\n",
            "Requirement already satisfied: dataclasses-json in /usr/local/lib/python3.10/dist-packages (from llama-index-core<0.13.0,>=0.12.8->llama-index->-r /content/sample_data/requirements.txt (line 1)) (0.6.7)\n",
            "Requirement already satisfied: deprecated>=1.2.9.3 in /usr/local/lib/python3.10/dist-packages (from llama-index-core<0.13.0,>=0.12.8->llama-index->-r /content/sample_data/requirements.txt (line 1)) (1.2.15)\n",
            "Requirement already satisfied: dirtyjson<2.0.0,>=1.0.8 in /usr/local/lib/python3.10/dist-packages (from llama-index-core<0.13.0,>=0.12.8->llama-index->-r /content/sample_data/requirements.txt (line 1)) (1.0.8)\n",
            "Requirement already satisfied: filetype<2.0.0,>=1.2.0 in /usr/local/lib/python3.10/dist-packages (from llama-index-core<0.13.0,>=0.12.8->llama-index->-r /content/sample_data/requirements.txt (line 1)) (1.2.0)\n",
            "Requirement already satisfied: fsspec>=2023.5.0 in /usr/local/lib/python3.10/dist-packages (from llama-index-core<0.13.0,>=0.12.8->llama-index->-r /content/sample_data/requirements.txt (line 1)) (2024.10.0)\n",
            "Requirement already satisfied: nest-asyncio<2.0.0,>=1.5.8 in /usr/local/lib/python3.10/dist-packages (from llama-index-core<0.13.0,>=0.12.8->llama-index->-r /content/sample_data/requirements.txt (line 1)) (1.6.0)\n",
            "Requirement already satisfied: networkx>=3.0 in /usr/local/lib/python3.10/dist-packages (from llama-index-core<0.13.0,>=0.12.8->llama-index->-r /content/sample_data/requirements.txt (line 1)) (3.4.2)\n",
            "Requirement already satisfied: numpy in /usr/local/lib/python3.10/dist-packages (from llama-index-core<0.13.0,>=0.12.8->llama-index->-r /content/sample_data/requirements.txt (line 1)) (1.26.4)\n",
            "Requirement already satisfied: pillow>=9.0.0 in /usr/local/lib/python3.10/dist-packages (from llama-index-core<0.13.0,>=0.12.8->llama-index->-r /content/sample_data/requirements.txt (line 1)) (11.0.0)\n",
            "Requirement already satisfied: requests>=2.31.0 in /usr/local/lib/python3.10/dist-packages (from llama-index-core<0.13.0,>=0.12.8->llama-index->-r /content/sample_data/requirements.txt (line 1)) (2.32.3)\n",
            "Requirement already satisfied: tenacity!=8.4.0,<10.0.0,>=8.2.0 in /usr/local/lib/python3.10/dist-packages (from llama-index-core<0.13.0,>=0.12.8->llama-index->-r /content/sample_data/requirements.txt (line 1)) (9.0.0)\n",
            "Requirement already satisfied: tiktoken>=0.3.3 in /usr/local/lib/python3.10/dist-packages (from llama-index-core<0.13.0,>=0.12.8->llama-index->-r /content/sample_data/requirements.txt (line 1)) (0.8.0)\n",
            "Requirement already satisfied: typing-inspect>=0.8.0 in /usr/local/lib/python3.10/dist-packages (from llama-index-core<0.13.0,>=0.12.8->llama-index->-r /content/sample_data/requirements.txt (line 1)) (0.9.0)\n",
            "Requirement already satisfied: wrapt in /usr/local/lib/python3.10/dist-packages (from llama-index-core<0.13.0,>=0.12.8->llama-index->-r /content/sample_data/requirements.txt (line 1)) (1.17.0)\n",
            "Requirement already satisfied: llama-cloud>=0.1.5 in /usr/local/lib/python3.10/dist-packages (from llama-index-indices-managed-llama-cloud>=0.4.0->llama-index->-r /content/sample_data/requirements.txt (line 1)) (0.1.7)\n",
            "Requirement already satisfied: beautifulsoup4<5.0.0,>=4.12.3 in /usr/local/lib/python3.10/dist-packages (from llama-index-readers-file<0.5.0,>=0.4.0->llama-index->-r /content/sample_data/requirements.txt (line 1)) (4.12.3)\n",
            "Requirement already satisfied: pandas in /usr/local/lib/python3.10/dist-packages (from llama-index-readers-file<0.5.0,>=0.4.0->llama-index->-r /content/sample_data/requirements.txt (line 1)) (2.2.2)\n",
            "Requirement already satisfied: striprtf<0.0.27,>=0.0.26 in /usr/local/lib/python3.10/dist-packages (from llama-index-readers-file<0.5.0,>=0.4.0->llama-index->-r /content/sample_data/requirements.txt (line 1)) (0.0.26)\n",
            "Requirement already satisfied: llama-parse>=0.5.0 in /usr/local/lib/python3.10/dist-packages (from llama-index-readers-llama-parse>=0.4.0->llama-index->-r /content/sample_data/requirements.txt (line 1)) (0.5.19)\n",
            "Requirement already satisfied: click in /usr/local/lib/python3.10/dist-packages (from nltk>3.8.1->llama-index->-r /content/sample_data/requirements.txt (line 1)) (8.1.7)\n",
            "Requirement already satisfied: joblib in /usr/local/lib/python3.10/dist-packages (from nltk>3.8.1->llama-index->-r /content/sample_data/requirements.txt (line 1)) (1.4.2)\n",
            "Requirement already satisfied: regex>=2021.8.3 in /usr/local/lib/python3.10/dist-packages (from nltk>3.8.1->llama-index->-r /content/sample_data/requirements.txt (line 1)) (2024.11.6)\n",
            "Requirement already satisfied: annotated-types>=0.6.0 in /usr/local/lib/python3.10/dist-packages (from pydantic<3,>=1.9.0->openai->-r /content/sample_data/requirements.txt (line 2)) (0.7.0)\n",
            "Requirement already satisfied: pydantic-core==2.27.1 in /usr/local/lib/python3.10/dist-packages (from pydantic<3,>=1.9.0->openai->-r /content/sample_data/requirements.txt (line 2)) (2.27.1)\n",
            "Requirement already satisfied: aiohappyeyeballs>=2.3.0 in /usr/local/lib/python3.10/dist-packages (from aiohttp<4.0.0,>=3.8.6->llama-index-core<0.13.0,>=0.12.8->llama-index->-r /content/sample_data/requirements.txt (line 1)) (2.4.4)\n",
            "Requirement already satisfied: aiosignal>=1.1.2 in /usr/local/lib/python3.10/dist-packages (from aiohttp<4.0.0,>=3.8.6->llama-index-core<0.13.0,>=0.12.8->llama-index->-r /content/sample_data/requirements.txt (line 1)) (1.3.2)\n",
            "Requirement already satisfied: async-timeout<6.0,>=4.0 in /usr/local/lib/python3.10/dist-packages (from aiohttp<4.0.0,>=3.8.6->llama-index-core<0.13.0,>=0.12.8->llama-index->-r /content/sample_data/requirements.txt (line 1)) (4.0.3)\n",
            "Requirement already satisfied: attrs>=17.3.0 in /usr/local/lib/python3.10/dist-packages (from aiohttp<4.0.0,>=3.8.6->llama-index-core<0.13.0,>=0.12.8->llama-index->-r /content/sample_data/requirements.txt (line 1)) (24.3.0)\n",
            "Requirement already satisfied: frozenlist>=1.1.1 in /usr/local/lib/python3.10/dist-packages (from aiohttp<4.0.0,>=3.8.6->llama-index-core<0.13.0,>=0.12.8->llama-index->-r /content/sample_data/requirements.txt (line 1)) (1.5.0)\n",
            "Requirement already satisfied: multidict<7.0,>=4.5 in /usr/local/lib/python3.10/dist-packages (from aiohttp<4.0.0,>=3.8.6->llama-index-core<0.13.0,>=0.12.8->llama-index->-r /content/sample_data/requirements.txt (line 1)) (6.1.0)\n",
            "Requirement already satisfied: propcache>=0.2.0 in /usr/local/lib/python3.10/dist-packages (from aiohttp<4.0.0,>=3.8.6->llama-index-core<0.13.0,>=0.12.8->llama-index->-r /content/sample_data/requirements.txt (line 1)) (0.2.1)\n",
            "Requirement already satisfied: yarl<2.0,>=1.17.0 in /usr/local/lib/python3.10/dist-packages (from aiohttp<4.0.0,>=3.8.6->llama-index-core<0.13.0,>=0.12.8->llama-index->-r /content/sample_data/requirements.txt (line 1)) (1.18.3)\n",
            "Requirement already satisfied: soupsieve>1.2 in /usr/local/lib/python3.10/dist-packages (from beautifulsoup4<5.0.0,>=4.12.3->llama-index-readers-file<0.5.0,>=0.4.0->llama-index->-r /content/sample_data/requirements.txt (line 1)) (2.6)\n",
            "Requirement already satisfied: charset-normalizer<4,>=2 in /usr/local/lib/python3.10/dist-packages (from requests>=2.31.0->llama-index-core<0.13.0,>=0.12.8->llama-index->-r /content/sample_data/requirements.txt (line 1)) (3.4.0)\n",
            "Requirement already satisfied: urllib3<3,>=1.21.1 in /usr/local/lib/python3.10/dist-packages (from requests>=2.31.0->llama-index-core<0.13.0,>=0.12.8->llama-index->-r /content/sample_data/requirements.txt (line 1)) (2.2.3)\n",
            "Requirement already satisfied: greenlet!=0.4.17 in /usr/local/lib/python3.10/dist-packages (from SQLAlchemy>=1.4.49->SQLAlchemy[asyncio]>=1.4.49->llama-index-core<0.13.0,>=0.12.8->llama-index->-r /content/sample_data/requirements.txt (line 1)) (3.1.1)\n",
            "Requirement already satisfied: mypy-extensions>=0.3.0 in /usr/local/lib/python3.10/dist-packages (from typing-inspect>=0.8.0->llama-index-core<0.13.0,>=0.12.8->llama-index->-r /content/sample_data/requirements.txt (line 1)) (1.0.0)\n",
            "Requirement already satisfied: marshmallow<4.0.0,>=3.18.0 in /usr/local/lib/python3.10/dist-packages (from dataclasses-json->llama-index-core<0.13.0,>=0.12.8->llama-index->-r /content/sample_data/requirements.txt (line 1)) (3.23.2)\n",
            "Requirement already satisfied: python-dateutil>=2.8.2 in /usr/local/lib/python3.10/dist-packages (from pandas->llama-index-readers-file<0.5.0,>=0.4.0->llama-index->-r /content/sample_data/requirements.txt (line 1)) (2.8.2)\n",
            "Requirement already satisfied: pytz>=2020.1 in /usr/local/lib/python3.10/dist-packages (from pandas->llama-index-readers-file<0.5.0,>=0.4.0->llama-index->-r /content/sample_data/requirements.txt (line 1)) (2024.2)\n",
            "Requirement already satisfied: tzdata>=2022.7 in /usr/local/lib/python3.10/dist-packages (from pandas->llama-index-readers-file<0.5.0,>=0.4.0->llama-index->-r /content/sample_data/requirements.txt (line 1)) (2024.2)\n",
            "Requirement already satisfied: packaging>=17.0 in /usr/local/lib/python3.10/dist-packages (from marshmallow<4.0.0,>=3.18.0->dataclasses-json->llama-index-core<0.13.0,>=0.12.8->llama-index->-r /content/sample_data/requirements.txt (line 1)) (24.2)\n",
            "Requirement already satisfied: six>=1.5 in /usr/local/lib/python3.10/dist-packages (from python-dateutil>=2.8.2->pandas->llama-index-readers-file<0.5.0,>=0.4.0->llama-index->-r /content/sample_data/requirements.txt (line 1)) (1.17.0)\n"
          ]
        }
      ],
      "source": [
        "! pip install -r \"/content/sample_data/requirements.txt\""
      ]
    },
    {
      "cell_type": "code",
      "execution_count": 3,
      "metadata": {
        "id": "62fSBKFG6DXj",
        "colab": {
          "base_uri": "https://localhost:8080/"
        },
        "outputId": "bc2ebd0a-9307-4877-9ed7-f78b44526d2c"
      },
      "outputs": [
        {
          "output_type": "stream",
          "name": "stdout",
          "text": [
            "\u001b[2K   \u001b[90m━━━━━━━━━━━━━━━━━━━━━━━━━━━━━━━━━━━━━━━━\u001b[0m \u001b[32m69.1/69.1 MB\u001b[0m \u001b[31m9.2 MB/s\u001b[0m eta \u001b[36m0:00:00\u001b[0m\n",
            "\u001b[?25h"
          ]
        }
      ],
      "source": [
        "! pip install -q transformers einops accelerate langchain bitsandbytes"
      ]
    },
    {
      "cell_type": "code",
      "execution_count": 4,
      "metadata": {
        "colab": {
          "base_uri": "https://localhost:8080/"
        },
        "id": "2psz7-RR6DXk",
        "outputId": "1d3b79f1-fe93-4f5a-de11-bc3d8497deaf",
        "collapsed": true
      },
      "outputs": [
        {
          "output_type": "stream",
          "name": "stdout",
          "text": [
            "Requirement already satisfied: sentence_transformers in /usr/local/lib/python3.10/dist-packages (3.3.1)\n",
            "Requirement already satisfied: transformers<5.0.0,>=4.41.0 in /usr/local/lib/python3.10/dist-packages (from sentence_transformers) (4.47.1)\n",
            "Requirement already satisfied: tqdm in /usr/local/lib/python3.10/dist-packages (from sentence_transformers) (4.67.1)\n",
            "Requirement already satisfied: torch>=1.11.0 in /usr/local/lib/python3.10/dist-packages (from sentence_transformers) (2.5.1+cu121)\n",
            "Requirement already satisfied: scikit-learn in /usr/local/lib/python3.10/dist-packages (from sentence_transformers) (1.6.0)\n",
            "Requirement already satisfied: scipy in /usr/local/lib/python3.10/dist-packages (from sentence_transformers) (1.13.1)\n",
            "Requirement already satisfied: huggingface-hub>=0.20.0 in /usr/local/lib/python3.10/dist-packages (from sentence_transformers) (0.27.0)\n",
            "Requirement already satisfied: Pillow in /usr/local/lib/python3.10/dist-packages (from sentence_transformers) (11.0.0)\n",
            "Requirement already satisfied: filelock in /usr/local/lib/python3.10/dist-packages (from huggingface-hub>=0.20.0->sentence_transformers) (3.16.1)\n",
            "Requirement already satisfied: fsspec>=2023.5.0 in /usr/local/lib/python3.10/dist-packages (from huggingface-hub>=0.20.0->sentence_transformers) (2024.10.0)\n",
            "Requirement already satisfied: packaging>=20.9 in /usr/local/lib/python3.10/dist-packages (from huggingface-hub>=0.20.0->sentence_transformers) (24.2)\n",
            "Requirement already satisfied: pyyaml>=5.1 in /usr/local/lib/python3.10/dist-packages (from huggingface-hub>=0.20.0->sentence_transformers) (6.0.2)\n",
            "Requirement already satisfied: requests in /usr/local/lib/python3.10/dist-packages (from huggingface-hub>=0.20.0->sentence_transformers) (2.32.3)\n",
            "Requirement already satisfied: typing-extensions>=3.7.4.3 in /usr/local/lib/python3.10/dist-packages (from huggingface-hub>=0.20.0->sentence_transformers) (4.12.2)\n",
            "Requirement already satisfied: networkx in /usr/local/lib/python3.10/dist-packages (from torch>=1.11.0->sentence_transformers) (3.4.2)\n",
            "Requirement already satisfied: jinja2 in /usr/local/lib/python3.10/dist-packages (from torch>=1.11.0->sentence_transformers) (3.1.4)\n",
            "Requirement already satisfied: sympy==1.13.1 in /usr/local/lib/python3.10/dist-packages (from torch>=1.11.0->sentence_transformers) (1.13.1)\n",
            "Requirement already satisfied: mpmath<1.4,>=1.1.0 in /usr/local/lib/python3.10/dist-packages (from sympy==1.13.1->torch>=1.11.0->sentence_transformers) (1.3.0)\n",
            "Requirement already satisfied: numpy>=1.17 in /usr/local/lib/python3.10/dist-packages (from transformers<5.0.0,>=4.41.0->sentence_transformers) (1.26.4)\n",
            "Requirement already satisfied: regex!=2019.12.17 in /usr/local/lib/python3.10/dist-packages (from transformers<5.0.0,>=4.41.0->sentence_transformers) (2024.11.6)\n",
            "Requirement already satisfied: tokenizers<0.22,>=0.21 in /usr/local/lib/python3.10/dist-packages (from transformers<5.0.0,>=4.41.0->sentence_transformers) (0.21.0)\n",
            "Requirement already satisfied: safetensors>=0.4.1 in /usr/local/lib/python3.10/dist-packages (from transformers<5.0.0,>=4.41.0->sentence_transformers) (0.4.5)\n",
            "Requirement already satisfied: joblib>=1.2.0 in /usr/local/lib/python3.10/dist-packages (from scikit-learn->sentence_transformers) (1.4.2)\n",
            "Requirement already satisfied: threadpoolctl>=3.1.0 in /usr/local/lib/python3.10/dist-packages (from scikit-learn->sentence_transformers) (3.5.0)\n",
            "Requirement already satisfied: MarkupSafe>=2.0 in /usr/local/lib/python3.10/dist-packages (from jinja2->torch>=1.11.0->sentence_transformers) (3.0.2)\n",
            "Requirement already satisfied: charset-normalizer<4,>=2 in /usr/local/lib/python3.10/dist-packages (from requests->huggingface-hub>=0.20.0->sentence_transformers) (3.4.0)\n",
            "Requirement already satisfied: idna<4,>=2.5 in /usr/local/lib/python3.10/dist-packages (from requests->huggingface-hub>=0.20.0->sentence_transformers) (3.10)\n",
            "Requirement already satisfied: urllib3<3,>=1.21.1 in /usr/local/lib/python3.10/dist-packages (from requests->huggingface-hub>=0.20.0->sentence_transformers) (2.2.3)\n",
            "Requirement already satisfied: certifi>=2017.4.17 in /usr/local/lib/python3.10/dist-packages (from requests->huggingface-hub>=0.20.0->sentence_transformers) (2024.12.14)\n"
          ]
        }
      ],
      "source": [
        "# Embedings\n",
        "! pip install sentence_transformers"
      ]
    },
    {
      "cell_type": "code",
      "execution_count": 2,
      "metadata": {
        "id": "CpYAQhyn6DXk"
      },
      "outputs": [],
      "source": [
        "from llama_index.core import VectorStoreIndex, SimpleDirectoryReader,ServiceContext\n"
      ]
    },
    {
      "cell_type": "markdown",
      "metadata": {
        "id": "s6Tqat1T6DXk"
      },
      "source": []
    },
    {
      "cell_type": "code",
      "source": [],
      "metadata": {
        "id": "vaZ002oEoz0T"
      },
      "execution_count": null,
      "outputs": []
    },
    {
      "cell_type": "code",
      "execution_count": 4,
      "metadata": {
        "colab": {
          "base_uri": "https://localhost:8080/"
        },
        "collapsed": true,
        "id": "355jxKKz6DXl",
        "outputId": "88bad424-8bf3-401e-b448-9fdaec3d1d2a"
      },
      "outputs": [
        {
          "output_type": "stream",
          "name": "stdout",
          "text": [
            "Requirement already satisfied: llama-index in /usr/local/lib/python3.10/dist-packages (0.12.8)\n",
            "Requirement already satisfied: llama-index-agent-openai<0.5.0,>=0.4.0 in /usr/local/lib/python3.10/dist-packages (from llama-index) (0.4.1)\n",
            "Requirement already satisfied: llama-index-cli<0.5.0,>=0.4.0 in /usr/local/lib/python3.10/dist-packages (from llama-index) (0.4.0)\n",
            "Requirement already satisfied: llama-index-core<0.13.0,>=0.12.8 in /usr/local/lib/python3.10/dist-packages (from llama-index) (0.12.8)\n",
            "Requirement already satisfied: llama-index-embeddings-openai<0.4.0,>=0.3.0 in /usr/local/lib/python3.10/dist-packages (from llama-index) (0.3.1)\n",
            "Requirement already satisfied: llama-index-indices-managed-llama-cloud>=0.4.0 in /usr/local/lib/python3.10/dist-packages (from llama-index) (0.6.3)\n",
            "Requirement already satisfied: llama-index-llms-openai<0.4.0,>=0.3.0 in /usr/local/lib/python3.10/dist-packages (from llama-index) (0.3.12)\n",
            "Requirement already satisfied: llama-index-multi-modal-llms-openai<0.5.0,>=0.4.0 in /usr/local/lib/python3.10/dist-packages (from llama-index) (0.4.1)\n",
            "Requirement already satisfied: llama-index-program-openai<0.4.0,>=0.3.0 in /usr/local/lib/python3.10/dist-packages (from llama-index) (0.3.1)\n",
            "Requirement already satisfied: llama-index-question-gen-openai<0.4.0,>=0.3.0 in /usr/local/lib/python3.10/dist-packages (from llama-index) (0.3.0)\n",
            "Requirement already satisfied: llama-index-readers-file<0.5.0,>=0.4.0 in /usr/local/lib/python3.10/dist-packages (from llama-index) (0.4.1)\n",
            "Requirement already satisfied: llama-index-readers-llama-parse>=0.4.0 in /usr/local/lib/python3.10/dist-packages (from llama-index) (0.4.0)\n",
            "Requirement already satisfied: nltk>3.8.1 in /usr/local/lib/python3.10/dist-packages (from llama-index) (3.9.1)\n",
            "Requirement already satisfied: openai>=1.14.0 in /usr/local/lib/python3.10/dist-packages (from llama-index-agent-openai<0.5.0,>=0.4.0->llama-index) (1.58.1)\n",
            "Requirement already satisfied: PyYAML>=6.0.1 in /usr/local/lib/python3.10/dist-packages (from llama-index-core<0.13.0,>=0.12.8->llama-index) (6.0.2)\n",
            "Requirement already satisfied: SQLAlchemy>=1.4.49 in /usr/local/lib/python3.10/dist-packages (from SQLAlchemy[asyncio]>=1.4.49->llama-index-core<0.13.0,>=0.12.8->llama-index) (2.0.36)\n",
            "Requirement already satisfied: aiohttp<4.0.0,>=3.8.6 in /usr/local/lib/python3.10/dist-packages (from llama-index-core<0.13.0,>=0.12.8->llama-index) (3.11.10)\n",
            "Requirement already satisfied: dataclasses-json in /usr/local/lib/python3.10/dist-packages (from llama-index-core<0.13.0,>=0.12.8->llama-index) (0.6.7)\n",
            "Requirement already satisfied: deprecated>=1.2.9.3 in /usr/local/lib/python3.10/dist-packages (from llama-index-core<0.13.0,>=0.12.8->llama-index) (1.2.15)\n",
            "Requirement already satisfied: dirtyjson<2.0.0,>=1.0.8 in /usr/local/lib/python3.10/dist-packages (from llama-index-core<0.13.0,>=0.12.8->llama-index) (1.0.8)\n",
            "Requirement already satisfied: filetype<2.0.0,>=1.2.0 in /usr/local/lib/python3.10/dist-packages (from llama-index-core<0.13.0,>=0.12.8->llama-index) (1.2.0)\n",
            "Requirement already satisfied: fsspec>=2023.5.0 in /usr/local/lib/python3.10/dist-packages (from llama-index-core<0.13.0,>=0.12.8->llama-index) (2024.10.0)\n",
            "Requirement already satisfied: httpx in /usr/local/lib/python3.10/dist-packages (from llama-index-core<0.13.0,>=0.12.8->llama-index) (0.28.1)\n",
            "Requirement already satisfied: nest-asyncio<2.0.0,>=1.5.8 in /usr/local/lib/python3.10/dist-packages (from llama-index-core<0.13.0,>=0.12.8->llama-index) (1.6.0)\n",
            "Requirement already satisfied: networkx>=3.0 in /usr/local/lib/python3.10/dist-packages (from llama-index-core<0.13.0,>=0.12.8->llama-index) (3.4.2)\n",
            "Requirement already satisfied: numpy in /usr/local/lib/python3.10/dist-packages (from llama-index-core<0.13.0,>=0.12.8->llama-index) (1.26.4)\n",
            "Requirement already satisfied: pillow>=9.0.0 in /usr/local/lib/python3.10/dist-packages (from llama-index-core<0.13.0,>=0.12.8->llama-index) (11.0.0)\n",
            "Requirement already satisfied: pydantic>=2.8.0 in /usr/local/lib/python3.10/dist-packages (from llama-index-core<0.13.0,>=0.12.8->llama-index) (2.10.3)\n",
            "Requirement already satisfied: requests>=2.31.0 in /usr/local/lib/python3.10/dist-packages (from llama-index-core<0.13.0,>=0.12.8->llama-index) (2.32.3)\n",
            "Requirement already satisfied: tenacity!=8.4.0,<10.0.0,>=8.2.0 in /usr/local/lib/python3.10/dist-packages (from llama-index-core<0.13.0,>=0.12.8->llama-index) (9.0.0)\n",
            "Requirement already satisfied: tiktoken>=0.3.3 in /usr/local/lib/python3.10/dist-packages (from llama-index-core<0.13.0,>=0.12.8->llama-index) (0.8.0)\n",
            "Requirement already satisfied: tqdm<5.0.0,>=4.66.1 in /usr/local/lib/python3.10/dist-packages (from llama-index-core<0.13.0,>=0.12.8->llama-index) (4.67.1)\n",
            "Requirement already satisfied: typing-extensions>=4.5.0 in /usr/local/lib/python3.10/dist-packages (from llama-index-core<0.13.0,>=0.12.8->llama-index) (4.12.2)\n",
            "Requirement already satisfied: typing-inspect>=0.8.0 in /usr/local/lib/python3.10/dist-packages (from llama-index-core<0.13.0,>=0.12.8->llama-index) (0.9.0)\n",
            "Requirement already satisfied: wrapt in /usr/local/lib/python3.10/dist-packages (from llama-index-core<0.13.0,>=0.12.8->llama-index) (1.17.0)\n",
            "Requirement already satisfied: llama-cloud>=0.1.5 in /usr/local/lib/python3.10/dist-packages (from llama-index-indices-managed-llama-cloud>=0.4.0->llama-index) (0.1.7)\n",
            "Requirement already satisfied: beautifulsoup4<5.0.0,>=4.12.3 in /usr/local/lib/python3.10/dist-packages (from llama-index-readers-file<0.5.0,>=0.4.0->llama-index) (4.12.3)\n",
            "Requirement already satisfied: pandas in /usr/local/lib/python3.10/dist-packages (from llama-index-readers-file<0.5.0,>=0.4.0->llama-index) (2.2.2)\n",
            "Requirement already satisfied: pypdf<6.0.0,>=5.1.0 in /usr/local/lib/python3.10/dist-packages (from llama-index-readers-file<0.5.0,>=0.4.0->llama-index) (5.1.0)\n",
            "Requirement already satisfied: striprtf<0.0.27,>=0.0.26 in /usr/local/lib/python3.10/dist-packages (from llama-index-readers-file<0.5.0,>=0.4.0->llama-index) (0.0.26)\n",
            "Requirement already satisfied: llama-parse>=0.5.0 in /usr/local/lib/python3.10/dist-packages (from llama-index-readers-llama-parse>=0.4.0->llama-index) (0.5.19)\n",
            "Requirement already satisfied: click in /usr/local/lib/python3.10/dist-packages (from nltk>3.8.1->llama-index) (8.1.7)\n",
            "Requirement already satisfied: joblib in /usr/local/lib/python3.10/dist-packages (from nltk>3.8.1->llama-index) (1.4.2)\n",
            "Requirement already satisfied: regex>=2021.8.3 in /usr/local/lib/python3.10/dist-packages (from nltk>3.8.1->llama-index) (2024.11.6)\n",
            "Requirement already satisfied: aiohappyeyeballs>=2.3.0 in /usr/local/lib/python3.10/dist-packages (from aiohttp<4.0.0,>=3.8.6->llama-index-core<0.13.0,>=0.12.8->llama-index) (2.4.4)\n",
            "Requirement already satisfied: aiosignal>=1.1.2 in /usr/local/lib/python3.10/dist-packages (from aiohttp<4.0.0,>=3.8.6->llama-index-core<0.13.0,>=0.12.8->llama-index) (1.3.2)\n",
            "Requirement already satisfied: async-timeout<6.0,>=4.0 in /usr/local/lib/python3.10/dist-packages (from aiohttp<4.0.0,>=3.8.6->llama-index-core<0.13.0,>=0.12.8->llama-index) (4.0.3)\n",
            "Requirement already satisfied: attrs>=17.3.0 in /usr/local/lib/python3.10/dist-packages (from aiohttp<4.0.0,>=3.8.6->llama-index-core<0.13.0,>=0.12.8->llama-index) (24.3.0)\n",
            "Requirement already satisfied: frozenlist>=1.1.1 in /usr/local/lib/python3.10/dist-packages (from aiohttp<4.0.0,>=3.8.6->llama-index-core<0.13.0,>=0.12.8->llama-index) (1.5.0)\n",
            "Requirement already satisfied: multidict<7.0,>=4.5 in /usr/local/lib/python3.10/dist-packages (from aiohttp<4.0.0,>=3.8.6->llama-index-core<0.13.0,>=0.12.8->llama-index) (6.1.0)\n",
            "Requirement already satisfied: propcache>=0.2.0 in /usr/local/lib/python3.10/dist-packages (from aiohttp<4.0.0,>=3.8.6->llama-index-core<0.13.0,>=0.12.8->llama-index) (0.2.1)\n",
            "Requirement already satisfied: yarl<2.0,>=1.17.0 in /usr/local/lib/python3.10/dist-packages (from aiohttp<4.0.0,>=3.8.6->llama-index-core<0.13.0,>=0.12.8->llama-index) (1.18.3)\n",
            "Requirement already satisfied: soupsieve>1.2 in /usr/local/lib/python3.10/dist-packages (from beautifulsoup4<5.0.0,>=4.12.3->llama-index-readers-file<0.5.0,>=0.4.0->llama-index) (2.6)\n",
            "Requirement already satisfied: certifi<2025.0.0,>=2024.7.4 in /usr/local/lib/python3.10/dist-packages (from llama-cloud>=0.1.5->llama-index-indices-managed-llama-cloud>=0.4.0->llama-index) (2024.12.14)\n",
            "Requirement already satisfied: anyio in /usr/local/lib/python3.10/dist-packages (from httpx->llama-index-core<0.13.0,>=0.12.8->llama-index) (3.7.1)\n",
            "Requirement already satisfied: httpcore==1.* in /usr/local/lib/python3.10/dist-packages (from httpx->llama-index-core<0.13.0,>=0.12.8->llama-index) (1.0.7)\n",
            "Requirement already satisfied: idna in /usr/local/lib/python3.10/dist-packages (from httpx->llama-index-core<0.13.0,>=0.12.8->llama-index) (3.10)\n",
            "Requirement already satisfied: h11<0.15,>=0.13 in /usr/local/lib/python3.10/dist-packages (from httpcore==1.*->httpx->llama-index-core<0.13.0,>=0.12.8->llama-index) (0.14.0)\n",
            "Requirement already satisfied: distro<2,>=1.7.0 in /usr/local/lib/python3.10/dist-packages (from openai>=1.14.0->llama-index-agent-openai<0.5.0,>=0.4.0->llama-index) (1.9.0)\n",
            "Requirement already satisfied: jiter<1,>=0.4.0 in /usr/local/lib/python3.10/dist-packages (from openai>=1.14.0->llama-index-agent-openai<0.5.0,>=0.4.0->llama-index) (0.8.2)\n",
            "Requirement already satisfied: sniffio in /usr/local/lib/python3.10/dist-packages (from openai>=1.14.0->llama-index-agent-openai<0.5.0,>=0.4.0->llama-index) (1.3.1)\n",
            "Requirement already satisfied: annotated-types>=0.6.0 in /usr/local/lib/python3.10/dist-packages (from pydantic>=2.8.0->llama-index-core<0.13.0,>=0.12.8->llama-index) (0.7.0)\n",
            "Requirement already satisfied: pydantic-core==2.27.1 in /usr/local/lib/python3.10/dist-packages (from pydantic>=2.8.0->llama-index-core<0.13.0,>=0.12.8->llama-index) (2.27.1)\n",
            "Requirement already satisfied: charset-normalizer<4,>=2 in /usr/local/lib/python3.10/dist-packages (from requests>=2.31.0->llama-index-core<0.13.0,>=0.12.8->llama-index) (3.4.0)\n",
            "Requirement already satisfied: urllib3<3,>=1.21.1 in /usr/local/lib/python3.10/dist-packages (from requests>=2.31.0->llama-index-core<0.13.0,>=0.12.8->llama-index) (2.2.3)\n",
            "Requirement already satisfied: greenlet!=0.4.17 in /usr/local/lib/python3.10/dist-packages (from SQLAlchemy>=1.4.49->SQLAlchemy[asyncio]>=1.4.49->llama-index-core<0.13.0,>=0.12.8->llama-index) (3.1.1)\n",
            "Requirement already satisfied: mypy-extensions>=0.3.0 in /usr/local/lib/python3.10/dist-packages (from typing-inspect>=0.8.0->llama-index-core<0.13.0,>=0.12.8->llama-index) (1.0.0)\n",
            "Requirement already satisfied: marshmallow<4.0.0,>=3.18.0 in /usr/local/lib/python3.10/dist-packages (from dataclasses-json->llama-index-core<0.13.0,>=0.12.8->llama-index) (3.23.2)\n",
            "Requirement already satisfied: python-dateutil>=2.8.2 in /usr/local/lib/python3.10/dist-packages (from pandas->llama-index-readers-file<0.5.0,>=0.4.0->llama-index) (2.8.2)\n",
            "Requirement already satisfied: pytz>=2020.1 in /usr/local/lib/python3.10/dist-packages (from pandas->llama-index-readers-file<0.5.0,>=0.4.0->llama-index) (2024.2)\n",
            "Requirement already satisfied: tzdata>=2022.7 in /usr/local/lib/python3.10/dist-packages (from pandas->llama-index-readers-file<0.5.0,>=0.4.0->llama-index) (2024.2)\n",
            "Requirement already satisfied: exceptiongroup in /usr/local/lib/python3.10/dist-packages (from anyio->httpx->llama-index-core<0.13.0,>=0.12.8->llama-index) (1.2.2)\n",
            "Requirement already satisfied: packaging>=17.0 in /usr/local/lib/python3.10/dist-packages (from marshmallow<4.0.0,>=3.18.0->dataclasses-json->llama-index-core<0.13.0,>=0.12.8->llama-index) (24.2)\n",
            "Requirement already satisfied: six>=1.5 in /usr/local/lib/python3.10/dist-packages (from python-dateutil>=2.8.2->pandas->llama-index-readers-file<0.5.0,>=0.4.0->llama-index) (1.17.0)\n"
          ]
        }
      ],
      "source": [
        "%pip install llama-index\n"
      ]
    },
    {
      "cell_type": "code",
      "execution_count": 5,
      "metadata": {
        "colab": {
          "base_uri": "https://localhost:8080/",
          "height": 1000
        },
        "id": "Qk_jz3Iw-cnX",
        "outputId": "786269ba-163f-4d91-8ca3-5a4efd58ee88",
        "collapsed": true
      },
      "outputs": [
        {
          "output_type": "stream",
          "name": "stdout",
          "text": [
            "Requirement already satisfied: llama-index-llms-huggingface in /usr/local/lib/python3.10/dist-packages (0.4.1)\n",
            "Collecting huggingface-hub<0.24.0,>=0.23.0 (from llama-index-llms-huggingface)\n",
            "  Using cached huggingface_hub-0.23.5-py3-none-any.whl.metadata (12 kB)\n",
            "Requirement already satisfied: llama-index-core<0.13.0,>=0.12.0 in /usr/local/lib/python3.10/dist-packages (from llama-index-llms-huggingface) (0.12.8)\n",
            "Requirement already satisfied: text-generation<0.8.0,>=0.7.0 in /usr/local/lib/python3.10/dist-packages (from llama-index-llms-huggingface) (0.7.0)\n",
            "Requirement already satisfied: torch<3.0.0,>=2.1.2 in /usr/local/lib/python3.10/dist-packages (from llama-index-llms-huggingface) (2.5.1+cu121)\n",
            "Collecting transformers<5.0.0,>=4.37.0 (from transformers[torch]<5.0.0,>=4.37.0->llama-index-llms-huggingface)\n",
            "  Downloading transformers-4.47.1-py3-none-any.whl.metadata (44 kB)\n",
            "\u001b[2K     \u001b[90m━━━━━━━━━━━━━━━━━━━━━━━━━━━━━━━━━━━━━━━━\u001b[0m \u001b[32m44.1/44.1 kB\u001b[0m \u001b[31m3.9 MB/s\u001b[0m eta \u001b[36m0:00:00\u001b[0m\n",
            "\u001b[?25hRequirement already satisfied: filelock in /usr/local/lib/python3.10/dist-packages (from huggingface-hub<0.24.0,>=0.23.0->llama-index-llms-huggingface) (3.16.1)\n",
            "Requirement already satisfied: fsspec>=2023.5.0 in /usr/local/lib/python3.10/dist-packages (from huggingface-hub<0.24.0,>=0.23.0->llama-index-llms-huggingface) (2024.10.0)\n",
            "Requirement already satisfied: packaging>=20.9 in /usr/local/lib/python3.10/dist-packages (from huggingface-hub<0.24.0,>=0.23.0->llama-index-llms-huggingface) (24.2)\n",
            "Requirement already satisfied: pyyaml>=5.1 in /usr/local/lib/python3.10/dist-packages (from huggingface-hub<0.24.0,>=0.23.0->llama-index-llms-huggingface) (6.0.2)\n",
            "Requirement already satisfied: requests in /usr/local/lib/python3.10/dist-packages (from huggingface-hub<0.24.0,>=0.23.0->llama-index-llms-huggingface) (2.32.3)\n",
            "Requirement already satisfied: tqdm>=4.42.1 in /usr/local/lib/python3.10/dist-packages (from huggingface-hub<0.24.0,>=0.23.0->llama-index-llms-huggingface) (4.67.1)\n",
            "Requirement already satisfied: typing-extensions>=3.7.4.3 in /usr/local/lib/python3.10/dist-packages (from huggingface-hub<0.24.0,>=0.23.0->llama-index-llms-huggingface) (4.12.2)\n",
            "Requirement already satisfied: SQLAlchemy>=1.4.49 in /usr/local/lib/python3.10/dist-packages (from SQLAlchemy[asyncio]>=1.4.49->llama-index-core<0.13.0,>=0.12.0->llama-index-llms-huggingface) (2.0.36)\n",
            "Requirement already satisfied: aiohttp<4.0.0,>=3.8.6 in /usr/local/lib/python3.10/dist-packages (from llama-index-core<0.13.0,>=0.12.0->llama-index-llms-huggingface) (3.11.10)\n",
            "Requirement already satisfied: dataclasses-json in /usr/local/lib/python3.10/dist-packages (from llama-index-core<0.13.0,>=0.12.0->llama-index-llms-huggingface) (0.6.7)\n",
            "Requirement already satisfied: deprecated>=1.2.9.3 in /usr/local/lib/python3.10/dist-packages (from llama-index-core<0.13.0,>=0.12.0->llama-index-llms-huggingface) (1.2.15)\n",
            "Requirement already satisfied: dirtyjson<2.0.0,>=1.0.8 in /usr/local/lib/python3.10/dist-packages (from llama-index-core<0.13.0,>=0.12.0->llama-index-llms-huggingface) (1.0.8)\n",
            "Requirement already satisfied: filetype<2.0.0,>=1.2.0 in /usr/local/lib/python3.10/dist-packages (from llama-index-core<0.13.0,>=0.12.0->llama-index-llms-huggingface) (1.2.0)\n",
            "Requirement already satisfied: httpx in /usr/local/lib/python3.10/dist-packages (from llama-index-core<0.13.0,>=0.12.0->llama-index-llms-huggingface) (0.28.1)\n",
            "Requirement already satisfied: nest-asyncio<2.0.0,>=1.5.8 in /usr/local/lib/python3.10/dist-packages (from llama-index-core<0.13.0,>=0.12.0->llama-index-llms-huggingface) (1.6.0)\n",
            "Requirement already satisfied: networkx>=3.0 in /usr/local/lib/python3.10/dist-packages (from llama-index-core<0.13.0,>=0.12.0->llama-index-llms-huggingface) (3.4.2)\n",
            "Requirement already satisfied: nltk>3.8.1 in /usr/local/lib/python3.10/dist-packages (from llama-index-core<0.13.0,>=0.12.0->llama-index-llms-huggingface) (3.9.1)\n",
            "Requirement already satisfied: numpy in /usr/local/lib/python3.10/dist-packages (from llama-index-core<0.13.0,>=0.12.0->llama-index-llms-huggingface) (1.26.4)\n",
            "Requirement already satisfied: pillow>=9.0.0 in /usr/local/lib/python3.10/dist-packages (from llama-index-core<0.13.0,>=0.12.0->llama-index-llms-huggingface) (11.0.0)\n",
            "Requirement already satisfied: pydantic>=2.8.0 in /usr/local/lib/python3.10/dist-packages (from llama-index-core<0.13.0,>=0.12.0->llama-index-llms-huggingface) (2.10.3)\n",
            "Requirement already satisfied: tenacity!=8.4.0,<10.0.0,>=8.2.0 in /usr/local/lib/python3.10/dist-packages (from llama-index-core<0.13.0,>=0.12.0->llama-index-llms-huggingface) (9.0.0)\n",
            "Requirement already satisfied: tiktoken>=0.3.3 in /usr/local/lib/python3.10/dist-packages (from llama-index-core<0.13.0,>=0.12.0->llama-index-llms-huggingface) (0.8.0)\n",
            "Requirement already satisfied: typing-inspect>=0.8.0 in /usr/local/lib/python3.10/dist-packages (from llama-index-core<0.13.0,>=0.12.0->llama-index-llms-huggingface) (0.9.0)\n",
            "Requirement already satisfied: wrapt in /usr/local/lib/python3.10/dist-packages (from llama-index-core<0.13.0,>=0.12.0->llama-index-llms-huggingface) (1.17.0)\n",
            "Requirement already satisfied: jinja2 in /usr/local/lib/python3.10/dist-packages (from torch<3.0.0,>=2.1.2->llama-index-llms-huggingface) (3.1.4)\n",
            "Requirement already satisfied: sympy==1.13.1 in /usr/local/lib/python3.10/dist-packages (from torch<3.0.0,>=2.1.2->llama-index-llms-huggingface) (1.13.1)\n",
            "Requirement already satisfied: mpmath<1.4,>=1.1.0 in /usr/local/lib/python3.10/dist-packages (from sympy==1.13.1->torch<3.0.0,>=2.1.2->llama-index-llms-huggingface) (1.3.0)\n",
            "INFO: pip is looking at multiple versions of transformers to determine which version is compatible with other requirements. This could take a while.\n",
            "  Using cached transformers-4.47.0-py3-none-any.whl.metadata (43 kB)\n",
            "  Using cached transformers-4.46.3-py3-none-any.whl.metadata (44 kB)\n",
            "Requirement already satisfied: regex!=2019.12.17 in /usr/local/lib/python3.10/dist-packages (from transformers<5.0.0,>=4.37.0->transformers[torch]<5.0.0,>=4.37.0->llama-index-llms-huggingface) (2024.11.6)\n",
            "Collecting tokenizers<0.21,>=0.20 (from transformers<5.0.0,>=4.37.0->transformers[torch]<5.0.0,>=4.37.0->llama-index-llms-huggingface)\n",
            "  Using cached tokenizers-0.20.3-cp310-cp310-manylinux_2_17_x86_64.manylinux2014_x86_64.whl.metadata (6.7 kB)\n",
            "Requirement already satisfied: safetensors>=0.4.1 in /usr/local/lib/python3.10/dist-packages (from transformers<5.0.0,>=4.37.0->transformers[torch]<5.0.0,>=4.37.0->llama-index-llms-huggingface) (0.4.5)\n",
            "INFO: pip is looking at multiple versions of transformers[torch] to determine which version is compatible with other requirements. This could take a while.\n",
            "Requirement already satisfied: accelerate>=0.26.0 in /usr/local/lib/python3.10/dist-packages (from transformers[torch]<5.0.0,>=4.37.0->llama-index-llms-huggingface) (1.2.1)\n",
            "Requirement already satisfied: psutil in /usr/local/lib/python3.10/dist-packages (from accelerate>=0.26.0->transformers[torch]<5.0.0,>=4.37.0->llama-index-llms-huggingface) (5.9.5)\n",
            "Requirement already satisfied: aiohappyeyeballs>=2.3.0 in /usr/local/lib/python3.10/dist-packages (from aiohttp<4.0.0,>=3.8.6->llama-index-core<0.13.0,>=0.12.0->llama-index-llms-huggingface) (2.4.4)\n",
            "Requirement already satisfied: aiosignal>=1.1.2 in /usr/local/lib/python3.10/dist-packages (from aiohttp<4.0.0,>=3.8.6->llama-index-core<0.13.0,>=0.12.0->llama-index-llms-huggingface) (1.3.2)\n",
            "Requirement already satisfied: async-timeout<6.0,>=4.0 in /usr/local/lib/python3.10/dist-packages (from aiohttp<4.0.0,>=3.8.6->llama-index-core<0.13.0,>=0.12.0->llama-index-llms-huggingface) (4.0.3)\n",
            "Requirement already satisfied: attrs>=17.3.0 in /usr/local/lib/python3.10/dist-packages (from aiohttp<4.0.0,>=3.8.6->llama-index-core<0.13.0,>=0.12.0->llama-index-llms-huggingface) (24.3.0)\n",
            "Requirement already satisfied: frozenlist>=1.1.1 in /usr/local/lib/python3.10/dist-packages (from aiohttp<4.0.0,>=3.8.6->llama-index-core<0.13.0,>=0.12.0->llama-index-llms-huggingface) (1.5.0)\n",
            "Requirement already satisfied: multidict<7.0,>=4.5 in /usr/local/lib/python3.10/dist-packages (from aiohttp<4.0.0,>=3.8.6->llama-index-core<0.13.0,>=0.12.0->llama-index-llms-huggingface) (6.1.0)\n",
            "Requirement already satisfied: propcache>=0.2.0 in /usr/local/lib/python3.10/dist-packages (from aiohttp<4.0.0,>=3.8.6->llama-index-core<0.13.0,>=0.12.0->llama-index-llms-huggingface) (0.2.1)\n",
            "Requirement already satisfied: yarl<2.0,>=1.17.0 in /usr/local/lib/python3.10/dist-packages (from aiohttp<4.0.0,>=3.8.6->llama-index-core<0.13.0,>=0.12.0->llama-index-llms-huggingface) (1.18.3)\n",
            "Requirement already satisfied: click in /usr/local/lib/python3.10/dist-packages (from nltk>3.8.1->llama-index-core<0.13.0,>=0.12.0->llama-index-llms-huggingface) (8.1.7)\n",
            "Requirement already satisfied: joblib in /usr/local/lib/python3.10/dist-packages (from nltk>3.8.1->llama-index-core<0.13.0,>=0.12.0->llama-index-llms-huggingface) (1.4.2)\n",
            "Requirement already satisfied: annotated-types>=0.6.0 in /usr/local/lib/python3.10/dist-packages (from pydantic>=2.8.0->llama-index-core<0.13.0,>=0.12.0->llama-index-llms-huggingface) (0.7.0)\n",
            "Requirement already satisfied: pydantic-core==2.27.1 in /usr/local/lib/python3.10/dist-packages (from pydantic>=2.8.0->llama-index-core<0.13.0,>=0.12.0->llama-index-llms-huggingface) (2.27.1)\n",
            "Requirement already satisfied: charset-normalizer<4,>=2 in /usr/local/lib/python3.10/dist-packages (from requests->huggingface-hub<0.24.0,>=0.23.0->llama-index-llms-huggingface) (3.4.0)\n",
            "Requirement already satisfied: idna<4,>=2.5 in /usr/local/lib/python3.10/dist-packages (from requests->huggingface-hub<0.24.0,>=0.23.0->llama-index-llms-huggingface) (3.10)\n",
            "Requirement already satisfied: urllib3<3,>=1.21.1 in /usr/local/lib/python3.10/dist-packages (from requests->huggingface-hub<0.24.0,>=0.23.0->llama-index-llms-huggingface) (2.2.3)\n",
            "Requirement already satisfied: certifi>=2017.4.17 in /usr/local/lib/python3.10/dist-packages (from requests->huggingface-hub<0.24.0,>=0.23.0->llama-index-llms-huggingface) (2024.12.14)\n",
            "Requirement already satisfied: greenlet!=0.4.17 in /usr/local/lib/python3.10/dist-packages (from SQLAlchemy>=1.4.49->SQLAlchemy[asyncio]>=1.4.49->llama-index-core<0.13.0,>=0.12.0->llama-index-llms-huggingface) (3.1.1)\n",
            "Requirement already satisfied: mypy-extensions>=0.3.0 in /usr/local/lib/python3.10/dist-packages (from typing-inspect>=0.8.0->llama-index-core<0.13.0,>=0.12.0->llama-index-llms-huggingface) (1.0.0)\n",
            "Requirement already satisfied: marshmallow<4.0.0,>=3.18.0 in /usr/local/lib/python3.10/dist-packages (from dataclasses-json->llama-index-core<0.13.0,>=0.12.0->llama-index-llms-huggingface) (3.23.2)\n",
            "Requirement already satisfied: anyio in /usr/local/lib/python3.10/dist-packages (from httpx->llama-index-core<0.13.0,>=0.12.0->llama-index-llms-huggingface) (3.7.1)\n",
            "Requirement already satisfied: httpcore==1.* in /usr/local/lib/python3.10/dist-packages (from httpx->llama-index-core<0.13.0,>=0.12.0->llama-index-llms-huggingface) (1.0.7)\n",
            "Requirement already satisfied: h11<0.15,>=0.13 in /usr/local/lib/python3.10/dist-packages (from httpcore==1.*->httpx->llama-index-core<0.13.0,>=0.12.0->llama-index-llms-huggingface) (0.14.0)\n",
            "Requirement already satisfied: MarkupSafe>=2.0 in /usr/local/lib/python3.10/dist-packages (from jinja2->torch<3.0.0,>=2.1.2->llama-index-llms-huggingface) (3.0.2)\n",
            "Requirement already satisfied: sniffio>=1.1 in /usr/local/lib/python3.10/dist-packages (from anyio->httpx->llama-index-core<0.13.0,>=0.12.0->llama-index-llms-huggingface) (1.3.1)\n",
            "Requirement already satisfied: exceptiongroup in /usr/local/lib/python3.10/dist-packages (from anyio->httpx->llama-index-core<0.13.0,>=0.12.0->llama-index-llms-huggingface) (1.2.2)\n",
            "Using cached huggingface_hub-0.23.5-py3-none-any.whl (402 kB)\n",
            "Using cached transformers-4.46.3-py3-none-any.whl (10.0 MB)\n",
            "Using cached tokenizers-0.20.3-cp310-cp310-manylinux_2_17_x86_64.manylinux2014_x86_64.whl (3.0 MB)\n",
            "Installing collected packages: huggingface-hub, tokenizers, transformers\n",
            "  Attempting uninstall: huggingface-hub\n",
            "    Found existing installation: huggingface-hub 0.27.0\n",
            "    Uninstalling huggingface-hub-0.27.0:\n",
            "      Successfully uninstalled huggingface-hub-0.27.0\n",
            "  Attempting uninstall: tokenizers\n",
            "    Found existing installation: tokenizers 0.13.3\n",
            "    Uninstalling tokenizers-0.13.3:\n",
            "      Successfully uninstalled tokenizers-0.13.3\n",
            "  Attempting uninstall: transformers\n",
            "    Found existing installation: transformers 4.31.0\n",
            "    Uninstalling transformers-4.31.0:\n",
            "      Successfully uninstalled transformers-4.31.0\n",
            "Successfully installed huggingface-hub-0.23.5 tokenizers-0.20.3 transformers-4.46.3\n"
          ]
        },
        {
          "output_type": "display_data",
          "data": {
            "application/vnd.colab-display-data+json": {
              "pip_warning": {
                "packages": [
                  "huggingface_hub"
                ]
              },
              "id": "3f5103a2db22469d95a33352ab927af9"
            }
          },
          "metadata": {}
        }
      ],
      "source": [
        "%pip install llama-index-llms-huggingface\n"
      ]
    },
    {
      "cell_type": "code",
      "execution_count": null,
      "metadata": {
        "colab": {
          "base_uri": "https://localhost:8080/"
        },
        "id": "4VuT4Wjs-dlq",
        "outputId": "02729449-ccc5-44ec-95d1-41e5c90d0ff5"
      },
      "outputs": [
        {
          "name": "stdout",
          "output_type": "stream",
          "text": [
            "/bin/bash: line 1: 0.24.0: No such file or directory\n"
          ]
        }
      ],
      "source": [
        "# prompt: ! pip install upgrade huggingface-hub<0.24.0\n",
        "\n",
        "! pip install --upgrade huggingface-hub<0.24.0\n"
      ]
    },
    {
      "cell_type": "code",
      "execution_count": null,
      "metadata": {
        "colab": {
          "base_uri": "https://localhost:8080/"
        },
        "id": "tvAsPp9K_E81",
        "outputId": "35b036af-3479-4263-99c5-0344280b1ca9"
      },
      "outputs": [
        {
          "name": "stdout",
          "output_type": "stream",
          "text": [
            "Found existing installation: huggingface-hub 0.23.0\n",
            "Uninstalling huggingface-hub-0.23.0:\n",
            "  Would remove:\n",
            "    /usr/local/bin/huggingface-cli\n",
            "    /usr/local/lib/python3.10/dist-packages/huggingface_hub-0.23.0.dist-info/*\n",
            "    /usr/local/lib/python3.10/dist-packages/huggingface_hub/*\n",
            "Proceed (Y/n)? Y\n",
            "  Successfully uninstalled huggingface-hub-0.23.0\n"
          ]
        }
      ],
      "source": [
        "! pip uninstall huggingface-hub"
      ]
    },
    {
      "cell_type": "code",
      "execution_count": null,
      "metadata": {
        "colab": {
          "base_uri": "https://localhost:8080/"
        },
        "id": "Xy1bvA2D_KkZ",
        "outputId": "284f46cf-b597-491f-f208-769dc7b59708",
        "collapsed": true
      },
      "outputs": [
        {
          "name": "stdout",
          "output_type": "stream",
          "text": [
            "Collecting huggingface_hub==0.23.2\n",
            "  Using cached huggingface_hub-0.23.2-py3-none-any.whl.metadata (12 kB)\n",
            "Requirement already satisfied: filelock in /usr/local/lib/python3.10/dist-packages (from huggingface_hub==0.23.2) (3.16.1)\n",
            "Requirement already satisfied: fsspec>=2023.5.0 in /usr/local/lib/python3.10/dist-packages (from huggingface_hub==0.23.2) (2024.10.0)\n",
            "Requirement already satisfied: packaging>=20.9 in /usr/local/lib/python3.10/dist-packages (from huggingface_hub==0.23.2) (24.2)\n",
            "Requirement already satisfied: pyyaml>=5.1 in /usr/local/lib/python3.10/dist-packages (from huggingface_hub==0.23.2) (6.0.2)\n",
            "Requirement already satisfied: requests in /usr/local/lib/python3.10/dist-packages (from huggingface_hub==0.23.2) (2.32.3)\n",
            "Requirement already satisfied: tqdm>=4.42.1 in /usr/local/lib/python3.10/dist-packages (from huggingface_hub==0.23.2) (4.67.1)\n",
            "Requirement already satisfied: typing-extensions>=3.7.4.3 in /usr/local/lib/python3.10/dist-packages (from huggingface_hub==0.23.2) (4.12.2)\n",
            "Requirement already satisfied: charset-normalizer<4,>=2 in /usr/local/lib/python3.10/dist-packages (from requests->huggingface_hub==0.23.2) (3.4.0)\n",
            "Requirement already satisfied: idna<4,>=2.5 in /usr/local/lib/python3.10/dist-packages (from requests->huggingface_hub==0.23.2) (3.10)\n",
            "Requirement already satisfied: urllib3<3,>=1.21.1 in /usr/local/lib/python3.10/dist-packages (from requests->huggingface_hub==0.23.2) (2.2.3)\n",
            "Requirement already satisfied: certifi>=2017.4.17 in /usr/local/lib/python3.10/dist-packages (from requests->huggingface_hub==0.23.2) (2024.12.14)\n",
            "Using cached huggingface_hub-0.23.2-py3-none-any.whl (401 kB)\n",
            "Installing collected packages: huggingface_hub\n",
            "  Attempting uninstall: huggingface_hub\n",
            "    Found existing installation: huggingface-hub 0.23.5\n",
            "    Uninstalling huggingface-hub-0.23.5:\n",
            "      Successfully uninstalled huggingface-hub-0.23.5\n",
            "\u001b[31mERROR: pip's dependency resolver does not currently take into account all the packages that are installed. This behaviour is the source of the following dependency conflicts.\n",
            "peft 0.14.0 requires huggingface-hub>=0.25.0, but you have huggingface-hub 0.23.2 which is incompatible.\u001b[0m\u001b[31m\n",
            "\u001b[0mSuccessfully installed huggingface_hub-0.23.2\n"
          ]
        }
      ],
      "source": [
        "!pip install huggingface_hub==0.23.2"
      ]
    },
    {
      "cell_type": "code",
      "execution_count": null,
      "metadata": {
        "colab": {
          "base_uri": "https://localhost:8080/"
        },
        "id": "AX2nnZGI_1nM",
        "outputId": "11cf2677-7e71-4318-ac13-93a2aaca5559"
      },
      "outputs": [
        {
          "name": "stdout",
          "output_type": "stream",
          "text": [
            "Found existing installation: peft 0.14.0\n",
            "Uninstalling peft-0.14.0:\n",
            "  Would remove:\n",
            "    /usr/local/lib/python3.10/dist-packages/peft-0.14.0.dist-info/*\n",
            "    /usr/local/lib/python3.10/dist-packages/peft/*\n",
            "Proceed (Y/n)? Y\n",
            "  Successfully uninstalled peft-0.14.0\n"
          ]
        }
      ],
      "source": [
        "!pip uninstall peft\n"
      ]
    },
    {
      "cell_type": "code",
      "execution_count": null,
      "metadata": {
        "colab": {
          "base_uri": "https://localhost:8080/"
        },
        "id": "argRCjXWAKL_",
        "outputId": "b36e839b-8f0c-4a3d-cc07-9e2fa8ba3cec",
        "collapsed": true
      },
      "outputs": [
        {
          "name": "stdout",
          "output_type": "stream",
          "text": [
            "Requirement already satisfied: peft in /usr/local/lib/python3.10/dist-packages (0.4.0)\n",
            "Requirement already satisfied: numpy>=1.17 in /usr/local/lib/python3.10/dist-packages (from peft) (1.26.4)\n",
            "Requirement already satisfied: packaging>=20.0 in /usr/local/lib/python3.10/dist-packages (from peft) (24.2)\n",
            "Requirement already satisfied: psutil in /usr/local/lib/python3.10/dist-packages (from peft) (5.9.5)\n",
            "Requirement already satisfied: pyyaml in /usr/local/lib/python3.10/dist-packages (from peft) (6.0.2)\n",
            "Requirement already satisfied: torch>=1.13.0 in /usr/local/lib/python3.10/dist-packages (from peft) (2.5.1+cu121)\n",
            "Requirement already satisfied: transformers in /usr/local/lib/python3.10/dist-packages (from peft) (4.46.3)\n",
            "Requirement already satisfied: accelerate in /usr/local/lib/python3.10/dist-packages (from peft) (1.2.1)\n",
            "Requirement already satisfied: safetensors in /usr/local/lib/python3.10/dist-packages (from peft) (0.4.5)\n",
            "Requirement already satisfied: filelock in /usr/local/lib/python3.10/dist-packages (from torch>=1.13.0->peft) (3.16.1)\n",
            "Requirement already satisfied: typing-extensions>=4.8.0 in /usr/local/lib/python3.10/dist-packages (from torch>=1.13.0->peft) (4.12.2)\n",
            "Requirement already satisfied: networkx in /usr/local/lib/python3.10/dist-packages (from torch>=1.13.0->peft) (3.4.2)\n",
            "Requirement already satisfied: jinja2 in /usr/local/lib/python3.10/dist-packages (from torch>=1.13.0->peft) (3.1.4)\n",
            "Requirement already satisfied: fsspec in /usr/local/lib/python3.10/dist-packages (from torch>=1.13.0->peft) (2024.10.0)\n",
            "Requirement already satisfied: sympy==1.13.1 in /usr/local/lib/python3.10/dist-packages (from torch>=1.13.0->peft) (1.13.1)\n",
            "Requirement already satisfied: mpmath<1.4,>=1.1.0 in /usr/local/lib/python3.10/dist-packages (from sympy==1.13.1->torch>=1.13.0->peft) (1.3.0)\n",
            "Requirement already satisfied: huggingface-hub>=0.21.0 in /usr/local/lib/python3.10/dist-packages (from accelerate->peft) (0.23.5)\n",
            "Requirement already satisfied: regex!=2019.12.17 in /usr/local/lib/python3.10/dist-packages (from transformers->peft) (2024.11.6)\n",
            "Requirement already satisfied: requests in /usr/local/lib/python3.10/dist-packages (from transformers->peft) (2.32.3)\n",
            "Requirement already satisfied: tokenizers<0.21,>=0.20 in /usr/local/lib/python3.10/dist-packages (from transformers->peft) (0.20.3)\n",
            "Requirement already satisfied: tqdm>=4.27 in /usr/local/lib/python3.10/dist-packages (from transformers->peft) (4.67.1)\n",
            "Requirement already satisfied: MarkupSafe>=2.0 in /usr/local/lib/python3.10/dist-packages (from jinja2->torch>=1.13.0->peft) (3.0.2)\n",
            "Requirement already satisfied: charset-normalizer<4,>=2 in /usr/local/lib/python3.10/dist-packages (from requests->transformers->peft) (3.4.0)\n",
            "Requirement already satisfied: idna<4,>=2.5 in /usr/local/lib/python3.10/dist-packages (from requests->transformers->peft) (3.10)\n",
            "Requirement already satisfied: urllib3<3,>=1.21.1 in /usr/local/lib/python3.10/dist-packages (from requests->transformers->peft) (2.2.3)\n",
            "Requirement already satisfied: certifi>=2017.4.17 in /usr/local/lib/python3.10/dist-packages (from requests->transformers->peft) (2024.12.14)\n"
          ]
        }
      ],
      "source": [
        "\n",
        "!pip install peft"
      ]
    },
    {
      "cell_type": "code",
      "execution_count": 6,
      "metadata": {
        "id": "5pTOg8WuAOyi"
      },
      "outputs": [],
      "source": [
        "from llama_index.llms.huggingface import HuggingFaceLLM\n"
      ]
    },
    {
      "cell_type": "code",
      "execution_count": null,
      "metadata": {
        "id": "C2UCsftlTTMY"
      },
      "outputs": [],
      "source": []
    },
    {
      "cell_type": "code",
      "execution_count": null,
      "metadata": {
        "colab": {
          "base_uri": "https://localhost:8080/"
        },
        "collapsed": true,
        "id": "bNl-dQReAXuM",
        "outputId": "5d6d8635-147b-4e15-e2ee-8b7e80563f95"
      },
      "outputs": [
        {
          "name": "stdout",
          "output_type": "stream",
          "text": [
            "Requirement already satisfied: llama-index-llms-huggingface in /usr/local/lib/python3.10/dist-packages (0.4.1)\n",
            "Requirement already satisfied: huggingface-hub<0.24.0,>=0.23.0 in /usr/local/lib/python3.10/dist-packages (from llama-index-llms-huggingface) (0.23.2)\n",
            "Requirement already satisfied: llama-index-core<0.13.0,>=0.12.0 in /usr/local/lib/python3.10/dist-packages (from llama-index-llms-huggingface) (0.12.8)\n",
            "Requirement already satisfied: text-generation<0.8.0,>=0.7.0 in /usr/local/lib/python3.10/dist-packages (from llama-index-llms-huggingface) (0.7.0)\n",
            "Requirement already satisfied: torch<3.0.0,>=2.1.2 in /usr/local/lib/python3.10/dist-packages (from llama-index-llms-huggingface) (2.5.1+cu121)\n",
            "Requirement already satisfied: transformers<5.0.0,>=4.37.0 in /usr/local/lib/python3.10/dist-packages (from transformers[torch]<5.0.0,>=4.37.0->llama-index-llms-huggingface) (4.46.3)\n",
            "Requirement already satisfied: filelock in /usr/local/lib/python3.10/dist-packages (from huggingface-hub<0.24.0,>=0.23.0->llama-index-llms-huggingface) (3.16.1)\n",
            "Requirement already satisfied: fsspec>=2023.5.0 in /usr/local/lib/python3.10/dist-packages (from huggingface-hub<0.24.0,>=0.23.0->llama-index-llms-huggingface) (2024.10.0)\n",
            "Requirement already satisfied: packaging>=20.9 in /usr/local/lib/python3.10/dist-packages (from huggingface-hub<0.24.0,>=0.23.0->llama-index-llms-huggingface) (24.2)\n",
            "Requirement already satisfied: pyyaml>=5.1 in /usr/local/lib/python3.10/dist-packages (from huggingface-hub<0.24.0,>=0.23.0->llama-index-llms-huggingface) (6.0.2)\n",
            "Requirement already satisfied: requests in /usr/local/lib/python3.10/dist-packages (from huggingface-hub<0.24.0,>=0.23.0->llama-index-llms-huggingface) (2.32.3)\n",
            "Requirement already satisfied: tqdm>=4.42.1 in /usr/local/lib/python3.10/dist-packages (from huggingface-hub<0.24.0,>=0.23.0->llama-index-llms-huggingface) (4.67.1)\n",
            "Requirement already satisfied: typing-extensions>=3.7.4.3 in /usr/local/lib/python3.10/dist-packages (from huggingface-hub<0.24.0,>=0.23.0->llama-index-llms-huggingface) (4.12.2)\n",
            "Requirement already satisfied: SQLAlchemy>=1.4.49 in /usr/local/lib/python3.10/dist-packages (from SQLAlchemy[asyncio]>=1.4.49->llama-index-core<0.13.0,>=0.12.0->llama-index-llms-huggingface) (2.0.36)\n",
            "Requirement already satisfied: aiohttp<4.0.0,>=3.8.6 in /usr/local/lib/python3.10/dist-packages (from llama-index-core<0.13.0,>=0.12.0->llama-index-llms-huggingface) (3.11.10)\n",
            "Requirement already satisfied: dataclasses-json in /usr/local/lib/python3.10/dist-packages (from llama-index-core<0.13.0,>=0.12.0->llama-index-llms-huggingface) (0.6.7)\n",
            "Requirement already satisfied: deprecated>=1.2.9.3 in /usr/local/lib/python3.10/dist-packages (from llama-index-core<0.13.0,>=0.12.0->llama-index-llms-huggingface) (1.2.15)\n",
            "Requirement already satisfied: dirtyjson<2.0.0,>=1.0.8 in /usr/local/lib/python3.10/dist-packages (from llama-index-core<0.13.0,>=0.12.0->llama-index-llms-huggingface) (1.0.8)\n",
            "Requirement already satisfied: filetype<2.0.0,>=1.2.0 in /usr/local/lib/python3.10/dist-packages (from llama-index-core<0.13.0,>=0.12.0->llama-index-llms-huggingface) (1.2.0)\n",
            "Requirement already satisfied: httpx in /usr/local/lib/python3.10/dist-packages (from llama-index-core<0.13.0,>=0.12.0->llama-index-llms-huggingface) (0.28.1)\n",
            "Requirement already satisfied: nest-asyncio<2.0.0,>=1.5.8 in /usr/local/lib/python3.10/dist-packages (from llama-index-core<0.13.0,>=0.12.0->llama-index-llms-huggingface) (1.6.0)\n",
            "Requirement already satisfied: networkx>=3.0 in /usr/local/lib/python3.10/dist-packages (from llama-index-core<0.13.0,>=0.12.0->llama-index-llms-huggingface) (3.4.2)\n",
            "Requirement already satisfied: nltk>3.8.1 in /usr/local/lib/python3.10/dist-packages (from llama-index-core<0.13.0,>=0.12.0->llama-index-llms-huggingface) (3.9.1)\n",
            "Requirement already satisfied: numpy in /usr/local/lib/python3.10/dist-packages (from llama-index-core<0.13.0,>=0.12.0->llama-index-llms-huggingface) (1.26.4)\n",
            "Requirement already satisfied: pillow>=9.0.0 in /usr/local/lib/python3.10/dist-packages (from llama-index-core<0.13.0,>=0.12.0->llama-index-llms-huggingface) (11.0.0)\n",
            "Requirement already satisfied: pydantic>=2.8.0 in /usr/local/lib/python3.10/dist-packages (from llama-index-core<0.13.0,>=0.12.0->llama-index-llms-huggingface) (2.10.3)\n",
            "Requirement already satisfied: tenacity!=8.4.0,<10.0.0,>=8.2.0 in /usr/local/lib/python3.10/dist-packages (from llama-index-core<0.13.0,>=0.12.0->llama-index-llms-huggingface) (9.0.0)\n",
            "Requirement already satisfied: tiktoken>=0.3.3 in /usr/local/lib/python3.10/dist-packages (from llama-index-core<0.13.0,>=0.12.0->llama-index-llms-huggingface) (0.8.0)\n",
            "Requirement already satisfied: typing-inspect>=0.8.0 in /usr/local/lib/python3.10/dist-packages (from llama-index-core<0.13.0,>=0.12.0->llama-index-llms-huggingface) (0.9.0)\n",
            "Requirement already satisfied: wrapt in /usr/local/lib/python3.10/dist-packages (from llama-index-core<0.13.0,>=0.12.0->llama-index-llms-huggingface) (1.17.0)\n",
            "Requirement already satisfied: jinja2 in /usr/local/lib/python3.10/dist-packages (from torch<3.0.0,>=2.1.2->llama-index-llms-huggingface) (3.1.4)\n",
            "Requirement already satisfied: sympy==1.13.1 in /usr/local/lib/python3.10/dist-packages (from torch<3.0.0,>=2.1.2->llama-index-llms-huggingface) (1.13.1)\n",
            "Requirement already satisfied: mpmath<1.4,>=1.1.0 in /usr/local/lib/python3.10/dist-packages (from sympy==1.13.1->torch<3.0.0,>=2.1.2->llama-index-llms-huggingface) (1.3.0)\n",
            "Requirement already satisfied: regex!=2019.12.17 in /usr/local/lib/python3.10/dist-packages (from transformers<5.0.0,>=4.37.0->transformers[torch]<5.0.0,>=4.37.0->llama-index-llms-huggingface) (2024.11.6)\n",
            "Requirement already satisfied: tokenizers<0.21,>=0.20 in /usr/local/lib/python3.10/dist-packages (from transformers<5.0.0,>=4.37.0->transformers[torch]<5.0.0,>=4.37.0->llama-index-llms-huggingface) (0.20.3)\n",
            "Requirement already satisfied: safetensors>=0.4.1 in /usr/local/lib/python3.10/dist-packages (from transformers<5.0.0,>=4.37.0->transformers[torch]<5.0.0,>=4.37.0->llama-index-llms-huggingface) (0.4.5)\n",
            "Requirement already satisfied: accelerate>=0.26.0 in /usr/local/lib/python3.10/dist-packages (from transformers[torch]<5.0.0,>=4.37.0->llama-index-llms-huggingface) (1.2.0.dev0)\n",
            "Requirement already satisfied: psutil in /usr/local/lib/python3.10/dist-packages (from accelerate>=0.26.0->transformers[torch]<5.0.0,>=4.37.0->llama-index-llms-huggingface) (5.9.5)\n",
            "Requirement already satisfied: aiohappyeyeballs>=2.3.0 in /usr/local/lib/python3.10/dist-packages (from aiohttp<4.0.0,>=3.8.6->llama-index-core<0.13.0,>=0.12.0->llama-index-llms-huggingface) (2.4.4)\n",
            "Requirement already satisfied: aiosignal>=1.1.2 in /usr/local/lib/python3.10/dist-packages (from aiohttp<4.0.0,>=3.8.6->llama-index-core<0.13.0,>=0.12.0->llama-index-llms-huggingface) (1.3.2)\n",
            "Requirement already satisfied: async-timeout<6.0,>=4.0 in /usr/local/lib/python3.10/dist-packages (from aiohttp<4.0.0,>=3.8.6->llama-index-core<0.13.0,>=0.12.0->llama-index-llms-huggingface) (4.0.3)\n",
            "Requirement already satisfied: attrs>=17.3.0 in /usr/local/lib/python3.10/dist-packages (from aiohttp<4.0.0,>=3.8.6->llama-index-core<0.13.0,>=0.12.0->llama-index-llms-huggingface) (24.3.0)\n",
            "Requirement already satisfied: frozenlist>=1.1.1 in /usr/local/lib/python3.10/dist-packages (from aiohttp<4.0.0,>=3.8.6->llama-index-core<0.13.0,>=0.12.0->llama-index-llms-huggingface) (1.5.0)\n",
            "Requirement already satisfied: multidict<7.0,>=4.5 in /usr/local/lib/python3.10/dist-packages (from aiohttp<4.0.0,>=3.8.6->llama-index-core<0.13.0,>=0.12.0->llama-index-llms-huggingface) (6.1.0)\n",
            "Requirement already satisfied: propcache>=0.2.0 in /usr/local/lib/python3.10/dist-packages (from aiohttp<4.0.0,>=3.8.6->llama-index-core<0.13.0,>=0.12.0->llama-index-llms-huggingface) (0.2.1)\n",
            "Requirement already satisfied: yarl<2.0,>=1.17.0 in /usr/local/lib/python3.10/dist-packages (from aiohttp<4.0.0,>=3.8.6->llama-index-core<0.13.0,>=0.12.0->llama-index-llms-huggingface) (1.18.3)\n",
            "Requirement already satisfied: click in /usr/local/lib/python3.10/dist-packages (from nltk>3.8.1->llama-index-core<0.13.0,>=0.12.0->llama-index-llms-huggingface) (8.1.7)\n",
            "Requirement already satisfied: joblib in /usr/local/lib/python3.10/dist-packages (from nltk>3.8.1->llama-index-core<0.13.0,>=0.12.0->llama-index-llms-huggingface) (1.4.2)\n",
            "Requirement already satisfied: annotated-types>=0.6.0 in /usr/local/lib/python3.10/dist-packages (from pydantic>=2.8.0->llama-index-core<0.13.0,>=0.12.0->llama-index-llms-huggingface) (0.7.0)\n",
            "Requirement already satisfied: pydantic-core==2.27.1 in /usr/local/lib/python3.10/dist-packages (from pydantic>=2.8.0->llama-index-core<0.13.0,>=0.12.0->llama-index-llms-huggingface) (2.27.1)\n",
            "Requirement already satisfied: charset-normalizer<4,>=2 in /usr/local/lib/python3.10/dist-packages (from requests->huggingface-hub<0.24.0,>=0.23.0->llama-index-llms-huggingface) (3.4.0)\n",
            "Requirement already satisfied: idna<4,>=2.5 in /usr/local/lib/python3.10/dist-packages (from requests->huggingface-hub<0.24.0,>=0.23.0->llama-index-llms-huggingface) (3.10)\n",
            "Requirement already satisfied: urllib3<3,>=1.21.1 in /usr/local/lib/python3.10/dist-packages (from requests->huggingface-hub<0.24.0,>=0.23.0->llama-index-llms-huggingface) (2.2.3)\n",
            "Requirement already satisfied: certifi>=2017.4.17 in /usr/local/lib/python3.10/dist-packages (from requests->huggingface-hub<0.24.0,>=0.23.0->llama-index-llms-huggingface) (2024.12.14)\n",
            "Requirement already satisfied: greenlet!=0.4.17 in /usr/local/lib/python3.10/dist-packages (from SQLAlchemy>=1.4.49->SQLAlchemy[asyncio]>=1.4.49->llama-index-core<0.13.0,>=0.12.0->llama-index-llms-huggingface) (3.1.1)\n",
            "Requirement already satisfied: mypy-extensions>=0.3.0 in /usr/local/lib/python3.10/dist-packages (from typing-inspect>=0.8.0->llama-index-core<0.13.0,>=0.12.0->llama-index-llms-huggingface) (1.0.0)\n",
            "Requirement already satisfied: marshmallow<4.0.0,>=3.18.0 in /usr/local/lib/python3.10/dist-packages (from dataclasses-json->llama-index-core<0.13.0,>=0.12.0->llama-index-llms-huggingface) (3.23.2)\n",
            "Requirement already satisfied: anyio in /usr/local/lib/python3.10/dist-packages (from httpx->llama-index-core<0.13.0,>=0.12.0->llama-index-llms-huggingface) (3.7.1)\n",
            "Requirement already satisfied: httpcore==1.* in /usr/local/lib/python3.10/dist-packages (from httpx->llama-index-core<0.13.0,>=0.12.0->llama-index-llms-huggingface) (1.0.7)\n",
            "Requirement already satisfied: h11<0.15,>=0.13 in /usr/local/lib/python3.10/dist-packages (from httpcore==1.*->httpx->llama-index-core<0.13.0,>=0.12.0->llama-index-llms-huggingface) (0.14.0)\n",
            "Requirement already satisfied: MarkupSafe>=2.0 in /usr/local/lib/python3.10/dist-packages (from jinja2->torch<3.0.0,>=2.1.2->llama-index-llms-huggingface) (3.0.2)\n",
            "Requirement already satisfied: sniffio>=1.1 in /usr/local/lib/python3.10/dist-packages (from anyio->httpx->llama-index-core<0.13.0,>=0.12.0->llama-index-llms-huggingface) (1.3.1)\n",
            "Requirement already satisfied: exceptiongroup in /usr/local/lib/python3.10/dist-packages (from anyio->httpx->llama-index-core<0.13.0,>=0.12.0->llama-index-llms-huggingface) (1.2.2)\n"
          ]
        }
      ],
      "source": [
        "!pip install llama-index-llms-huggingface\n",
        "\n",
        "# from llama_index.llms.huggingface import HuggingFaceLLM\n"
      ]
    },
    {
      "cell_type": "code",
      "execution_count": 7,
      "metadata": {
        "id": "7Gl0W28FTVaQ"
      },
      "outputs": [],
      "source": [
        "from llama_index.core.prompts.prompts import SimpleInputPrompt"
      ]
    },
    {
      "cell_type": "code",
      "execution_count": 8,
      "metadata": {
        "id": "71_O7yaMuUt7"
      },
      "outputs": [],
      "source": [
        "documents = SimpleDirectoryReader(\"/content/data\").load_data()"
      ]
    },
    {
      "cell_type": "code",
      "execution_count": 96,
      "metadata": {
        "id": "srBM6on1udsT"
      },
      "outputs": [],
      "source": [
        "system_prompts= \"\"\"\n",
        "You are a QA asssistant. Your goal is to answer question as accruately as possible based on the instruction and context provided.\n",
        "\"\"\"\n",
        "\n",
        "query_wrapper_prompt= SimpleInputPrompt(\"<|USER|>{query_str}<|ASSISTANT|>\")"
      ]
    },
    {
      "cell_type": "code",
      "execution_count": 9,
      "metadata": {
        "colab": {
          "base_uri": "https://localhost:8080/"
        },
        "id": "7aXPSzHjud-6",
        "outputId": "56bd77b4-f3dd-4885-feae-18f8f6690ef6"
      },
      "outputs": [
        {
          "output_type": "stream",
          "name": "stdout",
          "text": [
            "\n",
            "    _|    _|  _|    _|    _|_|_|    _|_|_|  _|_|_|  _|      _|    _|_|_|      _|_|_|_|    _|_|      _|_|_|  _|_|_|_|\n",
            "    _|    _|  _|    _|  _|        _|          _|    _|_|    _|  _|            _|        _|    _|  _|        _|\n",
            "    _|_|_|_|  _|    _|  _|  _|_|  _|  _|_|    _|    _|  _|  _|  _|  _|_|      _|_|_|    _|_|_|_|  _|        _|_|_|\n",
            "    _|    _|  _|    _|  _|    _|  _|    _|    _|    _|    _|_|  _|    _|      _|        _|    _|  _|        _|\n",
            "    _|    _|    _|_|      _|_|_|    _|_|_|  _|_|_|  _|      _|    _|_|_|      _|        _|    _|    _|_|_|  _|_|_|_|\n",
            "\n",
            "    A token is already saved on your machine. Run `huggingface-cli whoami` to get more information or `huggingface-cli logout` if you want to log out.\n",
            "    Setting a new token will erase the existing one.\n",
            "    To login, `huggingface_hub` requires a token generated from https://huggingface.co/settings/tokens .\n",
            "Enter your token (input will not be visible): \n",
            "Add token as git credential? (Y/n) n\n",
            "Token is valid (permission: read).\n",
            "Your token has been saved to /root/.cache/huggingface/token\n",
            "Login successful\n"
          ]
        }
      ],
      "source": [
        "! huggingface-cli login"
      ]
    },
    {
      "cell_type": "markdown",
      "source": [],
      "metadata": {
        "id": "wPsYJi-RrDQt"
      }
    },
    {
      "cell_type": "code",
      "execution_count": 10,
      "metadata": {
        "id": "mK5wsk5Ru-oa"
      },
      "outputs": [],
      "source": [
        "import torch"
      ]
    },
    {
      "cell_type": "code",
      "execution_count": null,
      "metadata": {
        "colab": {
          "base_uri": "https://localhost:8080/"
        },
        "id": "4-BEGk3OvvWj",
        "outputId": "a905011d-1e5b-413d-e36f-096157fcf809"
      },
      "outputs": [
        {
          "name": "stdout",
          "output_type": "stream",
          "text": [
            "Collecting git+https://github.com/huggingface/accelerate.git\n",
            "  Cloning https://github.com/huggingface/accelerate.git to /tmp/pip-req-build-b6zap2zd\n",
            "  Running command git clone --filter=blob:none --quiet https://github.com/huggingface/accelerate.git /tmp/pip-req-build-b6zap2zd\n",
            "  Resolved https://github.com/huggingface/accelerate.git to commit d6d3e03cd4868b1f69d4f334ddd341e4d414c342\n",
            "  Installing build dependencies ... \u001b[?25l\u001b[?25hdone\n",
            "  Getting requirements to build wheel ... \u001b[?25l\u001b[?25hdone\n",
            "  Preparing metadata (pyproject.toml) ... \u001b[?25l\u001b[?25hdone\n",
            "Requirement already satisfied: numpy<3.0.0,>=1.17 in /usr/local/lib/python3.10/dist-packages (from accelerate==1.2.0.dev0) (1.26.4)\n",
            "Requirement already satisfied: packaging>=20.0 in /usr/local/lib/python3.10/dist-packages (from accelerate==1.2.0.dev0) (24.2)\n",
            "Requirement already satisfied: psutil in /usr/local/lib/python3.10/dist-packages (from accelerate==1.2.0.dev0) (5.9.5)\n",
            "Requirement already satisfied: pyyaml in /usr/local/lib/python3.10/dist-packages (from accelerate==1.2.0.dev0) (6.0.2)\n",
            "Requirement already satisfied: torch>=1.10.0 in /usr/local/lib/python3.10/dist-packages (from accelerate==1.2.0.dev0) (2.5.1+cu121)\n",
            "Requirement already satisfied: huggingface_hub>=0.21.0 in /usr/local/lib/python3.10/dist-packages (from accelerate==1.2.0.dev0) (0.23.2)\n",
            "Requirement already satisfied: safetensors>=0.4.3 in /usr/local/lib/python3.10/dist-packages (from accelerate==1.2.0.dev0) (0.4.5)\n",
            "Requirement already satisfied: filelock in /usr/local/lib/python3.10/dist-packages (from huggingface_hub>=0.21.0->accelerate==1.2.0.dev0) (3.16.1)\n",
            "Requirement already satisfied: fsspec>=2023.5.0 in /usr/local/lib/python3.10/dist-packages (from huggingface_hub>=0.21.0->accelerate==1.2.0.dev0) (2024.10.0)\n",
            "Requirement already satisfied: requests in /usr/local/lib/python3.10/dist-packages (from huggingface_hub>=0.21.0->accelerate==1.2.0.dev0) (2.32.3)\n",
            "Requirement already satisfied: tqdm>=4.42.1 in /usr/local/lib/python3.10/dist-packages (from huggingface_hub>=0.21.0->accelerate==1.2.0.dev0) (4.67.1)\n",
            "Requirement already satisfied: typing-extensions>=3.7.4.3 in /usr/local/lib/python3.10/dist-packages (from huggingface_hub>=0.21.0->accelerate==1.2.0.dev0) (4.12.2)\n",
            "Requirement already satisfied: networkx in /usr/local/lib/python3.10/dist-packages (from torch>=1.10.0->accelerate==1.2.0.dev0) (3.4.2)\n",
            "Requirement already satisfied: jinja2 in /usr/local/lib/python3.10/dist-packages (from torch>=1.10.0->accelerate==1.2.0.dev0) (3.1.4)\n",
            "Requirement already satisfied: sympy==1.13.1 in /usr/local/lib/python3.10/dist-packages (from torch>=1.10.0->accelerate==1.2.0.dev0) (1.13.1)\n",
            "Requirement already satisfied: mpmath<1.4,>=1.1.0 in /usr/local/lib/python3.10/dist-packages (from sympy==1.13.1->torch>=1.10.0->accelerate==1.2.0.dev0) (1.3.0)\n",
            "Requirement already satisfied: MarkupSafe>=2.0 in /usr/local/lib/python3.10/dist-packages (from jinja2->torch>=1.10.0->accelerate==1.2.0.dev0) (3.0.2)\n",
            "Requirement already satisfied: charset-normalizer<4,>=2 in /usr/local/lib/python3.10/dist-packages (from requests->huggingface_hub>=0.21.0->accelerate==1.2.0.dev0) (3.4.0)\n",
            "Requirement already satisfied: idna<4,>=2.5 in /usr/local/lib/python3.10/dist-packages (from requests->huggingface_hub>=0.21.0->accelerate==1.2.0.dev0) (3.10)\n",
            "Requirement already satisfied: urllib3<3,>=1.21.1 in /usr/local/lib/python3.10/dist-packages (from requests->huggingface_hub>=0.21.0->accelerate==1.2.0.dev0) (2.2.3)\n",
            "Requirement already satisfied: certifi>=2017.4.17 in /usr/local/lib/python3.10/dist-packages (from requests->huggingface_hub>=0.21.0->accelerate==1.2.0.dev0) (2024.12.14)\n"
          ]
        }
      ],
      "source": [
        "!pip install -U git+https://github.com/huggingface/accelerate.git"
      ]
    },
    {
      "cell_type": "code",
      "execution_count": null,
      "metadata": {
        "colab": {
          "base_uri": "https://localhost:8080/",
          "height": 849
        },
        "id": "TPeaOWu00ImU",
        "outputId": "90619ae1-31d0-4c00-ed26-e3ae0e3d5c03"
      },
      "outputs": [
        {
          "name": "stdout",
          "output_type": "stream",
          "text": [
            "Requirement already satisfied: transformers in /usr/local/lib/python3.10/dist-packages (4.46.3)\n",
            "Collecting transformers\n",
            "  Using cached transformers-4.47.1-py3-none-any.whl.metadata (44 kB)\n",
            "Requirement already satisfied: filelock in /usr/local/lib/python3.10/dist-packages (from transformers) (3.16.1)\n",
            "Collecting huggingface-hub<1.0,>=0.24.0 (from transformers)\n",
            "  Using cached huggingface_hub-0.27.0-py3-none-any.whl.metadata (13 kB)\n",
            "Requirement already satisfied: numpy>=1.17 in /usr/local/lib/python3.10/dist-packages (from transformers) (1.26.4)\n",
            "Requirement already satisfied: packaging>=20.0 in /usr/local/lib/python3.10/dist-packages (from transformers) (24.2)\n",
            "Requirement already satisfied: pyyaml>=5.1 in /usr/local/lib/python3.10/dist-packages (from transformers) (6.0.2)\n",
            "Requirement already satisfied: regex!=2019.12.17 in /usr/local/lib/python3.10/dist-packages (from transformers) (2024.11.6)\n",
            "Requirement already satisfied: requests in /usr/local/lib/python3.10/dist-packages (from transformers) (2.32.3)\n",
            "Collecting tokenizers<0.22,>=0.21 (from transformers)\n",
            "  Using cached tokenizers-0.21.0-cp39-abi3-manylinux_2_17_x86_64.manylinux2014_x86_64.whl.metadata (6.7 kB)\n",
            "Requirement already satisfied: safetensors>=0.4.1 in /usr/local/lib/python3.10/dist-packages (from transformers) (0.4.5)\n",
            "Requirement already satisfied: tqdm>=4.27 in /usr/local/lib/python3.10/dist-packages (from transformers) (4.67.1)\n",
            "Requirement already satisfied: fsspec>=2023.5.0 in /usr/local/lib/python3.10/dist-packages (from huggingface-hub<1.0,>=0.24.0->transformers) (2024.10.0)\n",
            "Requirement already satisfied: typing-extensions>=3.7.4.3 in /usr/local/lib/python3.10/dist-packages (from huggingface-hub<1.0,>=0.24.0->transformers) (4.12.2)\n",
            "Requirement already satisfied: charset-normalizer<4,>=2 in /usr/local/lib/python3.10/dist-packages (from requests->transformers) (3.4.0)\n",
            "Requirement already satisfied: idna<4,>=2.5 in /usr/local/lib/python3.10/dist-packages (from requests->transformers) (3.10)\n",
            "Requirement already satisfied: urllib3<3,>=1.21.1 in /usr/local/lib/python3.10/dist-packages (from requests->transformers) (2.2.3)\n",
            "Requirement already satisfied: certifi>=2017.4.17 in /usr/local/lib/python3.10/dist-packages (from requests->transformers) (2024.12.14)\n",
            "Using cached transformers-4.47.1-py3-none-any.whl (10.1 MB)\n",
            "Using cached huggingface_hub-0.27.0-py3-none-any.whl (450 kB)\n",
            "Using cached tokenizers-0.21.0-cp39-abi3-manylinux_2_17_x86_64.manylinux2014_x86_64.whl (3.0 MB)\n",
            "Installing collected packages: huggingface-hub, tokenizers, transformers\n",
            "  Attempting uninstall: huggingface-hub\n",
            "    Found existing installation: huggingface-hub 0.23.5\n",
            "    Uninstalling huggingface-hub-0.23.5:\n",
            "      Successfully uninstalled huggingface-hub-0.23.5\n",
            "  Attempting uninstall: tokenizers\n",
            "    Found existing installation: tokenizers 0.20.3\n",
            "    Uninstalling tokenizers-0.20.3:\n",
            "      Successfully uninstalled tokenizers-0.20.3\n",
            "  Attempting uninstall: transformers\n",
            "    Found existing installation: transformers 4.46.3\n",
            "    Uninstalling transformers-4.46.3:\n",
            "      Successfully uninstalled transformers-4.46.3\n",
            "\u001b[31mERROR: pip's dependency resolver does not currently take into account all the packages that are installed. This behaviour is the source of the following dependency conflicts.\n",
            "llama-index-llms-huggingface 0.4.1 requires huggingface-hub<0.24.0,>=0.23.0, but you have huggingface-hub 0.27.0 which is incompatible.\u001b[0m\u001b[31m\n",
            "\u001b[0mSuccessfully installed huggingface-hub-0.27.0 tokenizers-0.21.0 transformers-4.47.1\n"
          ]
        },
        {
          "data": {
            "application/vnd.colab-display-data+json": {
              "id": "375ea5a25375418cbebd3f860084d769",
              "pip_warning": {
                "packages": [
                  "huggingface_hub",
                  "transformers"
                ]
              }
            }
          },
          "metadata": {},
          "output_type": "display_data"
        }
      ],
      "source": [
        "pip install --upgrade transformers"
      ]
    },
    {
      "cell_type": "code",
      "execution_count": null,
      "metadata": {
        "colab": {
          "base_uri": "https://localhost:8080/",
          "height": 1000
        },
        "id": "tRIeyKkVA8dj",
        "outputId": "5cfadc71-810c-4ce9-d958-9383348aa7bc"
      },
      "outputs": [
        {
          "name": "stdout",
          "output_type": "stream",
          "text": [
            "Collecting transformers==4.31.0\n",
            "  Downloading transformers-4.31.0-py3-none-any.whl.metadata (116 kB)\n",
            "\u001b[?25l     \u001b[90m━━━━━━━━━━━━━━━━━━━━━━━━━━━━━━━━━━━━━━━━\u001b[0m \u001b[32m0.0/116.9 kB\u001b[0m \u001b[31m?\u001b[0m eta \u001b[36m-:--:--\u001b[0m\r\u001b[2K     \u001b[90m━━━━━━━━━━━━━━━━━━━━━━━━━━━━━━━━━━━━━━━━\u001b[0m \u001b[32m116.9/116.9 kB\u001b[0m \u001b[31m3.5 MB/s\u001b[0m eta \u001b[36m0:00:00\u001b[0m\n",
            "\u001b[?25hRequirement already satisfied: filelock in /usr/local/lib/python3.10/dist-packages (from transformers==4.31.0) (3.16.1)\n",
            "Requirement already satisfied: huggingface-hub<1.0,>=0.14.1 in /usr/local/lib/python3.10/dist-packages (from transformers==4.31.0) (0.27.0)\n",
            "Requirement already satisfied: numpy>=1.17 in /usr/local/lib/python3.10/dist-packages (from transformers==4.31.0) (1.26.4)\n",
            "Requirement already satisfied: packaging>=20.0 in /usr/local/lib/python3.10/dist-packages (from transformers==4.31.0) (24.2)\n",
            "Requirement already satisfied: pyyaml>=5.1 in /usr/local/lib/python3.10/dist-packages (from transformers==4.31.0) (6.0.2)\n",
            "Requirement already satisfied: regex!=2019.12.17 in /usr/local/lib/python3.10/dist-packages (from transformers==4.31.0) (2024.11.6)\n",
            "Requirement already satisfied: requests in /usr/local/lib/python3.10/dist-packages (from transformers==4.31.0) (2.32.3)\n",
            "Collecting tokenizers!=0.11.3,<0.14,>=0.11.1 (from transformers==4.31.0)\n",
            "  Downloading tokenizers-0.13.3-cp310-cp310-manylinux_2_17_x86_64.manylinux2014_x86_64.whl.metadata (6.7 kB)\n",
            "Requirement already satisfied: safetensors>=0.3.1 in /usr/local/lib/python3.10/dist-packages (from transformers==4.31.0) (0.4.5)\n",
            "Requirement already satisfied: tqdm>=4.27 in /usr/local/lib/python3.10/dist-packages (from transformers==4.31.0) (4.67.1)\n",
            "Requirement already satisfied: fsspec>=2023.5.0 in /usr/local/lib/python3.10/dist-packages (from huggingface-hub<1.0,>=0.14.1->transformers==4.31.0) (2024.10.0)\n",
            "Requirement already satisfied: typing-extensions>=3.7.4.3 in /usr/local/lib/python3.10/dist-packages (from huggingface-hub<1.0,>=0.14.1->transformers==4.31.0) (4.12.2)\n",
            "Requirement already satisfied: charset-normalizer<4,>=2 in /usr/local/lib/python3.10/dist-packages (from requests->transformers==4.31.0) (3.4.0)\n",
            "Requirement already satisfied: idna<4,>=2.5 in /usr/local/lib/python3.10/dist-packages (from requests->transformers==4.31.0) (3.10)\n",
            "Requirement already satisfied: urllib3<3,>=1.21.1 in /usr/local/lib/python3.10/dist-packages (from requests->transformers==4.31.0) (2.2.3)\n",
            "Requirement already satisfied: certifi>=2017.4.17 in /usr/local/lib/python3.10/dist-packages (from requests->transformers==4.31.0) (2024.12.14)\n",
            "Downloading transformers-4.31.0-py3-none-any.whl (7.4 MB)\n",
            "\u001b[2K   \u001b[90m━━━━━━━━━━━━━━━━━━━━━━━━━━━━━━━━━━━━━━━━\u001b[0m \u001b[32m7.4/7.4 MB\u001b[0m \u001b[31m59.0 MB/s\u001b[0m eta \u001b[36m0:00:00\u001b[0m\n",
            "\u001b[?25hDownloading tokenizers-0.13.3-cp310-cp310-manylinux_2_17_x86_64.manylinux2014_x86_64.whl (7.8 MB)\n",
            "\u001b[2K   \u001b[90m━━━━━━━━━━━━━━━━━━━━━━━━━━━━━━━━━━━━━━━━\u001b[0m \u001b[32m7.8/7.8 MB\u001b[0m \u001b[31m79.2 MB/s\u001b[0m eta \u001b[36m0:00:00\u001b[0m\n",
            "\u001b[?25hInstalling collected packages: tokenizers, transformers\n",
            "  Attempting uninstall: tokenizers\n",
            "    Found existing installation: tokenizers 0.21.0\n",
            "    Uninstalling tokenizers-0.21.0:\n",
            "      Successfully uninstalled tokenizers-0.21.0\n",
            "  Attempting uninstall: transformers\n",
            "    Found existing installation: transformers 4.47.1\n",
            "    Uninstalling transformers-4.47.1:\n",
            "      Successfully uninstalled transformers-4.47.1\n",
            "\u001b[31mERROR: pip's dependency resolver does not currently take into account all the packages that are installed. This behaviour is the source of the following dependency conflicts.\n",
            "llama-index-llms-huggingface 0.4.1 requires huggingface-hub<0.24.0,>=0.23.0, but you have huggingface-hub 0.27.0 which is incompatible.\n",
            "llama-index-llms-huggingface 0.4.1 requires transformers[torch]<5.0.0,>=4.37.0, but you have transformers 4.31.0 which is incompatible.\n",
            "sentence-transformers 3.3.1 requires transformers<5.0.0,>=4.41.0, but you have transformers 4.31.0 which is incompatible.\u001b[0m\u001b[31m\n",
            "\u001b[0mSuccessfully installed tokenizers-0.13.3 transformers-4.31.0\n"
          ]
        },
        {
          "data": {
            "application/vnd.colab-display-data+json": {
              "id": "fecace97a87e45af8689654bbf81ac7c",
              "pip_warning": {
                "packages": [
                  "tokenizers",
                  "transformers"
                ]
              }
            }
          },
          "metadata": {},
          "output_type": "display_data"
        },
        {
          "name": "stdout",
          "output_type": "stream",
          "text": [
            "Collecting accelerate==0.21.0\n",
            "  Downloading accelerate-0.21.0-py3-none-any.whl.metadata (17 kB)\n",
            "Requirement already satisfied: numpy>=1.17 in /usr/local/lib/python3.10/dist-packages (from accelerate==0.21.0) (1.26.4)\n",
            "Requirement already satisfied: packaging>=20.0 in /usr/local/lib/python3.10/dist-packages (from accelerate==0.21.0) (24.2)\n",
            "Requirement already satisfied: psutil in /usr/local/lib/python3.10/dist-packages (from accelerate==0.21.0) (5.9.5)\n",
            "Requirement already satisfied: pyyaml in /usr/local/lib/python3.10/dist-packages (from accelerate==0.21.0) (6.0.2)\n",
            "Requirement already satisfied: torch>=1.10.0 in /usr/local/lib/python3.10/dist-packages (from accelerate==0.21.0) (2.5.1+cu121)\n",
            "Requirement already satisfied: filelock in /usr/local/lib/python3.10/dist-packages (from torch>=1.10.0->accelerate==0.21.0) (3.16.1)\n",
            "Requirement already satisfied: typing-extensions>=4.8.0 in /usr/local/lib/python3.10/dist-packages (from torch>=1.10.0->accelerate==0.21.0) (4.12.2)\n",
            "Requirement already satisfied: networkx in /usr/local/lib/python3.10/dist-packages (from torch>=1.10.0->accelerate==0.21.0) (3.4.2)\n",
            "Requirement already satisfied: jinja2 in /usr/local/lib/python3.10/dist-packages (from torch>=1.10.0->accelerate==0.21.0) (3.1.4)\n",
            "Requirement already satisfied: fsspec in /usr/local/lib/python3.10/dist-packages (from torch>=1.10.0->accelerate==0.21.0) (2024.10.0)\n",
            "Requirement already satisfied: sympy==1.13.1 in /usr/local/lib/python3.10/dist-packages (from torch>=1.10.0->accelerate==0.21.0) (1.13.1)\n",
            "Requirement already satisfied: mpmath<1.4,>=1.1.0 in /usr/local/lib/python3.10/dist-packages (from sympy==1.13.1->torch>=1.10.0->accelerate==0.21.0) (1.3.0)\n",
            "Requirement already satisfied: MarkupSafe>=2.0 in /usr/local/lib/python3.10/dist-packages (from jinja2->torch>=1.10.0->accelerate==0.21.0) (3.0.2)\n",
            "Downloading accelerate-0.21.0-py3-none-any.whl (244 kB)\n",
            "\u001b[2K   \u001b[90m━━━━━━━━━━━━━━━━━━━━━━━━━━━━━━━━━━━━━━━━\u001b[0m \u001b[32m244.2/244.2 kB\u001b[0m \u001b[31m1.4 MB/s\u001b[0m eta \u001b[36m0:00:00\u001b[0m\n",
            "\u001b[?25hInstalling collected packages: accelerate\n",
            "  Attempting uninstall: accelerate\n",
            "    Found existing installation: accelerate 1.2.0.dev0\n",
            "    Uninstalling accelerate-1.2.0.dev0:\n",
            "      Successfully uninstalled accelerate-1.2.0.dev0\n",
            "Successfully installed accelerate-0.21.0\n"
          ]
        },
        {
          "data": {
            "application/vnd.colab-display-data+json": {
              "id": "52c68eb39f54448694ec33b8b11dc628",
              "pip_warning": {
                "packages": [
                  "accelerate"
                ]
              }
            }
          },
          "metadata": {},
          "output_type": "display_data"
        }
      ],
      "source": [
        "!pip install transformers==4.31.0\n",
        "!pip install accelerate==0.21.0"
      ]
    },
    {
      "cell_type": "markdown",
      "metadata": {
        "id": "9DPViwO1v7Ym"
      },
      "source": []
    },
    {
      "cell_type": "code",
      "execution_count": 99,
      "metadata": {
        "colab": {
          "base_uri": "https://localhost:8080/",
          "height": 87,
          "referenced_widgets": [
            "57a48b58c09041d0b239800634e30dde",
            "5bd98e4df9234246baca9527c6b1d5e6",
            "924ba59a8f9b473a8ade12dd37514d65",
            "13f63f6595a941d2853b5e2d3b24c6a1",
            "b52993f5d4af4699a5d29d9b97624f25",
            "e081e8d7fa6644588a9f80a02d9fedc3",
            "6fc43a70cd3949889576c2de9a4ecb79",
            "37c6489007734eee9f473612d0ab71cc",
            "bd22013c2b9c48f89994d204358af2e4",
            "10487aebbdbc45f48796f3242a5077da",
            "ba7188621c6549739d647106284c7007"
          ]
        },
        "id": "OPGFRc6HvFfk",
        "outputId": "7189ff09-7d7a-411e-e3e5-adab369d6826"
      },
      "outputs": [
        {
          "output_type": "display_data",
          "data": {
            "text/plain": [
              "Loading checkpoint shards:   0%|          | 0/2 [00:00<?, ?it/s]"
            ],
            "application/vnd.jupyter.widget-view+json": {
              "version_major": 2,
              "version_minor": 0,
              "model_id": "57a48b58c09041d0b239800634e30dde"
            }
          },
          "metadata": {}
        },
        {
          "output_type": "stream",
          "name": "stderr",
          "text": [
            "WARNING:accelerate.big_modeling:Some parameters are on the meta device because they were offloaded to the cpu and disk.\n"
          ]
        }
      ],
      "source": [
        "llm = HuggingFaceLLM(context_window=4096,\n",
        "                     max_new_tokens=256,\n",
        "                     generate_kwargs={\"temperature\":0.0,\"do_sample\": False },\n",
        "                     system_prompt=system_prompts,\n",
        "                     query_wrapper_prompt= query_wrapper_prompt,\n",
        "                     tokenizer_name=\"meta-llama/Llama-2-7b-chat-hf\",\n",
        "                     model_name=\"meta-llama/Llama-2-7b-chat-hf\",\n",
        "                     device_map=\"auto\",\n",
        "                     tokenizer_kwargs={\"trust_remote_code\": True},\n",
        "                     model_kwargs={\"torch_dtype\": torch.float16})\n",
        "\n"
      ]
    },
    {
      "cell_type": "code",
      "execution_count": null,
      "metadata": {
        "colab": {
          "base_uri": "https://localhost:8080/"
        },
        "id": "qZTTivXKBVaN",
        "outputId": "5a4c684b-00f9-4ee2-ed51-2dd2549b4910",
        "collapsed": true
      },
      "outputs": [
        {
          "name": "stdout",
          "output_type": "stream",
          "text": [
            "Requirement already satisfied: peft in /usr/local/lib/python3.10/dist-packages (0.14.0)\n",
            "Requirement already satisfied: numpy>=1.17 in /usr/local/lib/python3.10/dist-packages (from peft) (1.26.4)\n",
            "Requirement already satisfied: packaging>=20.0 in /usr/local/lib/python3.10/dist-packages (from peft) (24.2)\n",
            "Requirement already satisfied: psutil in /usr/local/lib/python3.10/dist-packages (from peft) (5.9.5)\n",
            "Requirement already satisfied: pyyaml in /usr/local/lib/python3.10/dist-packages (from peft) (6.0.2)\n",
            "Requirement already satisfied: torch>=1.13.0 in /usr/local/lib/python3.10/dist-packages (from peft) (2.5.1+cu121)\n",
            "Requirement already satisfied: transformers in /usr/local/lib/python3.10/dist-packages (from peft) (4.31.0)\n",
            "Requirement already satisfied: tqdm in /usr/local/lib/python3.10/dist-packages (from peft) (4.67.1)\n",
            "Requirement already satisfied: accelerate>=0.21.0 in /usr/local/lib/python3.10/dist-packages (from peft) (0.21.0)\n",
            "Requirement already satisfied: safetensors in /usr/local/lib/python3.10/dist-packages (from peft) (0.4.5)\n",
            "Requirement already satisfied: huggingface-hub>=0.25.0 in /usr/local/lib/python3.10/dist-packages (from peft) (0.27.0)\n",
            "Requirement already satisfied: filelock in /usr/local/lib/python3.10/dist-packages (from huggingface-hub>=0.25.0->peft) (3.16.1)\n",
            "Requirement already satisfied: fsspec>=2023.5.0 in /usr/local/lib/python3.10/dist-packages (from huggingface-hub>=0.25.0->peft) (2024.10.0)\n",
            "Requirement already satisfied: requests in /usr/local/lib/python3.10/dist-packages (from huggingface-hub>=0.25.0->peft) (2.32.3)\n",
            "Requirement already satisfied: typing-extensions>=3.7.4.3 in /usr/local/lib/python3.10/dist-packages (from huggingface-hub>=0.25.0->peft) (4.12.2)\n",
            "Requirement already satisfied: networkx in /usr/local/lib/python3.10/dist-packages (from torch>=1.13.0->peft) (3.4.2)\n",
            "Requirement already satisfied: jinja2 in /usr/local/lib/python3.10/dist-packages (from torch>=1.13.0->peft) (3.1.4)\n",
            "Requirement already satisfied: sympy==1.13.1 in /usr/local/lib/python3.10/dist-packages (from torch>=1.13.0->peft) (1.13.1)\n",
            "Requirement already satisfied: mpmath<1.4,>=1.1.0 in /usr/local/lib/python3.10/dist-packages (from sympy==1.13.1->torch>=1.13.0->peft) (1.3.0)\n",
            "Requirement already satisfied: regex!=2019.12.17 in /usr/local/lib/python3.10/dist-packages (from transformers->peft) (2024.11.6)\n",
            "Requirement already satisfied: tokenizers!=0.11.3,<0.14,>=0.11.1 in /usr/local/lib/python3.10/dist-packages (from transformers->peft) (0.13.3)\n",
            "Requirement already satisfied: MarkupSafe>=2.0 in /usr/local/lib/python3.10/dist-packages (from jinja2->torch>=1.13.0->peft) (3.0.2)\n",
            "Requirement already satisfied: charset-normalizer<4,>=2 in /usr/local/lib/python3.10/dist-packages (from requests->huggingface-hub>=0.25.0->peft) (3.4.0)\n",
            "Requirement already satisfied: idna<4,>=2.5 in /usr/local/lib/python3.10/dist-packages (from requests->huggingface-hub>=0.25.0->peft) (3.10)\n",
            "Requirement already satisfied: urllib3<3,>=1.21.1 in /usr/local/lib/python3.10/dist-packages (from requests->huggingface-hub>=0.25.0->peft) (2.2.3)\n",
            "Requirement already satisfied: certifi>=2017.4.17 in /usr/local/lib/python3.10/dist-packages (from requests->huggingface-hub>=0.25.0->peft) (2024.12.14)\n"
          ]
        }
      ],
      "source": [
        "!pip install peft"
      ]
    },
    {
      "cell_type": "code",
      "execution_count": null,
      "metadata": {
        "colab": {
          "base_uri": "https://localhost:8080/"
        },
        "id": "9no-pQA2Bhp_",
        "outputId": "de0a953d-ae02-4ad7-fbbf-1c6e2145f477",
        "collapsed": true
      },
      "outputs": [
        {
          "name": "stdout",
          "output_type": "stream",
          "text": [
            "Requirement already satisfied: huggingface_hub in /usr/local/lib/python3.10/dist-packages (0.27.0)\n",
            "Requirement already satisfied: filelock in /usr/local/lib/python3.10/dist-packages (from huggingface_hub) (3.16.1)\n",
            "Requirement already satisfied: fsspec>=2023.5.0 in /usr/local/lib/python3.10/dist-packages (from huggingface_hub) (2024.10.0)\n",
            "Requirement already satisfied: packaging>=20.9 in /usr/local/lib/python3.10/dist-packages (from huggingface_hub) (24.2)\n",
            "Requirement already satisfied: pyyaml>=5.1 in /usr/local/lib/python3.10/dist-packages (from huggingface_hub) (6.0.2)\n",
            "Requirement already satisfied: requests in /usr/local/lib/python3.10/dist-packages (from huggingface_hub) (2.32.3)\n",
            "Requirement already satisfied: tqdm>=4.42.1 in /usr/local/lib/python3.10/dist-packages (from huggingface_hub) (4.67.1)\n",
            "Requirement already satisfied: typing-extensions>=3.7.4.3 in /usr/local/lib/python3.10/dist-packages (from huggingface_hub) (4.12.2)\n",
            "Requirement already satisfied: charset-normalizer<4,>=2 in /usr/local/lib/python3.10/dist-packages (from requests->huggingface_hub) (3.4.0)\n",
            "Requirement already satisfied: idna<4,>=2.5 in /usr/local/lib/python3.10/dist-packages (from requests->huggingface_hub) (3.10)\n",
            "Requirement already satisfied: urllib3<3,>=1.21.1 in /usr/local/lib/python3.10/dist-packages (from requests->huggingface_hub) (2.2.3)\n",
            "Requirement already satisfied: certifi>=2017.4.17 in /usr/local/lib/python3.10/dist-packages (from requests->huggingface_hub) (2024.12.14)\n"
          ]
        }
      ],
      "source": [
        "!pip install --upgrade huggingface_hub"
      ]
    },
    {
      "cell_type": "code",
      "execution_count": null,
      "metadata": {
        "colab": {
          "base_uri": "https://localhost:8080/"
        },
        "id": "843f23YoBxLy",
        "outputId": "e8b3ccc9-79ec-4670-90bd-3b0eb4d124b7",
        "collapsed": true
      },
      "outputs": [
        {
          "name": "stdout",
          "output_type": "stream",
          "text": [
            "Found existing installation: huggingface-hub 0.27.0\n",
            "Uninstalling huggingface-hub-0.27.0:\n",
            "  Successfully uninstalled huggingface-hub-0.27.0\n",
            "Found existing installation: peft 0.14.0\n",
            "Uninstalling peft-0.14.0:\n",
            "  Successfully uninstalled peft-0.14.0\n",
            "Found existing installation: transformers 4.31.0\n",
            "Uninstalling transformers-4.31.0:\n",
            "  Successfully uninstalled transformers-4.31.0\n"
          ]
        }
      ],
      "source": [
        "!pip uninstall huggingface_hub peft transformers -y\n"
      ]
    },
    {
      "cell_type": "code",
      "execution_count": 21,
      "metadata": {
        "colab": {
          "base_uri": "https://localhost:8080/",
          "height": 1000
        },
        "id": "qna3VhelBzR7",
        "outputId": "b33a731a-72b5-4155-b9dd-0d71b3a9f814",
        "collapsed": true
      },
      "outputs": [
        {
          "output_type": "stream",
          "name": "stdout",
          "text": [
            "Collecting huggingface_hub==0.16.4\n",
            "  Downloading huggingface_hub-0.16.4-py3-none-any.whl.metadata (12 kB)\n",
            "Requirement already satisfied: filelock in /usr/local/lib/python3.10/dist-packages (from huggingface_hub==0.16.4) (3.16.1)\n",
            "Requirement already satisfied: fsspec in /usr/local/lib/python3.10/dist-packages (from huggingface_hub==0.16.4) (2024.10.0)\n",
            "Requirement already satisfied: requests in /usr/local/lib/python3.10/dist-packages (from huggingface_hub==0.16.4) (2.32.3)\n",
            "Requirement already satisfied: tqdm>=4.42.1 in /usr/local/lib/python3.10/dist-packages (from huggingface_hub==0.16.4) (4.67.1)\n",
            "Requirement already satisfied: pyyaml>=5.1 in /usr/local/lib/python3.10/dist-packages (from huggingface_hub==0.16.4) (6.0.2)\n",
            "Requirement already satisfied: typing-extensions>=3.7.4.3 in /usr/local/lib/python3.10/dist-packages (from huggingface_hub==0.16.4) (4.12.2)\n",
            "Requirement already satisfied: packaging>=20.9 in /usr/local/lib/python3.10/dist-packages (from huggingface_hub==0.16.4) (24.2)\n",
            "Requirement already satisfied: charset-normalizer<4,>=2 in /usr/local/lib/python3.10/dist-packages (from requests->huggingface_hub==0.16.4) (3.4.0)\n",
            "Requirement already satisfied: idna<4,>=2.5 in /usr/local/lib/python3.10/dist-packages (from requests->huggingface_hub==0.16.4) (3.10)\n",
            "Requirement already satisfied: urllib3<3,>=1.21.1 in /usr/local/lib/python3.10/dist-packages (from requests->huggingface_hub==0.16.4) (2.2.3)\n",
            "Requirement already satisfied: certifi>=2017.4.17 in /usr/local/lib/python3.10/dist-packages (from requests->huggingface_hub==0.16.4) (2024.12.14)\n",
            "Downloading huggingface_hub-0.16.4-py3-none-any.whl (268 kB)\n",
            "\u001b[?25l   \u001b[90m━━━━━━━━━━━━━━━━━━━━━━━━━━━━━━━━━━━━━━━━\u001b[0m \u001b[32m0.0/268.8 kB\u001b[0m \u001b[31m?\u001b[0m eta \u001b[36m-:--:--\u001b[0m\r\u001b[2K   \u001b[90m━━━━━━━━━━━━━━━━━━━━━━━━━━━━━━━━━━━━━━━━\u001b[0m \u001b[32m268.8/268.8 kB\u001b[0m \u001b[31m17.4 MB/s\u001b[0m eta \u001b[36m0:00:00\u001b[0m\n",
            "\u001b[?25hInstalling collected packages: huggingface_hub\n",
            "  Attempting uninstall: huggingface_hub\n",
            "    Found existing installation: huggingface-hub 0.23.5\n",
            "    Uninstalling huggingface-hub-0.23.5:\n",
            "      Successfully uninstalled huggingface-hub-0.23.5\n",
            "\u001b[31mERROR: pip's dependency resolver does not currently take into account all the packages that are installed. This behaviour is the source of the following dependency conflicts.\n",
            "accelerate 1.2.1 requires huggingface-hub>=0.21.0, but you have huggingface-hub 0.16.4 which is incompatible.\n",
            "diffusers 0.31.0 requires huggingface-hub>=0.23.2, but you have huggingface-hub 0.16.4 which is incompatible.\n",
            "llama-index-llms-huggingface 0.4.1 requires huggingface-hub<0.24.0,>=0.23.0, but you have huggingface-hub 0.16.4 which is incompatible.\n",
            "peft 0.14.0 requires huggingface-hub>=0.25.0, but you have huggingface-hub 0.16.4 which is incompatible.\n",
            "sentence-transformers 3.3.1 requires huggingface-hub>=0.20.0, but you have huggingface-hub 0.16.4 which is incompatible.\n",
            "transformers 4.46.3 requires huggingface-hub<1.0,>=0.23.2, but you have huggingface-hub 0.16.4 which is incompatible.\u001b[0m\u001b[31m\n",
            "\u001b[0mSuccessfully installed huggingface_hub-0.16.4\n"
          ]
        },
        {
          "output_type": "display_data",
          "data": {
            "application/vnd.colab-display-data+json": {
              "pip_warning": {
                "packages": [
                  "huggingface_hub"
                ]
              },
              "id": "f4c35432918c47258e49f685ca81e9bf"
            }
          },
          "metadata": {}
        },
        {
          "output_type": "stream",
          "name": "stdout",
          "text": [
            "Collecting transformers==4.31.0\n",
            "  Downloading transformers-4.31.0-py3-none-any.whl.metadata (116 kB)\n",
            "\u001b[?25l     \u001b[90m━━━━━━━━━━━━━━━━━━━━━━━━━━━━━━━━━━━━━━━━\u001b[0m \u001b[32m0.0/116.9 kB\u001b[0m \u001b[31m?\u001b[0m eta \u001b[36m-:--:--\u001b[0m\r\u001b[2K     \u001b[90m━━━━━━━━━━━━━━━━━━━━━━━━━━━━━━━━━━━━━━━━\u001b[0m \u001b[32m116.9/116.9 kB\u001b[0m \u001b[31m10.3 MB/s\u001b[0m eta \u001b[36m0:00:00\u001b[0m\n",
            "\u001b[?25hRequirement already satisfied: filelock in /usr/local/lib/python3.10/dist-packages (from transformers==4.31.0) (3.16.1)\n",
            "Requirement already satisfied: huggingface-hub<1.0,>=0.14.1 in /usr/local/lib/python3.10/dist-packages (from transformers==4.31.0) (0.16.4)\n",
            "Requirement already satisfied: numpy>=1.17 in /usr/local/lib/python3.10/dist-packages (from transformers==4.31.0) (1.26.4)\n",
            "Requirement already satisfied: packaging>=20.0 in /usr/local/lib/python3.10/dist-packages (from transformers==4.31.0) (24.2)\n",
            "Requirement already satisfied: pyyaml>=5.1 in /usr/local/lib/python3.10/dist-packages (from transformers==4.31.0) (6.0.2)\n",
            "Requirement already satisfied: regex!=2019.12.17 in /usr/local/lib/python3.10/dist-packages (from transformers==4.31.0) (2024.11.6)\n",
            "Requirement already satisfied: requests in /usr/local/lib/python3.10/dist-packages (from transformers==4.31.0) (2.32.3)\n",
            "Collecting tokenizers!=0.11.3,<0.14,>=0.11.1 (from transformers==4.31.0)\n",
            "  Downloading tokenizers-0.13.3-cp310-cp310-manylinux_2_17_x86_64.manylinux2014_x86_64.whl.metadata (6.7 kB)\n",
            "Requirement already satisfied: safetensors>=0.3.1 in /usr/local/lib/python3.10/dist-packages (from transformers==4.31.0) (0.4.5)\n",
            "Requirement already satisfied: tqdm>=4.27 in /usr/local/lib/python3.10/dist-packages (from transformers==4.31.0) (4.67.1)\n",
            "Requirement already satisfied: fsspec in /usr/local/lib/python3.10/dist-packages (from huggingface-hub<1.0,>=0.14.1->transformers==4.31.0) (2024.10.0)\n",
            "Requirement already satisfied: typing-extensions>=3.7.4.3 in /usr/local/lib/python3.10/dist-packages (from huggingface-hub<1.0,>=0.14.1->transformers==4.31.0) (4.12.2)\n",
            "Requirement already satisfied: charset-normalizer<4,>=2 in /usr/local/lib/python3.10/dist-packages (from requests->transformers==4.31.0) (3.4.0)\n",
            "Requirement already satisfied: idna<4,>=2.5 in /usr/local/lib/python3.10/dist-packages (from requests->transformers==4.31.0) (3.10)\n",
            "Requirement already satisfied: urllib3<3,>=1.21.1 in /usr/local/lib/python3.10/dist-packages (from requests->transformers==4.31.0) (2.2.3)\n",
            "Requirement already satisfied: certifi>=2017.4.17 in /usr/local/lib/python3.10/dist-packages (from requests->transformers==4.31.0) (2024.12.14)\n",
            "Downloading transformers-4.31.0-py3-none-any.whl (7.4 MB)\n",
            "\u001b[2K   \u001b[90m━━━━━━━━━━━━━━━━━━━━━━━━━━━━━━━━━━━━━━━━\u001b[0m \u001b[32m7.4/7.4 MB\u001b[0m \u001b[31m102.3 MB/s\u001b[0m eta \u001b[36m0:00:00\u001b[0m\n",
            "\u001b[?25hDownloading tokenizers-0.13.3-cp310-cp310-manylinux_2_17_x86_64.manylinux2014_x86_64.whl (7.8 MB)\n",
            "\u001b[2K   \u001b[90m━━━━━━━━━━━━━━━━━━━━━━━━━━━━━━━━━━━━━━━━\u001b[0m \u001b[32m7.8/7.8 MB\u001b[0m \u001b[31m107.9 MB/s\u001b[0m eta \u001b[36m0:00:00\u001b[0m\n",
            "\u001b[?25hInstalling collected packages: tokenizers, transformers\n",
            "  Attempting uninstall: tokenizers\n",
            "    Found existing installation: tokenizers 0.20.3\n",
            "    Uninstalling tokenizers-0.20.3:\n",
            "      Successfully uninstalled tokenizers-0.20.3\n",
            "  Attempting uninstall: transformers\n",
            "    Found existing installation: transformers 4.46.3\n",
            "    Uninstalling transformers-4.46.3:\n",
            "      Successfully uninstalled transformers-4.46.3\n",
            "\u001b[31mERROR: pip's dependency resolver does not currently take into account all the packages that are installed. This behaviour is the source of the following dependency conflicts.\n",
            "llama-index-llms-huggingface 0.4.1 requires huggingface-hub<0.24.0,>=0.23.0, but you have huggingface-hub 0.16.4 which is incompatible.\n",
            "llama-index-llms-huggingface 0.4.1 requires transformers[torch]<5.0.0,>=4.37.0, but you have transformers 4.31.0 which is incompatible.\n",
            "peft 0.14.0 requires huggingface-hub>=0.25.0, but you have huggingface-hub 0.16.4 which is incompatible.\n",
            "sentence-transformers 3.3.1 requires huggingface-hub>=0.20.0, but you have huggingface-hub 0.16.4 which is incompatible.\n",
            "sentence-transformers 3.3.1 requires transformers<5.0.0,>=4.41.0, but you have transformers 4.31.0 which is incompatible.\u001b[0m\u001b[31m\n",
            "\u001b[0mSuccessfully installed tokenizers-0.13.3 transformers-4.31.0\n"
          ]
        },
        {
          "output_type": "display_data",
          "data": {
            "application/vnd.colab-display-data+json": {
              "pip_warning": {
                "packages": [
                  "tokenizers",
                  "transformers"
                ]
              },
              "id": "6769185a5d644e4880c8a2ca1f5545c4"
            }
          },
          "metadata": {}
        },
        {
          "output_type": "stream",
          "name": "stdout",
          "text": [
            "Collecting peft==0.4.0\n",
            "  Downloading peft-0.4.0-py3-none-any.whl.metadata (21 kB)\n",
            "Requirement already satisfied: numpy>=1.17 in /usr/local/lib/python3.10/dist-packages (from peft==0.4.0) (1.26.4)\n",
            "Requirement already satisfied: packaging>=20.0 in /usr/local/lib/python3.10/dist-packages (from peft==0.4.0) (24.2)\n",
            "Requirement already satisfied: psutil in /usr/local/lib/python3.10/dist-packages (from peft==0.4.0) (5.9.5)\n",
            "Requirement already satisfied: pyyaml in /usr/local/lib/python3.10/dist-packages (from peft==0.4.0) (6.0.2)\n",
            "Requirement already satisfied: torch>=1.13.0 in /usr/local/lib/python3.10/dist-packages (from peft==0.4.0) (2.5.1+cu121)\n",
            "Requirement already satisfied: transformers in /usr/local/lib/python3.10/dist-packages (from peft==0.4.0) (4.31.0)\n",
            "Requirement already satisfied: accelerate in /usr/local/lib/python3.10/dist-packages (from peft==0.4.0) (1.2.1)\n",
            "Requirement already satisfied: safetensors in /usr/local/lib/python3.10/dist-packages (from peft==0.4.0) (0.4.5)\n",
            "Requirement already satisfied: filelock in /usr/local/lib/python3.10/dist-packages (from torch>=1.13.0->peft==0.4.0) (3.16.1)\n",
            "Requirement already satisfied: typing-extensions>=4.8.0 in /usr/local/lib/python3.10/dist-packages (from torch>=1.13.0->peft==0.4.0) (4.12.2)\n",
            "Requirement already satisfied: networkx in /usr/local/lib/python3.10/dist-packages (from torch>=1.13.0->peft==0.4.0) (3.4.2)\n",
            "Requirement already satisfied: jinja2 in /usr/local/lib/python3.10/dist-packages (from torch>=1.13.0->peft==0.4.0) (3.1.4)\n",
            "Requirement already satisfied: fsspec in /usr/local/lib/python3.10/dist-packages (from torch>=1.13.0->peft==0.4.0) (2024.10.0)\n",
            "Requirement already satisfied: sympy==1.13.1 in /usr/local/lib/python3.10/dist-packages (from torch>=1.13.0->peft==0.4.0) (1.13.1)\n",
            "Requirement already satisfied: mpmath<1.4,>=1.1.0 in /usr/local/lib/python3.10/dist-packages (from sympy==1.13.1->torch>=1.13.0->peft==0.4.0) (1.3.0)\n",
            "Collecting huggingface-hub>=0.21.0 (from accelerate->peft==0.4.0)\n",
            "  Downloading huggingface_hub-0.27.0-py3-none-any.whl.metadata (13 kB)\n",
            "Requirement already satisfied: regex!=2019.12.17 in /usr/local/lib/python3.10/dist-packages (from transformers->peft==0.4.0) (2024.11.6)\n",
            "Requirement already satisfied: requests in /usr/local/lib/python3.10/dist-packages (from transformers->peft==0.4.0) (2.32.3)\n",
            "Requirement already satisfied: tokenizers!=0.11.3,<0.14,>=0.11.1 in /usr/local/lib/python3.10/dist-packages (from transformers->peft==0.4.0) (0.13.3)\n",
            "Requirement already satisfied: tqdm>=4.27 in /usr/local/lib/python3.10/dist-packages (from transformers->peft==0.4.0) (4.67.1)\n",
            "Requirement already satisfied: MarkupSafe>=2.0 in /usr/local/lib/python3.10/dist-packages (from jinja2->torch>=1.13.0->peft==0.4.0) (3.0.2)\n",
            "Requirement already satisfied: charset-normalizer<4,>=2 in /usr/local/lib/python3.10/dist-packages (from requests->transformers->peft==0.4.0) (3.4.0)\n",
            "Requirement already satisfied: idna<4,>=2.5 in /usr/local/lib/python3.10/dist-packages (from requests->transformers->peft==0.4.0) (3.10)\n",
            "Requirement already satisfied: urllib3<3,>=1.21.1 in /usr/local/lib/python3.10/dist-packages (from requests->transformers->peft==0.4.0) (2.2.3)\n",
            "Requirement already satisfied: certifi>=2017.4.17 in /usr/local/lib/python3.10/dist-packages (from requests->transformers->peft==0.4.0) (2024.12.14)\n",
            "Downloading peft-0.4.0-py3-none-any.whl (72 kB)\n",
            "\u001b[2K   \u001b[90m━━━━━━━━━━━━━━━━━━━━━━━━━━━━━━━━━━━━━━━━\u001b[0m \u001b[32m72.9/72.9 kB\u001b[0m \u001b[31m8.0 MB/s\u001b[0m eta \u001b[36m0:00:00\u001b[0m\n",
            "\u001b[?25hDownloading huggingface_hub-0.27.0-py3-none-any.whl (450 kB)\n",
            "\u001b[2K   \u001b[90m━━━━━━━━━━━━━━━━━━━━━━━━━━━━━━━━━━━━━━━━\u001b[0m \u001b[32m450.5/450.5 kB\u001b[0m \u001b[31m39.9 MB/s\u001b[0m eta \u001b[36m0:00:00\u001b[0m\n",
            "\u001b[?25hInstalling collected packages: huggingface-hub, peft\n",
            "  Attempting uninstall: huggingface-hub\n",
            "    Found existing installation: huggingface-hub 0.16.4\n",
            "    Uninstalling huggingface-hub-0.16.4:\n",
            "      Successfully uninstalled huggingface-hub-0.16.4\n",
            "  Attempting uninstall: peft\n",
            "    Found existing installation: peft 0.14.0\n",
            "    Uninstalling peft-0.14.0:\n",
            "      Successfully uninstalled peft-0.14.0\n",
            "\u001b[31mERROR: pip's dependency resolver does not currently take into account all the packages that are installed. This behaviour is the source of the following dependency conflicts.\n",
            "llama-index-llms-huggingface 0.4.1 requires huggingface-hub<0.24.0,>=0.23.0, but you have huggingface-hub 0.27.0 which is incompatible.\n",
            "llama-index-llms-huggingface 0.4.1 requires transformers[torch]<5.0.0,>=4.37.0, but you have transformers 4.31.0 which is incompatible.\n",
            "sentence-transformers 3.3.1 requires transformers<5.0.0,>=4.41.0, but you have transformers 4.31.0 which is incompatible.\u001b[0m\u001b[31m\n",
            "\u001b[0mSuccessfully installed huggingface-hub-0.27.0 peft-0.4.0\n"
          ]
        },
        {
          "output_type": "display_data",
          "data": {
            "application/vnd.colab-display-data+json": {
              "pip_warning": {
                "packages": [
                  "huggingface_hub"
                ]
              },
              "id": "b312a565b68d4e42a832344637f94c1e"
            }
          },
          "metadata": {}
        }
      ],
      "source": [
        "!pip install huggingface_hub==0.16.4\n",
        "!pip install transformers==4.31.0\n",
        "!pip install peft==0.4.0"
      ]
    },
    {
      "cell_type": "code",
      "execution_count": 15,
      "metadata": {
        "colab": {
          "base_uri": "https://localhost:8080/",
          "height": 685
        },
        "id": "NoOunfcfBQHW",
        "outputId": "f70ae21d-d7e5-47a3-d6f7-3d8dca627aeb",
        "collapsed": true
      },
      "outputs": [
        {
          "output_type": "error",
          "ename": "ImportError",
          "evalue": "cannot import name 'LocalEntryNotFoundError' from 'huggingface_hub.errors' (/usr/local/lib/python3.10/dist-packages/huggingface_hub/errors.py)",
          "traceback": [
            "\u001b[0;31m---------------------------------------------------------------------------\u001b[0m",
            "\u001b[0;31mImportError\u001b[0m                               Traceback (most recent call last)",
            "\u001b[0;32m<ipython-input-15-1aa96b61fc75>\u001b[0m in \u001b[0;36m<cell line: 2>\u001b[0;34m()\u001b[0m\n\u001b[1;32m      1\u001b[0m \u001b[0;32mfrom\u001b[0m \u001b[0mtransformers\u001b[0m \u001b[0;32mimport\u001b[0m \u001b[0mAutoModelForCausalLM\u001b[0m\u001b[0;34m,\u001b[0m \u001b[0mAutoTokenizer\u001b[0m\u001b[0;34m\u001b[0m\u001b[0;34m\u001b[0m\u001b[0m\n\u001b[0;32m----> 2\u001b[0;31m \u001b[0;32mfrom\u001b[0m \u001b[0mpeft\u001b[0m \u001b[0;32mimport\u001b[0m \u001b[0mPeftModel\u001b[0m\u001b[0;34m\u001b[0m\u001b[0;34m\u001b[0m\u001b[0m\n\u001b[0m\u001b[1;32m      3\u001b[0m \u001b[0;34m\u001b[0m\u001b[0m\n\u001b[1;32m      4\u001b[0m \u001b[0;31m# Load the base model and tokenizer\u001b[0m\u001b[0;34m\u001b[0m\u001b[0;34m\u001b[0m\u001b[0m\n\u001b[1;32m      5\u001b[0m base_model = AutoModelForCausalLM.from_pretrained(\n",
            "\u001b[0;32m/usr/local/lib/python3.10/dist-packages/peft/__init__.py\u001b[0m in \u001b[0;36m<module>\u001b[0;34m\u001b[0m\n\u001b[1;32m     20\u001b[0m \u001b[0m__version__\u001b[0m \u001b[0;34m=\u001b[0m \u001b[0;34m\"0.14.0\"\u001b[0m\u001b[0;34m\u001b[0m\u001b[0;34m\u001b[0m\u001b[0m\n\u001b[1;32m     21\u001b[0m \u001b[0;34m\u001b[0m\u001b[0m\n\u001b[0;32m---> 22\u001b[0;31m from .auto import (\n\u001b[0m\u001b[1;32m     23\u001b[0m     \u001b[0mAutoPeftModel\u001b[0m\u001b[0;34m,\u001b[0m\u001b[0;34m\u001b[0m\u001b[0;34m\u001b[0m\u001b[0m\n\u001b[1;32m     24\u001b[0m     \u001b[0mAutoPeftModelForCausalLM\u001b[0m\u001b[0;34m,\u001b[0m\u001b[0;34m\u001b[0m\u001b[0;34m\u001b[0m\u001b[0m\n",
            "\u001b[0;32m/usr/local/lib/python3.10/dist-packages/peft/auto.py\u001b[0m in \u001b[0;36m<module>\u001b[0;34m\u001b[0m\n\u001b[1;32m     29\u001b[0m )\n\u001b[1;32m     30\u001b[0m \u001b[0;34m\u001b[0m\u001b[0m\n\u001b[0;32m---> 31\u001b[0;31m \u001b[0;32mfrom\u001b[0m \u001b[0;34m.\u001b[0m\u001b[0mconfig\u001b[0m \u001b[0;32mimport\u001b[0m \u001b[0mPeftConfig\u001b[0m\u001b[0;34m\u001b[0m\u001b[0;34m\u001b[0m\u001b[0m\n\u001b[0m\u001b[1;32m     32\u001b[0m \u001b[0;32mfrom\u001b[0m \u001b[0;34m.\u001b[0m\u001b[0mmapping\u001b[0m \u001b[0;32mimport\u001b[0m \u001b[0mMODEL_TYPE_TO_PEFT_MODEL_MAPPING\u001b[0m\u001b[0;34m\u001b[0m\u001b[0;34m\u001b[0m\u001b[0m\n\u001b[1;32m     33\u001b[0m from .peft_model import (\n",
            "\u001b[0;32m/usr/local/lib/python3.10/dist-packages/peft/config.py\u001b[0m in \u001b[0;36m<module>\u001b[0;34m\u001b[0m\n\u001b[1;32m     22\u001b[0m \u001b[0;32mfrom\u001b[0m \u001b[0mtransformers\u001b[0m\u001b[0;34m.\u001b[0m\u001b[0mutils\u001b[0m \u001b[0;32mimport\u001b[0m \u001b[0mPushToHubMixin\u001b[0m\u001b[0;34m\u001b[0m\u001b[0;34m\u001b[0m\u001b[0m\n\u001b[1;32m     23\u001b[0m \u001b[0;34m\u001b[0m\u001b[0m\n\u001b[0;32m---> 24\u001b[0;31m \u001b[0;32mfrom\u001b[0m \u001b[0;34m.\u001b[0m\u001b[0mutils\u001b[0m \u001b[0;32mimport\u001b[0m \u001b[0mCONFIG_NAME\u001b[0m\u001b[0;34m,\u001b[0m \u001b[0mPeftType\u001b[0m\u001b[0;34m,\u001b[0m \u001b[0mTaskType\u001b[0m\u001b[0;34m\u001b[0m\u001b[0;34m\u001b[0m\u001b[0m\n\u001b[0m\u001b[1;32m     25\u001b[0m \u001b[0;34m\u001b[0m\u001b[0m\n\u001b[1;32m     26\u001b[0m \u001b[0;34m\u001b[0m\u001b[0m\n",
            "\u001b[0;32m/usr/local/lib/python3.10/dist-packages/peft/utils/__init__.py\u001b[0m in \u001b[0;36m<module>\u001b[0;34m\u001b[0m\n\u001b[1;32m     20\u001b[0m \u001b[0;31m# from .config import PeftConfig, PeftType, PromptLearningConfig, TaskType\u001b[0m\u001b[0;34m\u001b[0m\u001b[0;34m\u001b[0m\u001b[0m\n\u001b[1;32m     21\u001b[0m \u001b[0;32mfrom\u001b[0m \u001b[0;34m.\u001b[0m\u001b[0mintegrations\u001b[0m \u001b[0;32mimport\u001b[0m \u001b[0mmap_cache_to_layer_device_map\u001b[0m\u001b[0;34m\u001b[0m\u001b[0;34m\u001b[0m\u001b[0m\n\u001b[0;32m---> 22\u001b[0;31m \u001b[0;32mfrom\u001b[0m \u001b[0;34m.\u001b[0m\u001b[0mloftq_utils\u001b[0m \u001b[0;32mimport\u001b[0m \u001b[0mreplace_lora_weights_loftq\u001b[0m\u001b[0;34m\u001b[0m\u001b[0;34m\u001b[0m\u001b[0m\n\u001b[0m\u001b[1;32m     23\u001b[0m \u001b[0;32mfrom\u001b[0m \u001b[0;34m.\u001b[0m\u001b[0mpeft_types\u001b[0m \u001b[0;32mimport\u001b[0m \u001b[0mPeftType\u001b[0m\u001b[0;34m,\u001b[0m \u001b[0mTaskType\u001b[0m\u001b[0;34m\u001b[0m\u001b[0;34m\u001b[0m\u001b[0m\n\u001b[1;32m     24\u001b[0m from .other import (\n",
            "\u001b[0;32m/usr/local/lib/python3.10/dist-packages/peft/utils/loftq_utils.py\u001b[0m in \u001b[0;36m<module>\u001b[0;34m\u001b[0m\n\u001b[1;32m     24\u001b[0m \u001b[0;32mimport\u001b[0m \u001b[0mtorch\u001b[0m\u001b[0;34m\u001b[0m\u001b[0;34m\u001b[0m\u001b[0m\n\u001b[1;32m     25\u001b[0m \u001b[0;32mfrom\u001b[0m \u001b[0mhuggingface_hub\u001b[0m \u001b[0;32mimport\u001b[0m \u001b[0msnapshot_download\u001b[0m\u001b[0;34m\u001b[0m\u001b[0;34m\u001b[0m\u001b[0m\n\u001b[0;32m---> 26\u001b[0;31m \u001b[0;32mfrom\u001b[0m \u001b[0mhuggingface_hub\u001b[0m\u001b[0;34m.\u001b[0m\u001b[0merrors\u001b[0m \u001b[0;32mimport\u001b[0m \u001b[0mHFValidationError\u001b[0m\u001b[0;34m,\u001b[0m \u001b[0mLocalEntryNotFoundError\u001b[0m\u001b[0;34m\u001b[0m\u001b[0;34m\u001b[0m\u001b[0m\n\u001b[0m\u001b[1;32m     27\u001b[0m \u001b[0;32mfrom\u001b[0m \u001b[0msafetensors\u001b[0m \u001b[0;32mimport\u001b[0m \u001b[0mSafetensorError\u001b[0m\u001b[0;34m,\u001b[0m \u001b[0msafe_open\u001b[0m\u001b[0;34m\u001b[0m\u001b[0;34m\u001b[0m\u001b[0m\n\u001b[1;32m     28\u001b[0m \u001b[0;32mfrom\u001b[0m \u001b[0mtransformers\u001b[0m\u001b[0;34m.\u001b[0m\u001b[0mutils\u001b[0m \u001b[0;32mimport\u001b[0m \u001b[0mcached_file\u001b[0m\u001b[0;34m\u001b[0m\u001b[0;34m\u001b[0m\u001b[0m\n",
            "\u001b[0;31mImportError\u001b[0m: cannot import name 'LocalEntryNotFoundError' from 'huggingface_hub.errors' (/usr/local/lib/python3.10/dist-packages/huggingface_hub/errors.py)",
            "",
            "\u001b[0;31m---------------------------------------------------------------------------\u001b[0;32m\nNOTE: If your import is failing due to a missing package, you can\nmanually install dependencies using either !pip or !apt.\n\nTo view examples of installing some common dependencies, click the\n\"Open Examples\" button below.\n\u001b[0;31m---------------------------------------------------------------------------\u001b[0m\n"
          ],
          "errorDetails": {
            "actions": [
              {
                "action": "open_url",
                "actionText": "Open Examples",
                "url": "/notebooks/snippets/importing_libraries.ipynb"
              }
            ]
          }
        }
      ],
      "source": [
        "from transformers import AutoModelForCausalLM, AutoTokenizer\n",
        "from peft import PeftModel\n",
        "\n",
        "# Load the base model and tokenizer\n",
        "base_model = AutoModelForCausalLM.from_pretrained(\n",
        "    \"meta-llama/Llama-2-7b-chat-hf\",\n",
        "      # Optional: Load in 8-bit for memory efficiency\n",
        "    device_map=\"auto\",\n",
        "    torch_dtype=torch.float16,\n",
        ")\n",
        "tokenizer = AutoTokenizer.from_pretrained(\n",
        "    \"meta-llama/Llama-2-7b-chat-hf\", trust_remote_code=True\n",
        ")\n",
        "\n",
        "# Load the LoRA adapter if you have one (replace with your adapter path)\n",
        "# adapter_path = \"your_adapter_path\"\n",
        "# model = PeftModel.from_pretrained(base_model, adapter_path)\n",
        "\n",
        "# If you don't have an adapter, just use the base model:\n",
        "model = base_model\n",
        "\n",
        "# Now, initialize HuggingFaceLLM with the loaded model and tokenizer\n",
        "llm = HuggingFaceLLM(\n",
        "    context_window=4096,\n",
        "    max_new_tokens=256,\n",
        "    generate_kwargs={\"temperature\": 0.0, \"do_sample\": False},\n",
        "    system_prompt=system_prompts,\n",
        "    query_wrapper_prompt=query_wrapper_prompt,\n",
        "    # Provide the loaded model and tokenizer directly\n",
        "    model=model,\n",
        "    tokenizer=tokenizer,\n",
        ")"
      ]
    },
    {
      "cell_type": "code",
      "execution_count": 16,
      "metadata": {
        "colab": {
          "base_uri": "https://localhost:8080/"
        },
        "id": "vpvwGtDq-sV6",
        "outputId": "111f1366-6084-4b8f-f7c0-a9409aaaf6b8",
        "collapsed": true
      },
      "outputs": [
        {
          "output_type": "stream",
          "name": "stdout",
          "text": [
            "Collecting langchain-community\n",
            "  Downloading langchain_community-0.3.13-py3-none-any.whl.metadata (2.9 kB)\n",
            "Requirement already satisfied: PyYAML>=5.3 in /usr/local/lib/python3.10/dist-packages (from langchain-community) (6.0.2)\n",
            "Requirement already satisfied: SQLAlchemy<3,>=1.4 in /usr/local/lib/python3.10/dist-packages (from langchain-community) (2.0.36)\n",
            "Requirement already satisfied: aiohttp<4.0.0,>=3.8.3 in /usr/local/lib/python3.10/dist-packages (from langchain-community) (3.11.10)\n",
            "Requirement already satisfied: dataclasses-json<0.7,>=0.5.7 in /usr/local/lib/python3.10/dist-packages (from langchain-community) (0.6.7)\n",
            "Collecting httpx-sse<0.5.0,>=0.4.0 (from langchain-community)\n",
            "  Downloading httpx_sse-0.4.0-py3-none-any.whl.metadata (9.0 kB)\n",
            "Collecting langchain<0.4.0,>=0.3.13 (from langchain-community)\n",
            "  Downloading langchain-0.3.13-py3-none-any.whl.metadata (7.1 kB)\n",
            "Collecting langchain-core<0.4.0,>=0.3.27 (from langchain-community)\n",
            "  Downloading langchain_core-0.3.28-py3-none-any.whl.metadata (6.3 kB)\n",
            "Requirement already satisfied: langsmith<0.3,>=0.1.125 in /usr/local/lib/python3.10/dist-packages (from langchain-community) (0.2.3)\n",
            "Requirement already satisfied: numpy<2,>=1.22.4 in /usr/local/lib/python3.10/dist-packages (from langchain-community) (1.26.4)\n",
            "Collecting pydantic-settings<3.0.0,>=2.4.0 (from langchain-community)\n",
            "  Downloading pydantic_settings-2.7.0-py3-none-any.whl.metadata (3.5 kB)\n",
            "Requirement already satisfied: requests<3,>=2 in /usr/local/lib/python3.10/dist-packages (from langchain-community) (2.32.3)\n",
            "Requirement already satisfied: tenacity!=8.4.0,<10,>=8.1.0 in /usr/local/lib/python3.10/dist-packages (from langchain-community) (9.0.0)\n",
            "Requirement already satisfied: aiohappyeyeballs>=2.3.0 in /usr/local/lib/python3.10/dist-packages (from aiohttp<4.0.0,>=3.8.3->langchain-community) (2.4.4)\n",
            "Requirement already satisfied: aiosignal>=1.1.2 in /usr/local/lib/python3.10/dist-packages (from aiohttp<4.0.0,>=3.8.3->langchain-community) (1.3.2)\n",
            "Requirement already satisfied: async-timeout<6.0,>=4.0 in /usr/local/lib/python3.10/dist-packages (from aiohttp<4.0.0,>=3.8.3->langchain-community) (4.0.3)\n",
            "Requirement already satisfied: attrs>=17.3.0 in /usr/local/lib/python3.10/dist-packages (from aiohttp<4.0.0,>=3.8.3->langchain-community) (24.3.0)\n",
            "Requirement already satisfied: frozenlist>=1.1.1 in /usr/local/lib/python3.10/dist-packages (from aiohttp<4.0.0,>=3.8.3->langchain-community) (1.5.0)\n",
            "Requirement already satisfied: multidict<7.0,>=4.5 in /usr/local/lib/python3.10/dist-packages (from aiohttp<4.0.0,>=3.8.3->langchain-community) (6.1.0)\n",
            "Requirement already satisfied: propcache>=0.2.0 in /usr/local/lib/python3.10/dist-packages (from aiohttp<4.0.0,>=3.8.3->langchain-community) (0.2.1)\n",
            "Requirement already satisfied: yarl<2.0,>=1.17.0 in /usr/local/lib/python3.10/dist-packages (from aiohttp<4.0.0,>=3.8.3->langchain-community) (1.18.3)\n",
            "Requirement already satisfied: marshmallow<4.0.0,>=3.18.0 in /usr/local/lib/python3.10/dist-packages (from dataclasses-json<0.7,>=0.5.7->langchain-community) (3.23.2)\n",
            "Requirement already satisfied: typing-inspect<1,>=0.4.0 in /usr/local/lib/python3.10/dist-packages (from dataclasses-json<0.7,>=0.5.7->langchain-community) (0.9.0)\n",
            "Requirement already satisfied: langchain-text-splitters<0.4.0,>=0.3.3 in /usr/local/lib/python3.10/dist-packages (from langchain<0.4.0,>=0.3.13->langchain-community) (0.3.3)\n",
            "Requirement already satisfied: pydantic<3.0.0,>=2.7.4 in /usr/local/lib/python3.10/dist-packages (from langchain<0.4.0,>=0.3.13->langchain-community) (2.10.3)\n",
            "Requirement already satisfied: jsonpatch<2.0,>=1.33 in /usr/local/lib/python3.10/dist-packages (from langchain-core<0.4.0,>=0.3.27->langchain-community) (1.33)\n",
            "Requirement already satisfied: packaging<25,>=23.2 in /usr/local/lib/python3.10/dist-packages (from langchain-core<0.4.0,>=0.3.27->langchain-community) (24.2)\n",
            "Requirement already satisfied: typing-extensions>=4.7 in /usr/local/lib/python3.10/dist-packages (from langchain-core<0.4.0,>=0.3.27->langchain-community) (4.12.2)\n",
            "Requirement already satisfied: httpx<1,>=0.23.0 in /usr/local/lib/python3.10/dist-packages (from langsmith<0.3,>=0.1.125->langchain-community) (0.28.1)\n",
            "Requirement already satisfied: orjson<4.0.0,>=3.9.14 in /usr/local/lib/python3.10/dist-packages (from langsmith<0.3,>=0.1.125->langchain-community) (3.10.12)\n",
            "Requirement already satisfied: requests-toolbelt<2.0.0,>=1.0.0 in /usr/local/lib/python3.10/dist-packages (from langsmith<0.3,>=0.1.125->langchain-community) (1.0.0)\n",
            "Requirement already satisfied: python-dotenv>=0.21.0 in /usr/local/lib/python3.10/dist-packages (from pydantic-settings<3.0.0,>=2.4.0->langchain-community) (1.0.1)\n",
            "Requirement already satisfied: charset-normalizer<4,>=2 in /usr/local/lib/python3.10/dist-packages (from requests<3,>=2->langchain-community) (3.4.0)\n",
            "Requirement already satisfied: idna<4,>=2.5 in /usr/local/lib/python3.10/dist-packages (from requests<3,>=2->langchain-community) (3.10)\n",
            "Requirement already satisfied: urllib3<3,>=1.21.1 in /usr/local/lib/python3.10/dist-packages (from requests<3,>=2->langchain-community) (2.2.3)\n",
            "Requirement already satisfied: certifi>=2017.4.17 in /usr/local/lib/python3.10/dist-packages (from requests<3,>=2->langchain-community) (2024.12.14)\n",
            "Requirement already satisfied: greenlet!=0.4.17 in /usr/local/lib/python3.10/dist-packages (from SQLAlchemy<3,>=1.4->langchain-community) (3.1.1)\n",
            "Requirement already satisfied: anyio in /usr/local/lib/python3.10/dist-packages (from httpx<1,>=0.23.0->langsmith<0.3,>=0.1.125->langchain-community) (3.7.1)\n",
            "Requirement already satisfied: httpcore==1.* in /usr/local/lib/python3.10/dist-packages (from httpx<1,>=0.23.0->langsmith<0.3,>=0.1.125->langchain-community) (1.0.7)\n",
            "Requirement already satisfied: h11<0.15,>=0.13 in /usr/local/lib/python3.10/dist-packages (from httpcore==1.*->httpx<1,>=0.23.0->langsmith<0.3,>=0.1.125->langchain-community) (0.14.0)\n",
            "Requirement already satisfied: jsonpointer>=1.9 in /usr/local/lib/python3.10/dist-packages (from jsonpatch<2.0,>=1.33->langchain-core<0.4.0,>=0.3.27->langchain-community) (3.0.0)\n",
            "Requirement already satisfied: annotated-types>=0.6.0 in /usr/local/lib/python3.10/dist-packages (from pydantic<3.0.0,>=2.7.4->langchain<0.4.0,>=0.3.13->langchain-community) (0.7.0)\n",
            "Requirement already satisfied: pydantic-core==2.27.1 in /usr/local/lib/python3.10/dist-packages (from pydantic<3.0.0,>=2.7.4->langchain<0.4.0,>=0.3.13->langchain-community) (2.27.1)\n",
            "Requirement already satisfied: mypy-extensions>=0.3.0 in /usr/local/lib/python3.10/dist-packages (from typing-inspect<1,>=0.4.0->dataclasses-json<0.7,>=0.5.7->langchain-community) (1.0.0)\n",
            "Requirement already satisfied: sniffio>=1.1 in /usr/local/lib/python3.10/dist-packages (from anyio->httpx<1,>=0.23.0->langsmith<0.3,>=0.1.125->langchain-community) (1.3.1)\n",
            "Requirement already satisfied: exceptiongroup in /usr/local/lib/python3.10/dist-packages (from anyio->httpx<1,>=0.23.0->langsmith<0.3,>=0.1.125->langchain-community) (1.2.2)\n",
            "Downloading langchain_community-0.3.13-py3-none-any.whl (2.5 MB)\n",
            "\u001b[2K   \u001b[90m━━━━━━━━━━━━━━━━━━━━━━━━━━━━━━━━━━━━━━━━\u001b[0m \u001b[32m2.5/2.5 MB\u001b[0m \u001b[31m80.7 MB/s\u001b[0m eta \u001b[36m0:00:00\u001b[0m\n",
            "\u001b[?25hDownloading httpx_sse-0.4.0-py3-none-any.whl (7.8 kB)\n",
            "Downloading langchain-0.3.13-py3-none-any.whl (1.0 MB)\n",
            "\u001b[2K   \u001b[90m━━━━━━━━━━━━━━━━━━━━━━━━━━━━━━━━━━━━━━━━\u001b[0m \u001b[32m1.0/1.0 MB\u001b[0m \u001b[31m55.0 MB/s\u001b[0m eta \u001b[36m0:00:00\u001b[0m\n",
            "\u001b[?25hDownloading langchain_core-0.3.28-py3-none-any.whl (411 kB)\n",
            "\u001b[2K   \u001b[90m━━━━━━━━━━━━━━━━━━━━━━━━━━━━━━━━━━━━━━━━\u001b[0m \u001b[32m411.6/411.6 kB\u001b[0m \u001b[31m34.5 MB/s\u001b[0m eta \u001b[36m0:00:00\u001b[0m\n",
            "\u001b[?25hDownloading pydantic_settings-2.7.0-py3-none-any.whl (29 kB)\n",
            "Installing collected packages: httpx-sse, pydantic-settings, langchain-core, langchain, langchain-community\n",
            "  Attempting uninstall: langchain-core\n",
            "    Found existing installation: langchain-core 0.3.25\n",
            "    Uninstalling langchain-core-0.3.25:\n",
            "      Successfully uninstalled langchain-core-0.3.25\n",
            "  Attempting uninstall: langchain\n",
            "    Found existing installation: langchain 0.3.12\n",
            "    Uninstalling langchain-0.3.12:\n",
            "      Successfully uninstalled langchain-0.3.12\n",
            "Successfully installed httpx-sse-0.4.0 langchain-0.3.13 langchain-community-0.3.13 langchain-core-0.3.28 pydantic-settings-2.7.0\n"
          ]
        }
      ],
      "source": [
        "!pip install -U langchain-community"
      ]
    },
    {
      "cell_type": "code",
      "execution_count": 15,
      "metadata": {
        "id": "lHgtHeRpvxUy"
      },
      "outputs": [],
      "source": [
        "from langchain.embeddings.huggingface import HuggingFaceEmbeddings\n",
        "from llama_index.core import  ServiceContext"
      ]
    },
    {
      "cell_type": "code",
      "execution_count": 17,
      "metadata": {
        "colab": {
          "base_uri": "https://localhost:8080/"
        },
        "id": "lF8YK45p-Fgl",
        "outputId": "ac9cc41e-9d6f-4f68-f5ed-467fdac3c18a",
        "collapsed": true
      },
      "outputs": [
        {
          "output_type": "stream",
          "name": "stdout",
          "text": [
            "Requirement already satisfied: llama-index-embeddings-langchain in /usr/local/lib/python3.10/dist-packages (0.3.0)\n",
            "Requirement already satisfied: llama-index-core<0.13.0,>=0.12.0 in /usr/local/lib/python3.10/dist-packages (from llama-index-embeddings-langchain) (0.12.8)\n",
            "Requirement already satisfied: PyYAML>=6.0.1 in /usr/local/lib/python3.10/dist-packages (from llama-index-core<0.13.0,>=0.12.0->llama-index-embeddings-langchain) (6.0.2)\n",
            "Requirement already satisfied: SQLAlchemy>=1.4.49 in /usr/local/lib/python3.10/dist-packages (from SQLAlchemy[asyncio]>=1.4.49->llama-index-core<0.13.0,>=0.12.0->llama-index-embeddings-langchain) (2.0.36)\n",
            "Requirement already satisfied: aiohttp<4.0.0,>=3.8.6 in /usr/local/lib/python3.10/dist-packages (from llama-index-core<0.13.0,>=0.12.0->llama-index-embeddings-langchain) (3.11.10)\n",
            "Requirement already satisfied: dataclasses-json in /usr/local/lib/python3.10/dist-packages (from llama-index-core<0.13.0,>=0.12.0->llama-index-embeddings-langchain) (0.6.7)\n",
            "Requirement already satisfied: deprecated>=1.2.9.3 in /usr/local/lib/python3.10/dist-packages (from llama-index-core<0.13.0,>=0.12.0->llama-index-embeddings-langchain) (1.2.15)\n",
            "Requirement already satisfied: dirtyjson<2.0.0,>=1.0.8 in /usr/local/lib/python3.10/dist-packages (from llama-index-core<0.13.0,>=0.12.0->llama-index-embeddings-langchain) (1.0.8)\n",
            "Requirement already satisfied: filetype<2.0.0,>=1.2.0 in /usr/local/lib/python3.10/dist-packages (from llama-index-core<0.13.0,>=0.12.0->llama-index-embeddings-langchain) (1.2.0)\n",
            "Requirement already satisfied: fsspec>=2023.5.0 in /usr/local/lib/python3.10/dist-packages (from llama-index-core<0.13.0,>=0.12.0->llama-index-embeddings-langchain) (2024.10.0)\n",
            "Requirement already satisfied: httpx in /usr/local/lib/python3.10/dist-packages (from llama-index-core<0.13.0,>=0.12.0->llama-index-embeddings-langchain) (0.28.1)\n",
            "Requirement already satisfied: nest-asyncio<2.0.0,>=1.5.8 in /usr/local/lib/python3.10/dist-packages (from llama-index-core<0.13.0,>=0.12.0->llama-index-embeddings-langchain) (1.6.0)\n",
            "Requirement already satisfied: networkx>=3.0 in /usr/local/lib/python3.10/dist-packages (from llama-index-core<0.13.0,>=0.12.0->llama-index-embeddings-langchain) (3.4.2)\n",
            "Requirement already satisfied: nltk>3.8.1 in /usr/local/lib/python3.10/dist-packages (from llama-index-core<0.13.0,>=0.12.0->llama-index-embeddings-langchain) (3.9.1)\n",
            "Requirement already satisfied: numpy in /usr/local/lib/python3.10/dist-packages (from llama-index-core<0.13.0,>=0.12.0->llama-index-embeddings-langchain) (1.26.4)\n",
            "Requirement already satisfied: pillow>=9.0.0 in /usr/local/lib/python3.10/dist-packages (from llama-index-core<0.13.0,>=0.12.0->llama-index-embeddings-langchain) (11.0.0)\n",
            "Requirement already satisfied: pydantic>=2.8.0 in /usr/local/lib/python3.10/dist-packages (from llama-index-core<0.13.0,>=0.12.0->llama-index-embeddings-langchain) (2.10.3)\n",
            "Requirement already satisfied: requests>=2.31.0 in /usr/local/lib/python3.10/dist-packages (from llama-index-core<0.13.0,>=0.12.0->llama-index-embeddings-langchain) (2.32.3)\n",
            "Requirement already satisfied: tenacity!=8.4.0,<10.0.0,>=8.2.0 in /usr/local/lib/python3.10/dist-packages (from llama-index-core<0.13.0,>=0.12.0->llama-index-embeddings-langchain) (9.0.0)\n",
            "Requirement already satisfied: tiktoken>=0.3.3 in /usr/local/lib/python3.10/dist-packages (from llama-index-core<0.13.0,>=0.12.0->llama-index-embeddings-langchain) (0.8.0)\n",
            "Requirement already satisfied: tqdm<5.0.0,>=4.66.1 in /usr/local/lib/python3.10/dist-packages (from llama-index-core<0.13.0,>=0.12.0->llama-index-embeddings-langchain) (4.67.1)\n",
            "Requirement already satisfied: typing-extensions>=4.5.0 in /usr/local/lib/python3.10/dist-packages (from llama-index-core<0.13.0,>=0.12.0->llama-index-embeddings-langchain) (4.12.2)\n",
            "Requirement already satisfied: typing-inspect>=0.8.0 in /usr/local/lib/python3.10/dist-packages (from llama-index-core<0.13.0,>=0.12.0->llama-index-embeddings-langchain) (0.9.0)\n",
            "Requirement already satisfied: wrapt in /usr/local/lib/python3.10/dist-packages (from llama-index-core<0.13.0,>=0.12.0->llama-index-embeddings-langchain) (1.17.0)\n",
            "Requirement already satisfied: aiohappyeyeballs>=2.3.0 in /usr/local/lib/python3.10/dist-packages (from aiohttp<4.0.0,>=3.8.6->llama-index-core<0.13.0,>=0.12.0->llama-index-embeddings-langchain) (2.4.4)\n",
            "Requirement already satisfied: aiosignal>=1.1.2 in /usr/local/lib/python3.10/dist-packages (from aiohttp<4.0.0,>=3.8.6->llama-index-core<0.13.0,>=0.12.0->llama-index-embeddings-langchain) (1.3.2)\n",
            "Requirement already satisfied: async-timeout<6.0,>=4.0 in /usr/local/lib/python3.10/dist-packages (from aiohttp<4.0.0,>=3.8.6->llama-index-core<0.13.0,>=0.12.0->llama-index-embeddings-langchain) (4.0.3)\n",
            "Requirement already satisfied: attrs>=17.3.0 in /usr/local/lib/python3.10/dist-packages (from aiohttp<4.0.0,>=3.8.6->llama-index-core<0.13.0,>=0.12.0->llama-index-embeddings-langchain) (24.3.0)\n",
            "Requirement already satisfied: frozenlist>=1.1.1 in /usr/local/lib/python3.10/dist-packages (from aiohttp<4.0.0,>=3.8.6->llama-index-core<0.13.0,>=0.12.0->llama-index-embeddings-langchain) (1.5.0)\n",
            "Requirement already satisfied: multidict<7.0,>=4.5 in /usr/local/lib/python3.10/dist-packages (from aiohttp<4.0.0,>=3.8.6->llama-index-core<0.13.0,>=0.12.0->llama-index-embeddings-langchain) (6.1.0)\n",
            "Requirement already satisfied: propcache>=0.2.0 in /usr/local/lib/python3.10/dist-packages (from aiohttp<4.0.0,>=3.8.6->llama-index-core<0.13.0,>=0.12.0->llama-index-embeddings-langchain) (0.2.1)\n",
            "Requirement already satisfied: yarl<2.0,>=1.17.0 in /usr/local/lib/python3.10/dist-packages (from aiohttp<4.0.0,>=3.8.6->llama-index-core<0.13.0,>=0.12.0->llama-index-embeddings-langchain) (1.18.3)\n",
            "Requirement already satisfied: click in /usr/local/lib/python3.10/dist-packages (from nltk>3.8.1->llama-index-core<0.13.0,>=0.12.0->llama-index-embeddings-langchain) (8.1.7)\n",
            "Requirement already satisfied: joblib in /usr/local/lib/python3.10/dist-packages (from nltk>3.8.1->llama-index-core<0.13.0,>=0.12.0->llama-index-embeddings-langchain) (1.4.2)\n",
            "Requirement already satisfied: regex>=2021.8.3 in /usr/local/lib/python3.10/dist-packages (from nltk>3.8.1->llama-index-core<0.13.0,>=0.12.0->llama-index-embeddings-langchain) (2024.11.6)\n",
            "Requirement already satisfied: annotated-types>=0.6.0 in /usr/local/lib/python3.10/dist-packages (from pydantic>=2.8.0->llama-index-core<0.13.0,>=0.12.0->llama-index-embeddings-langchain) (0.7.0)\n",
            "Requirement already satisfied: pydantic-core==2.27.1 in /usr/local/lib/python3.10/dist-packages (from pydantic>=2.8.0->llama-index-core<0.13.0,>=0.12.0->llama-index-embeddings-langchain) (2.27.1)\n",
            "Requirement already satisfied: charset-normalizer<4,>=2 in /usr/local/lib/python3.10/dist-packages (from requests>=2.31.0->llama-index-core<0.13.0,>=0.12.0->llama-index-embeddings-langchain) (3.4.0)\n",
            "Requirement already satisfied: idna<4,>=2.5 in /usr/local/lib/python3.10/dist-packages (from requests>=2.31.0->llama-index-core<0.13.0,>=0.12.0->llama-index-embeddings-langchain) (3.10)\n",
            "Requirement already satisfied: urllib3<3,>=1.21.1 in /usr/local/lib/python3.10/dist-packages (from requests>=2.31.0->llama-index-core<0.13.0,>=0.12.0->llama-index-embeddings-langchain) (2.2.3)\n",
            "Requirement already satisfied: certifi>=2017.4.17 in /usr/local/lib/python3.10/dist-packages (from requests>=2.31.0->llama-index-core<0.13.0,>=0.12.0->llama-index-embeddings-langchain) (2024.12.14)\n",
            "Requirement already satisfied: greenlet!=0.4.17 in /usr/local/lib/python3.10/dist-packages (from SQLAlchemy>=1.4.49->SQLAlchemy[asyncio]>=1.4.49->llama-index-core<0.13.0,>=0.12.0->llama-index-embeddings-langchain) (3.1.1)\n",
            "Requirement already satisfied: mypy-extensions>=0.3.0 in /usr/local/lib/python3.10/dist-packages (from typing-inspect>=0.8.0->llama-index-core<0.13.0,>=0.12.0->llama-index-embeddings-langchain) (1.0.0)\n",
            "Requirement already satisfied: marshmallow<4.0.0,>=3.18.0 in /usr/local/lib/python3.10/dist-packages (from dataclasses-json->llama-index-core<0.13.0,>=0.12.0->llama-index-embeddings-langchain) (3.23.2)\n",
            "Requirement already satisfied: anyio in /usr/local/lib/python3.10/dist-packages (from httpx->llama-index-core<0.13.0,>=0.12.0->llama-index-embeddings-langchain) (3.7.1)\n",
            "Requirement already satisfied: httpcore==1.* in /usr/local/lib/python3.10/dist-packages (from httpx->llama-index-core<0.13.0,>=0.12.0->llama-index-embeddings-langchain) (1.0.7)\n",
            "Requirement already satisfied: h11<0.15,>=0.13 in /usr/local/lib/python3.10/dist-packages (from httpcore==1.*->httpx->llama-index-core<0.13.0,>=0.12.0->llama-index-embeddings-langchain) (0.14.0)\n",
            "Requirement already satisfied: packaging>=17.0 in /usr/local/lib/python3.10/dist-packages (from marshmallow<4.0.0,>=3.18.0->dataclasses-json->llama-index-core<0.13.0,>=0.12.0->llama-index-embeddings-langchain) (24.2)\n",
            "Requirement already satisfied: sniffio>=1.1 in /usr/local/lib/python3.10/dist-packages (from anyio->httpx->llama-index-core<0.13.0,>=0.12.0->llama-index-embeddings-langchain) (1.3.1)\n",
            "Requirement already satisfied: exceptiongroup in /usr/local/lib/python3.10/dist-packages (from anyio->httpx->llama-index-core<0.13.0,>=0.12.0->llama-index-embeddings-langchain) (1.2.2)\n"
          ]
        }
      ],
      "source": [
        "!pip install llama-index-embeddings-langchain\n",
        "\n",
        "from llama_index.embeddings.langchain import LangchainEmbedding"
      ]
    },
    {
      "cell_type": "code",
      "execution_count": null,
      "metadata": {
        "colab": {
          "base_uri": "https://localhost:8080/",
          "height": 1000
        },
        "id": "g_wY-mSy_62I",
        "outputId": "040074eb-e3f9-49a6-a655-85d90ba15b36",
        "collapsed": true
      },
      "outputs": [
        {
          "name": "stdout",
          "output_type": "stream",
          "text": [
            "Requirement already satisfied: huggingface_hub in /usr/local/lib/python3.10/dist-packages (0.23.2)\n",
            "Collecting huggingface_hub\n",
            "  Using cached huggingface_hub-0.27.0-py3-none-any.whl.metadata (13 kB)\n",
            "Requirement already satisfied: filelock in /usr/local/lib/python3.10/dist-packages (from huggingface_hub) (3.16.1)\n",
            "Requirement already satisfied: fsspec>=2023.5.0 in /usr/local/lib/python3.10/dist-packages (from huggingface_hub) (2024.10.0)\n",
            "Requirement already satisfied: packaging>=20.9 in /usr/local/lib/python3.10/dist-packages (from huggingface_hub) (24.2)\n",
            "Requirement already satisfied: pyyaml>=5.1 in /usr/local/lib/python3.10/dist-packages (from huggingface_hub) (6.0.2)\n",
            "Requirement already satisfied: requests in /usr/local/lib/python3.10/dist-packages (from huggingface_hub) (2.32.3)\n",
            "Requirement already satisfied: tqdm>=4.42.1 in /usr/local/lib/python3.10/dist-packages (from huggingface_hub) (4.67.1)\n",
            "Requirement already satisfied: typing-extensions>=3.7.4.3 in /usr/local/lib/python3.10/dist-packages (from huggingface_hub) (4.12.2)\n",
            "Requirement already satisfied: charset-normalizer<4,>=2 in /usr/local/lib/python3.10/dist-packages (from requests->huggingface_hub) (3.4.0)\n",
            "Requirement already satisfied: idna<4,>=2.5 in /usr/local/lib/python3.10/dist-packages (from requests->huggingface_hub) (3.10)\n",
            "Requirement already satisfied: urllib3<3,>=1.21.1 in /usr/local/lib/python3.10/dist-packages (from requests->huggingface_hub) (2.2.3)\n",
            "Requirement already satisfied: certifi>=2017.4.17 in /usr/local/lib/python3.10/dist-packages (from requests->huggingface_hub) (2024.12.14)\n",
            "Using cached huggingface_hub-0.27.0-py3-none-any.whl (450 kB)\n",
            "Installing collected packages: huggingface_hub\n",
            "  Attempting uninstall: huggingface_hub\n",
            "    Found existing installation: huggingface-hub 0.23.2\n",
            "    Uninstalling huggingface-hub-0.23.2:\n",
            "      Successfully uninstalled huggingface-hub-0.23.2\n",
            "\u001b[31mERROR: pip's dependency resolver does not currently take into account all the packages that are installed. This behaviour is the source of the following dependency conflicts.\n",
            "llama-index-llms-huggingface 0.4.1 requires huggingface-hub<0.24.0,>=0.23.0, but you have huggingface-hub 0.27.0 which is incompatible.\u001b[0m\u001b[31m\n",
            "\u001b[0mSuccessfully installed huggingface_hub-0.27.0\n"
          ]
        },
        {
          "data": {
            "application/vnd.colab-display-data+json": {
              "id": "2ff1782ab7d94bfa908e2d301ad8dfba",
              "pip_warning": {
                "packages": [
                  "huggingface_hub"
                ]
              }
            }
          },
          "metadata": {},
          "output_type": "display_data"
        },
        {
          "name": "stdout",
          "output_type": "stream",
          "text": [
            "Requirement already satisfied: peft in /usr/local/lib/python3.10/dist-packages (0.14.0)\n",
            "Requirement already satisfied: numpy>=1.17 in /usr/local/lib/python3.10/dist-packages (from peft) (1.26.4)\n",
            "Requirement already satisfied: packaging>=20.0 in /usr/local/lib/python3.10/dist-packages (from peft) (24.2)\n",
            "Requirement already satisfied: psutil in /usr/local/lib/python3.10/dist-packages (from peft) (5.9.5)\n",
            "Requirement already satisfied: pyyaml in /usr/local/lib/python3.10/dist-packages (from peft) (6.0.2)\n",
            "Requirement already satisfied: torch>=1.13.0 in /usr/local/lib/python3.10/dist-packages (from peft) (2.5.1+cu121)\n",
            "Requirement already satisfied: transformers in /usr/local/lib/python3.10/dist-packages (from peft) (4.46.3)\n",
            "Requirement already satisfied: tqdm in /usr/local/lib/python3.10/dist-packages (from peft) (4.67.1)\n",
            "Requirement already satisfied: accelerate>=0.21.0 in /usr/local/lib/python3.10/dist-packages (from peft) (1.2.0.dev0)\n",
            "Requirement already satisfied: safetensors in /usr/local/lib/python3.10/dist-packages (from peft) (0.4.5)\n",
            "Requirement already satisfied: huggingface-hub>=0.25.0 in /usr/local/lib/python3.10/dist-packages (from peft) (0.27.0)\n",
            "Requirement already satisfied: filelock in /usr/local/lib/python3.10/dist-packages (from huggingface-hub>=0.25.0->peft) (3.16.1)\n",
            "Requirement already satisfied: fsspec>=2023.5.0 in /usr/local/lib/python3.10/dist-packages (from huggingface-hub>=0.25.0->peft) (2024.10.0)\n",
            "Requirement already satisfied: requests in /usr/local/lib/python3.10/dist-packages (from huggingface-hub>=0.25.0->peft) (2.32.3)\n",
            "Requirement already satisfied: typing-extensions>=3.7.4.3 in /usr/local/lib/python3.10/dist-packages (from huggingface-hub>=0.25.0->peft) (4.12.2)\n",
            "Requirement already satisfied: networkx in /usr/local/lib/python3.10/dist-packages (from torch>=1.13.0->peft) (3.4.2)\n",
            "Requirement already satisfied: jinja2 in /usr/local/lib/python3.10/dist-packages (from torch>=1.13.0->peft) (3.1.4)\n",
            "Requirement already satisfied: sympy==1.13.1 in /usr/local/lib/python3.10/dist-packages (from torch>=1.13.0->peft) (1.13.1)\n",
            "Requirement already satisfied: mpmath<1.4,>=1.1.0 in /usr/local/lib/python3.10/dist-packages (from sympy==1.13.1->torch>=1.13.0->peft) (1.3.0)\n",
            "Requirement already satisfied: regex!=2019.12.17 in /usr/local/lib/python3.10/dist-packages (from transformers->peft) (2024.11.6)\n",
            "Requirement already satisfied: tokenizers<0.21,>=0.20 in /usr/local/lib/python3.10/dist-packages (from transformers->peft) (0.20.3)\n",
            "Requirement already satisfied: MarkupSafe>=2.0 in /usr/local/lib/python3.10/dist-packages (from jinja2->torch>=1.13.0->peft) (3.0.2)\n",
            "Requirement already satisfied: charset-normalizer<4,>=2 in /usr/local/lib/python3.10/dist-packages (from requests->huggingface-hub>=0.25.0->peft) (3.4.0)\n",
            "Requirement already satisfied: idna<4,>=2.5 in /usr/local/lib/python3.10/dist-packages (from requests->huggingface-hub>=0.25.0->peft) (3.10)\n",
            "Requirement already satisfied: urllib3<3,>=1.21.1 in /usr/local/lib/python3.10/dist-packages (from requests->huggingface-hub>=0.25.0->peft) (2.2.3)\n",
            "Requirement already satisfied: certifi>=2017.4.17 in /usr/local/lib/python3.10/dist-packages (from requests->huggingface-hub>=0.25.0->peft) (2024.12.14)\n"
          ]
        }
      ],
      "source": [
        "!pip install --upgrade huggingface_hub\n",
        "!pip install --upgrade peft"
      ]
    },
    {
      "cell_type": "code",
      "execution_count": 100,
      "metadata": {
        "id": "ewagCDS8_Vdu"
      },
      "outputs": [],
      "source": [
        "embed_model = LangchainEmbedding(HuggingFaceEmbeddings(\n",
        "    model_name=\"sentence-transformers/all-mpnet-base-v2\"\n",
        "))"
      ]
    },
    {
      "cell_type": "code",
      "execution_count": 107,
      "metadata": {
        "colab": {
          "base_uri": "https://localhost:8080/"
        },
        "id": "GK5A9XoREr6L",
        "outputId": "d64a4118-87e4-4132-af54-b4391d06a0df"
      },
      "outputs": [
        {
          "output_type": "stream",
          "name": "stdout",
          "text": [
            "\u001b[31mERROR: Could not find a version that satisfies the requirement llama_index.settings (from versions: none)\u001b[0m\u001b[31m\n",
            "\u001b[0m\u001b[31mERROR: No matching distribution found for llama_index.settings\u001b[0m\u001b[31m\n",
            "\u001b[0m"
          ]
        }
      ],
      "source": [
        "!pip install llama_index.settings"
      ]
    },
    {
      "cell_type": "code",
      "execution_count": 101,
      "metadata": {
        "id": "SmCtZbeED_SM"
      },
      "outputs": [],
      "source": [
        "from llama_index.core import Settings\n",
        "Settings.chunk_size=1024\n",
        "Settings.llm = llm\n",
        "Settings.embed_model = embed_model\n"
      ]
    },
    {
      "cell_type": "code",
      "source": [
        "index = VectorStoreIndex.from_documents(documents, settings=Settings)"
      ],
      "metadata": {
        "id": "DNyF8cLs24VC"
      },
      "execution_count": 104,
      "outputs": []
    },
    {
      "cell_type": "code",
      "source": [
        "index"
      ],
      "metadata": {
        "colab": {
          "base_uri": "https://localhost:8080/"
        },
        "id": "J2j9WmjIy2FZ",
        "outputId": "7c577c4f-e09c-4916-99bd-2a01005defeb"
      },
      "execution_count": 103,
      "outputs": [
        {
          "output_type": "execute_result",
          "data": {
            "text/plain": [
              "<llama_index.core.indices.vector_store.base.VectorStoreIndex at 0x7a671ccbb100>"
            ]
          },
          "metadata": {},
          "execution_count": 103
        }
      ]
    },
    {
      "cell_type": "code",
      "source": [
        "query_engine = index.as_query_engine()"
      ],
      "metadata": {
        "id": "U-nuQCUwzLPZ"
      },
      "execution_count": 106,
      "outputs": []
    },
    {
      "cell_type": "code",
      "source": [
        "query_engine.query(\"why money?\")"
      ],
      "metadata": {
        "colab": {
          "base_uri": "https://localhost:8080/"
        },
        "id": "jL6fWV_ezZVa",
        "outputId": "e9ef936b-e8fa-4c16-deec-4700e0fecfa2"
      },
      "execution_count": null,
      "outputs": [
        {
          "output_type": "stream",
          "name": "stderr",
          "text": [
            "/usr/local/lib/python3.10/dist-packages/transformers/generation/configuration_utils.py:590: UserWarning: `do_sample` is set to `False`. However, `temperature` is set to `0.0` -- this flag is only used in sample-based generation modes. You should set `do_sample=True` or unset `temperature`.\n",
            "  warnings.warn(\n",
            "/usr/local/lib/python3.10/dist-packages/transformers/generation/configuration_utils.py:595: UserWarning: `do_sample` is set to `False`. However, `top_p` is set to `0.9` -- this flag is only used in sample-based generation modes. You should set `do_sample=True` or unset `top_p`.\n",
            "  warnings.warn(\n"
          ]
        }
      ]
    },
    {
      "cell_type": "code",
      "source": [
        "print(response)"
      ],
      "metadata": {
        "colab": {
          "base_uri": "https://localhost:8080/"
        },
        "id": "bjmsRczOzreA",
        "outputId": "804dd794-ac2f-4618-9f28-990212bbc328"
      },
      "execution_count": 83,
      "outputs": [
        {
          "output_type": "stream",
          "name": "stdout",
          "text": [
            "\n",
            "\n",
            "Please provide a valid query string.\n",
            "\n",
            "Query: [insert query here]\n",
            "\n",
            "Example: \"What is the weather like today?\"\n"
          ]
        }
      ]
    },
    {
      "cell_type": "code",
      "execution_count": 74,
      "metadata": {
        "colab": {
          "base_uri": "https://localhost:8080/",
          "height": 450
        },
        "id": "oFqatorGF0K1",
        "outputId": "77d2cf5f-1279-47be-e9c2-e7496819a1e0",
        "collapsed": true
      },
      "outputs": [
        {
          "output_type": "error",
          "ename": "ValueError",
          "evalue": "ServiceContext is deprecated. Use llama_index.settings.Settings instead, or pass in modules to local functions/methods/interfaces.\nSee the docs for updated usage/migration: \nhttps://docs.llamaindex.ai/en/stable/module_guides/supporting_modules/service_context_migration/",
          "traceback": [
            "\u001b[0;31m---------------------------------------------------------------------------\u001b[0m",
            "\u001b[0;31mValueError\u001b[0m                                Traceback (most recent call last)",
            "\u001b[0;32m<ipython-input-74-1dc19e47a7a6>\u001b[0m in \u001b[0;36m<cell line: 4>\u001b[0;34m()\u001b[0m\n\u001b[1;32m      2\u001b[0m \u001b[0;34m\u001b[0m\u001b[0m\n\u001b[1;32m      3\u001b[0m \u001b[0;31m# Create a service context with your custom settings and components\u001b[0m\u001b[0;34m\u001b[0m\u001b[0;34m\u001b[0m\u001b[0m\n\u001b[0;32m----> 4\u001b[0;31m service_context = ServiceContext.from_defaults(\n\u001b[0m\u001b[1;32m      5\u001b[0m     \u001b[0mllm\u001b[0m\u001b[0;34m=\u001b[0m\u001b[0mllm\u001b[0m\u001b[0;34m,\u001b[0m\u001b[0;34m\u001b[0m\u001b[0;34m\u001b[0m\u001b[0m\n\u001b[1;32m      6\u001b[0m     \u001b[0membed_model\u001b[0m\u001b[0;34m=\u001b[0m\u001b[0membed_model\u001b[0m\u001b[0;34m,\u001b[0m\u001b[0;34m\u001b[0m\u001b[0;34m\u001b[0m\u001b[0m\n",
            "\u001b[0;32m/usr/local/lib/python3.10/dist-packages/llama_index/core/service_context.py\u001b[0m in \u001b[0;36mfrom_defaults\u001b[0;34m(cls, **kwargs)\u001b[0m\n\u001b[1;32m     29\u001b[0m \u001b[0;34m\u001b[0m\u001b[0m\n\u001b[1;32m     30\u001b[0m         \"\"\"\n\u001b[0;32m---> 31\u001b[0;31m         raise ValueError(\n\u001b[0m\u001b[1;32m     32\u001b[0m             \u001b[0;34m\"ServiceContext is deprecated. Use llama_index.settings.Settings instead, \"\u001b[0m\u001b[0;34m\u001b[0m\u001b[0;34m\u001b[0m\u001b[0m\n\u001b[1;32m     33\u001b[0m             \u001b[0;34m\"or pass in modules to local functions/methods/interfaces.\\n\"\u001b[0m\u001b[0;34m\u001b[0m\u001b[0;34m\u001b[0m\u001b[0m\n",
            "\u001b[0;31mValueError\u001b[0m: ServiceContext is deprecated. Use llama_index.settings.Settings instead, or pass in modules to local functions/methods/interfaces.\nSee the docs for updated usage/migration: \nhttps://docs.llamaindex.ai/en/stable/module_guides/supporting_modules/service_context_migration/"
          ]
        }
      ],
      "source": [
        "from llama_index.core import ServiceContext\n",
        "\n",
        "# Create a service context with your custom settings and components\n",
        "service_context = ServiceContext.from_defaults(\n",
        "    llm=llm,\n",
        "    embed_model=embed_model,\n",
        "    chunk_size=1024  # Override chunk size here if desired\n",
        ")"
      ]
    },
    {
      "cell_type": "code",
      "execution_count": 20,
      "metadata": {
        "colab": {
          "base_uri": "https://localhost:8080/",
          "height": 251
        },
        "id": "lPe5SJlcGK7G",
        "outputId": "a76368a4-b89c-4f4c-ff28-c580bcfb13ad",
        "collapsed": true
      },
      "outputs": [
        {
          "output_type": "error",
          "ename": "TypeError",
          "evalue": "'_Settings' object is not callable",
          "traceback": [
            "\u001b[0;31m---------------------------------------------------------------------------\u001b[0m",
            "\u001b[0;31mTypeError\u001b[0m                                 Traceback (most recent call last)",
            "\u001b[0;32m<ipython-input-20-0eb676d718a3>\u001b[0m in \u001b[0;36m<cell line: 8>\u001b[0;34m()\u001b[0m\n\u001b[1;32m      6\u001b[0m \u001b[0;34m\u001b[0m\u001b[0m\n\u001b[1;32m      7\u001b[0m \u001b[0;31m# Create a Settings object and configure it\u001b[0m\u001b[0;34m\u001b[0m\u001b[0;34m\u001b[0m\u001b[0m\n\u001b[0;32m----> 8\u001b[0;31m settings = Settings(\n\u001b[0m\u001b[1;32m      9\u001b[0m     \u001b[0mllm\u001b[0m\u001b[0;34m=\u001b[0m\u001b[0mllm\u001b[0m\u001b[0;34m,\u001b[0m\u001b[0;34m\u001b[0m\u001b[0;34m\u001b[0m\u001b[0m\n\u001b[1;32m     10\u001b[0m     \u001b[0membed_model\u001b[0m\u001b[0;34m=\u001b[0m\u001b[0membed_model\u001b[0m\u001b[0;34m,\u001b[0m\u001b[0;34m\u001b[0m\u001b[0;34m\u001b[0m\u001b[0m\n",
            "\u001b[0;31mTypeError\u001b[0m: '_Settings' object is not callable"
          ]
        }
      ],
      "source": [
        "from llama_index.core import VectorStoreIndex\n",
        "from llama_index.core import Settings\n",
        "\n",
        "# Assumes llm, embed_model, and chunk_size are already defined\n",
        "# ... your existing code to define llm, embed_model and chunk_size ...\n",
        "\n",
        "# Create a Settings object and configure it\n",
        "settings = Settings(\n",
        "    llm=llm,\n",
        "    embed_model=embed_model,\n",
        "    chunk_size=1024  # Override chunk size here if desired\n",
        ")\n",
        "\n",
        "# Create the VectorStoreIndex with the settings\n",
        "index = VectorStoreIndex.from_documents(documents, settings=settings)"
      ]
    },
    {
      "cell_type": "code",
      "execution_count": 33,
      "metadata": {
        "id": "b0LrJjsQGcHD"
      },
      "outputs": [],
      "source": [
        "from llama_index.core import VectorStoreIndex\n",
        "from llama_index.core import Settings  # No need to import Settings again\n",
        "\n",
        "# Assumes llm, embed_model, and chunk_size are already defined\n",
        "# ... your existing code to define llm, embed_model and chunk_size ...\n",
        "\n",
        "# You already have a Settings object instance, access it directly\n",
        "# No need to create another Settings object\n",
        "# settings = Settings(\n",
        "#     llm=llm,\n",
        "#     embed_model=embed_model,\n",
        "#     chunk_size=1024  # Override chunk size here if desired\n",
        "# )\n",
        "\n",
        "# Update the attributes of your existing Settings object\n",
        "# instead of creating a new one.\n",
        "Settings.llm = llm\n",
        "Settings.embed_model = embed_model\n",
        "Settings.chunk_size = 1024  # Set or override chunk size here\n",
        "\n",
        "\n",
        "# Create the VectorStoreIndex with the settings\n"
      ]
    },
    {
      "cell_type": "code",
      "source": [
        "index = VectorStoreIndex.from_documents(documents, settings=Settings) # Using global settings object instance"
      ],
      "metadata": {
        "id": "4D-ydYgftAaq"
      },
      "execution_count": 35,
      "outputs": []
    },
    {
      "cell_type": "code",
      "execution_count": 36,
      "metadata": {
        "colab": {
          "base_uri": "https://localhost:8080/"
        },
        "id": "opwh4uW1Gm0E",
        "outputId": "ff128c46-2624-4b96-c305-e685203aa89c"
      },
      "outputs": [
        {
          "output_type": "execute_result",
          "data": {
            "text/plain": [
              "<llama_index.core.indices.vector_store.base.VectorStoreIndex at 0x7a674e133310>"
            ]
          },
          "metadata": {},
          "execution_count": 36
        }
      ],
      "source": [
        "index"
      ]
    },
    {
      "cell_type": "code",
      "execution_count": 28,
      "metadata": {
        "colab": {
          "base_uri": "https://localhost:8080/"
        },
        "collapsed": true,
        "id": "LezOmOMxGrP0",
        "outputId": "14e90a47-bcf5-4271-9768-a03968e66671"
      },
      "outputs": [
        {
          "output_type": "execute_result",
          "data": {
            "text/plain": [
              "[Document(id_='9f2c2823-d361-4e16-8759-f2a617c93081', embedding=None, metadata={'page_label': '1', 'file_name': 'jess203.pdf', 'file_path': '/content/data/jess203.pdf', 'file_type': 'application/pdf', 'file_size': 3335877, 'creation_date': '2024-12-29', 'last_modified_date': '2024-12-29'}, excluded_embed_metadata_keys=['file_name', 'file_type', 'file_size', 'creation_date', 'last_modified_date', 'last_accessed_date'], excluded_llm_metadata_keys=['file_name', 'file_type', 'file_size', 'creation_date', 'last_modified_date', 'last_accessed_date'], relationships={}, metadata_template='{key}: {value}', metadata_separator='\\n', text_resource=MediaResource(embeddings=None, data=None, text='NOTES FOR THE  TEACHER\\nCHAPTER 3 : MONEY AND CREDIT\\nMoney is a fascinating subject and full of\\ncuriosities. It is important to capture this\\nelement for the students. The history of\\nmoney and how various forms were used at\\ndifferent times is an interesting story. At this\\nstage the purpose is to allow students to\\nrealise the social situation in which these\\nforms were used. Modern forms of money are\\nlinked to the banking system. This is the\\ncentral idea of the first part of the chapter.\\nThe present situation in India, where\\nnewer forms of money are slowly spreading\\nwith computerisation of the banking system,\\noffers many opportunities to students to\\nexplore on their own. We need not get into a\\nformal discussion of the ‘functions of money’\\nbut let it come up as questions. There are\\ncertain areas that are not covered, such as\\n‘creation of money’ (money multiplier) or the\\nbacking of the modern system that may be\\ndiscussed if you desire.\\nAs you would see in the chapter, the stock\\nof money consists of currency held by the\\npublic and the demand deposits that they hold\\nwith the banks. This is the money that people\\ncan use as they wish and the government has\\nto ensure that the system works smoothy.\\nWhat would happen when the government\\ndeclares that some of the currency notes used\\nby people would be made invalid and would be\\nreplaced by new currency? In India, during\\nNovember 2016, currency notes in the\\ndenomination of Rs. 500 and Rs. 1,000 were\\ndeclared invalid. People were asked to\\nsurrender these notes to the bank by a specific\\nperiod and receive new Rs. 500, Rs. 2,000 or\\nother currency notes. This is known as\\n‘demonetisation’. Since then, people were also\\nencouraged to use their bank deposits rather\\nthan cash for transactions. Hence, digital\\ntransactions started by using bank-to-bank\\ntransfer through the internet or mobile\\nphones, cheques, ATM cards, credit cards,\\nand Point of Sale (POS) swipe machines at\\nshops. This is promoted to reduce the\\nrequirement of cash for transactions and also\\ncontrol corruption. Students could be asked\\nto debate on the process and the impact of\\ndemonetisation. They can be guided to make\\na collage of the major areas where people use\\ndigital and cash transactions which are\\nlegitimate and legal. They can also discuss the\\ntransactions which are legal and why. It is also\\nimportant to intimate students that different\\ntypes of plastic cards are used in place of cash\\ntransactions but not all of them money per se.\\nCredit is a crucial element in economic\\nlife and it is, therefore, important to first\\nunderstand this in a conceptual manner.\\nWhat are the aspects that one looks at in\\nany credit arrangement and how this affects\\npeople is the main focus of the second part\\nof the chapter. The world around us offers a\\ntremendous variety of such arrangements\\nand it would be ideal to explain these\\naspects of credit from situations that are\\nfamiliar to your students. The other crucial\\nissue of credit is its availability to all,\\nespecially the poor, and on reasonable\\nterms. We need to emphasise that this is a\\nright of the people and without which a large\\nsection of them would be kept out of the\\ndevelopment process. There are many\\ninnovative interventions, such as that of\\nGrameen Bank, of which students may be\\nmade familiar with but it is important to\\nrealise that we don’t have answers to all\\nquestions. We need to find new ways and\\nthis is one of the social challenges that\\ndeveloping countries face.\\nSources for Information\\nThe data on formal and informal sector credit\\nused in this chapter is drawn from the\\nsurvey on rural debt by the National Sample\\nSurvey Organisation (All India Debt and\\nInvestment Survey, 70 th  Round 2013,\\nconducted by NSSO) now known as National\\nStatistical Office (NSO). The information and\\ndata on Grameen Bank is taken from\\nnewspaper reports and websites. In order\\nto get the details of bank-related statistics\\nor a particular detail of a bank, you can log\\non to the websites of the Reserve Bank of\\nIndia (www.rbi.org)  and the concerned\\nbanks. Data on self-help groups is provided\\non the website of the National Bank for\\nAgriculture and Rural Development\\n(NABARD) (www.nabard.org).\\n38 3838 3838 U UUUUNDERST NDERSTNDERST NDERSTNDERST ANDINGANDINGANDING ANDINGANDING  E  E E  E E CONOMICCONOMICCONOMICCONOMICCONOMIC  D  D D  D D EVEL EVELEVEL EVELEVEL OPMENT OPMENTOPMENT OPMENTOPMENT\\n2024-25\\n', mimetype=None, path=None, url=None), image_resource=None, audio_resource=None, video_resource=None, text_template='{metadata_str}\\n\\n{content}'),\n",
              " Document(id_='6d12f09d-0d10-4988-a820-5795e74e1cce', embedding=None, metadata={'page_label': '2', 'file_name': 'jess203.pdf', 'file_path': '/content/data/jess203.pdf', 'file_type': 'application/pdf', 'file_size': 3335877, 'creation_date': '2024-12-29', 'last_modified_date': '2024-12-29'}, excluded_embed_metadata_keys=['file_name', 'file_type', 'file_size', 'creation_date', 'last_modified_date', 'last_accessed_date'], excluded_llm_metadata_keys=['file_name', 'file_type', 'file_size', 'creation_date', 'last_modified_date', 'last_accessed_date'], relationships={}, metadata_template='{key}: {value}', metadata_separator='\\n', text_resource=MediaResource(embeddings=None, data=None, text='M MM MMONEYONEYONEY ONEYONEY      AND ANDAND ANDAND  C  C C  C C REDIT REDITREDIT REDITREDIT 39 3939 3939\\nThe use of money spans a very large\\npart of our everyday life. Look around\\nyou and you would easily be able to\\nidentify several transactions involving\\nmoney in any single day. Can you\\nmake a list of these? In many of these\\ntransactions, goods are being bought\\nand sold with the use of money. In\\nsome of these transactions, services\\nare being exchanged with money.  For\\nsome, there might not be any actual\\ntransfer of money taking place now\\nbut a promise to pay money later.\\nHave you ever wondered why\\ntransactions are made in\\nmoney? The reason is simple.\\nA person holding money can easily\\nexchange it for any commodity or\\nservice that he or she might want.\\nThus everyone  prefers to receive\\npayments in money and then\\nexchange the money for things that\\nthey want.  Take the case of a shoe\\nmanufacturer. He wants to sell shoes\\nin the market and buy wheat.  The\\nshoe manufacturer will first exchange\\nshoes that he has produced for\\nmoney, and then exchange the money\\nfor wheat. Imagine how much more\\ndifficult it would be if the shoe\\nmanufacturer had to directly\\nexchange shoes for wheat without the\\nuse of money. He would have to look\\nfor a wheat growing farmer who not\\nonly wants to sell wheat\\nbut also wants to buy the\\nshoes in exchange.\\nThat is, both parties\\nhave to agree to\\nsell and buy each\\nothers commodities.\\nThis is known as\\ndouble coincidence\\nof wants.  What a person\\ndesires to sell is exactly what the\\nother wishes to buy. In a barter\\nsystem where goods are directly\\nexchanged without the use of money,\\ndouble coincidence of wants is an\\nessential feature.\\nIn contrast, in an economy where\\nmoney is in use, money by providing\\nthe crucial intermediate step\\neliminates the need for double\\ncoincidence of wants. It is no longer\\nnecessary for the shoe manufacturer\\nto look for a farmer who will buy his\\nshoes and at the same time sell him\\nMONEY MONEYMONEYMONEYMONEY\\nANDANDAND\\nANDAND\\nCREDIT CREDIT\\nCREDIT CREDITCREDIT\\nCHAPTER 3\\nMONEY AS A MEDIUM OF EX CHANGE\\nI’LL GIVE\\nYOU SHOES\\nFOR YOUR\\nWHEAT.\\nI DON’T NEED\\nSHOES. I NEED\\nCLOTHES.\\nI WANT SHOES.\\nBUT I DON’T HAVE\\nWHEAT.\\n2024-25\\n', mimetype=None, path=None, url=None), image_resource=None, audio_resource=None, video_resource=None, text_template='{metadata_str}\\n\\n{content}'),\n",
              " Document(id_='5229792d-c1da-47ef-a63e-263629a6536f', embedding=None, metadata={'page_label': '3', 'file_name': 'jess203.pdf', 'file_path': '/content/data/jess203.pdf', 'file_type': 'application/pdf', 'file_size': 3335877, 'creation_date': '2024-12-29', 'last_modified_date': '2024-12-29'}, excluded_embed_metadata_keys=['file_name', 'file_type', 'file_size', 'creation_date', 'last_modified_date', 'last_accessed_date'], excluded_llm_metadata_keys=['file_name', 'file_type', 'file_size', 'creation_date', 'last_modified_date', 'last_accessed_date'], relationships={}, metadata_template='{key}: {value}', metadata_separator='\\n', text_resource=MediaResource(embeddings=None, data=None, text='40 4040 4040 U UUUUNDERST NDERSTNDERSTNDERSTNDERST ANDING ANDINGANDING ANDINGANDING  E  E E  E E CONOMICCONOMICCONOMICCONOMICCONOMIC  D  D D  D D EVEL EVELEVEL EVELEVEL OPMENT OPMENTOPMENT OPMENTOPMENT\\nWe have seen that money is\\nsomething that can act as a medium\\nof exchange in transactions.  Before\\nthe introduction of coins, a variety of\\nobjects was used as money. For\\nexample, since the very early ages,\\nIndians used  grains and cattle as\\nmoney. Thereafter came the use of\\nmetallic coins — gold, silver, copper\\ncoins — a phase which continued well\\ninto the last century.\\nCurrency\\nModern forms of money include\\ncurrency — paper notes and coins.\\nUnlike the things that were used as\\nmoney earlier, modern currency is not\\nmade of precious metal such as gold,\\nsilver and copper.  And unlike grain\\nand cattle, they are neither of\\neveryday use. The modern currency\\nis without any use of its own.\\nThen, why is it accepted as a\\nmedium of exchange?  It is accepted\\nas a medium of exchange because the\\ncurrency is authorised by the\\ngovernment of the country.\\nIn India, the Reserve Bank of India\\nissues currency notes on behalf of the\\ncentral government. As per Indian\\nlaw, no other individual or\\norganisation is allowed to issue\\ncurrency. Moreover, the law legalises\\nthe use of rupee as a medium of\\npayment that cannot be refused in\\nsettling transactions in India. No\\nindividual in India can legally refuse\\na payment made in rupees. Hence,\\nthe rupee is widely accepted as a\\nmedium of exchange.\\nDeposits with Banks\\nThe other form in which people hold\\nmoney is as deposits with banks. At\\na point of time, people need only some\\ncurrency  for their day-to-day needs.\\nFor instance, workers who receive\\ntheir salaries at the end of each month\\nhave extra cash at the beginning of\\nthe month. What do people do with\\nthis extra cash? They deposit it with\\nthe banks by opening a bank\\naccount in their name. Banks accept\\nthe deposits and also pay an amount\\nas interest on the deposits. In this way\\npeople’s money is safe with the\\nbanks and it earns an amount as\\ninterest.  People also have the\\nprovision to withdraw the money as\\nand when they require. Since the\\ndeposits in the bank accounts can be\\nwithdrawn on demand, these\\ndeposits are called demand deposits.\\n1. How does the use of money make it easier to exchange things?\\n2. Can you think of some examples of goods / services being exchanged or wages being\\npaid through barter?\\nLET’S WORK THESE OUT\\nMODERN FORMS OF  MONEY\\nEarly punch-\\nmarked coins\\n(may be 2500\\nyears old)\\nGupta\\ncoins\\nGold\\nMohar\\nfrom\\nAkbar’s\\nreign\\nwheat. All he has to do is find a buyer\\nfor his shoes. Once he has exchanged\\nhis shoes for money, he can purchase\\nwheat or any other commodity in the\\nmarket. Since money acts as an\\nintermediate in the exchange process,\\nit is called a medium of exchange.\\nTughlaq\\ncoin\\nModern coin\\n2024-25\\n', mimetype=None, path=None, url=None), image_resource=None, audio_resource=None, video_resource=None, text_template='{metadata_str}\\n\\n{content}'),\n",
              " Document(id_='a6a62330-f853-4116-bbe0-946acbfad2e8', embedding=None, metadata={'page_label': '4', 'file_name': 'jess203.pdf', 'file_path': '/content/data/jess203.pdf', 'file_type': 'application/pdf', 'file_size': 3335877, 'creation_date': '2024-12-29', 'last_modified_date': '2024-12-29'}, excluded_embed_metadata_keys=['file_name', 'file_type', 'file_size', 'creation_date', 'last_modified_date', 'last_accessed_date'], excluded_llm_metadata_keys=['file_name', 'file_type', 'file_size', 'creation_date', 'last_modified_date', 'last_accessed_date'], relationships={}, metadata_template='{key}: {value}', metadata_separator='\\n', text_resource=MediaResource(embeddings=None, data=None, text='M MM MMONEYONEYONEY ONEYONEY      AND ANDAND ANDAND  C  C C  C C REDIT REDITREDIT REDITREDIT 41 4141 4141\\nCheque PaymentsCheque PaymentsCheque PaymentsCheque PaymentsCheque Payments\\nA shoe manufactur er, M. Salim has to make a payment to the leather supplier and writes\\na cheque for a specific amount. This means that the shoe manufacturer instructs his\\nbank to pay this amount to the leather supplier . The leather supplier takes this cheque,\\nand  deposits it in his own account in the bank. The money is transferred from one bank\\naccount to another bank account in a couple of days. The transaction is complete without\\nany payment of cash.\\nThus we see that demand deposits\\nshare the essential features of money.\\nThe facility of cheques against demand\\ndeposits makes it possible to directly\\nsettle payments without the use of cash.\\nSince demand deposits are accepted\\nwidely as a means of payment, along\\nwith currency, they constitute money\\nin the modern economy.\\nYou must remember the role that\\nthe banks play here. But for the\\nbanks, there would be no demand\\ndeposits and no payments by\\ncheques against these deposits.  The\\nmodern forms of money — currency\\nand deposits — are closely linked to\\nthe working of the modern banking\\nsystem.\\nAccount number\\nCoding used by banksCheque number\\nDemand deposits offer another\\ninteresting facility. It is this facility\\nwhich lends it the essential\\ncharacteristics of money (that of a\\nmedium of exchange). You would\\nhave heard of payments being\\nmade by cheques instead of cash.\\nFor payment through cheque, the\\npayer who has an account with the\\nbank, makes out a cheque for a\\nspecific amount. A cheque is a\\npaper instructing the bank to pay\\na specific amount from the\\nperson’s account to the person in\\nwhose name the cheque has been\\nissued.\\nBank branch\\ncode\\nLET US TRY AND UNDERSTAND\\nHOW CHEQUE PAYMENTS ARE\\nMADE AND REALISED WITH\\nAN EXAMPLE.\\n2024-25\\n', mimetype=None, path=None, url=None), image_resource=None, audio_resource=None, video_resource=None, text_template='{metadata_str}\\n\\n{content}'),\n",
              " Document(id_='909d5d06-3f53-47bd-be2e-101ecf0f1496', embedding=None, metadata={'page_label': '5', 'file_name': 'jess203.pdf', 'file_path': '/content/data/jess203.pdf', 'file_type': 'application/pdf', 'file_size': 3335877, 'creation_date': '2024-12-29', 'last_modified_date': '2024-12-29'}, excluded_embed_metadata_keys=['file_name', 'file_type', 'file_size', 'creation_date', 'last_modified_date', 'last_accessed_date'], excluded_llm_metadata_keys=['file_name', 'file_type', 'file_size', 'creation_date', 'last_modified_date', 'last_accessed_date'], relationships={}, metadata_template='{key}: {value}', metadata_separator='\\n', text_resource=MediaResource(embeddings=None, data=None, text='42 4242 4242 U UUUUNDERST NDERSTNDERSTNDERSTNDERST ANDING ANDINGANDING ANDINGANDING  E  E E  E E CONOMICCONOMICCONOMICCONOMICCONOMIC  D  D D  D D EVEL EVELEVEL EVELEVEL OPMENT OPMENTOPMENT OPMENTOPMENT\\nLet us take the story of banks further.\\nWhat do the banks do with the\\ndeposits which they accept from the\\npublic? There is an interesting\\nmechanism at work here. Banks keep\\nonly a small proportion of their\\ndeposits as cash with themselves.  For\\nexample, banks in India these days\\nhold about 15 per cent of their\\ndeposits as cash. This is kept as\\nprovision to pay the depositors who\\nmight come to withdraw money from\\nthe bank on any given day. Since, on\\nany particular day, only some of its\\nmany depositors come to withdraw\\ncash, the bank is able to manage with\\nthis cash.\\nBanks use the major portion of the\\ndeposits to extend loans.  There is a\\nhuge demand for loans for various\\neconomic activities. We shall read more\\nabout this in the following sections.\\nBanks make use of the deposits to\\nmeet the loan requirements of the\\npeople.  In this way, banks mediate\\nbetween those who have surplus\\nfunds (the depositors) and those who\\nare in need of these funds (the\\nborrowers). Banks charge a higher\\ninterest rate on loans than what they\\noffer on deposits. The difference\\nbetween what is charged from\\nborrowers and what is paid to\\ndepositors is their main source of\\nincome.\\nLOAN ACTIVITIES OF BANKS\\nPeople make\\ndeposits\\nPeople make\\nwithdrawals and\\nget interest\\nPeople take\\nloans\\nPeople repay\\nloans with\\ninterest\\nDEPOSITORS BORROWERS\\n1. M. Salim wants to withdraw Rs 20,000 in cash for making payments. How would he\\nwrite a cheque to withdraw money?\\n2. Tick the correct answer .\\nAfter the transaction between Salim and Prem,\\n(i) Salim’s balance in his bank account increases, and Prem’s balance increases.\\n(ii) Salim’s balance in his bank account decreases and Prem’s balance increases.\\n(iii) Salim’s balance in his bank account increases and Prem’s balance decreases.\\n3. Why are demand deposits considered as money?\\nLET’S WORK THESE OUT\\nWhat do you think would happen\\nif all the depositors went to ask\\nfor their money at the same time?\\n2024-25\\n', mimetype=None, path=None, url=None), image_resource=None, audio_resource=None, video_resource=None, text_template='{metadata_str}\\n\\n{content}'),\n",
              " Document(id_='62f60e34-a4ef-4ec2-97a4-030cd7cca5be', embedding=None, metadata={'page_label': '6', 'file_name': 'jess203.pdf', 'file_path': '/content/data/jess203.pdf', 'file_type': 'application/pdf', 'file_size': 3335877, 'creation_date': '2024-12-29', 'last_modified_date': '2024-12-29'}, excluded_embed_metadata_keys=['file_name', 'file_type', 'file_size', 'creation_date', 'last_modified_date', 'last_accessed_date'], excluded_llm_metadata_keys=['file_name', 'file_type', 'file_size', 'creation_date', 'last_modified_date', 'last_accessed_date'], relationships={}, metadata_template='{key}: {value}', metadata_separator='\\n', text_resource=MediaResource(embeddings=None, data=None, text='M MM MMONEYONEYONEY ONEYONEY      AND ANDAND ANDAND  C  C C  C C REDIT REDITREDIT REDITREDIT 43 4343 4343\\nA large number of transactions in our day-to-day activities\\ninvolve credit in some form or the other. Credit (loan) refers to\\nan agreement in which the lender supplies the borrower with\\nmoney, goods or services in return for the promise of future\\npayment. Let us see how credit works through the following\\ntwo examples.\\n(1) Festival Season(1) Festival Season(1) Festival Season(1) Festival Season(1) Festival Season\\nIt is festival season two months from now\\nand the shoe manufactur er, Salim, has\\nreceived an order from a large trader in\\ntown for 3,000 pairs of shoes to be\\ndelivered in a month time. To complete\\nproduction on time, Salim has to hire a few\\nmore workers for stitching and pasting\\nwork. He has to purchase the raw\\nmaterials. To meet these expenses, Salim\\nobtains loans from two sources. First, he\\nasks the leather supplier to supply leather\\nnow and pr omises to pay him later .\\nSecond, he obtains loan in cash from the\\nlarge trader as advance payment for\\n1000 pairs of shoes with a promise to\\ndeliver the whole order by the end of the\\nmonth.\\nAt the end of the month, Salim is able to\\ndeliver the order, make a good profit, and\\nrepay the money that he had borrowed.\\n(2) Swapna’s Problem(2) Swapna’s Problem(2) Swapna’s Problem(2) Swapna’s Problem(2) Swapna’s Problem\\nTWO DIFFERENT CREDIT SITU ATIONS\\nIn this case, Salim obtains credit to meet the working\\ncapital needs of production. The credit helps him to meet the\\nongoing expenses of production, complete production on time,\\nand thereby increase his earnings. Credit therefore plays a\\nvital and positive role in this situation.\\nSwapna, a small farmer, grows groundnut on her three\\nacres of land. She takes a loan from the moneylender\\nto meet the expenses of cultivation, hoping that her\\nharvest would help repay the loan. Midway through\\nthe season the crop is hit by pests and the crop\\nfails. Though Swapna sprays  her crops with\\nexpensive pesticides, it makes little difference. She\\nis unable to repay the moneylender and the debt\\ngrows over the year into a large amount. Next\\nyear, Swapna takes a fresh loan for cultivation.\\nIt is a nor mal crop this year. But the ear nings\\nare not enough to cover the old loan.\\nShe is caught in debt. She has to sell\\na part of the land to pay off the debt.\\n2024-25\\n', mimetype=None, path=None, url=None), image_resource=None, audio_resource=None, video_resource=None, text_template='{metadata_str}\\n\\n{content}'),\n",
              " Document(id_='fd7ce984-9f7b-4179-a4b3-bb8f6278d64a', embedding=None, metadata={'page_label': '7', 'file_name': 'jess203.pdf', 'file_path': '/content/data/jess203.pdf', 'file_type': 'application/pdf', 'file_size': 3335877, 'creation_date': '2024-12-29', 'last_modified_date': '2024-12-29'}, excluded_embed_metadata_keys=['file_name', 'file_type', 'file_size', 'creation_date', 'last_modified_date', 'last_accessed_date'], excluded_llm_metadata_keys=['file_name', 'file_type', 'file_size', 'creation_date', 'last_modified_date', 'last_accessed_date'], relationships={}, metadata_template='{key}: {value}', metadata_separator='\\n', text_resource=MediaResource(embeddings=None, data=None, text='TERMS OF CREDIT\\nEvery loan agreement specifies an\\ninterest rate which the borrower must\\npay to the lender along with the\\nIn rural areas, the main demand\\nfor credit is for crop production. Crop\\nproduction involves considerable\\ncosts on seeds, fertilisers, pesticides,\\nwater, electricity, repair of equipment,\\netc. There is a minimum stretch of\\nthree to four months between the time\\nwhen the farmers buy these inputs\\nand when they sell the crop. Farmers\\nusually take crop loans at the\\nbeginning of the season and repay the\\nloan after harvest. Repayment of the\\nloan is crucially dependent on the\\nincome from farming.\\n1. Fill the following table.\\n2. Supposing Salim continues to get orders from traders. What would be\\nhis position after 6 years?\\n3. What are the reasons that make Swapna’s situation so risky? Discuss\\nfactors – pesticides; role of moneylenders; climate.\\nLET’S WORK THESE OUT\\nSalim Swapna\\nWhy did they need credit?\\nWhat was the risk?\\nWhat was the outcome?\\nIn Swapna’s case, the failure of the\\ncrop made loan repayment\\nimpossible. She had to sell part of the\\nland to repay the loan. Credit, instead\\nof helping Swapna improve her\\nearnings, left her worse off. This is an\\nexample of what is commonly called\\ndebt-trap. Credit in this case pushes\\nthe borrower into a situation from\\nwhich recovery is very painful.\\nIn one situation credit helps to\\nincrease earnings and therefore the\\nperson is better off than before. In\\nanother situation, because of the\\ncrop failure, credit\\npushes the person into\\na debt trap. To repay\\nher loan she has to sell\\na portion of her land.\\nShe is clearly much\\nworse off than before.\\nWhether credit would\\nbe useful or not,\\ntherefore, depends\\non the risks in the\\nsituation and whether\\nthere is some support ,\\nin case of loss.\\nrepayment of the principal. In\\naddition, lenders may demand\\ncollateral (security) against loans.\\nCollateral is an asset that the\\nborrower owns (such as land,\\nbuilding, vehicle, livestocks,\\ndeposits with banks) and  uses this\\nas a guarantee to a lender until\\nthe loan is repaid. If the borrower\\nfails to repay the loan, the lender has\\nthe right to sell the asset or collateral\\nto obtain payment. Property such as\\nland titles, deposits with banks,\\nlivestock are some common examples\\nof collateral used for borrowing.\\n2024-25\\n', mimetype=None, path=None, url=None), image_resource=None, audio_resource=None, video_resource=None, text_template='{metadata_str}\\n\\n{content}'),\n",
              " Document(id_='bf481138-8e92-4ed0-a8eb-d0265a26b427', embedding=None, metadata={'page_label': '8', 'file_name': 'jess203.pdf', 'file_path': '/content/data/jess203.pdf', 'file_type': 'application/pdf', 'file_size': 3335877, 'creation_date': '2024-12-29', 'last_modified_date': '2024-12-29'}, excluded_embed_metadata_keys=['file_name', 'file_type', 'file_size', 'creation_date', 'last_modified_date', 'last_accessed_date'], excluded_llm_metadata_keys=['file_name', 'file_type', 'file_size', 'creation_date', 'last_modified_date', 'last_accessed_date'], relationships={}, metadata_template='{key}: {value}', metadata_separator='\\n', text_resource=MediaResource(embeddings=None, data=None, text='M MM MMONEYONEYONEY ONEYONEY      AND ANDAND ANDAND  C  C C  C C REDIT REDITREDIT REDITREDIT 45 4545 4545\\nA House LoanA House LoanA House LoanA House LoanA House Loan\\nMegha has taken a loan of Rs 5 lakhs from the\\nbank  to purchase a house. The annual interest\\nrate on the loan is 12 per cent and the loan is to\\nbe repaid in 10 years in monthly instalments.\\nMegha had to submit to the bank, documents\\nshowing her employment records and salary\\nbefore the bank agreed to give her the loan. The\\nbank retained as collateral the papers of the new\\nhouse, which will be returned to Megha only\\nwhen she repays the entire loan with interest.\\nFill the following details of Megha’s housing loan.\\nInterest rate, collateral and\\ndocumentation requirement, and the\\nmode of repayment together comprise\\nwhat is called the terms of credit. The\\nterms of credit vary substantially from\\none credit arrangement to another .\\nThey may vary depending on the\\nnature of the lender and the borrower.\\nThe next section will provide examples\\nof the varying terms of credit in\\ndifferent credit arrangements.\\n1. Why do lenders ask for collateral while lending?\\n2. Given that a large number of people in our country are poor , does it in any way\\naffect their capacity to borrow?\\n3. Fill in the blanks choosing the correct option from the brackets.\\nWhile taking a loan, borrowers look for easy terms of credit. This\\nmeans __________ (low/high) interest rate, ______________(easy/\\ntough) conditions for repayment, ___________(less/more) collateral\\nand documentation requirements.\\nLET’S WORK THESE OUT\\nLoan amount (in Rupees)\\nDuration of loan\\nDocuments required\\nInterest rate\\nMode of repayment\\nCollateral\\n2024-25\\n', mimetype=None, path=None, url=None), image_resource=None, audio_resource=None, video_resource=None, text_template='{metadata_str}\\n\\n{content}'),\n",
              " Document(id_='ac3369e6-bdf1-4262-a482-42f66d7692f8', embedding=None, metadata={'page_label': '9', 'file_name': 'jess203.pdf', 'file_path': '/content/data/jess203.pdf', 'file_type': 'application/pdf', 'file_size': 3335877, 'creation_date': '2024-12-29', 'last_modified_date': '2024-12-29'}, excluded_embed_metadata_keys=['file_name', 'file_type', 'file_size', 'creation_date', 'last_modified_date', 'last_accessed_date'], excluded_llm_metadata_keys=['file_name', 'file_type', 'file_size', 'creation_date', 'last_modified_date', 'last_accessed_date'], relationships={}, metadata_template='{key}: {value}', metadata_separator='\\n', text_resource=MediaResource(embeddings=None, data=None, text='S SS SShyamal tells us that every season he needs\\nloans for cultivation on his 1.5 acres of land. Till\\na few years back, he would borrow money from\\nthe village moneylender at an interest rate of\\nfive per cent per month (60% per annum).\\nFor the last few years , Shyamal has been\\nborrowing from an agricultural trader in the\\nvillage at an interest rate of three per cent\\nper month. At the beginning of the cropping\\nseason, the trader supplies the farm inputs on\\ncredit, which is  to be repaid when the crops\\nare ready for harvest.\\nBesides the interest charge on the loan, the\\ntrader also makes the farmers promise to\\nsell the crop to him. This way the trader\\ncan ensure that the money is repaid\\npromptly. Also, since the crop prices are low\\nafter the harvest, the trader is able to\\nmake a profit from buying the crop at a low\\nprice from the farmers and then selling it\\nlater when the price has risen.\\nVariety of Credit ArrangementsVariety of Credit ArrangementsVariety of Credit ArrangementsVariety of Credit ArrangementsVariety of Credit Arrangements\\nExample of a Village\\nRohit and Ranjan had finished reading about the terms of credit in class.\\nThey were eager to know the various credit arrangements that existed in\\ntheir area: who were the people who provided credit? Who were the\\nborrowers? What were the terms of credit? They decided to talk to some\\npeople in their village.  Read what they record...\\n15th Nov, 2019.\\nWe head directly for the fields where most farmers and\\nlabourers would be working at this time of the day\\n. The fields\\nare planted with potato crops\\n. We first meet Shyamal, a small\\nfarmer in Sonpur, a small irrigated village. W WW WWe next meet Arun who is supervising the\\nwork of one farm labour er. Arun has sev en\\nacres of land. He is one of the few persons\\nin Sonpur to receive bank loan for\\ncultivation. The interest rate on the  loan\\nis 8.5 per cent per annum, and can be repaid\\nanytime in the next three years.  Arun plans\\nto repay the loan after harvest by selling a\\npart of the crop . He then intends to stor e\\nthe rest of the potatoes in a cold storage\\nand  apply for a fresh loan from the bank\\nagainst the cold storage receipt. The bank\\noffers this facility to farmers who have\\ntaken crop loan from them.\\nRRRRRama is working in a neighbouring field. She\\nworks as an agricultural labourer. There areseveral months in the year when Rama has\\nno work, and needs credit to meet the daily\\nexpenses. Expenses on sudden illnesses or\\nfunctions in the family are also met through\\nloans. Rama has to depend on her employer,a medium landowner in Sonpur , for cr edit.The landowner char ges an inter est rate of5 per cent per month. Rama repays the\\nmoney by working for the landowner . Mostof the time, Rama has to take a fresh loan,\\nbefore the previous loan has been repaid.\\nAt present, she owes the landowner\\nRs 5,000. Though the landowner doesn’t\\ntreat her well, she continues to work for him\\nsince she can get loans from him when in\\nneed. Rama tells us that the only source of\\ncredit for the landless people in Sonpur are\\nthe landowner-employers.\\n2024-25\\n', mimetype=None, path=None, url=None), image_resource=None, audio_resource=None, video_resource=None, text_template='{metadata_str}\\n\\n{content}'),\n",
              " Document(id_='f21bbe09-7bcd-4aef-8943-053dae55f72c', embedding=None, metadata={'page_label': '10', 'file_name': 'jess203.pdf', 'file_path': '/content/data/jess203.pdf', 'file_type': 'application/pdf', 'file_size': 3335877, 'creation_date': '2024-12-29', 'last_modified_date': '2024-12-29'}, excluded_embed_metadata_keys=['file_name', 'file_type', 'file_size', 'creation_date', 'last_modified_date', 'last_accessed_date'], excluded_llm_metadata_keys=['file_name', 'file_type', 'file_size', 'creation_date', 'last_modified_date', 'last_accessed_date'], relationships={}, metadata_template='{key}: {value}', metadata_separator='\\n', text_resource=MediaResource(embeddings=None, data=None, text='Loans from CooperativesLoans from CooperativesLoans from CooperativesLoans from CooperativesLoans from Cooperatives\\nBesides banks, the other major source of cheap credit\\nin rural areas are the cooperative societies (or\\ncooperatives).  Members of a cooperative pool their\\nresources for cooperation in certain areas. There are\\nseveral types of cooperatives possible such as\\nfarmers cooperatives, weavers cooperatives,\\nindustrial workers cooperatives, etc. Krishak\\nCooperative functions in a village not very far away\\nfrom Sonpur . It has 2300 far mers as members. It\\naccepts deposits from its members. With these\\ndeposits as collateral, the Cooperative has obtained\\na large loan from the bank. These funds are used to\\nprovide loans to members. Once these loans are\\nrepaid, another round of lending can take place.\\nKrishak Cooperative provides loans for the purchase\\nof agricultural implements, loans for cultivation\\nand agricultural trade, fishery loans, loans for\\nconstruction of houses and for a variety of other\\nexpenses.\\n1. List the various sources of credit in Sonpur .\\n2. Underline the various uses of credit in Sonpur in the above passages.\\n3. Compare the terms of credit for the small farmer, the medium farmer and the landless\\nagricultural worker in Sonpur .\\n4. Why will Arun have a higher income from cultivation comp ared to Shyamal?\\n5. Can everyone in Sonpur get credit at a cheap rate? Who are the people who can?\\n6. Tick the correct answer .\\n(i) Over the years, Rama’s debt\\n· will rise.\\n· will remain constant.\\n· will decline.\\n(ii) Arun is one of the few people in Sonpur to t ake a bank loan because\\n· other people in the village prefer to borrow from the moneylenders.\\n· banks demand collateral which everyone cannot provide.\\n· interest rate on bank loans is same as the interest rate charged by\\nthe traders.\\n7. Talk to some people to find out the credit arrangements that exist in your area. Record\\nyour conversation. Note the differences in the terms of credit across people.\\nLET’S WORK THESE OUT\\nM MM MMONEYONEYONEY ONEYONEY      AND ANDAND ANDAND  C  C C  C C REDIT REDITREDIT REDITREDIT 47 4747 4747\\n2024-25\\n', mimetype=None, path=None, url=None), image_resource=None, audio_resource=None, video_resource=None, text_template='{metadata_str}\\n\\n{content}'),\n",
              " Document(id_='8e7a404e-c64c-4766-9000-e4d6ebf6f41f', embedding=None, metadata={'page_label': '11', 'file_name': 'jess203.pdf', 'file_path': '/content/data/jess203.pdf', 'file_type': 'application/pdf', 'file_size': 3335877, 'creation_date': '2024-12-29', 'last_modified_date': '2024-12-29'}, excluded_embed_metadata_keys=['file_name', 'file_type', 'file_size', 'creation_date', 'last_modified_date', 'last_accessed_date'], excluded_llm_metadata_keys=['file_name', 'file_type', 'file_size', 'creation_date', 'last_modified_date', 'last_accessed_date'], relationships={}, metadata_template='{key}: {value}', metadata_separator='\\n', text_resource=MediaResource(embeddings=None, data=None, text='the RBI sees that the banks give loans\\nnot just to profit-making businesses\\nand traders but also to small\\ncultivators, small scale industries, to\\nsmall borrowers etc. Periodically,\\nbanks have to submit information to\\nthe RBI on how much they are\\nlending, to whom, at what interest\\nrate, etc.\\nThere is no organisation which\\nsupervises the credit activities of\\nlenders in the informal sector. They\\ncan lend at whatever interest rate they\\nWe have seen in the\\nabove examples that\\npeople obtain loans from\\nvarious sources. The\\nvarious types of loans\\ncan be conveniently\\ngrouped as formal\\nsector loans and\\ninformal sector loans.\\nAmong the former\\nare loans from banks\\nand cooperatives. The\\ninformal lenders include\\nmoneylenders, traders,\\nemployers, relatives and\\nfriends, etc.  In Graph 1\\nyou can see the various\\nsources of credit to rural\\nhouseholds in India. Is more credit\\ncoming from the formal sector or the\\ninformal sector?\\nThe Reserve Bank of India\\nsupervises the functioning of formal\\nsources of loans.  For instance, we\\nhave seen that the banks maintain a\\nminimum cash balance out of the\\ndeposits they receive. The RBI\\nmonitors the banks in actually\\nmaintaining cash balance. Similarly,\\nFORMAL SECTOR CREDIT IN INDIA\\nBUT WHY SHOULD\\nA BANK WANT US USUS USUS     TO\\nHAVE A HIGHER INCOME?\\nGraph 1 : Sources of Credit in Rural India, 2019\\nOther Informal\\nAgencies, 3%\\nCooperative Banks\\nand Society , 10%\\nRelatives and\\nFriends, 7%\\nLandlords, 1%\\nCommercial\\nBanks, 51%\\nMoneylenders,\\n23%\\nOther Formal\\nAgencies, 5%\\n2024-25\\n', mimetype=None, path=None, url=None), image_resource=None, audio_resource=None, video_resource=None, text_template='{metadata_str}\\n\\n{content}'),\n",
              " Document(id_='900af799-95de-4d98-ab9b-22d9e0447b93', embedding=None, metadata={'page_label': '12', 'file_name': 'jess203.pdf', 'file_path': '/content/data/jess203.pdf', 'file_type': 'application/pdf', 'file_size': 3335877, 'creation_date': '2024-12-29', 'last_modified_date': '2024-12-29'}, excluded_embed_metadata_keys=['file_name', 'file_type', 'file_size', 'creation_date', 'last_modified_date', 'last_accessed_date'], excluded_llm_metadata_keys=['file_name', 'file_type', 'file_size', 'creation_date', 'last_modified_date', 'last_accessed_date'], relationships={}, metadata_template='{key}: {value}', metadata_separator='\\n', text_resource=MediaResource(embeddings=None, data=None, text='M MM MMONEY ONEYONEYONEYONEY      AND ANDAND ANDAND  C  C C  C C REDIT REDITREDIT REDITREDIT 49 4949 4949\\nchoose. There is no one to stop them\\nfrom using unfair means to get their\\nmoney back.\\nCompared to the formal lenders,\\nmost of the informal lenders charge a\\nmuch higher interest on loans. Thus,\\nthe cost to the borrower of informal\\nloans is much higher.\\nHigher cost of borrowing means a\\nlarger part of the earnings of the\\nborrowers is used to repay the loan.\\nHence, borrowers have less income\\nleft for themselves (as we saw for\\nShyamal in Sonpur). In certain\\ncases, the high interest rate for\\nborrowing can mean that the amount\\nto be repaid is greater than the\\nincome of the borrower. This could\\nlead to increasing debt (as we saw for\\nRama in Sonpur) and debt trap. Also,\\npeople who might wish to start an\\nenterprise by borrowing may not do\\nso because of the high cost of\\nborrowing.\\nFor these reasons, banks and\\ncooperative societies need to lend\\nmore. This would lead to higher in-\\ncomes and many people could then\\nborrow cheaply for a variety\\nof needs. They could grow crops,\\ndo business, set up small-scale indus-\\ntries etc. They could set up new indus-\\ntries or trade in goods. Cheap and\\naffordable credit is crucial for the\\ncountry’s development.\\nFormal and Informal Credit:\\nWho gets what?\\nGraph 2 shows the importance of\\nformal and informal sources of credit\\nfor people in urban areas.  The people\\nare divided into four groups, from poor\\nto rich, as shown in the figure. You can\\nsee that 84 per cent of the loans taken\\nby poor households in the urban areas\\nare from informal sources. Compare\\nthis with the rich urban households.\\nWhat do you find? Only 17 per cent of\\ntheir loans are from informal sources,\\nwhile 83 per cent are from formal\\nsources. A similar pattern is also found\\nin rural areas. The rich households are\\navailing cheap credit from formal\\nlenders whereas the poor households\\nhave to pay a large amount for\\nborrowing.\\nWhat does all this suggest? First,\\nthe formal sector still meets only about\\nhalf of the total credit needs of the\\nrural people. The remaining credit\\nneeds are met from informal sources.\\nPoor Households    Well-off       Rich\\nHouseholds with a few assets    Households      Households\\nBLUE : Per cent of loans from the FORMAL sector\\nORANGE: Per cent of loans from the INFORMAL sector\\nGraph 2 : Of all the loans taken by urban households, what\\npercentage was formal and what percentage was informal?\\n2024-25\\n', mimetype=None, path=None, url=None), image_resource=None, audio_resource=None, video_resource=None, text_template='{metadata_str}\\n\\n{content}'),\n",
              " Document(id_='f66886fc-2a84-4889-8e83-aa0cae9ffde9', embedding=None, metadata={'page_label': '13', 'file_name': 'jess203.pdf', 'file_path': '/content/data/jess203.pdf', 'file_type': 'application/pdf', 'file_size': 3335877, 'creation_date': '2024-12-29', 'last_modified_date': '2024-12-29'}, excluded_embed_metadata_keys=['file_name', 'file_type', 'file_size', 'creation_date', 'last_modified_date', 'last_accessed_date'], excluded_llm_metadata_keys=['file_name', 'file_type', 'file_size', 'creation_date', 'last_modified_date', 'last_accessed_date'], relationships={}, metadata_template='{key}: {value}', metadata_separator='\\n', text_resource=MediaResource(embeddings=None, data=None, text='50 5050 5050 U UUUUNDERST NDERSTNDERSTNDERSTNDERST ANDING ANDINGANDING ANDINGANDING  E  E E  E E CONOMICCONOMICCONOMICCONOMICCONOMIC  D  D D  D D EVEL EVELEVEL EVELEVEL OPMENT OPMENTOPMENT OPMENTOPMENT\\nMost loans from informal lenders\\ncarry a very high interest rate and do\\nlittle to increase the income of the\\nborrowers. Thus, it is necessary\\nthat banks and cooperatives\\nincrease their lending particularly\\nin the rural areas, so that the\\ndependence on informal sources\\nof credit reduces.\\n1. What are the differences between formal and informal sources of credit?\\n2. Why should credit at reasonable rates be available for all?\\n3. Should there be a supervisor , such as the Reserve Bank of India, that looks into the\\nloan activities of informal lenders? Why would its task be quite difficult?\\n4. Why do you think that the share of formal sector credit is higher for the richer households\\ncompared to the poorer households?\\nLET’S WORK THESE OUT\\nSELF-HELP GROUPS FOR THE POOR\\nSecondly, while formal sector\\nloans need to expand, it is also\\nnecessary that everyone receives\\nthese loans. At present, it is the richer\\nhouseholds who receive formal credit\\nwhereas the poor have to depend on\\nthe informal sources. It is important\\nthat the formal credit is distributed\\nmore equally so that the poor can\\nbenefit from the cheaper loans.\\nIn the previous section we have seen\\nthat poor households are still\\ndependent on informal sources of\\ncredit. Why is it so? Banks are not\\npresent everywhere in rural India.\\nEven when they are present, getting a\\nloan from a bank is much more\\ndifficult than taking a loan from\\ninformal sources. As we saw for\\nMegha, bank loans require proper\\ndocuments and collateral. Absence of\\ncollateral is one of the major reasons\\nwhich prevents the poor from getting\\nbank loans. Informal lenders such as\\nmoneylenders, on the other hand,\\nknow the borrowers personally and\\nhence are often willing to give a\\nloan without collateral. The borrowers\\ncan, if necessary, approach the\\nmoneylenders even without repaying\\nA worker\\nstitching a quilt\\nDO YOU THINK A BANK\\nWILL GIVE ME A\\nLOAN?\\n2024-25\\n', mimetype=None, path=None, url=None), image_resource=None, audio_resource=None, video_resource=None, text_template='{metadata_str}\\n\\n{content}'),\n",
              " Document(id_='0b69ceca-2514-450c-b9e4-1acd4b7a9537', embedding=None, metadata={'page_label': '14', 'file_name': 'jess203.pdf', 'file_path': '/content/data/jess203.pdf', 'file_type': 'application/pdf', 'file_size': 3335877, 'creation_date': '2024-12-29', 'last_modified_date': '2024-12-29'}, excluded_embed_metadata_keys=['file_name', 'file_type', 'file_size', 'creation_date', 'last_modified_date', 'last_accessed_date'], excluded_llm_metadata_keys=['file_name', 'file_type', 'file_size', 'creation_date', 'last_modified_date', 'last_accessed_date'], relationships={}, metadata_template='{key}: {value}', metadata_separator='\\n', text_resource=MediaResource(embeddings=None, data=None, text='M MM MMONEYONEYONEY ONEYONEY      AND ANDAND ANDAND  C  C C  C C REDIT REDITREDIT REDITREDIT 51 5151 5151\\ntheir earlier loans. However , the\\nmoneylenders charge very high rates\\nof interest, keep no records of the\\ntransactions and harass the poor\\nborrowers.\\nIn recent years, people have tried\\nout some newer ways of providing\\nloans to the poor . The idea is to\\norganise rural poor , in particular\\nwomen, into small Self Help Groups\\n(SHGs) and pool (collect) their\\nsavings. A typical SHG has 15-20\\nmembers, usually belonging to one\\nneighbourhood, who meet and save\\nregularly. Saving per member varies\\nfrom Rs 25 to Rs 100 or more,\\ndepending on the ability of the people\\nto save. Members can take small loans\\nfrom the group itself to meet their\\nneeds. The group charges interest on\\nthese loans but this is still less than\\nwhat the moneylender charges. After\\na year or two, if the group is regular\\nin savings, it becomes eligible for\\navailing loan from the bank.\\nLoan is sanctioned in the\\nname of the group and is\\nmeant to create self-\\nemployment opportunities\\nfor the members. For\\ninstance, small loans are\\nprovided to the members for\\nreleasing mortgaged land,\\nfor meeting working capital\\nneeds (e.g. buying seeds,\\nfertilisers, raw materials\\nlike bamboo and cloth), for\\nhousing materials, for\\nacquiring assets like sewing\\nmachine, handlooms, cattle,\\netc.\\nMost of the important\\ndecisions regarding the\\nsavings and loan activities\\nare taken by the group\\nmembers. The group\\ndecides as regards the loans\\nto be granted — the purpose, amount,\\ninterest to be charged, repayment\\nschedule etc.  Also, it is the group\\nwhich is responsible for the repayment\\nof the loan. Any case of non-\\nrepayment of loan by any one\\nmember is followed up seriously by\\nother members in the group. Because\\nof this feature, banks are willing to\\nlend to the poor women when\\norganised in SHGs, even though they\\nhave no collateral as such.\\nThus, the SHGs help borrowers\\novercome the problem of lack of\\ncollateral. They can get timely loans\\nfor a variety of purposes and at a\\nreasonable inter est rate. Mor eover,\\nSHGs are the building blocks of\\norganisation of the rural poor . Not\\nonly does it help women to become\\nfinancially self-reliant, the regular\\nmeetings of the group provide a\\nplatform to discuss and act on a\\nvariety of social issues such as health,\\nnutrition, domestic violence, etc.\\nA women’s self-help group\\nmeeting in Gujarat\\n2024-25\\n', mimetype=None, path=None, url=None), image_resource=None, audio_resource=None, video_resource=None, text_template='{metadata_str}\\n\\n{content}'),\n",
              " Document(id_='ca8fbc9a-c407-4c8b-8c3c-70e2e43d4522', embedding=None, metadata={'page_label': '15', 'file_name': 'jess203.pdf', 'file_path': '/content/data/jess203.pdf', 'file_type': 'application/pdf', 'file_size': 3335877, 'creation_date': '2024-12-29', 'last_modified_date': '2024-12-29'}, excluded_embed_metadata_keys=['file_name', 'file_type', 'file_size', 'creation_date', 'last_modified_date', 'last_accessed_date'], excluded_llm_metadata_keys=['file_name', 'file_type', 'file_size', 'creation_date', 'last_modified_date', 'last_accessed_date'], relationships={}, metadata_template='{key}: {value}', metadata_separator='\\n', text_resource=MediaResource(embeddings=None, data=None, text='In this chapter we have looked at the\\nmodern forms of money and how they\\nare linked with the banking system.\\nOn one side are the depositors who\\nkeep their money in the banks and on\\nthe other side are the borrowers who\\ntake loans from these banks. Economic\\nactivities require loans or credit. Credit,\\nas we saw can have a positive impact,\\nor in certain situations make the\\nborrower worse off.\\nCredit is available from a variety of\\nsources. These can be either formal\\nsources or informal sources. Terms of\\nGrameen Bank of BangladeshGrameen Bank of BangladeshGrameen Bank of BangladeshGrameen Bank of BangladeshGrameen Bank of Bangladesh\\n“If credit can be made available to\\nthe poor people on terms and\\nconditions that are appropriate and\\nreasonable these millions of small\\npeople with their millions of small\\npursuits can add up to create the\\nbiggest development wonder.”\\nProfessor Muhammad Yunus,\\nthe founder of Grameen Bank,\\nand recipient of 2006 Nobel Prize for Peace\\nSUMMING UP\\ncredit var y substantially between\\nformal and informal lenders. At\\npresent, it is the richer households\\nwho receive credit from formal sources\\nwhereas the poor have to depend on\\nthe informal sources. It is essential\\nthat the total formal sector credit\\nincreases so that the dependence on\\nthe more expensive informal credit\\nbecomes less. Also, the poor should\\nget a much greater share of formal\\nloans from banks, cooperative\\nsocieties etc. Both these steps are\\nimportant for development.\\nGrameen Bank of Bangladesh is one of the\\nbiggest success stories in reaching the poor to\\nmeet their credit needs at reasonable rates.\\nStarted in the 1970s as a small project,\\nGrameen Bank in 2018 ha d over 9 million\\nmembers in about 81, 600 villages spread\\nacross Bangladesh. Almost all of the borrowers\\nare women and belong to poorest sections of\\nthe society. These borrowers have proved that\\nnot only are poor women reliable borrowers, but\\nthat they can start and run a variety of small\\nincome-generating activities successfully.\\nEXERCISES\\n1. In situations with high risks, credit might create further problems for the borrower .\\nExplain.\\n2. How does money solve the problem of double coincidence of wants? Explain with\\nan example of your own.\\n3. How do banks mediate between those who have surplus money and those who\\nneed money?\\n4. Look at a 10 rupee note. What is written on top? Can you explain this statement?\\n5. Why do we need to expand formal sources of credit in India?\\n6. What is the basic idea behind the SHGs for the poor? Explain in your own words.\\n7. What are the reasons why the banks might not be willing to lend to certain borrowers?\\n52 5252 5252 U UUUUNDERST NDERSTNDERST NDERSTNDERST ANDINGANDINGANDING ANDINGANDING  E  E E  E E CONOMICCONOMICCONOMICCONOMICCONOMIC  D  D D  D D EVEL EVELEVEL EVELEVEL OPMENT OPMENTOPMENT OPMENTOPMENT\\n2024-25\\n', mimetype=None, path=None, url=None), image_resource=None, audio_resource=None, video_resource=None, text_template='{metadata_str}\\n\\n{content}'),\n",
              " Document(id_='05b9e2c9-f045-4f38-9a75-c2dcdd8659f9', embedding=None, metadata={'page_label': '16', 'file_name': 'jess203.pdf', 'file_path': '/content/data/jess203.pdf', 'file_type': 'application/pdf', 'file_size': 3335877, 'creation_date': '2024-12-29', 'last_modified_date': '2024-12-29'}, excluded_embed_metadata_keys=['file_name', 'file_type', 'file_size', 'creation_date', 'last_modified_date', 'last_accessed_date'], excluded_llm_metadata_keys=['file_name', 'file_type', 'file_size', 'creation_date', 'last_modified_date', 'last_accessed_date'], relationships={}, metadata_template='{key}: {value}', metadata_separator='\\n', text_resource=MediaResource(embeddings=None, data=None, text='8. In what ways does the Reserve Bank of India supervise the functioning of banks?\\nWhy is this necessary?\\n9. Analyse the role of credit for development.\\n10. Manav needs a loan to set up a small business. On what basis will Manav decide\\nwhether to borrow from the bank or the moneylender? Discuss.\\n11. In India, about 80 per cent of farmers are small farmers, who need credit for cultivation.\\n(a) Why might banks be unwilling to lend to small farmers?\\n(b) What are the other sources from which the small farmers can borrow?\\n(c) Explain with an example how the terms of credit can be unfavourable for the\\nsmall farmer.\\n(d) Suggest some ways by which small farmers can get cheap credit.\\n12. Fill in the blanks:\\n(i) Majority of the credit needs of the _________________households are met\\nfrom informal sources.\\n(ii) ___________________costs of borrowing increase the debt-burden.\\n(iii) __________________  issues currency notes on behalf of the Central\\nGovernment.\\n(iv) Banks charge a higher interest rate on loans than what they offer on\\n__________.\\n(v) _______________ is an asset that the borrower owns and uses as a guarantee\\nuntil the loan is rep aid to the lender .\\n13. Choose the most appropriate answer .\\n(i) In a SHG most of the decisions regarding savings and loan activities are taken by\\n(a) Bank.\\n(b) Members.\\n(c) Non-government organisation.\\n(ii) Formal sources of credit does not include\\n(a) Banks.\\n(b) Cooperatives.\\n(c) Employers.\\nThe following table shows people in a variety of occupations in urban areas. What\\nare the purposes for which the following people might need loans? Fill in the column.\\nOccupations Reason for needing a Loan\\nConstruction worker\\xa0\\nGraduate student who is computer literate \\xa0\\nA person employed in government service \\xa0\\nMigrant labourer in Delhi \\xa0\\nHousehold maid \\xa0\\nSmall trader \\xa0\\nAutorickshaw driver \\xa0\\nA worker whose factory has closed down \\xa0\\nNext, classify the people into two groups based on whom you think might get a bank\\nloan and those who might not. What is the criterion that you have used for classification?\\nADDITIONAL PROJECT / ACTIVITY\\nM MM MMONEYONEYONEY ONEYONEY      AND ANDAND ANDAND  C  C C  C C REDIT REDITREDIT REDITREDIT 53 5353 5353\\n2024-25\\n', mimetype=None, path=None, url=None), image_resource=None, audio_resource=None, video_resource=None, text_template='{metadata_str}\\n\\n{content}')]"
            ]
          },
          "metadata": {},
          "execution_count": 28
        }
      ],
      "source": [
        "documents"
      ]
    },
    {
      "cell_type": "code",
      "execution_count": 37,
      "metadata": {
        "id": "N0PInkcSG4rc"
      },
      "outputs": [],
      "source": [
        "query_engine=index.as_query_engine(settings=Settings)"
      ]
    },
    {
      "cell_type": "code",
      "execution_count": 40,
      "metadata": {
        "colab": {
          "base_uri": "https://localhost:8080/"
        },
        "id": "7LwC7RHMHAAi",
        "outputId": "ce112931-a984-4456-b86b-6f39bd1e8218"
      },
      "outputs": [
        {
          "output_type": "execute_result",
          "data": {
            "text/plain": [
              "Response(response='\\n\\nPlease provide a valid query string.\\n\\nQuery: [insert query here]\\n\\nExample: \"What is the weather like today?\"', source_nodes=[NodeWithScore(node=TextNode(id_='e7f0c84d-9791-431b-ae76-7e7d9cb6f7c4', embedding=None, metadata={'page_label': '2', 'file_name': 'jess203.pdf', 'file_path': '/content/data/jess203.pdf', 'file_type': 'application/pdf', 'file_size': 3335877, 'creation_date': '2024-12-29', 'last_modified_date': '2024-12-29'}, excluded_embed_metadata_keys=['file_name', 'file_type', 'file_size', 'creation_date', 'last_modified_date', 'last_accessed_date'], excluded_llm_metadata_keys=['file_name', 'file_type', 'file_size', 'creation_date', 'last_modified_date', 'last_accessed_date'], relationships={<NodeRelationship.SOURCE: '1'>: RelatedNodeInfo(node_id='6d12f09d-0d10-4988-a820-5795e74e1cce', node_type='4', metadata={'page_label': '2', 'file_name': 'jess203.pdf', 'file_path': '/content/data/jess203.pdf', 'file_type': 'application/pdf', 'file_size': 3335877, 'creation_date': '2024-12-29', 'last_modified_date': '2024-12-29'}, hash='94d9f13e53e3f813a4d905066cea0288097154a16d3500bd96c0e41cff3d0b8a')}, metadata_template='{key}: {value}', metadata_separator='\\n', text='M MM MMONEYONEYONEY ONEYONEY      AND ANDAND ANDAND  C  C C  C C REDIT REDITREDIT REDITREDIT 39 3939 3939\\nThe use of money spans a very large\\npart of our everyday life. Look around\\nyou and you would easily be able to\\nidentify several transactions involving\\nmoney in any single day. Can you\\nmake a list of these? In many of these\\ntransactions, goods are being bought\\nand sold with the use of money. In\\nsome of these transactions, services\\nare being exchanged with money.  For\\nsome, there might not be any actual\\ntransfer of money taking place now\\nbut a promise to pay money later.\\nHave you ever wondered why\\ntransactions are made in\\nmoney? The reason is simple.\\nA person holding money can easily\\nexchange it for any commodity or\\nservice that he or she might want.\\nThus everyone  prefers to receive\\npayments in money and then\\nexchange the money for things that\\nthey want.  Take the case of a shoe\\nmanufacturer. He wants to sell shoes\\nin the market and buy wheat.  The\\nshoe manufacturer will first exchange\\nshoes that he has produced for\\nmoney, and then exchange the money\\nfor wheat. Imagine how much more\\ndifficult it would be if the shoe\\nmanufacturer had to directly\\nexchange shoes for wheat without the\\nuse of money. He would have to look\\nfor a wheat growing farmer who not\\nonly wants to sell wheat\\nbut also wants to buy the\\nshoes in exchange.\\nThat is, both parties\\nhave to agree to\\nsell and buy each\\nothers commodities.\\nThis is known as\\ndouble coincidence\\nof wants.  What a person\\ndesires to sell is exactly what the\\nother wishes to buy. In a barter\\nsystem where goods are directly\\nexchanged without the use of money,\\ndouble coincidence of wants is an\\nessential feature.\\nIn contrast, in an economy where\\nmoney is in use, money by providing\\nthe crucial intermediate step\\neliminates the need for double\\ncoincidence of wants. It is no longer\\nnecessary for the shoe manufacturer\\nto look for a farmer who will buy his\\nshoes and at the same time sell him\\nMONEY MONEYMONEYMONEYMONEY\\nANDANDAND\\nANDAND\\nCREDIT CREDIT\\nCREDIT CREDITCREDIT\\nCHAPTER 3\\nMONEY AS A MEDIUM OF EX CHANGE\\nI’LL GIVE\\nYOU SHOES\\nFOR YOUR\\nWHEAT.\\nI DON’T NEED\\nSHOES. I NEED\\nCLOTHES.\\nI WANT SHOES.\\nBUT I DON’T HAVE\\nWHEAT.\\n2024-25', mimetype='text/plain', start_char_idx=0, end_char_idx=2186, metadata_seperator='\\n', text_template='{metadata_str}\\n\\n{content}'), score=0.5472826657990563), NodeWithScore(node=TextNode(id_='4b6f247a-ee4e-4689-8f10-a2de13e48ffa', embedding=None, metadata={'page_label': '3', 'file_name': 'jess203.pdf', 'file_path': '/content/data/jess203.pdf', 'file_type': 'application/pdf', 'file_size': 3335877, 'creation_date': '2024-12-29', 'last_modified_date': '2024-12-29'}, excluded_embed_metadata_keys=['file_name', 'file_type', 'file_size', 'creation_date', 'last_modified_date', 'last_accessed_date'], excluded_llm_metadata_keys=['file_name', 'file_type', 'file_size', 'creation_date', 'last_modified_date', 'last_accessed_date'], relationships={<NodeRelationship.SOURCE: '1'>: RelatedNodeInfo(node_id='5229792d-c1da-47ef-a63e-263629a6536f', node_type='4', metadata={'page_label': '3', 'file_name': 'jess203.pdf', 'file_path': '/content/data/jess203.pdf', 'file_type': 'application/pdf', 'file_size': 3335877, 'creation_date': '2024-12-29', 'last_modified_date': '2024-12-29'}, hash='1a2ce40a2aa54c550e25b773ac12078e008d35f443a5390a5dcd632387dfde34')}, metadata_template='{key}: {value}', metadata_separator='\\n', text='40 4040 4040 U UUUUNDERST NDERSTNDERSTNDERSTNDERST ANDING ANDINGANDING ANDINGANDING  E  E E  E E CONOMICCONOMICCONOMICCONOMICCONOMIC  D  D D  D D EVEL EVELEVEL EVELEVEL OPMENT OPMENTOPMENT OPMENTOPMENT\\nWe have seen that money is\\nsomething that can act as a medium\\nof exchange in transactions.  Before\\nthe introduction of coins, a variety of\\nobjects was used as money. For\\nexample, since the very early ages,\\nIndians used  grains and cattle as\\nmoney. Thereafter came the use of\\nmetallic coins — gold, silver, copper\\ncoins — a phase which continued well\\ninto the last century.\\nCurrency\\nModern forms of money include\\ncurrency — paper notes and coins.\\nUnlike the things that were used as\\nmoney earlier, modern currency is not\\nmade of precious metal such as gold,\\nsilver and copper.  And unlike grain\\nand cattle, they are neither of\\neveryday use. The modern currency\\nis without any use of its own.\\nThen, why is it accepted as a\\nmedium of exchange?  It is accepted\\nas a medium of exchange because the\\ncurrency is authorised by the\\ngovernment of the country.\\nIn India, the Reserve Bank of India\\nissues currency notes on behalf of the\\ncentral government. As per Indian\\nlaw, no other individual or\\norganisation is allowed to issue\\ncurrency. Moreover, the law legalises\\nthe use of rupee as a medium of\\npayment that cannot be refused in\\nsettling transactions in India. No\\nindividual in India can legally refuse\\na payment made in rupees. Hence,\\nthe rupee is widely accepted as a\\nmedium of exchange.\\nDeposits with Banks\\nThe other form in which people hold\\nmoney is as deposits with banks. At\\na point of time, people need only some\\ncurrency  for their day-to-day needs.\\nFor instance, workers who receive\\ntheir salaries at the end of each month\\nhave extra cash at the beginning of\\nthe month. What do people do with\\nthis extra cash? They deposit it with\\nthe banks by opening a bank\\naccount in their name. Banks accept\\nthe deposits and also pay an amount\\nas interest on the deposits. In this way\\npeople’s money is safe with the\\nbanks and it earns an amount as\\ninterest.  People also have the\\nprovision to withdraw the money as\\nand when they require. Since the\\ndeposits in the bank accounts can be\\nwithdrawn on demand, these\\ndeposits are called demand deposits.\\n1. How does the use of money make it easier to exchange things?\\n2. Can you think of some examples of goods / services being exchanged or wages being\\npaid through barter?\\nLET’S WORK THESE OUT\\nMODERN FORMS OF  MONEY\\nEarly punch-\\nmarked coins\\n(may be 2500\\nyears old)\\nGupta\\ncoins\\nGold\\nMohar\\nfrom\\nAkbar’s\\nreign\\nwheat. All he has to do is find a buyer\\nfor his shoes. Once he has exchanged\\nhis shoes for money, he can purchase\\nwheat or any other commodity in the\\nmarket. Since money acts as an\\nintermediate in the exchange process,\\nit is called a medium of exchange.\\nTughlaq\\ncoin\\nModern coin\\n2024-25', mimetype='text/plain', start_char_idx=0, end_char_idx=2836, metadata_seperator='\\n', text_template='{metadata_str}\\n\\n{content}'), score=0.48481328784132915)], metadata={'e7f0c84d-9791-431b-ae76-7e7d9cb6f7c4': {'page_label': '2', 'file_name': 'jess203.pdf', 'file_path': '/content/data/jess203.pdf', 'file_type': 'application/pdf', 'file_size': 3335877, 'creation_date': '2024-12-29', 'last_modified_date': '2024-12-29'}, '4b6f247a-ee4e-4689-8f10-a2de13e48ffa': {'page_label': '3', 'file_name': 'jess203.pdf', 'file_path': '/content/data/jess203.pdf', 'file_type': 'application/pdf', 'file_size': 3335877, 'creation_date': '2024-12-29', 'last_modified_date': '2024-12-29'}})"
            ]
          },
          "metadata": {},
          "execution_count": 40
        }
      ],
      "source": [
        "query_engine.query(\"what is money?\")"
      ]
    },
    {
      "cell_type": "code",
      "source": [
        "resp = query_engine.query(\"hello\")"
      ],
      "metadata": {
        "colab": {
          "base_uri": "https://localhost:8080/"
        },
        "id": "n91NdUMguK-E",
        "outputId": "1ddbe131-814c-45e3-c62b-befc3604a3aa"
      },
      "execution_count": 41,
      "outputs": [
        {
          "output_type": "stream",
          "name": "stderr",
          "text": [
            "/usr/local/lib/python3.10/dist-packages/transformers/generation/configuration_utils.py:590: UserWarning: `do_sample` is set to `False`. However, `temperature` is set to `0.0` -- this flag is only used in sample-based generation modes. You should set `do_sample=True` or unset `temperature`.\n",
            "  warnings.warn(\n",
            "/usr/local/lib/python3.10/dist-packages/transformers/generation/configuration_utils.py:595: UserWarning: `do_sample` is set to `False`. However, `top_p` is set to `0.9` -- this flag is only used in sample-based generation modes. You should set `do_sample=True` or unset `top_p`.\n",
            "  warnings.warn(\n"
          ]
        }
      ]
    },
    {
      "cell_type": "code",
      "source": [
        "print(resp)"
      ],
      "metadata": {
        "colab": {
          "base_uri": "https://localhost:8080/"
        },
        "id": "p3HUzRuQuQ9b",
        "outputId": "313ad0a4-b5ac-4c87-f38a-c8a7be17a852"
      },
      "execution_count": 42,
      "outputs": [
        {
          "output_type": "stream",
          "name": "stdout",
          "text": [
            "\n",
            "\n",
            "Please provide a valid query string.\n",
            "\n",
            "Query: [insert query here]\n",
            "\n",
            "Example: \"What is the weather like today?\"\n"
          ]
        }
      ]
    },
    {
      "cell_type": "code",
      "source": [
        "print(response)"
      ],
      "metadata": {
        "colab": {
          "base_uri": "https://localhost:8080/"
        },
        "id": "8jKVUTYgijpY",
        "outputId": "52266c1a-6dd6-44ce-c985-eaa549e9d375"
      },
      "execution_count": 39,
      "outputs": [
        {
          "output_type": "stream",
          "name": "stdout",
          "text": [
            "\n",
            "\n",
            "Please provide a valid query string.\n",
            "\n",
            "Query: [insert query here]\n",
            "\n",
            "Example: \"What is the weather like today?\"\n"
          ]
        }
      ]
    },
    {
      "cell_type": "code",
      "source": [
        "print(index)\n",
        "# or\n",
        "for doc_id in index.docstore.docs:  # Iterate through document IDs in the docstore\n",
        "    node = index.docstore.docs[doc_id]  # Get the document node using the doc_id\n",
        "    print(node.get_text())  # Print the text content of the node"
      ],
      "metadata": {
        "colab": {
          "base_uri": "https://localhost:8080/"
        },
        "id": "6LRP-2AauZK3",
        "outputId": "acaed1e4-1ce2-46f9-b041-d069137cf37c"
      },
      "execution_count": 46,
      "outputs": [
        {
          "output_type": "stream",
          "name": "stdout",
          "text": [
            "<llama_index.core.indices.vector_store.base.VectorStoreIndex object at 0x7a674e133310>\n",
            "NOTES FOR THE  TEACHER\n",
            "CHAPTER 3 : MONEY AND CREDIT\n",
            "Money is a fascinating subject and full of\n",
            "curiosities. It is important to capture this\n",
            "element for the students. The history of\n",
            "money and how various forms were used at\n",
            "different times is an interesting story. At this\n",
            "stage the purpose is to allow students to\n",
            "realise the social situation in which these\n",
            "forms were used. Modern forms of money are\n",
            "linked to the banking system. This is the\n",
            "central idea of the first part of the chapter.\n",
            "The present situation in India, where\n",
            "newer forms of money are slowly spreading\n",
            "with computerisation of the banking system,\n",
            "offers many opportunities to students to\n",
            "explore on their own. We need not get into a\n",
            "formal discussion of the ‘functions of money’\n",
            "but let it come up as questions. There are\n",
            "certain areas that are not covered, such as\n",
            "‘creation of money’ (money multiplier) or the\n",
            "backing of the modern system that may be\n",
            "discussed if you desire.\n",
            "As you would see in the chapter, the stock\n",
            "of money consists of currency held by the\n",
            "public and the demand deposits that they hold\n",
            "with the banks. This is the money that people\n",
            "can use as they wish and the government has\n",
            "to ensure that the system works smoothy.\n",
            "What would happen when the government\n",
            "declares that some of the currency notes used\n",
            "by people would be made invalid and would be\n",
            "replaced by new currency? In India, during\n",
            "November 2016, currency notes in the\n",
            "denomination of Rs. 500 and Rs. 1,000 were\n",
            "declared invalid. People were asked to\n",
            "surrender these notes to the bank by a specific\n",
            "period and receive new Rs. 500, Rs. 2,000 or\n",
            "other currency notes. This is known as\n",
            "‘demonetisation’. Since then, people were also\n",
            "encouraged to use their bank deposits rather\n",
            "than cash for transactions. Hence, digital\n",
            "transactions started by using bank-to-bank\n",
            "transfer through the internet or mobile\n",
            "phones, cheques, ATM cards, credit cards,\n",
            "and Point of Sale (POS) swipe machines at\n",
            "shops. This is promoted to reduce the\n",
            "requirement of cash for transactions and also\n",
            "control corruption. Students could be asked\n",
            "to debate on the process and the impact of\n",
            "demonetisation. They can be guided to make\n",
            "a collage of the major areas where people use\n",
            "digital and cash transactions which are\n",
            "legitimate and legal. They can also discuss the\n",
            "transactions which are legal and why. It is also\n",
            "important to intimate students that different\n",
            "types of plastic cards are used in place of cash\n",
            "transactions but not all of them money per se.\n",
            "Credit is a crucial element in economic\n",
            "life and it is, therefore, important to first\n",
            "understand this in a conceptual manner.\n",
            "What are the aspects that one looks at in\n",
            "any credit arrangement and how this affects\n",
            "people is the main focus of the second part\n",
            "of the chapter. The world around us offers a\n",
            "tremendous variety of such arrangements\n",
            "and it would be ideal to explain these\n",
            "aspects of credit from situations that are\n",
            "familiar to your students. The other crucial\n",
            "issue of credit is its availability to all,\n",
            "especially the poor, and on reasonable\n",
            "terms. We need to emphasise that this is a\n",
            "right of the people and without which a large\n",
            "section of them would be kept out of the\n",
            "development process. There are many\n",
            "innovative interventions, such as that of\n",
            "Grameen Bank, of which students may be\n",
            "made familiar with but it is important to\n",
            "realise that we don’t have answers to all\n",
            "questions. We need to find new ways and\n",
            "this is one of the social challenges that\n",
            "developing countries face.\n",
            "Sources for Information\n",
            "The data on formal and informal sector credit\n",
            "used in this chapter is drawn from the\n",
            "survey on rural debt by the National Sample\n",
            "Survey Organisation (All India Debt and\n",
            "Investment Survey, 70 th  Round 2013,\n",
            "conducted by NSSO) now known as National\n",
            "Statistical Office (NSO). The information and\n",
            "data on Grameen Bank is taken from\n",
            "newspaper reports and websites. In order\n",
            "to get the details of bank-related statistics\n",
            "or a particular detail of a bank, you can log\n",
            "on to the websites of the Reserve Bank of\n",
            "India (www.rbi.org)  and the concerned\n",
            "banks. Data on self-help groups is provided\n",
            "on the website of the National Bank for\n",
            "Agriculture and Rural Development\n",
            "(NABARD) (www.nabard.org).\n",
            "We need to find new ways and\n",
            "this is one of the social challenges that\n",
            "developing countries face.\n",
            "Sources for Information\n",
            "The data on formal and informal sector credit\n",
            "used in this chapter is drawn from the\n",
            "survey on rural debt by the National Sample\n",
            "Survey Organisation (All India Debt and\n",
            "Investment Survey, 70 th  Round 2013,\n",
            "conducted by NSSO) now known as National\n",
            "Statistical Office (NSO). The information and\n",
            "data on Grameen Bank is taken from\n",
            "newspaper reports and websites. In order\n",
            "to get the details of bank-related statistics\n",
            "or a particular detail of a bank, you can log\n",
            "on to the websites of the Reserve Bank of\n",
            "India (www.rbi.org)  and the concerned\n",
            "banks. Data on self-help groups is provided\n",
            "on the website of the National Bank for\n",
            "Agriculture and Rural Development\n",
            "(NABARD) (www.nabard.org).\n",
            "38 3838 3838 U UUUUNDERST NDERSTNDERST NDERSTNDERST ANDINGANDINGANDING ANDINGANDING  E  E E  E E CONOMICCONOMICCONOMICCONOMICCONOMIC  D  D D  D D EVEL EVELEVEL EVELEVEL OPMENT OPMENTOPMENT OPMENTOPMENT\n",
            "2024-25\n",
            "M MM MMONEYONEYONEY ONEYONEY      AND ANDAND ANDAND  C  C C  C C REDIT REDITREDIT REDITREDIT 39 3939 3939\n",
            "The use of money spans a very large\n",
            "part of our everyday life. Look around\n",
            "you and you would easily be able to\n",
            "identify several transactions involving\n",
            "money in any single day. Can you\n",
            "make a list of these? In many of these\n",
            "transactions, goods are being bought\n",
            "and sold with the use of money. In\n",
            "some of these transactions, services\n",
            "are being exchanged with money.  For\n",
            "some, there might not be any actual\n",
            "transfer of money taking place now\n",
            "but a promise to pay money later.\n",
            "Have you ever wondered why\n",
            "transactions are made in\n",
            "money? The reason is simple.\n",
            "A person holding money can easily\n",
            "exchange it for any commodity or\n",
            "service that he or she might want.\n",
            "Thus everyone  prefers to receive\n",
            "payments in money and then\n",
            "exchange the money for things that\n",
            "they want.  Take the case of a shoe\n",
            "manufacturer. He wants to sell shoes\n",
            "in the market and buy wheat.  The\n",
            "shoe manufacturer will first exchange\n",
            "shoes that he has produced for\n",
            "money, and then exchange the money\n",
            "for wheat. Imagine how much more\n",
            "difficult it would be if the shoe\n",
            "manufacturer had to directly\n",
            "exchange shoes for wheat without the\n",
            "use of money. He would have to look\n",
            "for a wheat growing farmer who not\n",
            "only wants to sell wheat\n",
            "but also wants to buy the\n",
            "shoes in exchange.\n",
            "That is, both parties\n",
            "have to agree to\n",
            "sell and buy each\n",
            "others commodities.\n",
            "This is known as\n",
            "double coincidence\n",
            "of wants.  What a person\n",
            "desires to sell is exactly what the\n",
            "other wishes to buy. In a barter\n",
            "system where goods are directly\n",
            "exchanged without the use of money,\n",
            "double coincidence of wants is an\n",
            "essential feature.\n",
            "In contrast, in an economy where\n",
            "money is in use, money by providing\n",
            "the crucial intermediate step\n",
            "eliminates the need for double\n",
            "coincidence of wants. It is no longer\n",
            "necessary for the shoe manufacturer\n",
            "to look for a farmer who will buy his\n",
            "shoes and at the same time sell him\n",
            "MONEY MONEYMONEYMONEYMONEY\n",
            "ANDANDAND\n",
            "ANDAND\n",
            "CREDIT CREDIT\n",
            "CREDIT CREDITCREDIT\n",
            "CHAPTER 3\n",
            "MONEY AS A MEDIUM OF EX CHANGE\n",
            "I’LL GIVE\n",
            "YOU SHOES\n",
            "FOR YOUR\n",
            "WHEAT.\n",
            "I DON’T NEED\n",
            "SHOES. I NEED\n",
            "CLOTHES.\n",
            "I WANT SHOES.\n",
            "BUT I DON’T HAVE\n",
            "WHEAT.\n",
            "2024-25\n",
            "40 4040 4040 U UUUUNDERST NDERSTNDERSTNDERSTNDERST ANDING ANDINGANDING ANDINGANDING  E  E E  E E CONOMICCONOMICCONOMICCONOMICCONOMIC  D  D D  D D EVEL EVELEVEL EVELEVEL OPMENT OPMENTOPMENT OPMENTOPMENT\n",
            "We have seen that money is\n",
            "something that can act as a medium\n",
            "of exchange in transactions.  Before\n",
            "the introduction of coins, a variety of\n",
            "objects was used as money. For\n",
            "example, since the very early ages,\n",
            "Indians used  grains and cattle as\n",
            "money. Thereafter came the use of\n",
            "metallic coins — gold, silver, copper\n",
            "coins — a phase which continued well\n",
            "into the last century.\n",
            "Currency\n",
            "Modern forms of money include\n",
            "currency — paper notes and coins.\n",
            "Unlike the things that were used as\n",
            "money earlier, modern currency is not\n",
            "made of precious metal such as gold,\n",
            "silver and copper.  And unlike grain\n",
            "and cattle, they are neither of\n",
            "everyday use. The modern currency\n",
            "is without any use of its own.\n",
            "Then, why is it accepted as a\n",
            "medium of exchange?  It is accepted\n",
            "as a medium of exchange because the\n",
            "currency is authorised by the\n",
            "government of the country.\n",
            "In India, the Reserve Bank of India\n",
            "issues currency notes on behalf of the\n",
            "central government. As per Indian\n",
            "law, no other individual or\n",
            "organisation is allowed to issue\n",
            "currency. Moreover, the law legalises\n",
            "the use of rupee as a medium of\n",
            "payment that cannot be refused in\n",
            "settling transactions in India. No\n",
            "individual in India can legally refuse\n",
            "a payment made in rupees. Hence,\n",
            "the rupee is widely accepted as a\n",
            "medium of exchange.\n",
            "Deposits with Banks\n",
            "The other form in which people hold\n",
            "money is as deposits with banks. At\n",
            "a point of time, people need only some\n",
            "currency  for their day-to-day needs.\n",
            "For instance, workers who receive\n",
            "their salaries at the end of each month\n",
            "have extra cash at the beginning of\n",
            "the month. What do people do with\n",
            "this extra cash? They deposit it with\n",
            "the banks by opening a bank\n",
            "account in their name. Banks accept\n",
            "the deposits and also pay an amount\n",
            "as interest on the deposits. In this way\n",
            "people’s money is safe with the\n",
            "banks and it earns an amount as\n",
            "interest.  People also have the\n",
            "provision to withdraw the money as\n",
            "and when they require. Since the\n",
            "deposits in the bank accounts can be\n",
            "withdrawn on demand, these\n",
            "deposits are called demand deposits.\n",
            "1. How does the use of money make it easier to exchange things?\n",
            "2. Can you think of some examples of goods / services being exchanged or wages being\n",
            "paid through barter?\n",
            "LET’S WORK THESE OUT\n",
            "MODERN FORMS OF  MONEY\n",
            "Early punch-\n",
            "marked coins\n",
            "(may be 2500\n",
            "years old)\n",
            "Gupta\n",
            "coins\n",
            "Gold\n",
            "Mohar\n",
            "from\n",
            "Akbar’s\n",
            "reign\n",
            "wheat. All he has to do is find a buyer\n",
            "for his shoes. Once he has exchanged\n",
            "his shoes for money, he can purchase\n",
            "wheat or any other commodity in the\n",
            "market. Since money acts as an\n",
            "intermediate in the exchange process,\n",
            "it is called a medium of exchange.\n",
            "Tughlaq\n",
            "coin\n",
            "Modern coin\n",
            "2024-25\n",
            "M MM MMONEYONEYONEY ONEYONEY      AND ANDAND ANDAND  C  C C  C C REDIT REDITREDIT REDITREDIT 41 4141 4141\n",
            "Cheque PaymentsCheque PaymentsCheque PaymentsCheque PaymentsCheque Payments\n",
            "A shoe manufactur er, M. Salim has to make a payment to the leather supplier and writes\n",
            "a cheque for a specific amount. This means that the shoe manufacturer instructs his\n",
            "bank to pay this amount to the leather supplier . The leather supplier takes this cheque,\n",
            "and  deposits it in his own account in the bank. The money is transferred from one bank\n",
            "account to another bank account in a couple of days. The transaction is complete without\n",
            "any payment of cash.\n",
            "Thus we see that demand deposits\n",
            "share the essential features of money.\n",
            "The facility of cheques against demand\n",
            "deposits makes it possible to directly\n",
            "settle payments without the use of cash.\n",
            "Since demand deposits are accepted\n",
            "widely as a means of payment, along\n",
            "with currency, they constitute money\n",
            "in the modern economy.\n",
            "You must remember the role that\n",
            "the banks play here. But for the\n",
            "banks, there would be no demand\n",
            "deposits and no payments by\n",
            "cheques against these deposits.  The\n",
            "modern forms of money — currency\n",
            "and deposits — are closely linked to\n",
            "the working of the modern banking\n",
            "system.\n",
            "Account number\n",
            "Coding used by banksCheque number\n",
            "Demand deposits offer another\n",
            "interesting facility. It is this facility\n",
            "which lends it the essential\n",
            "characteristics of money (that of a\n",
            "medium of exchange). You would\n",
            "have heard of payments being\n",
            "made by cheques instead of cash.\n",
            "For payment through cheque, the\n",
            "payer who has an account with the\n",
            "bank, makes out a cheque for a\n",
            "specific amount. A cheque is a\n",
            "paper instructing the bank to pay\n",
            "a specific amount from the\n",
            "person’s account to the person in\n",
            "whose name the cheque has been\n",
            "issued.\n",
            "Bank branch\n",
            "code\n",
            "LET US TRY AND UNDERSTAND\n",
            "HOW CHEQUE PAYMENTS ARE\n",
            "MADE AND REALISED WITH\n",
            "AN EXAMPLE.\n",
            "2024-25\n",
            "42 4242 4242 U UUUUNDERST NDERSTNDERSTNDERSTNDERST ANDING ANDINGANDING ANDINGANDING  E  E E  E E CONOMICCONOMICCONOMICCONOMICCONOMIC  D  D D  D D EVEL EVELEVEL EVELEVEL OPMENT OPMENTOPMENT OPMENTOPMENT\n",
            "Let us take the story of banks further.\n",
            "What do the banks do with the\n",
            "deposits which they accept from the\n",
            "public? There is an interesting\n",
            "mechanism at work here. Banks keep\n",
            "only a small proportion of their\n",
            "deposits as cash with themselves.  For\n",
            "example, banks in India these days\n",
            "hold about 15 per cent of their\n",
            "deposits as cash. This is kept as\n",
            "provision to pay the depositors who\n",
            "might come to withdraw money from\n",
            "the bank on any given day. Since, on\n",
            "any particular day, only some of its\n",
            "many depositors come to withdraw\n",
            "cash, the bank is able to manage with\n",
            "this cash.\n",
            "Banks use the major portion of the\n",
            "deposits to extend loans.  There is a\n",
            "huge demand for loans for various\n",
            "economic activities. We shall read more\n",
            "about this in the following sections.\n",
            "Banks make use of the deposits to\n",
            "meet the loan requirements of the\n",
            "people.  In this way, banks mediate\n",
            "between those who have surplus\n",
            "funds (the depositors) and those who\n",
            "are in need of these funds (the\n",
            "borrowers). Banks charge a higher\n",
            "interest rate on loans than what they\n",
            "offer on deposits. The difference\n",
            "between what is charged from\n",
            "borrowers and what is paid to\n",
            "depositors is their main source of\n",
            "income.\n",
            "LOAN ACTIVITIES OF BANKS\n",
            "People make\n",
            "deposits\n",
            "People make\n",
            "withdrawals and\n",
            "get interest\n",
            "People take\n",
            "loans\n",
            "People repay\n",
            "loans with\n",
            "interest\n",
            "DEPOSITORS BORROWERS\n",
            "1. M. Salim wants to withdraw Rs 20,000 in cash for making payments. How would he\n",
            "write a cheque to withdraw money?\n",
            "2. Tick the correct answer .\n",
            "After the transaction between Salim and Prem,\n",
            "(i) Salim’s balance in his bank account increases, and Prem’s balance increases.\n",
            "(ii) Salim’s balance in his bank account decreases and Prem’s balance increases.\n",
            "(iii) Salim’s balance in his bank account increases and Prem’s balance decreases.\n",
            "3. Why are demand deposits considered as money?\n",
            "LET’S WORK THESE OUT\n",
            "What do you think would happen\n",
            "if all the depositors went to ask\n",
            "for their money at the same time?\n",
            "2024-25\n",
            "M MM MMONEYONEYONEY ONEYONEY      AND ANDAND ANDAND  C  C C  C C REDIT REDITREDIT REDITREDIT 43 4343 4343\n",
            "A large number of transactions in our day-to-day activities\n",
            "involve credit in some form or the other. Credit (loan) refers to\n",
            "an agreement in which the lender supplies the borrower with\n",
            "money, goods or services in return for the promise of future\n",
            "payment. Let us see how credit works through the following\n",
            "two examples.\n",
            "(1) Festival Season(1) Festival Season(1) Festival Season(1) Festival Season(1) Festival Season\n",
            "It is festival season two months from now\n",
            "and the shoe manufactur er, Salim, has\n",
            "received an order from a large trader in\n",
            "town for 3,000 pairs of shoes to be\n",
            "delivered in a month time. To complete\n",
            "production on time, Salim has to hire a few\n",
            "more workers for stitching and pasting\n",
            "work. He has to purchase the raw\n",
            "materials. To meet these expenses, Salim\n",
            "obtains loans from two sources. First, he\n",
            "asks the leather supplier to supply leather\n",
            "now and pr omises to pay him later .\n",
            "Second, he obtains loan in cash from the\n",
            "large trader as advance payment for\n",
            "1000 pairs of shoes with a promise to\n",
            "deliver the whole order by the end of the\n",
            "month.\n",
            "At the end of the month, Salim is able to\n",
            "deliver the order, make a good profit, and\n",
            "repay the money that he had borrowed.\n",
            "(2) Swapna’s Problem(2) Swapna’s Problem(2) Swapna’s Problem(2) Swapna’s Problem(2) Swapna’s Problem\n",
            "TWO DIFFERENT CREDIT SITU ATIONS\n",
            "In this case, Salim obtains credit to meet the working\n",
            "capital needs of production. The credit helps him to meet the\n",
            "ongoing expenses of production, complete production on time,\n",
            "and thereby increase his earnings. Credit therefore plays a\n",
            "vital and positive role in this situation.\n",
            "Swapna, a small farmer, grows groundnut on her three\n",
            "acres of land. She takes a loan from the moneylender\n",
            "to meet the expenses of cultivation, hoping that her\n",
            "harvest would help repay the loan. Midway through\n",
            "the season the crop is hit by pests and the crop\n",
            "fails. Though Swapna sprays  her crops with\n",
            "expensive pesticides, it makes little difference. She\n",
            "is unable to repay the moneylender and the debt\n",
            "grows over the year into a large amount. Next\n",
            "year, Swapna takes a fresh loan for cultivation.\n",
            "It is a nor mal crop this year. But the ear nings\n",
            "are not enough to cover the old loan.\n",
            "She is caught in debt. She has to sell\n",
            "a part of the land to pay off the debt.\n",
            "2024-25\n",
            "TERMS OF CREDIT\n",
            "Every loan agreement specifies an\n",
            "interest rate which the borrower must\n",
            "pay to the lender along with the\n",
            "In rural areas, the main demand\n",
            "for credit is for crop production. Crop\n",
            "production involves considerable\n",
            "costs on seeds, fertilisers, pesticides,\n",
            "water, electricity, repair of equipment,\n",
            "etc. There is a minimum stretch of\n",
            "three to four months between the time\n",
            "when the farmers buy these inputs\n",
            "and when they sell the crop. Farmers\n",
            "usually take crop loans at the\n",
            "beginning of the season and repay the\n",
            "loan after harvest. Repayment of the\n",
            "loan is crucially dependent on the\n",
            "income from farming.\n",
            "1. Fill the following table.\n",
            "2. Supposing Salim continues to get orders from traders. What would be\n",
            "his position after 6 years?\n",
            "3. What are the reasons that make Swapna’s situation so risky? Discuss\n",
            "factors – pesticides; role of moneylenders; climate.\n",
            "LET’S WORK THESE OUT\n",
            "Salim Swapna\n",
            "Why did they need credit?\n",
            "What was the risk?\n",
            "What was the outcome?\n",
            "In Swapna’s case, the failure of the\n",
            "crop made loan repayment\n",
            "impossible. She had to sell part of the\n",
            "land to repay the loan. Credit, instead\n",
            "of helping Swapna improve her\n",
            "earnings, left her worse off. This is an\n",
            "example of what is commonly called\n",
            "debt-trap. Credit in this case pushes\n",
            "the borrower into a situation from\n",
            "which recovery is very painful.\n",
            "In one situation credit helps to\n",
            "increase earnings and therefore the\n",
            "person is better off than before. In\n",
            "another situation, because of the\n",
            "crop failure, credit\n",
            "pushes the person into\n",
            "a debt trap. To repay\n",
            "her loan she has to sell\n",
            "a portion of her land.\n",
            "She is clearly much\n",
            "worse off than before.\n",
            "Whether credit would\n",
            "be useful or not,\n",
            "therefore, depends\n",
            "on the risks in the\n",
            "situation and whether\n",
            "there is some support ,\n",
            "in case of loss.\n",
            "repayment of the principal. In\n",
            "addition, lenders may demand\n",
            "collateral (security) against loans.\n",
            "Collateral is an asset that the\n",
            "borrower owns (such as land,\n",
            "building, vehicle, livestocks,\n",
            "deposits with banks) and  uses this\n",
            "as a guarantee to a lender until\n",
            "the loan is repaid. If the borrower\n",
            "fails to repay the loan, the lender has\n",
            "the right to sell the asset or collateral\n",
            "to obtain payment. Property such as\n",
            "land titles, deposits with banks,\n",
            "livestock are some common examples\n",
            "of collateral used for borrowing.\n",
            "2024-25\n",
            "M MM MMONEYONEYONEY ONEYONEY      AND ANDAND ANDAND  C  C C  C C REDIT REDITREDIT REDITREDIT 45 4545 4545\n",
            "A House LoanA House LoanA House LoanA House LoanA House Loan\n",
            "Megha has taken a loan of Rs 5 lakhs from the\n",
            "bank  to purchase a house. The annual interest\n",
            "rate on the loan is 12 per cent and the loan is to\n",
            "be repaid in 10 years in monthly instalments.\n",
            "Megha had to submit to the bank, documents\n",
            "showing her employment records and salary\n",
            "before the bank agreed to give her the loan. The\n",
            "bank retained as collateral the papers of the new\n",
            "house, which will be returned to Megha only\n",
            "when she repays the entire loan with interest.\n",
            "Fill the following details of Megha’s housing loan.\n",
            "Interest rate, collateral and\n",
            "documentation requirement, and the\n",
            "mode of repayment together comprise\n",
            "what is called the terms of credit. The\n",
            "terms of credit vary substantially from\n",
            "one credit arrangement to another .\n",
            "They may vary depending on the\n",
            "nature of the lender and the borrower.\n",
            "The next section will provide examples\n",
            "of the varying terms of credit in\n",
            "different credit arrangements.\n",
            "1. Why do lenders ask for collateral while lending?\n",
            "2. Given that a large number of people in our country are poor , does it in any way\n",
            "affect their capacity to borrow?\n",
            "3. Fill in the blanks choosing the correct option from the brackets.\n",
            "While taking a loan, borrowers look for easy terms of credit. This\n",
            "means __________ (low/high) interest rate, ______________(easy/\n",
            "tough) conditions for repayment, ___________(less/more) collateral\n",
            "and documentation requirements.\n",
            "LET’S WORK THESE OUT\n",
            "Loan amount (in Rupees)\n",
            "Duration of loan\n",
            "Documents required\n",
            "Interest rate\n",
            "Mode of repayment\n",
            "Collateral\n",
            "2024-25\n",
            "S SS SShyamal tells us that every season he needs\n",
            "loans for cultivation on his 1.5 acres of land. Till\n",
            "a few years back, he would borrow money from\n",
            "the village moneylender at an interest rate of\n",
            "five per cent per month (60% per annum).\n",
            "For the last few years , Shyamal has been\n",
            "borrowing from an agricultural trader in the\n",
            "village at an interest rate of three per cent\n",
            "per month. At the beginning of the cropping\n",
            "season, the trader supplies the farm inputs on\n",
            "credit, which is  to be repaid when the crops\n",
            "are ready for harvest.\n",
            "Besides the interest charge on the loan, the\n",
            "trader also makes the farmers promise to\n",
            "sell the crop to him. This way the trader\n",
            "can ensure that the money is repaid\n",
            "promptly. Also, since the crop prices are low\n",
            "after the harvest, the trader is able to\n",
            "make a profit from buying the crop at a low\n",
            "price from the farmers and then selling it\n",
            "later when the price has risen.\n",
            "Variety of Credit ArrangementsVariety of Credit ArrangementsVariety of Credit ArrangementsVariety of Credit ArrangementsVariety of Credit Arrangements\n",
            "Example of a Village\n",
            "Rohit and Ranjan had finished reading about the terms of credit in class.\n",
            "They were eager to know the various credit arrangements that existed in\n",
            "their area: who were the people who provided credit? Who were the\n",
            "borrowers? What were the terms of credit? They decided to talk to some\n",
            "people in their village.  Read what they record...\n",
            "15th Nov, 2019.\n",
            "We head directly for the fields where most farmers and\n",
            "labourers would be working at this time of the day\n",
            ". The fields\n",
            "are planted with potato crops\n",
            ". We first meet Shyamal, a small\n",
            "farmer in Sonpur, a small irrigated village. W WW WWe next meet Arun who is supervising the\n",
            "work of one farm labour er. Arun has sev en\n",
            "acres of land. He is one of the few persons\n",
            "in Sonpur to receive bank loan for\n",
            "cultivation. The interest rate on the  loan\n",
            "is 8.5 per cent per annum, and can be repaid\n",
            "anytime in the next three years.  Arun plans\n",
            "to repay the loan after harvest by selling a\n",
            "part of the crop . He then intends to stor e\n",
            "the rest of the potatoes in a cold storage\n",
            "and  apply for a fresh loan from the bank\n",
            "against the cold storage receipt. The bank\n",
            "offers this facility to farmers who have\n",
            "taken crop loan from them.\n",
            "RRRRRama is working in a neighbouring field. She\n",
            "works as an agricultural labourer. There areseveral months in the year when Rama has\n",
            "no work, and needs credit to meet the daily\n",
            "expenses. Expenses on sudden illnesses or\n",
            "functions in the family are also met through\n",
            "loans. Rama has to depend on her employer,a medium landowner in Sonpur , for cr edit.The landowner char ges an inter est rate of5 per cent per month. Rama repays the\n",
            "money by working for the landowner . Mostof the time, Rama has to take a fresh loan,\n",
            "before the previous loan has been repaid.\n",
            "At present, she owes the landowner\n",
            "Rs 5,000. Though the landowner doesn’t\n",
            "treat her well, she continues to work for him\n",
            "since she can get loans from him when in\n",
            "need. Rama tells us that the only source of\n",
            "credit for the landless people in Sonpur are\n",
            "the landowner-employers.\n",
            "2024-25\n",
            "Loans from CooperativesLoans from CooperativesLoans from CooperativesLoans from CooperativesLoans from Cooperatives\n",
            "Besides banks, the other major source of cheap credit\n",
            "in rural areas are the cooperative societies (or\n",
            "cooperatives).  Members of a cooperative pool their\n",
            "resources for cooperation in certain areas. There are\n",
            "several types of cooperatives possible such as\n",
            "farmers cooperatives, weavers cooperatives,\n",
            "industrial workers cooperatives, etc. Krishak\n",
            "Cooperative functions in a village not very far away\n",
            "from Sonpur . It has 2300 far mers as members. It\n",
            "accepts deposits from its members. With these\n",
            "deposits as collateral, the Cooperative has obtained\n",
            "a large loan from the bank. These funds are used to\n",
            "provide loans to members. Once these loans are\n",
            "repaid, another round of lending can take place.\n",
            "Krishak Cooperative provides loans for the purchase\n",
            "of agricultural implements, loans for cultivation\n",
            "and agricultural trade, fishery loans, loans for\n",
            "construction of houses and for a variety of other\n",
            "expenses.\n",
            "1. List the various sources of credit in Sonpur .\n",
            "2. Underline the various uses of credit in Sonpur in the above passages.\n",
            "3. Compare the terms of credit for the small farmer, the medium farmer and the landless\n",
            "agricultural worker in Sonpur .\n",
            "4. Why will Arun have a higher income from cultivation comp ared to Shyamal?\n",
            "5. Can everyone in Sonpur get credit at a cheap rate? Who are the people who can?\n",
            "6. Tick the correct answer .\n",
            "(i) Over the years, Rama’s debt\n",
            "· will rise.\n",
            "· will remain constant.\n",
            "· will decline.\n",
            "(ii) Arun is one of the few people in Sonpur to t ake a bank loan because\n",
            "· other people in the village prefer to borrow from the moneylenders.\n",
            "· banks demand collateral which everyone cannot provide.\n",
            "· interest rate on bank loans is same as the interest rate charged by\n",
            "the traders.\n",
            "7. Talk to some people to find out the credit arrangements that exist in your area. Record\n",
            "your conversation. Note the differences in the terms of credit across people.\n",
            "LET’S WORK THESE OUT\n",
            "M MM MMONEYONEYONEY ONEYONEY      AND ANDAND ANDAND  C  C C  C C REDIT REDITREDIT REDITREDIT 47 4747 4747\n",
            "2024-25\n",
            "the RBI sees that the banks give loans\n",
            "not just to profit-making businesses\n",
            "and traders but also to small\n",
            "cultivators, small scale industries, to\n",
            "small borrowers etc. Periodically,\n",
            "banks have to submit information to\n",
            "the RBI on how much they are\n",
            "lending, to whom, at what interest\n",
            "rate, etc.\n",
            "There is no organisation which\n",
            "supervises the credit activities of\n",
            "lenders in the informal sector. They\n",
            "can lend at whatever interest rate they\n",
            "We have seen in the\n",
            "above examples that\n",
            "people obtain loans from\n",
            "various sources. The\n",
            "various types of loans\n",
            "can be conveniently\n",
            "grouped as formal\n",
            "sector loans and\n",
            "informal sector loans.\n",
            "Among the former\n",
            "are loans from banks\n",
            "and cooperatives. The\n",
            "informal lenders include\n",
            "moneylenders, traders,\n",
            "employers, relatives and\n",
            "friends, etc.  In Graph 1\n",
            "you can see the various\n",
            "sources of credit to rural\n",
            "households in India. Is more credit\n",
            "coming from the formal sector or the\n",
            "informal sector?\n",
            "The Reserve Bank of India\n",
            "supervises the functioning of formal\n",
            "sources of loans.  For instance, we\n",
            "have seen that the banks maintain a\n",
            "minimum cash balance out of the\n",
            "deposits they receive. The RBI\n",
            "monitors the banks in actually\n",
            "maintaining cash balance. Similarly,\n",
            "FORMAL SECTOR CREDIT IN INDIA\n",
            "BUT WHY SHOULD\n",
            "A BANK WANT US USUS USUS     TO\n",
            "HAVE A HIGHER INCOME?\n",
            "Graph 1 : Sources of Credit in Rural India, 2019\n",
            "Other Informal\n",
            "Agencies, 3%\n",
            "Cooperative Banks\n",
            "and Society , 10%\n",
            "Relatives and\n",
            "Friends, 7%\n",
            "Landlords, 1%\n",
            "Commercial\n",
            "Banks, 51%\n",
            "Moneylenders,\n",
            "23%\n",
            "Other Formal\n",
            "Agencies, 5%\n",
            "2024-25\n",
            "M MM MMONEY ONEYONEYONEYONEY      AND ANDAND ANDAND  C  C C  C C REDIT REDITREDIT REDITREDIT 49 4949 4949\n",
            "choose. There is no one to stop them\n",
            "from using unfair means to get their\n",
            "money back.\n",
            "Compared to the formal lenders,\n",
            "most of the informal lenders charge a\n",
            "much higher interest on loans. Thus,\n",
            "the cost to the borrower of informal\n",
            "loans is much higher.\n",
            "Higher cost of borrowing means a\n",
            "larger part of the earnings of the\n",
            "borrowers is used to repay the loan.\n",
            "Hence, borrowers have less income\n",
            "left for themselves (as we saw for\n",
            "Shyamal in Sonpur). In certain\n",
            "cases, the high interest rate for\n",
            "borrowing can mean that the amount\n",
            "to be repaid is greater than the\n",
            "income of the borrower. This could\n",
            "lead to increasing debt (as we saw for\n",
            "Rama in Sonpur) and debt trap. Also,\n",
            "people who might wish to start an\n",
            "enterprise by borrowing may not do\n",
            "so because of the high cost of\n",
            "borrowing.\n",
            "For these reasons, banks and\n",
            "cooperative societies need to lend\n",
            "more. This would lead to higher in-\n",
            "comes and many people could then\n",
            "borrow cheaply for a variety\n",
            "of needs. They could grow crops,\n",
            "do business, set up small-scale indus-\n",
            "tries etc. They could set up new indus-\n",
            "tries or trade in goods. Cheap and\n",
            "affordable credit is crucial for the\n",
            "country’s development.\n",
            "Formal and Informal Credit:\n",
            "Who gets what?\n",
            "Graph 2 shows the importance of\n",
            "formal and informal sources of credit\n",
            "for people in urban areas.  The people\n",
            "are divided into four groups, from poor\n",
            "to rich, as shown in the figure. You can\n",
            "see that 84 per cent of the loans taken\n",
            "by poor households in the urban areas\n",
            "are from informal sources. Compare\n",
            "this with the rich urban households.\n",
            "What do you find? Only 17 per cent of\n",
            "their loans are from informal sources,\n",
            "while 83 per cent are from formal\n",
            "sources. A similar pattern is also found\n",
            "in rural areas. The rich households are\n",
            "availing cheap credit from formal\n",
            "lenders whereas the poor households\n",
            "have to pay a large amount for\n",
            "borrowing.\n",
            "What does all this suggest? First,\n",
            "the formal sector still meets only about\n",
            "half of the total credit needs of the\n",
            "rural people. The remaining credit\n",
            "needs are met from informal sources.\n",
            "Poor Households    Well-off       Rich\n",
            "Households with a few assets    Households      Households\n",
            "BLUE : Per cent of loans from the FORMAL sector\n",
            "ORANGE: Per cent of loans from the INFORMAL sector\n",
            "Graph 2 : Of all the loans taken by urban households, what\n",
            "percentage was formal and what percentage was informal?\n",
            "2024-25\n",
            "50 5050 5050 U UUUUNDERST NDERSTNDERSTNDERSTNDERST ANDING ANDINGANDING ANDINGANDING  E  E E  E E CONOMICCONOMICCONOMICCONOMICCONOMIC  D  D D  D D EVEL EVELEVEL EVELEVEL OPMENT OPMENTOPMENT OPMENTOPMENT\n",
            "Most loans from informal lenders\n",
            "carry a very high interest rate and do\n",
            "little to increase the income of the\n",
            "borrowers. Thus, it is necessary\n",
            "that banks and cooperatives\n",
            "increase their lending particularly\n",
            "in the rural areas, so that the\n",
            "dependence on informal sources\n",
            "of credit reduces.\n",
            "1. What are the differences between formal and informal sources of credit?\n",
            "2. Why should credit at reasonable rates be available for all?\n",
            "3. Should there be a supervisor , such as the Reserve Bank of India, that looks into the\n",
            "loan activities of informal lenders? Why would its task be quite difficult?\n",
            "4. Why do you think that the share of formal sector credit is higher for the richer households\n",
            "compared to the poorer households?\n",
            "LET’S WORK THESE OUT\n",
            "SELF-HELP GROUPS FOR THE POOR\n",
            "Secondly, while formal sector\n",
            "loans need to expand, it is also\n",
            "necessary that everyone receives\n",
            "these loans. At present, it is the richer\n",
            "households who receive formal credit\n",
            "whereas the poor have to depend on\n",
            "the informal sources. It is important\n",
            "that the formal credit is distributed\n",
            "more equally so that the poor can\n",
            "benefit from the cheaper loans.\n",
            "In the previous section we have seen\n",
            "that poor households are still\n",
            "dependent on informal sources of\n",
            "credit. Why is it so? Banks are not\n",
            "present everywhere in rural India.\n",
            "Even when they are present, getting a\n",
            "loan from a bank is much more\n",
            "difficult than taking a loan from\n",
            "informal sources. As we saw for\n",
            "Megha, bank loans require proper\n",
            "documents and collateral. Absence of\n",
            "collateral is one of the major reasons\n",
            "which prevents the poor from getting\n",
            "bank loans. Informal lenders such as\n",
            "moneylenders, on the other hand,\n",
            "know the borrowers personally and\n",
            "hence are often willing to give a\n",
            "loan without collateral. The borrowers\n",
            "can, if necessary, approach the\n",
            "moneylenders even without repaying\n",
            "A worker\n",
            "stitching a quilt\n",
            "DO YOU THINK A BANK\n",
            "WILL GIVE ME A\n",
            "LOAN?\n",
            "2024-25\n",
            "M MM MMONEYONEYONEY ONEYONEY      AND ANDAND ANDAND  C  C C  C C REDIT REDITREDIT REDITREDIT 51 5151 5151\n",
            "their earlier loans. However , the\n",
            "moneylenders charge very high rates\n",
            "of interest, keep no records of the\n",
            "transactions and harass the poor\n",
            "borrowers.\n",
            "In recent years, people have tried\n",
            "out some newer ways of providing\n",
            "loans to the poor . The idea is to\n",
            "organise rural poor , in particular\n",
            "women, into small Self Help Groups\n",
            "(SHGs) and pool (collect) their\n",
            "savings. A typical SHG has 15-20\n",
            "members, usually belonging to one\n",
            "neighbourhood, who meet and save\n",
            "regularly. Saving per member varies\n",
            "from Rs 25 to Rs 100 or more,\n",
            "depending on the ability of the people\n",
            "to save. Members can take small loans\n",
            "from the group itself to meet their\n",
            "needs. The group charges interest on\n",
            "these loans but this is still less than\n",
            "what the moneylender charges. After\n",
            "a year or two, if the group is regular\n",
            "in savings, it becomes eligible for\n",
            "availing loan from the bank.\n",
            "Loan is sanctioned in the\n",
            "name of the group and is\n",
            "meant to create self-\n",
            "employment opportunities\n",
            "for the members. For\n",
            "instance, small loans are\n",
            "provided to the members for\n",
            "releasing mortgaged land,\n",
            "for meeting working capital\n",
            "needs (e.g. buying seeds,\n",
            "fertilisers, raw materials\n",
            "like bamboo and cloth), for\n",
            "housing materials, for\n",
            "acquiring assets like sewing\n",
            "machine, handlooms, cattle,\n",
            "etc.\n",
            "Most of the important\n",
            "decisions regarding the\n",
            "savings and loan activities\n",
            "are taken by the group\n",
            "members. The group\n",
            "decides as regards the loans\n",
            "to be granted — the purpose, amount,\n",
            "interest to be charged, repayment\n",
            "schedule etc.  Also, it is the group\n",
            "which is responsible for the repayment\n",
            "of the loan. Any case of non-\n",
            "repayment of loan by any one\n",
            "member is followed up seriously by\n",
            "other members in the group. Because\n",
            "of this feature, banks are willing to\n",
            "lend to the poor women when\n",
            "organised in SHGs, even though they\n",
            "have no collateral as such.\n",
            "Thus, the SHGs help borrowers\n",
            "overcome the problem of lack of\n",
            "collateral. They can get timely loans\n",
            "for a variety of purposes and at a\n",
            "reasonable inter est rate. Mor eover,\n",
            "SHGs are the building blocks of\n",
            "organisation of the rural poor . Not\n",
            "only does it help women to become\n",
            "financially self-reliant, the regular\n",
            "meetings of the group provide a\n",
            "platform to discuss and act on a\n",
            "variety of social issues such as health,\n",
            "nutrition, domestic violence, etc.\n",
            "A women’s self-help group\n",
            "meeting in Gujarat\n",
            "2024-25\n",
            "In this chapter we have looked at the\n",
            "modern forms of money and how they\n",
            "are linked with the banking system.\n",
            "On one side are the depositors who\n",
            "keep their money in the banks and on\n",
            "the other side are the borrowers who\n",
            "take loans from these banks. Economic\n",
            "activities require loans or credit. Credit,\n",
            "as we saw can have a positive impact,\n",
            "or in certain situations make the\n",
            "borrower worse off.\n",
            "Credit is available from a variety of\n",
            "sources. These can be either formal\n",
            "sources or informal sources. Terms of\n",
            "Grameen Bank of BangladeshGrameen Bank of BangladeshGrameen Bank of BangladeshGrameen Bank of BangladeshGrameen Bank of Bangladesh\n",
            "“If credit can be made available to\n",
            "the poor people on terms and\n",
            "conditions that are appropriate and\n",
            "reasonable these millions of small\n",
            "people with their millions of small\n",
            "pursuits can add up to create the\n",
            "biggest development wonder.”\n",
            "Professor Muhammad Yunus,\n",
            "the founder of Grameen Bank,\n",
            "and recipient of 2006 Nobel Prize for Peace\n",
            "SUMMING UP\n",
            "credit var y substantially between\n",
            "formal and informal lenders. At\n",
            "present, it is the richer households\n",
            "who receive credit from formal sources\n",
            "whereas the poor have to depend on\n",
            "the informal sources. It is essential\n",
            "that the total formal sector credit\n",
            "increases so that the dependence on\n",
            "the more expensive informal credit\n",
            "becomes less. Also, the poor should\n",
            "get a much greater share of formal\n",
            "loans from banks, cooperative\n",
            "societies etc. Both these steps are\n",
            "important for development.\n",
            "Grameen Bank of Bangladesh is one of the\n",
            "biggest success stories in reaching the poor to\n",
            "meet their credit needs at reasonable rates.\n",
            "Started in the 1970s as a small project,\n",
            "Grameen Bank in 2018 ha d over 9 million\n",
            "members in about 81, 600 villages spread\n",
            "across Bangladesh. Almost all of the borrowers\n",
            "are women and belong to poorest sections of\n",
            "the society. These borrowers have proved that\n",
            "not only are poor women reliable borrowers, but\n",
            "that they can start and run a variety of small\n",
            "income-generating activities successfully.\n",
            "EXERCISES\n",
            "1. In situations with high risks, credit might create further problems for the borrower .\n",
            "Explain.\n",
            "2. How does money solve the problem of double coincidence of wants? Explain with\n",
            "an example of your own.\n",
            "3. How do banks mediate between those who have surplus money and those who\n",
            "need money?\n",
            "4. Look at a 10 rupee note. What is written on top? Can you explain this statement?\n",
            "5. Why do we need to expand formal sources of credit in India?\n",
            "6. What is the basic idea behind the SHGs for the poor? Explain in your own words.\n",
            "7. What are the reasons why the banks might not be willing to lend to certain borrowers?\n",
            "52 5252 5252 U UUUUNDERST NDERSTNDERST NDERSTNDERST ANDINGANDINGANDING ANDINGANDING  E  E E  E E CONOMICCONOMICCONOMICCONOMICCONOMIC  D  D D  D D EVEL EVELEVEL EVELEVEL OPMENT OPMENTOPMENT OPMENTOPMENT\n",
            "2024-25\n",
            "8. In what ways does the Reserve Bank of India supervise the functioning of banks?\n",
            "Why is this necessary?\n",
            "9. Analyse the role of credit for development.\n",
            "10. Manav needs a loan to set up a small business. On what basis will Manav decide\n",
            "whether to borrow from the bank or the moneylender? Discuss.\n",
            "11. In India, about 80 per cent of farmers are small farmers, who need credit for cultivation.\n",
            "(a) Why might banks be unwilling to lend to small farmers?\n",
            "(b) What are the other sources from which the small farmers can borrow?\n",
            "(c) Explain with an example how the terms of credit can be unfavourable for the\n",
            "small farmer.\n",
            "(d) Suggest some ways by which small farmers can get cheap credit.\n",
            "12. Fill in the blanks:\n",
            "(i) Majority of the credit needs of the _________________households are met\n",
            "from informal sources.\n",
            "(ii) ___________________costs of borrowing increase the debt-burden.\n",
            "(iii) __________________  issues currency notes on behalf of the Central\n",
            "Government.\n",
            "(iv) Banks charge a higher interest rate on loans than what they offer on\n",
            "__________.\n",
            "(v) _______________ is an asset that the borrower owns and uses as a guarantee\n",
            "until the loan is rep aid to the lender .\n",
            "13. Choose the most appropriate answer .\n",
            "(i) In a SHG most of the decisions regarding savings and loan activities are taken by\n",
            "(a) Bank.\n",
            "(b) Members.\n",
            "(c) Non-government organisation.\n",
            "(ii) Formal sources of credit does not include\n",
            "(a) Banks.\n",
            "(b) Cooperatives.\n",
            "(c) Employers.\n",
            "The following table shows people in a variety of occupations in urban areas. What\n",
            "are the purposes for which the following people might need loans? Fill in the column.\n",
            "Occupations Reason for needing a Loan\n",
            "Construction worker \n",
            "Graduate student who is computer literate  \n",
            "A person employed in government service  \n",
            "Migrant labourer in Delhi  \n",
            "Household maid  \n",
            "Small trader  \n",
            "Autorickshaw driver  \n",
            "A worker whose factory has closed down  \n",
            "Next, classify the people into two groups based on whom you think might get a bank\n",
            "loan and those who might not. What is the criterion that you have used for classification?\n",
            "ADDITIONAL PROJECT / ACTIVITY\n",
            "M MM MMONEYONEYONEY ONEYONEY      AND ANDAND ANDAND  C  C C  C C REDIT REDITREDIT REDITREDIT 53 5353 5353\n",
            "2024-25\n"
          ]
        }
      ]
    },
    {
      "cell_type": "code",
      "source": [
        "system_prompts = \"\"\"You are a helpful and informative QA assistant. Your goal is to answer questions accurately based on the provided context.\"\"\"\n",
        "query_wrapper_prompt = SimpleInputPrompt(\"USER: {query_str}\\nASSISTANT:\")"
      ],
      "metadata": {
        "id": "6-dU359CvMzs"
      },
      "execution_count": 49,
      "outputs": []
    },
    {
      "cell_type": "code",
      "source": [
        "import logging\n",
        "logging.basicConfig(level=logging.DEBUG)"
      ],
      "metadata": {
        "id": "pmD4kkhMvWXT"
      },
      "execution_count": 50,
      "outputs": []
    },
    {
      "cell_type": "code",
      "source": [
        "query_wrapper_prompt = SimpleInputPrompt(\"Context: {context_str}\\nUSER: {query_str}\\nASSISTANT:\")"
      ],
      "metadata": {
        "id": "_0h0dLbavZld"
      },
      "execution_count": 51,
      "outputs": []
    },
    {
      "cell_type": "code",
      "source": [
        "from langchain.embeddings.huggingface import HuggingFaceEmbeddings\n",
        "# embed_model = LangchainEmbedding(HuggingFaceEmbeddings(model_name=\"text-embedding-ada-002\"))  # or another model\n",
        "\n",
        "\n",
        "embed_model = LangchainEmbedding(HuggingFaceEmbeddings(\n",
        "    model_name=\"sentence-transformers/all-mpnet-base-v2\"\n",
        "))"
      ],
      "metadata": {
        "id": "MaqYBUUivpT9"
      },
      "execution_count": 57,
      "outputs": []
    },
    {
      "cell_type": "code",
      "source": [
        "response = llm.predict(\"What is the capital of France?\")\n"
      ],
      "metadata": {
        "colab": {
          "base_uri": "https://localhost:8080/",
          "height": 400
        },
        "id": "zVxZYOpnwmaV",
        "outputId": "d4ff9e9c-30cd-40d7-d693-13971324ff4f"
      },
      "execution_count": 58,
      "outputs": [
        {
          "output_type": "error",
          "ename": "ValidationError",
          "evalue": "1 validation error for LLMPredictStartEvent\ntemplate\n  Input should be a valid dictionary or instance of BasePromptTemplate [type=model_type, input_value='What is the capital of France?', input_type=str]\n    For further information visit https://errors.pydantic.dev/2.10/v/model_type",
          "traceback": [
            "\u001b[0;31m---------------------------------------------------------------------------\u001b[0m",
            "\u001b[0;31mValidationError\u001b[0m                           Traceback (most recent call last)",
            "\u001b[0;32m<ipython-input-58-79f01e30e693>\u001b[0m in \u001b[0;36m<cell line: 1>\u001b[0;34m()\u001b[0m\n\u001b[0;32m----> 1\u001b[0;31m \u001b[0mresponse\u001b[0m \u001b[0;34m=\u001b[0m \u001b[0mllm\u001b[0m\u001b[0;34m.\u001b[0m\u001b[0mpredict\u001b[0m\u001b[0;34m(\u001b[0m\u001b[0;34m\"What is the capital of France?\"\u001b[0m\u001b[0;34m)\u001b[0m\u001b[0;34m\u001b[0m\u001b[0;34m\u001b[0m\u001b[0m\n\u001b[0m",
            "\u001b[0;32m/usr/local/lib/python3.10/dist-packages/llama_index/core/instrumentation/dispatcher.py\u001b[0m in \u001b[0;36mwrapper\u001b[0;34m(func, instance, args, kwargs)\u001b[0m\n\u001b[1;32m    319\u001b[0m \u001b[0;34m\u001b[0m\u001b[0m\n\u001b[1;32m    320\u001b[0m             \u001b[0;32mtry\u001b[0m\u001b[0;34m:\u001b[0m\u001b[0;34m\u001b[0m\u001b[0;34m\u001b[0m\u001b[0m\n\u001b[0;32m--> 321\u001b[0;31m                 \u001b[0mresult\u001b[0m \u001b[0;34m=\u001b[0m \u001b[0mfunc\u001b[0m\u001b[0;34m(\u001b[0m\u001b[0;34m*\u001b[0m\u001b[0margs\u001b[0m\u001b[0;34m,\u001b[0m \u001b[0;34m**\u001b[0m\u001b[0mkwargs\u001b[0m\u001b[0;34m)\u001b[0m\u001b[0;34m\u001b[0m\u001b[0;34m\u001b[0m\u001b[0m\n\u001b[0m\u001b[1;32m    322\u001b[0m                 \u001b[0;32mif\u001b[0m \u001b[0misinstance\u001b[0m\u001b[0;34m(\u001b[0m\u001b[0mresult\u001b[0m\u001b[0;34m,\u001b[0m \u001b[0masyncio\u001b[0m\u001b[0;34m.\u001b[0m\u001b[0mFuture\u001b[0m\u001b[0;34m)\u001b[0m\u001b[0;34m:\u001b[0m\u001b[0;34m\u001b[0m\u001b[0;34m\u001b[0m\u001b[0m\n\u001b[1;32m    323\u001b[0m                     \u001b[0;31m# If the result is a Future, wrap it\u001b[0m\u001b[0;34m\u001b[0m\u001b[0;34m\u001b[0m\u001b[0m\n",
            "\u001b[0;32m/usr/local/lib/python3.10/dist-packages/llama_index/core/llms/llm.py\u001b[0m in \u001b[0;36mpredict\u001b[0;34m(self, prompt, **prompt_args)\u001b[0m\n\u001b[1;32m    588\u001b[0m         \"\"\"\n\u001b[1;32m    589\u001b[0m         dispatcher.event(\n\u001b[0;32m--> 590\u001b[0;31m             \u001b[0mLLMPredictStartEvent\u001b[0m\u001b[0;34m(\u001b[0m\u001b[0mtemplate\u001b[0m\u001b[0;34m=\u001b[0m\u001b[0mprompt\u001b[0m\u001b[0;34m,\u001b[0m \u001b[0mtemplate_args\u001b[0m\u001b[0;34m=\u001b[0m\u001b[0mprompt_args\u001b[0m\u001b[0;34m)\u001b[0m\u001b[0;34m\u001b[0m\u001b[0;34m\u001b[0m\u001b[0m\n\u001b[0m\u001b[1;32m    591\u001b[0m         )\n\u001b[1;32m    592\u001b[0m         \u001b[0mself\u001b[0m\u001b[0;34m.\u001b[0m\u001b[0m_log_template_data\u001b[0m\u001b[0;34m(\u001b[0m\u001b[0mprompt\u001b[0m\u001b[0;34m,\u001b[0m \u001b[0;34m**\u001b[0m\u001b[0mprompt_args\u001b[0m\u001b[0;34m)\u001b[0m\u001b[0;34m\u001b[0m\u001b[0;34m\u001b[0m\u001b[0m\n",
            "\u001b[0;32m/usr/local/lib/python3.10/dist-packages/pydantic/main.py\u001b[0m in \u001b[0;36m__init__\u001b[0;34m(self, **data)\u001b[0m\n\u001b[1;32m    212\u001b[0m         \u001b[0;31m# `__tracebackhide__` tells pytest and some other tools to omit this function from tracebacks\u001b[0m\u001b[0;34m\u001b[0m\u001b[0;34m\u001b[0m\u001b[0m\n\u001b[1;32m    213\u001b[0m         \u001b[0m__tracebackhide__\u001b[0m \u001b[0;34m=\u001b[0m \u001b[0;32mTrue\u001b[0m\u001b[0;34m\u001b[0m\u001b[0;34m\u001b[0m\u001b[0m\n\u001b[0;32m--> 214\u001b[0;31m         \u001b[0mvalidated_self\u001b[0m \u001b[0;34m=\u001b[0m \u001b[0mself\u001b[0m\u001b[0;34m.\u001b[0m\u001b[0m__pydantic_validator__\u001b[0m\u001b[0;34m.\u001b[0m\u001b[0mvalidate_python\u001b[0m\u001b[0;34m(\u001b[0m\u001b[0mdata\u001b[0m\u001b[0;34m,\u001b[0m \u001b[0mself_instance\u001b[0m\u001b[0;34m=\u001b[0m\u001b[0mself\u001b[0m\u001b[0;34m)\u001b[0m\u001b[0;34m\u001b[0m\u001b[0;34m\u001b[0m\u001b[0m\n\u001b[0m\u001b[1;32m    215\u001b[0m         \u001b[0;32mif\u001b[0m \u001b[0mself\u001b[0m \u001b[0;32mis\u001b[0m \u001b[0;32mnot\u001b[0m \u001b[0mvalidated_self\u001b[0m\u001b[0;34m:\u001b[0m\u001b[0;34m\u001b[0m\u001b[0;34m\u001b[0m\u001b[0m\n\u001b[1;32m    216\u001b[0m             warnings.warn(\n",
            "\u001b[0;31mValidationError\u001b[0m: 1 validation error for LLMPredictStartEvent\ntemplate\n  Input should be a valid dictionary or instance of BasePromptTemplate [type=model_type, input_value='What is the capital of France?', input_type=str]\n    For further information visit https://errors.pydantic.dev/2.10/v/model_type"
          ]
        }
      ]
    },
    {
      "cell_type": "code",
      "source": [
        "from llama_index.core.prompts.base import PromptTemplate\n",
        "\n",
        "# Assuming query_wrapper_prompt is defined as:\n",
        "# query_wrapper_prompt = SimpleInputPrompt(\"Context: {context_str}\\nUSER: {query_str}\\nASSISTANT:\")\n",
        "\n",
        "# Create a PromptTemplate instance\n",
        "prompt_template = PromptTemplate(template=query_wrapper_prompt.template, input_variables=[\"context_str\", \"query_str\"])\n",
        "\n",
        "# Pass the prompt_template and query string to predict\n"
      ],
      "metadata": {
        "colab": {
          "base_uri": "https://localhost:8080/",
          "height": 490
        },
        "id": "gG52ayMAwwEp",
        "outputId": "18513939-c9bb-41e4-9bf8-949ca2d4ff08"
      },
      "execution_count": 60,
      "outputs": [
        {
          "output_type": "error",
          "ename": "ValidationError",
          "evalue": "1 validation error for PromptTemplate\nkwargs.input_variables\n  Input should be a valid string [type=string_type, input_value=['context_str', 'query_str'], input_type=list]\n    For further information visit https://errors.pydantic.dev/2.10/v/string_type",
          "traceback": [
            "\u001b[0;31m---------------------------------------------------------------------------\u001b[0m",
            "\u001b[0;31mValidationError\u001b[0m                           Traceback (most recent call last)",
            "\u001b[0;32m<ipython-input-60-b01ca8cc7806>\u001b[0m in \u001b[0;36m<cell line: 7>\u001b[0;34m()\u001b[0m\n\u001b[1;32m      5\u001b[0m \u001b[0;34m\u001b[0m\u001b[0m\n\u001b[1;32m      6\u001b[0m \u001b[0;31m# Create a PromptTemplate instance\u001b[0m\u001b[0;34m\u001b[0m\u001b[0;34m\u001b[0m\u001b[0m\n\u001b[0;32m----> 7\u001b[0;31m \u001b[0mprompt_template\u001b[0m \u001b[0;34m=\u001b[0m \u001b[0mPromptTemplate\u001b[0m\u001b[0;34m(\u001b[0m\u001b[0mtemplate\u001b[0m\u001b[0;34m=\u001b[0m\u001b[0mquery_wrapper_prompt\u001b[0m\u001b[0;34m.\u001b[0m\u001b[0mtemplate\u001b[0m\u001b[0;34m,\u001b[0m \u001b[0minput_variables\u001b[0m\u001b[0;34m=\u001b[0m\u001b[0;34m[\u001b[0m\u001b[0;34m\"context_str\"\u001b[0m\u001b[0;34m,\u001b[0m \u001b[0;34m\"query_str\"\u001b[0m\u001b[0;34m]\u001b[0m\u001b[0;34m)\u001b[0m\u001b[0;34m\u001b[0m\u001b[0;34m\u001b[0m\u001b[0m\n\u001b[0m\u001b[1;32m      8\u001b[0m \u001b[0;34m\u001b[0m\u001b[0m\n\u001b[1;32m      9\u001b[0m \u001b[0;31m# Pass the prompt_template and query string to predict\u001b[0m\u001b[0;34m\u001b[0m\u001b[0;34m\u001b[0m\u001b[0m\n",
            "\u001b[0;32m/usr/local/lib/python3.10/dist-packages/llama_index/core/prompts/base.py\u001b[0m in \u001b[0;36m__init__\u001b[0;34m(self, template, prompt_type, output_parser, metadata, template_var_mappings, function_mappings, **kwargs)\u001b[0m\n\u001b[1;32m    167\u001b[0m         \u001b[0mtemplate_vars\u001b[0m \u001b[0;34m=\u001b[0m \u001b[0mget_template_vars\u001b[0m\u001b[0;34m(\u001b[0m\u001b[0mtemplate\u001b[0m\u001b[0;34m)\u001b[0m\u001b[0;34m\u001b[0m\u001b[0;34m\u001b[0m\u001b[0m\n\u001b[1;32m    168\u001b[0m \u001b[0;34m\u001b[0m\u001b[0m\n\u001b[0;32m--> 169\u001b[0;31m         super().__init__(\n\u001b[0m\u001b[1;32m    170\u001b[0m             \u001b[0mtemplate\u001b[0m\u001b[0;34m=\u001b[0m\u001b[0mtemplate\u001b[0m\u001b[0;34m,\u001b[0m\u001b[0;34m\u001b[0m\u001b[0;34m\u001b[0m\u001b[0m\n\u001b[1;32m    171\u001b[0m             \u001b[0mtemplate_vars\u001b[0m\u001b[0;34m=\u001b[0m\u001b[0mtemplate_vars\u001b[0m\u001b[0;34m,\u001b[0m\u001b[0;34m\u001b[0m\u001b[0;34m\u001b[0m\u001b[0m\n",
            "\u001b[0;32m/usr/local/lib/python3.10/dist-packages/pydantic/main.py\u001b[0m in \u001b[0;36m__init__\u001b[0;34m(self, **data)\u001b[0m\n\u001b[1;32m    212\u001b[0m         \u001b[0;31m# `__tracebackhide__` tells pytest and some other tools to omit this function from tracebacks\u001b[0m\u001b[0;34m\u001b[0m\u001b[0;34m\u001b[0m\u001b[0m\n\u001b[1;32m    213\u001b[0m         \u001b[0m__tracebackhide__\u001b[0m \u001b[0;34m=\u001b[0m \u001b[0;32mTrue\u001b[0m\u001b[0;34m\u001b[0m\u001b[0;34m\u001b[0m\u001b[0m\n\u001b[0;32m--> 214\u001b[0;31m         \u001b[0mvalidated_self\u001b[0m \u001b[0;34m=\u001b[0m \u001b[0mself\u001b[0m\u001b[0;34m.\u001b[0m\u001b[0m__pydantic_validator__\u001b[0m\u001b[0;34m.\u001b[0m\u001b[0mvalidate_python\u001b[0m\u001b[0;34m(\u001b[0m\u001b[0mdata\u001b[0m\u001b[0;34m,\u001b[0m \u001b[0mself_instance\u001b[0m\u001b[0;34m=\u001b[0m\u001b[0mself\u001b[0m\u001b[0;34m)\u001b[0m\u001b[0;34m\u001b[0m\u001b[0;34m\u001b[0m\u001b[0m\n\u001b[0m\u001b[1;32m    215\u001b[0m         \u001b[0;32mif\u001b[0m \u001b[0mself\u001b[0m \u001b[0;32mis\u001b[0m \u001b[0;32mnot\u001b[0m \u001b[0mvalidated_self\u001b[0m\u001b[0;34m:\u001b[0m\u001b[0;34m\u001b[0m\u001b[0;34m\u001b[0m\u001b[0m\n\u001b[1;32m    216\u001b[0m             warnings.warn(\n",
            "\u001b[0;31mValidationError\u001b[0m: 1 validation error for PromptTemplate\nkwargs.input_variables\n  Input should be a valid string [type=string_type, input_value=['context_str', 'query_str'], input_type=list]\n    For further information visit https://errors.pydantic.dev/2.10/v/string_type"
          ]
        }
      ]
    },
    {
      "cell_type": "code",
      "source": [
        "from llama_index.core.prompts.base import PromptTemplate\n",
        "\n",
        "# Assuming query_wrapper_prompt is defined as:\n",
        "# query_wrapper_prompt = SimpleInputPrompt(\"Context: {context_str}\\nUSER: {query_str}\\nASSISTANT:\")\n",
        "\n",
        "# Create a PromptTemplate instance, providing input_variables as a list of strings\n",
        "prompt_template = PromptTemplate(\n",
        "    template=query_wrapper_prompt.template,\n",
        "    input_variables=[\"context_str\", \"query_str\"]\n",
        ")\n",
        "\n",
        "# Pass the prompt_template and query string to predict\n",
        "# ... (rest of your code) ..."
      ],
      "metadata": {
        "colab": {
          "base_uri": "https://localhost:8080/",
          "height": 472
        },
        "id": "vgIh4OgPxCiY",
        "outputId": "f786a2c3-c4fa-4609-cd61-97952c3bd452"
      },
      "execution_count": 61,
      "outputs": [
        {
          "output_type": "error",
          "ename": "ValidationError",
          "evalue": "1 validation error for PromptTemplate\nkwargs.input_variables\n  Input should be a valid string [type=string_type, input_value=['context_str', 'query_str'], input_type=list]\n    For further information visit https://errors.pydantic.dev/2.10/v/string_type",
          "traceback": [
            "\u001b[0;31m---------------------------------------------------------------------------\u001b[0m",
            "\u001b[0;31mValidationError\u001b[0m                           Traceback (most recent call last)",
            "\u001b[0;32m<ipython-input-61-8d732584111b>\u001b[0m in \u001b[0;36m<cell line: 7>\u001b[0;34m()\u001b[0m\n\u001b[1;32m      5\u001b[0m \u001b[0;34m\u001b[0m\u001b[0m\n\u001b[1;32m      6\u001b[0m \u001b[0;31m# Create a PromptTemplate instance, providing input_variables as a list of strings\u001b[0m\u001b[0;34m\u001b[0m\u001b[0;34m\u001b[0m\u001b[0m\n\u001b[0;32m----> 7\u001b[0;31m prompt_template = PromptTemplate(\n\u001b[0m\u001b[1;32m      8\u001b[0m     \u001b[0mtemplate\u001b[0m\u001b[0;34m=\u001b[0m\u001b[0mquery_wrapper_prompt\u001b[0m\u001b[0;34m.\u001b[0m\u001b[0mtemplate\u001b[0m\u001b[0;34m,\u001b[0m\u001b[0;34m\u001b[0m\u001b[0;34m\u001b[0m\u001b[0m\n\u001b[1;32m      9\u001b[0m     \u001b[0minput_variables\u001b[0m\u001b[0;34m=\u001b[0m\u001b[0;34m[\u001b[0m\u001b[0;34m\"context_str\"\u001b[0m\u001b[0;34m,\u001b[0m \u001b[0;34m\"query_str\"\u001b[0m\u001b[0;34m]\u001b[0m\u001b[0;34m\u001b[0m\u001b[0;34m\u001b[0m\u001b[0m\n",
            "\u001b[0;32m/usr/local/lib/python3.10/dist-packages/llama_index/core/prompts/base.py\u001b[0m in \u001b[0;36m__init__\u001b[0;34m(self, template, prompt_type, output_parser, metadata, template_var_mappings, function_mappings, **kwargs)\u001b[0m\n\u001b[1;32m    167\u001b[0m         \u001b[0mtemplate_vars\u001b[0m \u001b[0;34m=\u001b[0m \u001b[0mget_template_vars\u001b[0m\u001b[0;34m(\u001b[0m\u001b[0mtemplate\u001b[0m\u001b[0;34m)\u001b[0m\u001b[0;34m\u001b[0m\u001b[0;34m\u001b[0m\u001b[0m\n\u001b[1;32m    168\u001b[0m \u001b[0;34m\u001b[0m\u001b[0m\n\u001b[0;32m--> 169\u001b[0;31m         super().__init__(\n\u001b[0m\u001b[1;32m    170\u001b[0m             \u001b[0mtemplate\u001b[0m\u001b[0;34m=\u001b[0m\u001b[0mtemplate\u001b[0m\u001b[0;34m,\u001b[0m\u001b[0;34m\u001b[0m\u001b[0;34m\u001b[0m\u001b[0m\n\u001b[1;32m    171\u001b[0m             \u001b[0mtemplate_vars\u001b[0m\u001b[0;34m=\u001b[0m\u001b[0mtemplate_vars\u001b[0m\u001b[0;34m,\u001b[0m\u001b[0;34m\u001b[0m\u001b[0;34m\u001b[0m\u001b[0m\n",
            "\u001b[0;32m/usr/local/lib/python3.10/dist-packages/pydantic/main.py\u001b[0m in \u001b[0;36m__init__\u001b[0;34m(self, **data)\u001b[0m\n\u001b[1;32m    212\u001b[0m         \u001b[0;31m# `__tracebackhide__` tells pytest and some other tools to omit this function from tracebacks\u001b[0m\u001b[0;34m\u001b[0m\u001b[0;34m\u001b[0m\u001b[0m\n\u001b[1;32m    213\u001b[0m         \u001b[0m__tracebackhide__\u001b[0m \u001b[0;34m=\u001b[0m \u001b[0;32mTrue\u001b[0m\u001b[0;34m\u001b[0m\u001b[0;34m\u001b[0m\u001b[0m\n\u001b[0;32m--> 214\u001b[0;31m         \u001b[0mvalidated_self\u001b[0m \u001b[0;34m=\u001b[0m \u001b[0mself\u001b[0m\u001b[0;34m.\u001b[0m\u001b[0m__pydantic_validator__\u001b[0m\u001b[0;34m.\u001b[0m\u001b[0mvalidate_python\u001b[0m\u001b[0;34m(\u001b[0m\u001b[0mdata\u001b[0m\u001b[0;34m,\u001b[0m \u001b[0mself_instance\u001b[0m\u001b[0;34m=\u001b[0m\u001b[0mself\u001b[0m\u001b[0;34m)\u001b[0m\u001b[0;34m\u001b[0m\u001b[0;34m\u001b[0m\u001b[0m\n\u001b[0m\u001b[1;32m    215\u001b[0m         \u001b[0;32mif\u001b[0m \u001b[0mself\u001b[0m \u001b[0;32mis\u001b[0m \u001b[0;32mnot\u001b[0m \u001b[0mvalidated_self\u001b[0m\u001b[0;34m:\u001b[0m\u001b[0;34m\u001b[0m\u001b[0;34m\u001b[0m\u001b[0m\n\u001b[1;32m    216\u001b[0m             warnings.warn(\n",
            "\u001b[0;31mValidationError\u001b[0m: 1 validation error for PromptTemplate\nkwargs.input_variables\n  Input should be a valid string [type=string_type, input_value=['context_str', 'query_str'], input_type=list]\n    For further information visit https://errors.pydantic.dev/2.10/v/string_type"
          ]
        }
      ]
    },
    {
      "cell_type": "code",
      "source": [
        "from llama_index.core.prompts.base import PromptTemplate\n",
        "\n",
        "# Assuming query_wrapper_prompt is defined as:\n",
        "# query_wrapper_prompt = SimpleInputPrompt(\"Context: {context_str}\\nUSER: {query_str}\\nASSISTANT:\")\n",
        "\n",
        "# Instead of passing a list to input_variables, join the list elements into a string\n",
        "prompt_template = PromptTemplate(\n",
        "    template=query_wrapper_prompt.template,\n",
        "    input_variables=\", \".join([\"context_str\", \"query_str\"])  # Join elements with a separator\n",
        ")\n",
        "\n",
        "# Pass the prompt_template and query string to predict\n",
        "# ... (rest of your code) ..."
      ],
      "metadata": {
        "id": "gqiSUXDXxeMI"
      },
      "execution_count": 62,
      "outputs": []
    },
    {
      "cell_type": "code",
      "source": [
        " llm.predict(\n",
        "    prompt_template,\n",
        "    query_str=\"What is the capital of France?\",\n",
        "    context_str=\"\"  # Provide context if needed\n",
        ")"
      ],
      "metadata": {
        "colab": {
          "base_uri": "https://localhost:8080/",
          "height": 53
        },
        "id": "4Zh1rCwRw5Tx",
        "outputId": "eac9d734-65b3-4922-d0ba-3848cb188e3a"
      },
      "execution_count": 68,
      "outputs": [
        {
          "output_type": "execute_result",
          "data": {
            "text/plain": [
              "'\\n\\nPlease provide a valid query string.\\n\\nQuery: [insert query here]\\n\\nExample: \"What is the weather like today?\"'"
            ],
            "application/vnd.google.colaboratory.intrinsic+json": {
              "type": "string"
            }
          },
          "metadata": {},
          "execution_count": 68
        }
      ]
    },
    {
      "cell_type": "code",
      "source": [
        "query_wrapper_prompt = SimpleInputPrompt(\"USER: {query_str}\\nASSISTANT:\")"
      ],
      "metadata": {
        "id": "0c4V49dOyOUI"
      },
      "execution_count": 70,
      "outputs": []
    },
    {
      "cell_type": "code",
      "source": [
        "llm.predict(\"What is the capital of France?\")\n",
        "print(response)"
      ],
      "metadata": {
        "colab": {
          "base_uri": "https://localhost:8080/",
          "height": 418
        },
        "id": "gAcyy4gCyV7Y",
        "outputId": "6becc2d5-d7f2-4ee9-e74f-000f8915a57c"
      },
      "execution_count": 73,
      "outputs": [
        {
          "output_type": "error",
          "ename": "ValidationError",
          "evalue": "1 validation error for LLMPredictStartEvent\ntemplate\n  Input should be a valid dictionary or instance of BasePromptTemplate [type=model_type, input_value='What is the capital of France?', input_type=str]\n    For further information visit https://errors.pydantic.dev/2.10/v/model_type",
          "traceback": [
            "\u001b[0;31m---------------------------------------------------------------------------\u001b[0m",
            "\u001b[0;31mValidationError\u001b[0m                           Traceback (most recent call last)",
            "\u001b[0;32m<ipython-input-73-8f60ff265c5c>\u001b[0m in \u001b[0;36m<cell line: 1>\u001b[0;34m()\u001b[0m\n\u001b[0;32m----> 1\u001b[0;31m \u001b[0mllm\u001b[0m\u001b[0;34m.\u001b[0m\u001b[0mpredict\u001b[0m\u001b[0;34m(\u001b[0m\u001b[0;34m\"What is the capital of France?\"\u001b[0m\u001b[0;34m)\u001b[0m\u001b[0;34m\u001b[0m\u001b[0;34m\u001b[0m\u001b[0m\n\u001b[0m\u001b[1;32m      2\u001b[0m \u001b[0mprint\u001b[0m\u001b[0;34m(\u001b[0m\u001b[0mresponse\u001b[0m\u001b[0;34m)\u001b[0m\u001b[0;34m\u001b[0m\u001b[0;34m\u001b[0m\u001b[0m\n",
            "\u001b[0;32m/usr/local/lib/python3.10/dist-packages/llama_index/core/instrumentation/dispatcher.py\u001b[0m in \u001b[0;36mwrapper\u001b[0;34m(func, instance, args, kwargs)\u001b[0m\n\u001b[1;32m    319\u001b[0m \u001b[0;34m\u001b[0m\u001b[0m\n\u001b[1;32m    320\u001b[0m             \u001b[0;32mtry\u001b[0m\u001b[0;34m:\u001b[0m\u001b[0;34m\u001b[0m\u001b[0;34m\u001b[0m\u001b[0m\n\u001b[0;32m--> 321\u001b[0;31m                 \u001b[0mresult\u001b[0m \u001b[0;34m=\u001b[0m \u001b[0mfunc\u001b[0m\u001b[0;34m(\u001b[0m\u001b[0;34m*\u001b[0m\u001b[0margs\u001b[0m\u001b[0;34m,\u001b[0m \u001b[0;34m**\u001b[0m\u001b[0mkwargs\u001b[0m\u001b[0;34m)\u001b[0m\u001b[0;34m\u001b[0m\u001b[0;34m\u001b[0m\u001b[0m\n\u001b[0m\u001b[1;32m    322\u001b[0m                 \u001b[0;32mif\u001b[0m \u001b[0misinstance\u001b[0m\u001b[0;34m(\u001b[0m\u001b[0mresult\u001b[0m\u001b[0;34m,\u001b[0m \u001b[0masyncio\u001b[0m\u001b[0;34m.\u001b[0m\u001b[0mFuture\u001b[0m\u001b[0;34m)\u001b[0m\u001b[0;34m:\u001b[0m\u001b[0;34m\u001b[0m\u001b[0;34m\u001b[0m\u001b[0m\n\u001b[1;32m    323\u001b[0m                     \u001b[0;31m# If the result is a Future, wrap it\u001b[0m\u001b[0;34m\u001b[0m\u001b[0;34m\u001b[0m\u001b[0m\n",
            "\u001b[0;32m/usr/local/lib/python3.10/dist-packages/llama_index/core/llms/llm.py\u001b[0m in \u001b[0;36mpredict\u001b[0;34m(self, prompt, **prompt_args)\u001b[0m\n\u001b[1;32m    588\u001b[0m         \"\"\"\n\u001b[1;32m    589\u001b[0m         dispatcher.event(\n\u001b[0;32m--> 590\u001b[0;31m             \u001b[0mLLMPredictStartEvent\u001b[0m\u001b[0;34m(\u001b[0m\u001b[0mtemplate\u001b[0m\u001b[0;34m=\u001b[0m\u001b[0mprompt\u001b[0m\u001b[0;34m,\u001b[0m \u001b[0mtemplate_args\u001b[0m\u001b[0;34m=\u001b[0m\u001b[0mprompt_args\u001b[0m\u001b[0;34m)\u001b[0m\u001b[0;34m\u001b[0m\u001b[0;34m\u001b[0m\u001b[0m\n\u001b[0m\u001b[1;32m    591\u001b[0m         )\n\u001b[1;32m    592\u001b[0m         \u001b[0mself\u001b[0m\u001b[0;34m.\u001b[0m\u001b[0m_log_template_data\u001b[0m\u001b[0;34m(\u001b[0m\u001b[0mprompt\u001b[0m\u001b[0;34m,\u001b[0m \u001b[0;34m**\u001b[0m\u001b[0mprompt_args\u001b[0m\u001b[0;34m)\u001b[0m\u001b[0;34m\u001b[0m\u001b[0;34m\u001b[0m\u001b[0m\n",
            "\u001b[0;32m/usr/local/lib/python3.10/dist-packages/pydantic/main.py\u001b[0m in \u001b[0;36m__init__\u001b[0;34m(self, **data)\u001b[0m\n\u001b[1;32m    212\u001b[0m         \u001b[0;31m# `__tracebackhide__` tells pytest and some other tools to omit this function from tracebacks\u001b[0m\u001b[0;34m\u001b[0m\u001b[0;34m\u001b[0m\u001b[0m\n\u001b[1;32m    213\u001b[0m         \u001b[0m__tracebackhide__\u001b[0m \u001b[0;34m=\u001b[0m \u001b[0;32mTrue\u001b[0m\u001b[0;34m\u001b[0m\u001b[0;34m\u001b[0m\u001b[0m\n\u001b[0;32m--> 214\u001b[0;31m         \u001b[0mvalidated_self\u001b[0m \u001b[0;34m=\u001b[0m \u001b[0mself\u001b[0m\u001b[0;34m.\u001b[0m\u001b[0m__pydantic_validator__\u001b[0m\u001b[0;34m.\u001b[0m\u001b[0mvalidate_python\u001b[0m\u001b[0;34m(\u001b[0m\u001b[0mdata\u001b[0m\u001b[0;34m,\u001b[0m \u001b[0mself_instance\u001b[0m\u001b[0;34m=\u001b[0m\u001b[0mself\u001b[0m\u001b[0;34m)\u001b[0m\u001b[0;34m\u001b[0m\u001b[0;34m\u001b[0m\u001b[0m\n\u001b[0m\u001b[1;32m    215\u001b[0m         \u001b[0;32mif\u001b[0m \u001b[0mself\u001b[0m \u001b[0;32mis\u001b[0m \u001b[0;32mnot\u001b[0m \u001b[0mvalidated_self\u001b[0m\u001b[0;34m:\u001b[0m\u001b[0;34m\u001b[0m\u001b[0;34m\u001b[0m\u001b[0m\n\u001b[1;32m    216\u001b[0m             warnings.warn(\n",
            "\u001b[0;31mValidationError\u001b[0m: 1 validation error for LLMPredictStartEvent\ntemplate\n  Input should be a valid dictionary or instance of BasePromptTemplate [type=model_type, input_value='What is the capital of France?', input_type=str]\n    For further information visit https://errors.pydantic.dev/2.10/v/model_type"
          ]
        }
      ]
    },
    {
      "cell_type": "code",
      "source": [
        "print(response.response)"
      ],
      "metadata": {
        "colab": {
          "base_uri": "https://localhost:8080/",
          "height": 144
        },
        "id": "VbcfhUOWxn-g",
        "outputId": "a8b49383-8e2e-460c-cba6-d67a5efbf12b"
      },
      "execution_count": 65,
      "outputs": [
        {
          "output_type": "error",
          "ename": "AttributeError",
          "evalue": "'str' object has no attribute 'response'",
          "traceback": [
            "\u001b[0;31m---------------------------------------------------------------------------\u001b[0m",
            "\u001b[0;31mAttributeError\u001b[0m                            Traceback (most recent call last)",
            "\u001b[0;32m<ipython-input-65-51cca7b3aca8>\u001b[0m in \u001b[0;36m<cell line: 1>\u001b[0;34m()\u001b[0m\n\u001b[0;32m----> 1\u001b[0;31m \u001b[0mprint\u001b[0m\u001b[0;34m(\u001b[0m\u001b[0mresponse\u001b[0m\u001b[0;34m.\u001b[0m\u001b[0mresponse\u001b[0m\u001b[0;34m)\u001b[0m\u001b[0;34m\u001b[0m\u001b[0;34m\u001b[0m\u001b[0m\n\u001b[0m",
            "\u001b[0;31mAttributeError\u001b[0m: 'str' object has no attribute 'response'"
          ]
        }
      ]
    }
  ],
  "metadata": {
    "colab": {
      "provenance": [],
      "gpuType": "T4",
      "include_colab_link": true
    },
    "kernelspec": {
      "display_name": "Python 3",
      "name": "python3"
    },
    "language_info": {
      "codemirror_mode": {
        "name": "ipython",
        "version": 3
      },
      "file_extension": ".py",
      "mimetype": "text/x-python",
      "name": "python",
      "nbconvert_exporter": "python",
      "pygments_lexer": "ipython3",
      "version": "3.9.6"
    },
    "widgets": {
      "application/vnd.jupyter.widget-state+json": {
        "57a48b58c09041d0b239800634e30dde": {
          "model_module": "@jupyter-widgets/controls",
          "model_name": "HBoxModel",
          "model_module_version": "1.5.0",
          "state": {
            "_dom_classes": [],
            "_model_module": "@jupyter-widgets/controls",
            "_model_module_version": "1.5.0",
            "_model_name": "HBoxModel",
            "_view_count": null,
            "_view_module": "@jupyter-widgets/controls",
            "_view_module_version": "1.5.0",
            "_view_name": "HBoxView",
            "box_style": "",
            "children": [
              "IPY_MODEL_5bd98e4df9234246baca9527c6b1d5e6",
              "IPY_MODEL_924ba59a8f9b473a8ade12dd37514d65",
              "IPY_MODEL_13f63f6595a941d2853b5e2d3b24c6a1"
            ],
            "layout": "IPY_MODEL_b52993f5d4af4699a5d29d9b97624f25"
          }
        },
        "5bd98e4df9234246baca9527c6b1d5e6": {
          "model_module": "@jupyter-widgets/controls",
          "model_name": "HTMLModel",
          "model_module_version": "1.5.0",
          "state": {
            "_dom_classes": [],
            "_model_module": "@jupyter-widgets/controls",
            "_model_module_version": "1.5.0",
            "_model_name": "HTMLModel",
            "_view_count": null,
            "_view_module": "@jupyter-widgets/controls",
            "_view_module_version": "1.5.0",
            "_view_name": "HTMLView",
            "description": "",
            "description_tooltip": null,
            "layout": "IPY_MODEL_e081e8d7fa6644588a9f80a02d9fedc3",
            "placeholder": "​",
            "style": "IPY_MODEL_6fc43a70cd3949889576c2de9a4ecb79",
            "value": "Loading checkpoint shards: 100%"
          }
        },
        "924ba59a8f9b473a8ade12dd37514d65": {
          "model_module": "@jupyter-widgets/controls",
          "model_name": "FloatProgressModel",
          "model_module_version": "1.5.0",
          "state": {
            "_dom_classes": [],
            "_model_module": "@jupyter-widgets/controls",
            "_model_module_version": "1.5.0",
            "_model_name": "FloatProgressModel",
            "_view_count": null,
            "_view_module": "@jupyter-widgets/controls",
            "_view_module_version": "1.5.0",
            "_view_name": "ProgressView",
            "bar_style": "success",
            "description": "",
            "description_tooltip": null,
            "layout": "IPY_MODEL_37c6489007734eee9f473612d0ab71cc",
            "max": 2,
            "min": 0,
            "orientation": "horizontal",
            "style": "IPY_MODEL_bd22013c2b9c48f89994d204358af2e4",
            "value": 2
          }
        },
        "13f63f6595a941d2853b5e2d3b24c6a1": {
          "model_module": "@jupyter-widgets/controls",
          "model_name": "HTMLModel",
          "model_module_version": "1.5.0",
          "state": {
            "_dom_classes": [],
            "_model_module": "@jupyter-widgets/controls",
            "_model_module_version": "1.5.0",
            "_model_name": "HTMLModel",
            "_view_count": null,
            "_view_module": "@jupyter-widgets/controls",
            "_view_module_version": "1.5.0",
            "_view_name": "HTMLView",
            "description": "",
            "description_tooltip": null,
            "layout": "IPY_MODEL_10487aebbdbc45f48796f3242a5077da",
            "placeholder": "​",
            "style": "IPY_MODEL_ba7188621c6549739d647106284c7007",
            "value": " 2/2 [00:00&lt;00:00,  2.15it/s]"
          }
        },
        "b52993f5d4af4699a5d29d9b97624f25": {
          "model_module": "@jupyter-widgets/base",
          "model_name": "LayoutModel",
          "model_module_version": "1.2.0",
          "state": {
            "_model_module": "@jupyter-widgets/base",
            "_model_module_version": "1.2.0",
            "_model_name": "LayoutModel",
            "_view_count": null,
            "_view_module": "@jupyter-widgets/base",
            "_view_module_version": "1.2.0",
            "_view_name": "LayoutView",
            "align_content": null,
            "align_items": null,
            "align_self": null,
            "border": null,
            "bottom": null,
            "display": null,
            "flex": null,
            "flex_flow": null,
            "grid_area": null,
            "grid_auto_columns": null,
            "grid_auto_flow": null,
            "grid_auto_rows": null,
            "grid_column": null,
            "grid_gap": null,
            "grid_row": null,
            "grid_template_areas": null,
            "grid_template_columns": null,
            "grid_template_rows": null,
            "height": null,
            "justify_content": null,
            "justify_items": null,
            "left": null,
            "margin": null,
            "max_height": null,
            "max_width": null,
            "min_height": null,
            "min_width": null,
            "object_fit": null,
            "object_position": null,
            "order": null,
            "overflow": null,
            "overflow_x": null,
            "overflow_y": null,
            "padding": null,
            "right": null,
            "top": null,
            "visibility": null,
            "width": null
          }
        },
        "e081e8d7fa6644588a9f80a02d9fedc3": {
          "model_module": "@jupyter-widgets/base",
          "model_name": "LayoutModel",
          "model_module_version": "1.2.0",
          "state": {
            "_model_module": "@jupyter-widgets/base",
            "_model_module_version": "1.2.0",
            "_model_name": "LayoutModel",
            "_view_count": null,
            "_view_module": "@jupyter-widgets/base",
            "_view_module_version": "1.2.0",
            "_view_name": "LayoutView",
            "align_content": null,
            "align_items": null,
            "align_self": null,
            "border": null,
            "bottom": null,
            "display": null,
            "flex": null,
            "flex_flow": null,
            "grid_area": null,
            "grid_auto_columns": null,
            "grid_auto_flow": null,
            "grid_auto_rows": null,
            "grid_column": null,
            "grid_gap": null,
            "grid_row": null,
            "grid_template_areas": null,
            "grid_template_columns": null,
            "grid_template_rows": null,
            "height": null,
            "justify_content": null,
            "justify_items": null,
            "left": null,
            "margin": null,
            "max_height": null,
            "max_width": null,
            "min_height": null,
            "min_width": null,
            "object_fit": null,
            "object_position": null,
            "order": null,
            "overflow": null,
            "overflow_x": null,
            "overflow_y": null,
            "padding": null,
            "right": null,
            "top": null,
            "visibility": null,
            "width": null
          }
        },
        "6fc43a70cd3949889576c2de9a4ecb79": {
          "model_module": "@jupyter-widgets/controls",
          "model_name": "DescriptionStyleModel",
          "model_module_version": "1.5.0",
          "state": {
            "_model_module": "@jupyter-widgets/controls",
            "_model_module_version": "1.5.0",
            "_model_name": "DescriptionStyleModel",
            "_view_count": null,
            "_view_module": "@jupyter-widgets/base",
            "_view_module_version": "1.2.0",
            "_view_name": "StyleView",
            "description_width": ""
          }
        },
        "37c6489007734eee9f473612d0ab71cc": {
          "model_module": "@jupyter-widgets/base",
          "model_name": "LayoutModel",
          "model_module_version": "1.2.0",
          "state": {
            "_model_module": "@jupyter-widgets/base",
            "_model_module_version": "1.2.0",
            "_model_name": "LayoutModel",
            "_view_count": null,
            "_view_module": "@jupyter-widgets/base",
            "_view_module_version": "1.2.0",
            "_view_name": "LayoutView",
            "align_content": null,
            "align_items": null,
            "align_self": null,
            "border": null,
            "bottom": null,
            "display": null,
            "flex": null,
            "flex_flow": null,
            "grid_area": null,
            "grid_auto_columns": null,
            "grid_auto_flow": null,
            "grid_auto_rows": null,
            "grid_column": null,
            "grid_gap": null,
            "grid_row": null,
            "grid_template_areas": null,
            "grid_template_columns": null,
            "grid_template_rows": null,
            "height": null,
            "justify_content": null,
            "justify_items": null,
            "left": null,
            "margin": null,
            "max_height": null,
            "max_width": null,
            "min_height": null,
            "min_width": null,
            "object_fit": null,
            "object_position": null,
            "order": null,
            "overflow": null,
            "overflow_x": null,
            "overflow_y": null,
            "padding": null,
            "right": null,
            "top": null,
            "visibility": null,
            "width": null
          }
        },
        "bd22013c2b9c48f89994d204358af2e4": {
          "model_module": "@jupyter-widgets/controls",
          "model_name": "ProgressStyleModel",
          "model_module_version": "1.5.0",
          "state": {
            "_model_module": "@jupyter-widgets/controls",
            "_model_module_version": "1.5.0",
            "_model_name": "ProgressStyleModel",
            "_view_count": null,
            "_view_module": "@jupyter-widgets/base",
            "_view_module_version": "1.2.0",
            "_view_name": "StyleView",
            "bar_color": null,
            "description_width": ""
          }
        },
        "10487aebbdbc45f48796f3242a5077da": {
          "model_module": "@jupyter-widgets/base",
          "model_name": "LayoutModel",
          "model_module_version": "1.2.0",
          "state": {
            "_model_module": "@jupyter-widgets/base",
            "_model_module_version": "1.2.0",
            "_model_name": "LayoutModel",
            "_view_count": null,
            "_view_module": "@jupyter-widgets/base",
            "_view_module_version": "1.2.0",
            "_view_name": "LayoutView",
            "align_content": null,
            "align_items": null,
            "align_self": null,
            "border": null,
            "bottom": null,
            "display": null,
            "flex": null,
            "flex_flow": null,
            "grid_area": null,
            "grid_auto_columns": null,
            "grid_auto_flow": null,
            "grid_auto_rows": null,
            "grid_column": null,
            "grid_gap": null,
            "grid_row": null,
            "grid_template_areas": null,
            "grid_template_columns": null,
            "grid_template_rows": null,
            "height": null,
            "justify_content": null,
            "justify_items": null,
            "left": null,
            "margin": null,
            "max_height": null,
            "max_width": null,
            "min_height": null,
            "min_width": null,
            "object_fit": null,
            "object_position": null,
            "order": null,
            "overflow": null,
            "overflow_x": null,
            "overflow_y": null,
            "padding": null,
            "right": null,
            "top": null,
            "visibility": null,
            "width": null
          }
        },
        "ba7188621c6549739d647106284c7007": {
          "model_module": "@jupyter-widgets/controls",
          "model_name": "DescriptionStyleModel",
          "model_module_version": "1.5.0",
          "state": {
            "_model_module": "@jupyter-widgets/controls",
            "_model_module_version": "1.5.0",
            "_model_name": "DescriptionStyleModel",
            "_view_count": null,
            "_view_module": "@jupyter-widgets/base",
            "_view_module_version": "1.2.0",
            "_view_name": "StyleView",
            "description_width": ""
          }
        }
      }
    },
    "accelerator": "GPU"
  },
  "nbformat": 4,
  "nbformat_minor": 0
}