{
  "metadata": {
    "kernelspec": {
      "language": "python",
      "display_name": "Python 3",
      "name": "python3"
    },
    "language_info": {
      "name": "python",
      "version": "3.10.12",
      "mimetype": "text/x-python",
      "codemirror_mode": {
        "name": "ipython",
        "version": 3
      },
      "pygments_lexer": "ipython3",
      "nbconvert_exporter": "python",
      "file_extension": ".py"
    },
    "kaggle": {
      "accelerator": "gpu",
      "dataSources": [
        {
          "sourceId": 10393829,
          "sourceType": "datasetVersion",
          "datasetId": 6439688
        },
        {
          "sourceId": 10395684,
          "sourceType": "datasetVersion",
          "datasetId": 6441069
        },
        {
          "sourceId": 10403046,
          "sourceType": "datasetVersion",
          "datasetId": 6446244
        },
        {
          "sourceId": 10403107,
          "sourceType": "datasetVersion",
          "datasetId": 6446297
        },
        {
          "sourceId": 10403118,
          "sourceType": "datasetVersion",
          "datasetId": 6446303
        }
      ],
      "dockerImageVersionId": 30822,
      "isInternetEnabled": true,
      "language": "python",
      "sourceType": "notebook",
      "isGpuEnabled": true
    },
    "colab": {
      "name": "skillbuddy",
      "provenance": [],
      "include_colab_link": true
    }
  },
  "nbformat_minor": 0,
  "nbformat": 4,
  "cells": [
    {
      "cell_type": "markdown",
      "metadata": {
        "id": "view-in-github",
        "colab_type": "text"
      },
      "source": [
        "<a href=\"https://colab.research.google.com/github/gaaithri/aiml/blob/main/skillbuddy.ipynb\" target=\"_parent\"><img src=\"https://colab.research.google.com/assets/colab-badge.svg\" alt=\"Open In Colab\"/></a>"
      ]
    },
    {
      "source": [
        "# IMPORTANT: SOME KAGGLE DATA SOURCES ARE PRIVATE\n",
        "# RUN THIS CELL IN ORDER TO IMPORT YOUR KAGGLE DATA SOURCES.\n",
        "import kagglehub\n",
        "kagglehub.login()\n"
      ],
      "metadata": {
        "id": "Kgp4JU3syl9h"
      },
      "cell_type": "code",
      "outputs": [],
      "execution_count": null
    },
    {
      "source": [
        "# IMPORTANT: RUN THIS CELL IN ORDER TO IMPORT YOUR KAGGLE DATA SOURCES,\n",
        "# THEN FEEL FREE TO DELETE THIS CELL.\n",
        "# NOTE: THIS NOTEBOOK ENVIRONMENT DIFFERS FROM KAGGLE'S PYTHON\n",
        "# ENVIRONMENT SO THERE MAY BE MISSING LIBRARIES USED BY YOUR\n",
        "# NOTEBOOK.\n",
        "\n",
        "saishri_social_bk_path = kagglehub.dataset_download('saishri/social-bk')\n",
        "saishri_eco_q1_path = kagglehub.dataset_download('saishri/eco-q1')\n",
        "saishri_audio_ws_path = kagglehub.dataset_download('saishri/audio-ws')\n",
        "saishri_testdo_path = kagglehub.dataset_download('saishri/testdo')\n",
        "saishri_moneyfile_path = kagglehub.dataset_download('saishri/moneyfile')\n",
        "\n",
        "print('Data source import complete.')\n"
      ],
      "metadata": {
        "id": "OmL4-G4Hyl9l"
      },
      "cell_type": "code",
      "outputs": [],
      "execution_count": null
    },
    {
      "cell_type": "code",
      "source": [
        "# This Python 3 environment comes with many helpful analytics libraries installed\n",
        "# It is defined by the kaggle/python Docker image: https://github.com/kaggle/docker-python\n",
        "# For example, here's several helpful packages to load\n",
        "\n",
        "import numpy as np # linear algebra\n",
        "import pandas as pd # data processing, CSV file I/O (e.g. pd.read_csv)\n",
        "\n",
        "# Input data files are available in the read-only \"../input/\" directory\n",
        "# For example, running this (by clicking run or pressing Shift+Enter) will list all files under the input directory\n",
        "\n",
        "import os\n",
        "# for dirname, _, filenames in os.walk('/kaggle/input'):\n",
        "#     for filename in filenames:\n",
        "#         print(os.path.join(dirname, filename))\n",
        "\n",
        "# You can write up to 20GB to the current directory (/kaggle/working/) that gets preserved as output when you create a version using \"Save & Run All\"\n",
        "# You can also write temporary files to /kaggle/temp/, but they won't be saved outside of the current session"
      ],
      "metadata": {
        "_uuid": "8f2839f25d086af736a60e9eeb907d3b93b6e0e5",
        "_cell_guid": "b1076dfc-b9ad-4769-8c92-a6c4dae69d19",
        "trusted": true,
        "execution": {
          "iopub.status.busy": "2025-01-08T14:30:09.238849Z",
          "iopub.execute_input": "2025-01-08T14:30:09.239148Z",
          "iopub.status.idle": "2025-01-08T14:30:09.57658Z",
          "shell.execute_reply.started": "2025-01-08T14:30:09.239114Z",
          "shell.execute_reply": "2025-01-08T14:30:09.575694Z"
        },
        "id": "hxjSRcA7yl9l"
      },
      "outputs": [],
      "execution_count": null
    },
    {
      "cell_type": "code",
      "source": [
        "!pip install transformers"
      ],
      "metadata": {
        "trusted": true,
        "execution": {
          "iopub.status.busy": "2025-01-08T14:30:09.577453Z",
          "iopub.execute_input": "2025-01-08T14:30:09.577878Z",
          "iopub.status.idle": "2025-01-08T14:30:14.082953Z",
          "shell.execute_reply.started": "2025-01-08T14:30:09.577846Z",
          "shell.execute_reply": "2025-01-08T14:30:14.082127Z"
        },
        "jupyter": {
          "source_hidden": true,
          "outputs_hidden": true
        },
        "collapsed": true,
        "id": "q1Vj7DTqyl9m",
        "outputId": "6af5678f-a7a3-403f-ce77-f5ef504dd3bc"
      },
      "outputs": [
        {
          "name": "stdout",
          "text": "Requirement already satisfied: transformers in /usr/local/lib/python3.10/dist-packages (4.44.2)\nRequirement already satisfied: filelock in /usr/local/lib/python3.10/dist-packages (from transformers) (3.16.1)\nRequirement already satisfied: huggingface-hub<1.0,>=0.23.2 in /usr/local/lib/python3.10/dist-packages (from transformers) (0.24.7)\nRequirement already satisfied: numpy>=1.17 in /usr/local/lib/python3.10/dist-packages (from transformers) (1.26.4)\nRequirement already satisfied: packaging>=20.0 in /usr/local/lib/python3.10/dist-packages (from transformers) (24.1)\nRequirement already satisfied: pyyaml>=5.1 in /usr/local/lib/python3.10/dist-packages (from transformers) (6.0.2)\nRequirement already satisfied: regex!=2019.12.17 in /usr/local/lib/python3.10/dist-packages (from transformers) (2024.9.11)\nRequirement already satisfied: requests in /usr/local/lib/python3.10/dist-packages (from transformers) (2.32.3)\nRequirement already satisfied: safetensors>=0.4.1 in /usr/local/lib/python3.10/dist-packages (from transformers) (0.4.5)\nRequirement already satisfied: tokenizers<0.20,>=0.19 in /usr/local/lib/python3.10/dist-packages (from transformers) (0.19.1)\nRequirement already satisfied: tqdm>=4.27 in /usr/local/lib/python3.10/dist-packages (from transformers) (4.66.5)\nRequirement already satisfied: fsspec>=2023.5.0 in /usr/local/lib/python3.10/dist-packages (from huggingface-hub<1.0,>=0.23.2->transformers) (2024.6.1)\nRequirement already satisfied: typing-extensions>=3.7.4.3 in /usr/local/lib/python3.10/dist-packages (from huggingface-hub<1.0,>=0.23.2->transformers) (4.12.2)\nRequirement already satisfied: charset-normalizer<4,>=2 in /usr/local/lib/python3.10/dist-packages (from requests->transformers) (3.3.2)\nRequirement already satisfied: idna<4,>=2.5 in /usr/local/lib/python3.10/dist-packages (from requests->transformers) (3.10)\nRequirement already satisfied: urllib3<3,>=1.21.1 in /usr/local/lib/python3.10/dist-packages (from requests->transformers) (2.2.3)\nRequirement already satisfied: certifi>=2017.4.17 in /usr/local/lib/python3.10/dist-packages (from requests->transformers) (2024.8.30)\n",
          "output_type": "stream"
        }
      ],
      "execution_count": null
    },
    {
      "cell_type": "code",
      "source": [
        "!pip install sentence-transformers pyttsx3 git+https://github.com/openai/whisper.git\n"
      ],
      "metadata": {
        "trusted": true,
        "execution": {
          "iopub.status.busy": "2025-01-08T14:30:14.083945Z",
          "iopub.execute_input": "2025-01-08T14:30:14.084192Z",
          "iopub.status.idle": "2025-01-08T14:30:31.332233Z",
          "shell.execute_reply.started": "2025-01-08T14:30:14.084172Z",
          "shell.execute_reply": "2025-01-08T14:30:31.331125Z"
        },
        "collapsed": true,
        "jupyter": {
          "outputs_hidden": true
        },
        "id": "pNdIrrL4yl9n",
        "outputId": "09f7de63-09ed-41ba-c9bc-0a70312eb8ef"
      },
      "outputs": [
        {
          "name": "stdout",
          "text": "Collecting git+https://github.com/openai/whisper.git\n  Cloning https://github.com/openai/whisper.git to /tmp/pip-req-build-k32dj60_\n  Running command git clone --filter=blob:none --quiet https://github.com/openai/whisper.git /tmp/pip-req-build-k32dj60_\n  Resolved https://github.com/openai/whisper.git to commit 517a43ecd132a2089d85f4ebc044728a71d49f6e\n  Installing build dependencies ... \u001b[?25l\u001b[?25hdone\n  Getting requirements to build wheel ... \u001b[?25l\u001b[?25hdone\n  Preparing metadata (pyproject.toml) ... \u001b[?25l\u001b[?25hdone\nCollecting sentence-transformers\n  Downloading sentence_transformers-3.3.1-py3-none-any.whl.metadata (10 kB)\nCollecting pyttsx3\n  Downloading pyttsx3-2.98-py3-none-any.whl.metadata (3.8 kB)\nRequirement already satisfied: transformers<5.0.0,>=4.41.0 in /usr/local/lib/python3.10/dist-packages (from sentence-transformers) (4.44.2)\nRequirement already satisfied: tqdm in /usr/local/lib/python3.10/dist-packages (from sentence-transformers) (4.66.5)\nRequirement already satisfied: torch>=1.11.0 in /usr/local/lib/python3.10/dist-packages (from sentence-transformers) (2.4.1+cu121)\nRequirement already satisfied: scikit-learn in /usr/local/lib/python3.10/dist-packages (from sentence-transformers) (1.2.2)\nRequirement already satisfied: scipy in /usr/local/lib/python3.10/dist-packages (from sentence-transformers) (1.13.1)\nRequirement already satisfied: huggingface-hub>=0.20.0 in /usr/local/lib/python3.10/dist-packages (from sentence-transformers) (0.24.7)\nRequirement already satisfied: Pillow in /usr/local/lib/python3.10/dist-packages (from sentence-transformers) (10.4.0)\nRequirement already satisfied: more-itertools in /usr/local/lib/python3.10/dist-packages (from openai-whisper==20240930) (10.5.0)\nRequirement already satisfied: numba in /usr/local/lib/python3.10/dist-packages (from openai-whisper==20240930) (0.60.0)\nRequirement already satisfied: numpy in /usr/local/lib/python3.10/dist-packages (from openai-whisper==20240930) (1.26.4)\nRequirement already satisfied: tiktoken in /usr/local/lib/python3.10/dist-packages (from openai-whisper==20240930) (0.8.0)\nCollecting triton>=2 (from openai-whisper==20240930)\n  Downloading triton-3.1.0-cp310-cp310-manylinux_2_17_x86_64.manylinux2014_x86_64.whl.metadata (1.3 kB)\nRequirement already satisfied: filelock in /usr/local/lib/python3.10/dist-packages (from huggingface-hub>=0.20.0->sentence-transformers) (3.16.1)\nRequirement already satisfied: fsspec>=2023.5.0 in /usr/local/lib/python3.10/dist-packages (from huggingface-hub>=0.20.0->sentence-transformers) (2024.6.1)\nRequirement already satisfied: packaging>=20.9 in /usr/local/lib/python3.10/dist-packages (from huggingface-hub>=0.20.0->sentence-transformers) (24.1)\nRequirement already satisfied: pyyaml>=5.1 in /usr/local/lib/python3.10/dist-packages (from huggingface-hub>=0.20.0->sentence-transformers) (6.0.2)\nRequirement already satisfied: requests in /usr/local/lib/python3.10/dist-packages (from huggingface-hub>=0.20.0->sentence-transformers) (2.32.3)\nRequirement already satisfied: typing-extensions>=3.7.4.3 in /usr/local/lib/python3.10/dist-packages (from huggingface-hub>=0.20.0->sentence-transformers) (4.12.2)\nRequirement already satisfied: sympy in /usr/local/lib/python3.10/dist-packages (from torch>=1.11.0->sentence-transformers) (1.13.3)\nRequirement already satisfied: networkx in /usr/local/lib/python3.10/dist-packages (from torch>=1.11.0->sentence-transformers) (3.3)\nRequirement already satisfied: jinja2 in /usr/local/lib/python3.10/dist-packages (from torch>=1.11.0->sentence-transformers) (3.1.4)\nRequirement already satisfied: regex!=2019.12.17 in /usr/local/lib/python3.10/dist-packages (from transformers<5.0.0,>=4.41.0->sentence-transformers) (2024.9.11)\nRequirement already satisfied: safetensors>=0.4.1 in /usr/local/lib/python3.10/dist-packages (from transformers<5.0.0,>=4.41.0->sentence-transformers) (0.4.5)\nRequirement already satisfied: tokenizers<0.20,>=0.19 in /usr/local/lib/python3.10/dist-packages (from transformers<5.0.0,>=4.41.0->sentence-transformers) (0.19.1)\nRequirement already satisfied: llvmlite<0.44,>=0.43.0dev0 in /usr/local/lib/python3.10/dist-packages (from numba->openai-whisper==20240930) (0.43.0)\nRequirement already satisfied: joblib>=1.1.1 in /usr/local/lib/python3.10/dist-packages (from scikit-learn->sentence-transformers) (1.4.2)\nRequirement already satisfied: threadpoolctl>=2.0.0 in /usr/local/lib/python3.10/dist-packages (from scikit-learn->sentence-transformers) (3.5.0)\nRequirement already satisfied: charset-normalizer<4,>=2 in /usr/local/lib/python3.10/dist-packages (from requests->huggingface-hub>=0.20.0->sentence-transformers) (3.3.2)\nRequirement already satisfied: idna<4,>=2.5 in /usr/local/lib/python3.10/dist-packages (from requests->huggingface-hub>=0.20.0->sentence-transformers) (3.10)\nRequirement already satisfied: urllib3<3,>=1.21.1 in /usr/local/lib/python3.10/dist-packages (from requests->huggingface-hub>=0.20.0->sentence-transformers) (2.2.3)\nRequirement already satisfied: certifi>=2017.4.17 in /usr/local/lib/python3.10/dist-packages (from requests->huggingface-hub>=0.20.0->sentence-transformers) (2024.8.30)\nRequirement already satisfied: MarkupSafe>=2.0 in /usr/local/lib/python3.10/dist-packages (from jinja2->torch>=1.11.0->sentence-transformers) (2.1.5)\nRequirement already satisfied: mpmath<1.4,>=1.1.0 in /usr/local/lib/python3.10/dist-packages (from sympy->torch>=1.11.0->sentence-transformers) (1.3.0)\nDownloading sentence_transformers-3.3.1-py3-none-any.whl (268 kB)\n\u001b[2K   \u001b[90m━━━━━━━━━━━━━━━━━━━━━━━━━━━━━━━━━━━━━━━━\u001b[0m \u001b[32m268.8/268.8 kB\u001b[0m \u001b[31m8.1 MB/s\u001b[0m eta \u001b[36m0:00:00\u001b[0m\n\u001b[?25hDownloading pyttsx3-2.98-py3-none-any.whl (34 kB)\nDownloading triton-3.1.0-cp310-cp310-manylinux_2_17_x86_64.manylinux2014_x86_64.whl (209.5 MB)\n\u001b[2K   \u001b[90m━━━━━━━━━━━━━━━━━━━━━━━━━━━━━━━━━━━━━━━━\u001b[0m \u001b[32m209.5/209.5 MB\u001b[0m \u001b[31m8.2 MB/s\u001b[0m eta \u001b[36m0:00:00\u001b[0m0:00:01\u001b[0m00:01\u001b[0m\n\u001b[?25hBuilding wheels for collected packages: openai-whisper\n  Building wheel for openai-whisper (pyproject.toml) ... \u001b[?25l\u001b[?25hdone\n  Created wheel for openai-whisper: filename=openai_whisper-20240930-py3-none-any.whl size=803670 sha256=b9cdf0956c8e130ed181e38410b8cb3de31aa8c288134ca7612826ef9b5efdc1\n  Stored in directory: /tmp/pip-ephem-wheel-cache-ehgl6wtg/wheels/8b/6c/d0/622666868c179f156cf595c8b6f06f88bc5d80c4b31dccaa03\nSuccessfully built openai-whisper\nInstalling collected packages: pyttsx3, triton, openai-whisper, sentence-transformers\nSuccessfully installed openai-whisper-20240930 pyttsx3-2.98 sentence-transformers-3.3.1 triton-3.1.0\n",
          "output_type": "stream"
        }
      ],
      "execution_count": null
    },
    {
      "cell_type": "code",
      "source": [
        "!pip install PyPDF2"
      ],
      "metadata": {
        "trusted": true,
        "execution": {
          "iopub.status.busy": "2025-01-08T14:30:31.334729Z",
          "iopub.execute_input": "2025-01-08T14:30:31.334951Z",
          "iopub.status.idle": "2025-01-08T14:30:34.851971Z",
          "shell.execute_reply.started": "2025-01-08T14:30:31.334933Z",
          "shell.execute_reply": "2025-01-08T14:30:34.85088Z"
        },
        "collapsed": true,
        "jupyter": {
          "outputs_hidden": true
        },
        "id": "Iwuq-gy1yl9n",
        "outputId": "f47faaaf-5e24-4347-8956-2f5f4f0c978e"
      },
      "outputs": [
        {
          "name": "stdout",
          "text": "Collecting PyPDF2\n  Downloading pypdf2-3.0.1-py3-none-any.whl.metadata (6.8 kB)\nDownloading pypdf2-3.0.1-py3-none-any.whl (232 kB)\n\u001b[2K   \u001b[90m━━━━━━━━━━━━━━━━━━━━━━━━━━━━━━━━━━━━━━━━\u001b[0m \u001b[32m232.6/232.6 kB\u001b[0m \u001b[31m7.2 MB/s\u001b[0m eta \u001b[36m0:00:00\u001b[0m\n\u001b[?25hInstalling collected packages: PyPDF2\nSuccessfully installed PyPDF2-3.0.1\n",
          "output_type": "stream"
        }
      ],
      "execution_count": null
    },
    {
      "cell_type": "markdown",
      "source": [],
      "metadata": {
        "id": "fNp6zRunyl9o"
      }
    },
    {
      "cell_type": "code",
      "source": [
        "from transformers import pipeline\n",
        "from sentence_transformers import SentenceTransformer\n",
        "from sklearn.metrics.pairwise import cosine_similarity\n",
        "import numpy as np\n",
        "import pyttsx3\n",
        "import whisper\n"
      ],
      "metadata": {
        "trusted": true,
        "execution": {
          "iopub.status.busy": "2025-01-08T14:30:34.853585Z",
          "iopub.execute_input": "2025-01-08T14:30:34.853805Z",
          "iopub.status.idle": "2025-01-08T14:30:49.859646Z",
          "shell.execute_reply.started": "2025-01-08T14:30:34.853787Z",
          "shell.execute_reply": "2025-01-08T14:30:49.858759Z"
        },
        "id": "H-xZpApkyl9p"
      },
      "outputs": [],
      "execution_count": null
    },
    {
      "cell_type": "markdown",
      "source": [
        "<!-- -->\n",
        "### Read the text input"
      ],
      "metadata": {
        "id": "wSZSCDPnyl9p"
      }
    },
    {
      "cell_type": "code",
      "source": [
        "import PyPDF2\n",
        "import os\n",
        "pdf_directory = \"/kaggle/input/social-bk/\"\n",
        "def read_pdfs(file_path):\n",
        "    \"\"\"\n",
        "    Reads a PDF file and extracts text from it.\n",
        "    \"\"\"\n",
        "    all_text = {}\n",
        "    for file_name in os.listdir(pdf_directory):\n",
        "        if file_name.endswith('.pdf'):  # Ensure only PDFs are processed\n",
        "            file_path = os.path.join(pdf_directory, file_name)\n",
        "            pdf_reader = PyPDF2.PdfReader(file_path)\n",
        "            text = \"\"\n",
        "            for page in pdf_reader.pages:\n",
        "                text += page.extract_text()\n",
        "            all_text[file_name] = text\n",
        "    return all_text\n",
        "\n",
        "# Extract text from all PDFs\n",
        "pdf_texts = read_pdfs(pdf_directory)"
      ],
      "metadata": {
        "trusted": true,
        "execution": {
          "iopub.status.busy": "2025-01-08T14:30:49.860501Z",
          "iopub.execute_input": "2025-01-08T14:30:49.861097Z",
          "iopub.status.idle": "2025-01-08T14:30:52.85819Z",
          "shell.execute_reply.started": "2025-01-08T14:30:49.861073Z",
          "shell.execute_reply": "2025-01-08T14:30:52.857489Z"
        },
        "id": "WRQIXL47yl9p"
      },
      "outputs": [],
      "execution_count": null
    },
    {
      "cell_type": "markdown",
      "source": [
        "#### Chunk inout"
      ],
      "metadata": {
        "id": "H9hSoUyjyl9q"
      }
    },
    {
      "cell_type": "code",
      "source": [
        "def chunk_texts(pdf_texts, chunk_size=300):\n",
        "    \"\"\"\n",
        "    Splits text from multiple PDFs into smaller chunks.\n",
        "    \"\"\"\n",
        "    all_chunks = []\n",
        "    chunk_mapping = {}  # To map chunks back to their source files\n",
        "    for file_name, text in pdf_texts.items():\n",
        "        words = text.split()\n",
        "        chunks = [\" \".join(words[i:i+chunk_size]) for i in range(0, len(words), chunk_size)]\n",
        "        all_chunks.extend(chunks)\n",
        "        chunk_mapping.update({chunk: file_name for chunk in chunks})\n",
        "    return all_chunks, chunk_mapping\n",
        "\n",
        "chunks, chunk_mapping = chunk_texts(pdf_texts)\n"
      ],
      "metadata": {
        "trusted": true,
        "execution": {
          "iopub.status.busy": "2025-01-08T14:30:52.858955Z",
          "iopub.execute_input": "2025-01-08T14:30:52.859248Z",
          "iopub.status.idle": "2025-01-08T14:30:52.868421Z",
          "shell.execute_reply.started": "2025-01-08T14:30:52.859217Z",
          "shell.execute_reply": "2025-01-08T14:30:52.867515Z"
        },
        "id": "G7sXwEgTyl9q"
      },
      "outputs": [],
      "execution_count": null
    },
    {
      "cell_type": "markdown",
      "source": [
        "### Embedding Model  = recognising vocabulary"
      ],
      "metadata": {
        "id": "RRAaqBhDyl9q"
      }
    },
    {
      "cell_type": "code",
      "source": [
        "embedding_model = SentenceTransformer('all-MiniLM-L6-v2')\n",
        "\n",
        "def generate_chunk_embeddings(chunks):\n",
        "    \"\"\"\n",
        "    Generates embeddings for each chunk using SentenceTransformer.\n",
        "    \"\"\"\n",
        "    return embedding_model.encode(chunks)\n",
        "\n",
        "chunk_embeddings = generate_chunk_embeddings(chunks)\n"
      ],
      "metadata": {
        "trusted": true,
        "execution": {
          "iopub.status.busy": "2025-01-08T14:30:52.869567Z",
          "iopub.execute_input": "2025-01-08T14:30:52.869876Z",
          "iopub.status.idle": "2025-01-08T14:30:57.7071Z",
          "shell.execute_reply.started": "2025-01-08T14:30:52.869846Z",
          "shell.execute_reply": "2025-01-08T14:30:57.706364Z"
        },
        "collapsed": true,
        "jupyter": {
          "outputs_hidden": true
        },
        "id": "aMACTquDyl9q",
        "outputId": "d46545be-683a-4e70-bc01-261bc2da7919",
        "colab": {
          "referenced_widgets": [
            "c882d832371e41babca6672516cd9b18",
            "46aa55723b42438595801268634bc1ba",
            "07fc1f1c3b604480b65f2d13f093d64b",
            "0058347401864628ab658f5297315e2a",
            "df5da054732743d181dc01ef2ff68ff9",
            "dbf79899338547cba27453975351f07b",
            "0e3f644cd7894eb6811cd94b0cc6d07f",
            "5ee1188782274ae589f1ea37b3645f38",
            "85e98eb58e564e79830a0cd29aa3b66e",
            "310b2b34727144719df5a0c60b083d9f",
            "d39bc3f58edf4fd79bd16f23dc633dd4",
            "e1f1045d35ae438d9280e03ed33fd8eb"
          ]
        }
      },
      "outputs": [
        {
          "output_type": "display_data",
          "data": {
            "text/plain": "modules.json:   0%|          | 0.00/349 [00:00<?, ?B/s]",
            "application/vnd.jupyter.widget-view+json": {
              "version_major": 2,
              "version_minor": 0,
              "model_id": "c882d832371e41babca6672516cd9b18"
            }
          },
          "metadata": {}
        },
        {
          "output_type": "display_data",
          "data": {
            "text/plain": "config_sentence_transformers.json:   0%|          | 0.00/116 [00:00<?, ?B/s]",
            "application/vnd.jupyter.widget-view+json": {
              "version_major": 2,
              "version_minor": 0,
              "model_id": "46aa55723b42438595801268634bc1ba"
            }
          },
          "metadata": {}
        },
        {
          "output_type": "display_data",
          "data": {
            "text/plain": "README.md:   0%|          | 0.00/10.7k [00:00<?, ?B/s]",
            "application/vnd.jupyter.widget-view+json": {
              "version_major": 2,
              "version_minor": 0,
              "model_id": "07fc1f1c3b604480b65f2d13f093d64b"
            }
          },
          "metadata": {}
        },
        {
          "output_type": "display_data",
          "data": {
            "text/plain": "sentence_bert_config.json:   0%|          | 0.00/53.0 [00:00<?, ?B/s]",
            "application/vnd.jupyter.widget-view+json": {
              "version_major": 2,
              "version_minor": 0,
              "model_id": "0058347401864628ab658f5297315e2a"
            }
          },
          "metadata": {}
        },
        {
          "output_type": "display_data",
          "data": {
            "text/plain": "config.json:   0%|          | 0.00/612 [00:00<?, ?B/s]",
            "application/vnd.jupyter.widget-view+json": {
              "version_major": 2,
              "version_minor": 0,
              "model_id": "df5da054732743d181dc01ef2ff68ff9"
            }
          },
          "metadata": {}
        },
        {
          "output_type": "display_data",
          "data": {
            "text/plain": "model.safetensors:   0%|          | 0.00/90.9M [00:00<?, ?B/s]",
            "application/vnd.jupyter.widget-view+json": {
              "version_major": 2,
              "version_minor": 0,
              "model_id": "dbf79899338547cba27453975351f07b"
            }
          },
          "metadata": {}
        },
        {
          "output_type": "display_data",
          "data": {
            "text/plain": "tokenizer_config.json:   0%|          | 0.00/350 [00:00<?, ?B/s]",
            "application/vnd.jupyter.widget-view+json": {
              "version_major": 2,
              "version_minor": 0,
              "model_id": "0e3f644cd7894eb6811cd94b0cc6d07f"
            }
          },
          "metadata": {}
        },
        {
          "output_type": "display_data",
          "data": {
            "text/plain": "vocab.txt:   0%|          | 0.00/232k [00:00<?, ?B/s]",
            "application/vnd.jupyter.widget-view+json": {
              "version_major": 2,
              "version_minor": 0,
              "model_id": "5ee1188782274ae589f1ea37b3645f38"
            }
          },
          "metadata": {}
        },
        {
          "output_type": "display_data",
          "data": {
            "text/plain": "tokenizer.json:   0%|          | 0.00/466k [00:00<?, ?B/s]",
            "application/vnd.jupyter.widget-view+json": {
              "version_major": 2,
              "version_minor": 0,
              "model_id": "85e98eb58e564e79830a0cd29aa3b66e"
            }
          },
          "metadata": {}
        },
        {
          "output_type": "display_data",
          "data": {
            "text/plain": "special_tokens_map.json:   0%|          | 0.00/112 [00:00<?, ?B/s]",
            "application/vnd.jupyter.widget-view+json": {
              "version_major": 2,
              "version_minor": 0,
              "model_id": "310b2b34727144719df5a0c60b083d9f"
            }
          },
          "metadata": {}
        },
        {
          "name": "stderr",
          "text": "/usr/local/lib/python3.10/dist-packages/transformers/tokenization_utils_base.py:1601: FutureWarning: `clean_up_tokenization_spaces` was not set. It will be set to `True` by default. This behavior will be depracted in transformers v4.45, and will be then set to `False` by default. For more details check this issue: https://github.com/huggingface/transformers/issues/31884\n  warnings.warn(\n",
          "output_type": "stream"
        },
        {
          "output_type": "display_data",
          "data": {
            "text/plain": "1_Pooling/config.json:   0%|          | 0.00/190 [00:00<?, ?B/s]",
            "application/vnd.jupyter.widget-view+json": {
              "version_major": 2,
              "version_minor": 0,
              "model_id": "d39bc3f58edf4fd79bd16f23dc633dd4"
            }
          },
          "metadata": {}
        },
        {
          "output_type": "display_data",
          "data": {
            "text/plain": "Batches:   0%|          | 0/5 [00:00<?, ?it/s]",
            "application/vnd.jupyter.widget-view+json": {
              "version_major": 2,
              "version_minor": 0,
              "model_id": "e1f1045d35ae438d9280e03ed33fd8eb"
            }
          },
          "metadata": {}
        }
      ],
      "execution_count": null
    },
    {
      "cell_type": "markdown",
      "source": [
        "#### Building hugging face pipline"
      ],
      "metadata": {
        "id": "QG2S51GByl9r"
      }
    },
    {
      "cell_type": "code",
      "source": [
        "qa_pipeline = pipeline(\"question-answering\", model=\"deepset/roberta-base-squad2\")\n"
      ],
      "metadata": {
        "trusted": true,
        "execution": {
          "iopub.status.busy": "2025-01-08T14:30:57.707855Z",
          "iopub.execute_input": "2025-01-08T14:30:57.708076Z",
          "iopub.status.idle": "2025-01-08T14:31:01.689248Z",
          "shell.execute_reply.started": "2025-01-08T14:30:57.708056Z",
          "shell.execute_reply": "2025-01-08T14:31:01.68851Z"
        },
        "collapsed": true,
        "jupyter": {
          "outputs_hidden": true
        },
        "id": "mojOaAASyl9r",
        "outputId": "6ab25cb1-6b88-4ac5-ced9-7530246a01c8",
        "colab": {
          "referenced_widgets": [
            "35d88d4278d24597afaf7911b1b40e6b",
            "341bc8ae8ed343548792a9f597e73ea5",
            "07572c90404849bf8a76bc05a1cf5048",
            "d076f24b1c494c9abf9b3aea9cbb45c3",
            "ecc8e570bc884c1db4caec659ba396ce",
            "bae2318d43214d279c0598558bb2dcab"
          ]
        }
      },
      "outputs": [
        {
          "output_type": "display_data",
          "data": {
            "text/plain": "config.json:   0%|          | 0.00/571 [00:00<?, ?B/s]",
            "application/vnd.jupyter.widget-view+json": {
              "version_major": 2,
              "version_minor": 0,
              "model_id": "35d88d4278d24597afaf7911b1b40e6b"
            }
          },
          "metadata": {}
        },
        {
          "output_type": "display_data",
          "data": {
            "text/plain": "model.safetensors:   0%|          | 0.00/496M [00:00<?, ?B/s]",
            "application/vnd.jupyter.widget-view+json": {
              "version_major": 2,
              "version_minor": 0,
              "model_id": "341bc8ae8ed343548792a9f597e73ea5"
            }
          },
          "metadata": {}
        },
        {
          "output_type": "display_data",
          "data": {
            "text/plain": "tokenizer_config.json:   0%|          | 0.00/79.0 [00:00<?, ?B/s]",
            "application/vnd.jupyter.widget-view+json": {
              "version_major": 2,
              "version_minor": 0,
              "model_id": "07572c90404849bf8a76bc05a1cf5048"
            }
          },
          "metadata": {}
        },
        {
          "output_type": "display_data",
          "data": {
            "text/plain": "vocab.json:   0%|          | 0.00/899k [00:00<?, ?B/s]",
            "application/vnd.jupyter.widget-view+json": {
              "version_major": 2,
              "version_minor": 0,
              "model_id": "d076f24b1c494c9abf9b3aea9cbb45c3"
            }
          },
          "metadata": {}
        },
        {
          "output_type": "display_data",
          "data": {
            "text/plain": "merges.txt:   0%|          | 0.00/456k [00:00<?, ?B/s]",
            "application/vnd.jupyter.widget-view+json": {
              "version_major": 2,
              "version_minor": 0,
              "model_id": "ecc8e570bc884c1db4caec659ba396ce"
            }
          },
          "metadata": {}
        },
        {
          "output_type": "display_data",
          "data": {
            "text/plain": "special_tokens_map.json:   0%|          | 0.00/772 [00:00<?, ?B/s]",
            "application/vnd.jupyter.widget-view+json": {
              "version_major": 2,
              "version_minor": 0,
              "model_id": "bae2318d43214d279c0598558bb2dcab"
            }
          },
          "metadata": {}
        },
        {
          "name": "stderr",
          "text": "Hardware accelerator e.g. GPU is available in the environment, but no `device` argument is passed to the `Pipeline` object. Model will be on CPU.\n",
          "output_type": "stream"
        }
      ],
      "execution_count": null
    },
    {
      "cell_type": "markdown",
      "source": [
        "#### Finidng Answerable Chunk"
      ],
      "metadata": {
        "id": "DVYI2Zz8yl9r"
      }
    },
    {
      "cell_type": "code",
      "source": [
        "def find_relevant_chunk(question, chunks, chunk_embeddings):\n",
        "    \"\"\"\n",
        "    Finds the most relevant chunk for a given question.\n",
        "    \"\"\"\n",
        "    question_embedding = embedding_model.encode([question])[0]\n",
        "    similarities = cosine_similarity([question_embedding], chunk_embeddings)\n",
        "    best_chunk_index = np.argmax(similarities)\n",
        "    return chunks[best_chunk_index]\n",
        "\n",
        "def answer_question(question, chunks, chunk_embeddings):\n",
        "    \"\"\"\n",
        "    Answers a question using the Q&A pipeline and the most relevant chunk.\n",
        "    \"\"\"\n",
        "    relevant_chunk = find_relevant_chunk(question, chunks, chunk_embeddings)\n",
        "    result = qa_pipeline(question=question, context=relevant_chunk)\n",
        "    # Get the file name associated with the relevant chunk\n",
        "    source_file = chunk_mapping[relevant_chunk]\n",
        "    return result['answer'], source_file\n",
        "\n",
        "\n",
        "\n"
      ],
      "metadata": {
        "trusted": true,
        "execution": {
          "iopub.status.busy": "2025-01-08T14:31:01.690223Z",
          "iopub.execute_input": "2025-01-08T14:31:01.690594Z",
          "iopub.status.idle": "2025-01-08T14:31:01.695693Z",
          "shell.execute_reply.started": "2025-01-08T14:31:01.690558Z",
          "shell.execute_reply": "2025-01-08T14:31:01.694804Z"
        },
        "id": "1NCY6zl4yl9r"
      },
      "outputs": [],
      "execution_count": null
    },
    {
      "cell_type": "code",
      "source": [
        "# Step 5: Test Q&A for Multiple PDFs\n",
        "question = \"Types of Money?\"\n",
        "answer, source_file = answer_question(question, chunks, chunk_embeddings)\n"
      ],
      "metadata": {
        "trusted": true,
        "execution": {
          "iopub.status.busy": "2025-01-08T14:31:01.696539Z",
          "iopub.execute_input": "2025-01-08T14:31:01.696821Z",
          "iopub.status.idle": "2025-01-08T14:31:02.597355Z",
          "shell.execute_reply.started": "2025-01-08T14:31:01.696793Z",
          "shell.execute_reply": "2025-01-08T14:31:02.596645Z"
        },
        "id": "CyWHtXMEyl9r",
        "outputId": "bd3c1ae3-69c1-464d-db14-f9b5de7baeae",
        "colab": {
          "referenced_widgets": [
            "4eabe2d138094eed84db5ac2743ee5cc"
          ]
        }
      },
      "outputs": [
        {
          "output_type": "display_data",
          "data": {
            "text/plain": "Batches:   0%|          | 0/1 [00:00<?, ?it/s]",
            "application/vnd.jupyter.widget-view+json": {
              "version_major": 2,
              "version_minor": 0,
              "model_id": "4eabe2d138094eed84db5ac2743ee5cc"
            }
          },
          "metadata": {}
        }
      ],
      "execution_count": null
    },
    {
      "cell_type": "raw",
      "source": [],
      "metadata": {
        "id": "hNND3PCLyl9r"
      }
    },
    {
      "cell_type": "code",
      "source": [
        "print(answer, source_file)"
      ],
      "metadata": {
        "trusted": true,
        "execution": {
          "iopub.status.busy": "2025-01-08T14:31:02.598116Z",
          "iopub.execute_input": "2025-01-08T14:31:02.598322Z",
          "iopub.status.idle": "2025-01-08T14:31:02.603078Z",
          "shell.execute_reply.started": "2025-01-08T14:31:02.598304Z",
          "shell.execute_reply": "2025-01-08T14:31:02.602035Z"
        },
        "id": "A4y3fmHHyl9r",
        "outputId": "27d9eff8-c766-4dd9-d0f0-c517c9806f3a"
      },
      "outputs": [
        {
          "name": "stdout",
          "text": "demand deposits jess203.pdf\n",
          "output_type": "stream"
        }
      ],
      "execution_count": null
    },
    {
      "cell_type": "code",
      "source": [
        "\n",
        "\n",
        "\n",
        "# Step 5: Voice Interaction (Optional)\n",
        "def voice_interactive_bot(audio_file_path, chunks, chunk_embeddings):\n",
        "    \"\"\"\n",
        "    Voice-interactive bot that takes audio input, answers the question, and speaks the answer.\n",
        "    \"\"\"\n",
        "    # Load Whisper model for speech-to-text\n",
        "    stt_model = whisper.load_model(\"base\")\n",
        "\n",
        "    # Convert speech to text\n",
        "    result = stt_model.transcribe(audio_file_path)\n",
        "    question = result['text']\n",
        "\n",
        "    print(f\"User Question: {question}\")\n",
        "\n",
        "    # Answer the question\n",
        "    answer = answer_question(question, chunks, chunk_embeddings)\n",
        "    print(f\"Bot Answer: {answer}\")\n",
        "\n",
        "    # Convert text to speech\n",
        "    tts_engine = pyttsx3.init()\n",
        "    tts_engine.say(answer)\n",
        "    tts_engine.runAndWait()\n",
        "\n",
        "# Example Usage\n",
        "# Uncomment and replace 'path_to_audio.wav' with your audio file path\n",
        "# voice_interactive_bot('path_to_audio.wav', chunks, chunk_embeddings)\n",
        "\n",
        "# Step 6: Manual Q&A Testing\n",
        "# Example question\n",
        "# question = \"What is Artificial Intelligence?\"\n",
        "# answer = answer_question(question, chunks, chunk_embeddings)\n",
        "\n",
        "# print(f\"Question: {question}\")\n",
        "# print(f\"Answer: {answer}\")"
      ],
      "metadata": {
        "trusted": true,
        "execution": {
          "iopub.status.busy": "2025-01-08T14:31:02.605871Z",
          "iopub.execute_input": "2025-01-08T14:31:02.606156Z",
          "iopub.status.idle": "2025-01-08T14:31:02.619303Z",
          "shell.execute_reply.started": "2025-01-08T14:31:02.606134Z",
          "shell.execute_reply": "2025-01-08T14:31:02.618634Z"
        },
        "id": "mA9eKBAMyl9r"
      },
      "outputs": [],
      "execution_count": null
    },
    {
      "cell_type": "code",
      "source": [
        "!pip install pydub\n",
        "!apt-get install ffmpeg -y\n"
      ],
      "metadata": {
        "trusted": true,
        "execution": {
          "iopub.status.busy": "2025-01-08T14:31:02.620516Z",
          "iopub.execute_input": "2025-01-08T14:31:02.620713Z",
          "iopub.status.idle": "2025-01-08T14:31:08.30686Z",
          "shell.execute_reply.started": "2025-01-08T14:31:02.620696Z",
          "shell.execute_reply": "2025-01-08T14:31:08.305893Z"
        },
        "id": "tJkUWI_nyl9s",
        "outputId": "b370da91-08c1-4b73-9e29-3f28b0ca7e54"
      },
      "outputs": [
        {
          "name": "stderr",
          "text": "/usr/lib/python3.10/pty.py:89: RuntimeWarning: os.fork() was called. os.fork() is incompatible with multithreaded code, and JAX is multithreaded, so this will likely lead to a deadlock.\n  pid, fd = os.forkpty()\n",
          "output_type": "stream"
        },
        {
          "name": "stdout",
          "text": "Requirement already satisfied: pydub in /usr/local/lib/python3.10/dist-packages (0.25.1)\nReading package lists... Done\nBuilding dependency tree... Done\nReading state information... Done\nffmpeg is already the newest version (7:4.4.2-0ubuntu0.22.04.1).\n0 upgraded, 0 newly installed, 0 to remove and 132 not upgraded.\n",
          "output_type": "stream"
        }
      ],
      "execution_count": null
    },
    {
      "cell_type": "code",
      "source": [
        "!apt-get update -y\n",
        "!apt-get install espeak -y"
      ],
      "metadata": {
        "trusted": true,
        "execution": {
          "iopub.status.busy": "2025-01-08T14:31:08.308028Z",
          "iopub.execute_input": "2025-01-08T14:31:08.308288Z",
          "iopub.status.idle": "2025-01-08T14:31:21.282499Z",
          "shell.execute_reply.started": "2025-01-08T14:31:08.308267Z",
          "shell.execute_reply": "2025-01-08T14:31:21.28129Z"
        },
        "id": "dNxvfkD8yl9s",
        "outputId": "f2d76d01-8d88-4db0-8dc5-1858c1b4ac41"
      },
      "outputs": [
        {
          "name": "stdout",
          "text": "Get:1 https://developer.download.nvidia.com/compute/cuda/repos/ubuntu2204/x86_64  InRelease [1,581 B]\nGet:2 https://cloud.r-project.org/bin/linux/ubuntu jammy-cran40/ InRelease [3,626 B]                \nGet:3 http://security.ubuntu.com/ubuntu jammy-security InRelease [129 kB]                           \nHit:4 http://archive.ubuntu.com/ubuntu jammy InRelease                                              \nGet:5 https://developer.download.nvidia.com/compute/cuda/repos/ubuntu2204/x86_64  Packages [1,199 kB]\nGet:6 http://archive.ubuntu.com/ubuntu jammy-updates InRelease [128 kB]                             \nGet:7 https://r2u.stat.illinois.edu/ubuntu jammy InRelease [6,555 B]                                \nGet:8 https://cloud.r-project.org/bin/linux/ubuntu jammy-cran40/ Packages [61.9 kB]                 \nGet:9 http://archive.ubuntu.com/ubuntu jammy-backports InRelease [127 kB]                           \nGet:10 https://r2u.stat.illinois.edu/ubuntu jammy/main amd64 Packages [2,631 kB]\nGet:11 https://ppa.launchpadcontent.net/deadsnakes/ppa/ubuntu jammy InRelease [18.1 kB]\nGet:12 http://security.ubuntu.com/ubuntu jammy-security/restricted amd64 Packages [3,513 kB] \nGet:13 https://ppa.launchpadcontent.net/graphics-drivers/ppa/ubuntu jammy InRelease [24.3 kB]\nGet:14 http://archive.ubuntu.com/ubuntu jammy-updates/universe amd64 Packages [1,517 kB]            \nHit:15 https://ppa.launchpadcontent.net/ubuntugis/ppa/ubuntu jammy InRelease                        \nGet:16 https://r2u.stat.illinois.edu/ubuntu jammy/main all Packages [8,563 kB]                      \nGet:17 http://security.ubuntu.com/ubuntu jammy-security/universe amd64 Packages [1,226 kB]      \nGet:18 http://archive.ubuntu.com/ubuntu jammy-updates/restricted amd64 Packages [3,652 kB]          \nGet:19 http://security.ubuntu.com/ubuntu jammy-security/main amd64 Packages [2,554 kB]              \nGet:20 http://archive.ubuntu.com/ubuntu jammy-updates/main amd64 Packages [2,854 kB]                \nGet:21 https://ppa.launchpadcontent.net/deadsnakes/ppa/ubuntu jammy/main amd64 Packages [32.9 kB]\nGet:22 http://archive.ubuntu.com/ubuntu jammy-backports/universe amd64 Packages [33.8 kB]     \nGet:23 http://archive.ubuntu.com/ubuntu jammy-backports/main amd64 Packages [81.4 kB]\nGet:24 https://ppa.launchpadcontent.net/graphics-drivers/ppa/ubuntu jammy/main amd64 Packages [53.4 kB]\nFetched 28.4 MB in 3s (9,602 kB/s)                           \nReading package lists... Done\nW: Skipping acquire of configured file 'main/source/Sources' as repository 'https://r2u.stat.illinois.edu/ubuntu jammy InRelease' does not seem to provide it (sources.list entry misspelt?)\nReading package lists... Done\nBuilding dependency tree... Done\nReading state information... Done\nThe following additional packages will be installed:\n  espeak-data libespeak1 libportaudio2 libsonic0\nThe following NEW packages will be installed:\n  espeak espeak-data libespeak1 libportaudio2 libsonic0\n0 upgraded, 5 newly installed, 0 to remove and 143 not upgraded.\nNeed to get 1,382 kB of archives.\nAfter this operation, 3,178 kB of additional disk space will be used.\nGet:1 http://archive.ubuntu.com/ubuntu jammy/universe amd64 libportaudio2 amd64 19.6.0-1.1 [65.3 kB]\nGet:2 http://archive.ubuntu.com/ubuntu jammy/main amd64 libsonic0 amd64 0.2.0-11build1 [10.3 kB]\nGet:3 http://archive.ubuntu.com/ubuntu jammy/universe amd64 espeak-data amd64 1.48.15+dfsg-3 [1,085 kB]\nGet:4 http://archive.ubuntu.com/ubuntu jammy/universe amd64 libespeak1 amd64 1.48.15+dfsg-3 [156 kB]\nGet:5 http://archive.ubuntu.com/ubuntu jammy/universe amd64 espeak amd64 1.48.15+dfsg-3 [64.2 kB]\nFetched 1,382 kB in 1s (2,135 kB/s)\nSelecting previously unselected package libportaudio2:amd64.\n(Reading database ... 127365 files and directories currently installed.)\nPreparing to unpack .../libportaudio2_19.6.0-1.1_amd64.deb ...\nUnpacking libportaudio2:amd64 (19.6.0-1.1) ...\nSelecting previously unselected package libsonic0:amd64.\nPreparing to unpack .../libsonic0_0.2.0-11build1_amd64.deb ...\nUnpacking libsonic0:amd64 (0.2.0-11build1) ...\nSelecting previously unselected package espeak-data:amd64.\nPreparing to unpack .../espeak-data_1.48.15+dfsg-3_amd64.deb ...\nUnpacking espeak-data:amd64 (1.48.15+dfsg-3) ...\nSelecting previously unselected package libespeak1:amd64.\nPreparing to unpack .../libespeak1_1.48.15+dfsg-3_amd64.deb ...\nUnpacking libespeak1:amd64 (1.48.15+dfsg-3) ...\nSelecting previously unselected package espeak.\nPreparing to unpack .../espeak_1.48.15+dfsg-3_amd64.deb ...\nUnpacking espeak (1.48.15+dfsg-3) ...\nSetting up libportaudio2:amd64 (19.6.0-1.1) ...\nSetting up libsonic0:amd64 (0.2.0-11build1) ...\nSetting up espeak-data:amd64 (1.48.15+dfsg-3) ...\nSetting up libespeak1:amd64 (1.48.15+dfsg-3) ...\nSetting up espeak (1.48.15+dfsg-3) ...\nProcessing triggers for man-db (2.10.2-1) ...\nProcessing triggers for libc-bin (2.35-0ubuntu3.4) ...\n/sbin/ldconfig.real: /usr/local/lib/libur_loader.so.0 is not a symbolic link\n\n/sbin/ldconfig.real: /usr/local/lib/libur_adapter_level_zero.so.0 is not a symbolic link\n\n/sbin/ldconfig.real: /usr/local/lib/libur_adapter_opencl.so.0 is not a symbolic link\n\n/sbin/ldconfig.real: /usr/local/lib/libtbbbind_2_5.so.3 is not a symbolic link\n\n/sbin/ldconfig.real: /usr/local/lib/libtcm.so.1 is not a symbolic link\n\n/sbin/ldconfig.real: /usr/local/lib/libtbbbind_2_0.so.3 is not a symbolic link\n\n/sbin/ldconfig.real: /usr/local/lib/libtbb.so.12 is not a symbolic link\n\n/sbin/ldconfig.real: /usr/local/lib/libtcm_debug.so.1 is not a symbolic link\n\n/sbin/ldconfig.real: /usr/local/lib/libtbbmalloc_proxy.so.2 is not a symbolic link\n\n/sbin/ldconfig.real: /usr/local/lib/libtbbmalloc.so.2 is not a symbolic link\n\n/sbin/ldconfig.real: /usr/local/lib/libtbbbind.so.3 is not a symbolic link\n\n/sbin/ldconfig.real: /usr/local/lib/libhwloc.so.15 is not a symbolic link\n\n",
          "output_type": "stream"
        }
      ],
      "execution_count": null
    },
    {
      "cell_type": "code",
      "source": [
        "!espeak \"Hello, this is a test of eSpeak!\"\n"
      ],
      "metadata": {
        "trusted": true,
        "execution": {
          "iopub.status.busy": "2025-01-08T14:31:21.283853Z",
          "iopub.execute_input": "2025-01-08T14:31:21.284214Z",
          "iopub.status.idle": "2025-01-08T14:31:21.50497Z",
          "shell.execute_reply.started": "2025-01-08T14:31:21.284177Z",
          "shell.execute_reply": "2025-01-08T14:31:21.503638Z"
        },
        "id": "RIKYpXnHyl9s",
        "outputId": "21fe02b2-3dce-4d63-efae-08f835119baa"
      },
      "outputs": [
        {
          "name": "stdout",
          "text": "ALSA lib confmisc.c:855:(parse_card) cannot find card '0'\nALSA lib conf.c:5178:(_snd_config_evaluate) function snd_func_card_inum returned error: No such file or directory\nALSA lib confmisc.c:422:(snd_func_concat) error evaluating strings\nALSA lib conf.c:5178:(_snd_config_evaluate) function snd_func_concat returned error: No such file or directory\nALSA lib confmisc.c:1334:(snd_func_refer) error evaluating name\nALSA lib conf.c:5178:(_snd_config_evaluate) function snd_func_refer returned error: No such file or directory\nALSA lib conf.c:5701:(snd_config_expand) Evaluate error: No such file or directory\nALSA lib pcm.c:2664:(snd_pcm_open_noupdate) Unknown PCM sysdefault\nALSA lib confmisc.c:855:(parse_card) cannot find card '0'\nALSA lib conf.c:5178:(_snd_config_evaluate) function snd_func_card_inum returned error: No such file or directory\nALSA lib confmisc.c:422:(snd_func_concat) error evaluating strings\nALSA lib conf.c:5178:(_snd_config_evaluate) function snd_func_concat returned error: No such file or directory\nALSA lib confmisc.c:1334:(snd_func_refer) error evaluating name\nALSA lib conf.c:5178:(_snd_config_evaluate) function snd_func_refer returned error: No such file or directory\nALSA lib conf.c:5701:(snd_config_expand) Evaluate error: No such file or directory\nALSA lib pcm.c:2664:(snd_pcm_open_noupdate) Unknown PCM sysdefault\nALSA lib pcm.c:2664:(snd_pcm_open_noupdate) Unknown PCM cards.pcm.front\nALSA lib pcm.c:2664:(snd_pcm_open_noupdate) Unknown PCM cards.pcm.rear\nALSA lib pcm.c:2664:(snd_pcm_open_noupdate) Unknown PCM cards.pcm.center_lfe\nALSA lib pcm.c:2664:(snd_pcm_open_noupdate) Unknown PCM cards.pcm.side\nALSA lib pcm.c:2664:(snd_pcm_open_noupdate) Unknown PCM cards.pcm.surround21\nALSA lib pcm.c:2664:(snd_pcm_open_noupdate) Unknown PCM cards.pcm.surround21\nALSA lib pcm.c:2664:(snd_pcm_open_noupdate) Unknown PCM cards.pcm.surround40\nALSA lib pcm.c:2664:(snd_pcm_open_noupdate) Unknown PCM cards.pcm.surround41\nALSA lib pcm.c:2664:(snd_pcm_open_noupdate) Unknown PCM cards.pcm.surround50\nALSA lib pcm.c:2664:(snd_pcm_open_noupdate) Unknown PCM cards.pcm.surround51\nALSA lib pcm.c:2664:(snd_pcm_open_noupdate) Unknown PCM cards.pcm.surround71\nALSA lib pcm.c:2664:(snd_pcm_open_noupdate) Unknown PCM cards.pcm.iec958\nALSA lib pcm.c:2664:(snd_pcm_open_noupdate) Unknown PCM cards.pcm.iec958\nALSA lib pcm.c:2664:(snd_pcm_open_noupdate) Unknown PCM cards.pcm.iec958\nALSA lib pcm.c:2664:(snd_pcm_open_noupdate) Unknown PCM cards.pcm.hdmi\nALSA lib pcm.c:2664:(snd_pcm_open_noupdate) Unknown PCM cards.pcm.hdmi\nALSA lib pcm.c:2664:(snd_pcm_open_noupdate) Unknown PCM cards.pcm.modem\nALSA lib pcm.c:2664:(snd_pcm_open_noupdate) Unknown PCM cards.pcm.modem\nALSA lib pcm.c:2664:(snd_pcm_open_noupdate) Unknown PCM cards.pcm.phoneline\nALSA lib pcm.c:2664:(snd_pcm_open_noupdate) Unknown PCM cards.pcm.phoneline\nALSA lib confmisc.c:855:(parse_card) cannot find card '0'\nALSA lib conf.c:5178:(_snd_config_evaluate) function snd_func_card_inum returned error: No such file or directory\nALSA lib confmisc.c:422:(snd_func_concat) error evaluating strings\nALSA lib conf.c:5178:(_snd_config_evaluate) function snd_func_concat returned error: No such file or directory\nALSA lib confmisc.c:1334:(snd_func_refer) error evaluating name\nALSA lib conf.c:5178:(_snd_config_evaluate) function snd_func_refer returned error: No such file or directory\nALSA lib conf.c:5701:(snd_config_expand) Evaluate error: No such file or directory\nALSA lib pcm.c:2664:(snd_pcm_open_noupdate) Unknown PCM default\nALSA lib confmisc.c:855:(parse_card) cannot find card '0'\nALSA lib conf.c:5178:(_snd_config_evaluate) function snd_func_card_inum returned error: No such file or directory\nALSA lib confmisc.c:422:(snd_func_concat) error evaluating strings\nALSA lib conf.c:5178:(_snd_config_evaluate) function snd_func_concat returned error: No such file or directory\nALSA lib confmisc.c:1334:(snd_func_refer) error evaluating name\nALSA lib conf.c:5178:(_snd_config_evaluate) function snd_func_refer returned error: No such file or directory\nALSA lib conf.c:5701:(snd_config_expand) Evaluate error: No such file or directory\nALSA lib pcm.c:2664:(snd_pcm_open_noupdate) Unknown PCM default\nALSA lib confmisc.c:855:(parse_card) cannot find card '0'\nALSA lib conf.c:5178:(_snd_config_evaluate) function snd_func_card_id returned error: No such file or directory\nALSA lib confmisc.c:422:(snd_func_concat) error evaluating strings\nALSA lib conf.c:5178:(_snd_config_evaluate) function snd_func_concat returned error: No such file or directory\nALSA lib confmisc.c:1334:(snd_func_refer) error evaluating name\nALSA lib conf.c:5178:(_snd_config_evaluate) function snd_func_refer returned error: No such file or directory\nALSA lib conf.c:5701:(snd_config_expand) Evaluate error: No such file or directory\nALSA lib pcm.c:2664:(snd_pcm_open_noupdate) Unknown PCM dmix\nwave_open_sound > Pa_OpenStream : err=-9996 (Invalid device)\nwave_open_sound > Pa_OpenStream : err=-9996 (Invalid device)\nwave_open_sound > Pa_OpenStream : err=-9996 (Invalid device)\nwave_open_sound > Pa_OpenStream : err=-9996 (Invalid device)\nwave_open_sound > Pa_OpenStream : err=-9996 (Invalid device)\nwave_open_sound > Pa_OpenStream : err=-9996 (Invalid device)\nwave_open_sound > Pa_OpenStream : err=-9996 (Invalid device)\nwave_open_sound > Pa_OpenStream : err=-9996 (Invalid device)\nwave_open_sound > Pa_OpenStream : err=-9996 (Invalid device)\nwave_open_sound > Pa_OpenStream : err=-9996 (Invalid device)\nwave_open_sound > Pa_OpenStream : err=-9996 (Invalid device)\nwave_open_sound > Pa_OpenStream : err=-9996 (Invalid device)\nwave_open_sound > Pa_OpenStream : err=-9996 (Invalid device)\n",
          "output_type": "stream"
        }
      ],
      "execution_count": null
    },
    {
      "cell_type": "code",
      "source": [
        "!pip install gTTS"
      ],
      "metadata": {
        "trusted": true,
        "execution": {
          "iopub.status.busy": "2025-01-08T14:31:21.506468Z",
          "iopub.execute_input": "2025-01-08T14:31:21.506871Z",
          "iopub.status.idle": "2025-01-08T14:31:24.870907Z",
          "shell.execute_reply.started": "2025-01-08T14:31:21.506829Z",
          "shell.execute_reply": "2025-01-08T14:31:24.870024Z"
        },
        "id": "FzaBydGuyl9s",
        "outputId": "ff68560b-7307-4634-90c3-ff008abc4930"
      },
      "outputs": [
        {
          "name": "stdout",
          "text": "Collecting gTTS\n  Downloading gTTS-2.5.4-py3-none-any.whl.metadata (4.1 kB)\nRequirement already satisfied: requests<3,>=2.27 in /usr/local/lib/python3.10/dist-packages (from gTTS) (2.32.3)\nRequirement already satisfied: click<8.2,>=7.1 in /usr/local/lib/python3.10/dist-packages (from gTTS) (8.1.7)\nRequirement already satisfied: charset-normalizer<4,>=2 in /usr/local/lib/python3.10/dist-packages (from requests<3,>=2.27->gTTS) (3.3.2)\nRequirement already satisfied: idna<4,>=2.5 in /usr/local/lib/python3.10/dist-packages (from requests<3,>=2.27->gTTS) (3.10)\nRequirement already satisfied: urllib3<3,>=1.21.1 in /usr/local/lib/python3.10/dist-packages (from requests<3,>=2.27->gTTS) (2.2.3)\nRequirement already satisfied: certifi>=2017.4.17 in /usr/local/lib/python3.10/dist-packages (from requests<3,>=2.27->gTTS) (2024.8.30)\nDownloading gTTS-2.5.4-py3-none-any.whl (29 kB)\nInstalling collected packages: gTTS\nSuccessfully installed gTTS-2.5.4\n",
          "output_type": "stream"
        }
      ],
      "execution_count": null
    },
    {
      "cell_type": "markdown",
      "source": [],
      "metadata": {
        "id": "9A6bPzzfyl9s"
      }
    },
    {
      "cell_type": "code",
      "source": [
        "from gtts import gTTS\n",
        "import IPython.display as ipd\n",
        "\n",
        "# Text to synthesize\n",
        "text = \"Hello, this is a test of Google Text-to-Speech!\"\n",
        "\n",
        "# Generate speech\n",
        "tts = gTTS(text)\n",
        "tts.save(\"output.mp3\")\n",
        "\n",
        "# Play audio in Kaggle\n",
        "ipd.Audio(\"output.mp3\")"
      ],
      "metadata": {
        "trusted": true,
        "execution": {
          "iopub.status.busy": "2025-01-08T14:31:24.871974Z",
          "iopub.execute_input": "2025-01-08T14:31:24.87221Z",
          "iopub.status.idle": "2025-01-08T14:31:25.0002Z",
          "shell.execute_reply.started": "2025-01-08T14:31:24.87218Z",
          "shell.execute_reply": "2025-01-08T14:31:24.999308Z"
        },
        "id": "EbHdvgH5yl9s",
        "outputId": "6383312f-3124-4f47-faf2-090a69003492"
      },
      "outputs": [
        {
          "execution_count": 18,
          "output_type": "execute_result",
          "data": {
            "text/plain": "<IPython.lib.display.Audio object>",
            "text/html": "\n                <audio  controls=\"controls\" >\n                    <source src=\"data:audio/mpeg;base64,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\" type=\"audio/mpeg\" />\n                    Your browser does not support the audio element.\n                </audio>\n              "
          },
          "metadata": {}
        }
      ],
      "execution_count": null
    },
    {
      "cell_type": "code",
      "source": [
        "!pip install SpeechRecognition\n"
      ],
      "metadata": {
        "trusted": true,
        "execution": {
          "iopub.status.busy": "2025-01-08T14:31:25.001009Z",
          "iopub.execute_input": "2025-01-08T14:31:25.00124Z",
          "iopub.status.idle": "2025-01-08T14:31:29.549208Z",
          "shell.execute_reply.started": "2025-01-08T14:31:25.001221Z",
          "shell.execute_reply": "2025-01-08T14:31:29.548315Z"
        },
        "id": "lI-PQZ6kyl9s",
        "outputId": "77f98b5a-a6f8-4849-c495-51a5201e4860"
      },
      "outputs": [
        {
          "name": "stderr",
          "text": "/usr/lib/python3.10/pty.py:89: RuntimeWarning: os.fork() was called. os.fork() is incompatible with multithreaded code, and JAX is multithreaded, so this will likely lead to a deadlock.\n  pid, fd = os.forkpty()\n",
          "output_type": "stream"
        },
        {
          "name": "stdout",
          "text": "Collecting SpeechRecognition\n  Downloading SpeechRecognition-3.13.0-py3-none-any.whl.metadata (30 kB)\nRequirement already satisfied: typing-extensions in /usr/local/lib/python3.10/dist-packages (from SpeechRecognition) (4.12.2)\nDownloading SpeechRecognition-3.13.0-py3-none-any.whl (32.8 MB)\n\u001b[2K   \u001b[90m━━━━━━━━━━━━━━━━━━━━━━━━━━━━━━━━━━━━━━━━\u001b[0m \u001b[32m32.8/32.8 MB\u001b[0m \u001b[31m56.1 MB/s\u001b[0m eta \u001b[36m0:00:00\u001b[0m:00:01\u001b[0m00:01\u001b[0m\n\u001b[?25hInstalling collected packages: SpeechRecognition\nSuccessfully installed SpeechRecognition-3.13.0\n",
          "output_type": "stream"
        }
      ],
      "execution_count": null
    },
    {
      "cell_type": "code",
      "source": [
        "!pip install git+https://github.com/openai/whisper.git\n",
        "!pip install torch torchvision torchaudio --index-url https://download.pytorch.org/whl/cpu\n"
      ],
      "metadata": {
        "trusted": true,
        "execution": {
          "iopub.status.busy": "2025-01-08T14:31:29.550274Z",
          "iopub.execute_input": "2025-01-08T14:31:29.550621Z",
          "iopub.status.idle": "2025-01-08T14:31:44.447547Z",
          "shell.execute_reply.started": "2025-01-08T14:31:29.550597Z",
          "shell.execute_reply": "2025-01-08T14:31:44.446651Z"
        },
        "id": "Vs_q4saDyl9t",
        "outputId": "033803ba-50a1-4e91-c02a-fcdf7eb884b7"
      },
      "outputs": [
        {
          "name": "stdout",
          "text": "Collecting git+https://github.com/openai/whisper.git\n  Cloning https://github.com/openai/whisper.git to /tmp/pip-req-build-2doa5h87\n  Running command git clone --filter=blob:none --quiet https://github.com/openai/whisper.git /tmp/pip-req-build-2doa5h87\n  Resolved https://github.com/openai/whisper.git to commit 517a43ecd132a2089d85f4ebc044728a71d49f6e\n  Installing build dependencies ... \u001b[?25l\u001b[?25hdone\n  Getting requirements to build wheel ... \u001b[?25l\u001b[?25hdone\n  Preparing metadata (pyproject.toml) ... \u001b[?25l\u001b[?25hdone\nRequirement already satisfied: more-itertools in /usr/local/lib/python3.10/dist-packages (from openai-whisper==20240930) (10.5.0)\nRequirement already satisfied: numba in /usr/local/lib/python3.10/dist-packages (from openai-whisper==20240930) (0.60.0)\nRequirement already satisfied: numpy in /usr/local/lib/python3.10/dist-packages (from openai-whisper==20240930) (1.26.4)\nRequirement already satisfied: tiktoken in /usr/local/lib/python3.10/dist-packages (from openai-whisper==20240930) (0.8.0)\nRequirement already satisfied: torch in /usr/local/lib/python3.10/dist-packages (from openai-whisper==20240930) (2.4.1+cu121)\nRequirement already satisfied: tqdm in /usr/local/lib/python3.10/dist-packages (from openai-whisper==20240930) (4.66.5)\nRequirement already satisfied: triton>=2 in /usr/local/lib/python3.10/dist-packages (from openai-whisper==20240930) (3.1.0)\nRequirement already satisfied: filelock in /usr/local/lib/python3.10/dist-packages (from triton>=2->openai-whisper==20240930) (3.16.1)\nRequirement already satisfied: llvmlite<0.44,>=0.43.0dev0 in /usr/local/lib/python3.10/dist-packages (from numba->openai-whisper==20240930) (0.43.0)\nRequirement already satisfied: regex>=2022.1.18 in /usr/local/lib/python3.10/dist-packages (from tiktoken->openai-whisper==20240930) (2024.9.11)\nRequirement already satisfied: requests>=2.26.0 in /usr/local/lib/python3.10/dist-packages (from tiktoken->openai-whisper==20240930) (2.32.3)\nRequirement already satisfied: typing-extensions>=4.8.0 in /usr/local/lib/python3.10/dist-packages (from torch->openai-whisper==20240930) (4.12.2)\nRequirement already satisfied: sympy in /usr/local/lib/python3.10/dist-packages (from torch->openai-whisper==20240930) (1.13.3)\nRequirement already satisfied: networkx in /usr/local/lib/python3.10/dist-packages (from torch->openai-whisper==20240930) (3.3)\nRequirement already satisfied: jinja2 in /usr/local/lib/python3.10/dist-packages (from torch->openai-whisper==20240930) (3.1.4)\nRequirement already satisfied: fsspec in /usr/local/lib/python3.10/dist-packages (from torch->openai-whisper==20240930) (2024.6.1)\nRequirement already satisfied: charset-normalizer<4,>=2 in /usr/local/lib/python3.10/dist-packages (from requests>=2.26.0->tiktoken->openai-whisper==20240930) (3.3.2)\nRequirement already satisfied: idna<4,>=2.5 in /usr/local/lib/python3.10/dist-packages (from requests>=2.26.0->tiktoken->openai-whisper==20240930) (3.10)\nRequirement already satisfied: urllib3<3,>=1.21.1 in /usr/local/lib/python3.10/dist-packages (from requests>=2.26.0->tiktoken->openai-whisper==20240930) (2.2.3)\nRequirement already satisfied: certifi>=2017.4.17 in /usr/local/lib/python3.10/dist-packages (from requests>=2.26.0->tiktoken->openai-whisper==20240930) (2024.8.30)\nRequirement already satisfied: MarkupSafe>=2.0 in /usr/local/lib/python3.10/dist-packages (from jinja2->torch->openai-whisper==20240930) (2.1.5)\nRequirement already satisfied: mpmath<1.4,>=1.1.0 in /usr/local/lib/python3.10/dist-packages (from sympy->torch->openai-whisper==20240930) (1.3.0)\nLooking in indexes: https://download.pytorch.org/whl/cpu\nRequirement already satisfied: torch in /usr/local/lib/python3.10/dist-packages (2.4.1+cu121)\nRequirement already satisfied: torchvision in /usr/local/lib/python3.10/dist-packages (0.19.1+cu121)\nRequirement already satisfied: torchaudio in /usr/local/lib/python3.10/dist-packages (2.4.1+cu121)\nRequirement already satisfied: filelock in /usr/local/lib/python3.10/dist-packages (from torch) (3.16.1)\nRequirement already satisfied: typing-extensions>=4.8.0 in /usr/local/lib/python3.10/dist-packages (from torch) (4.12.2)\nRequirement already satisfied: sympy in /usr/local/lib/python3.10/dist-packages (from torch) (1.13.3)\nRequirement already satisfied: networkx in /usr/local/lib/python3.10/dist-packages (from torch) (3.3)\nRequirement already satisfied: jinja2 in /usr/local/lib/python3.10/dist-packages (from torch) (3.1.4)\nRequirement already satisfied: fsspec in /usr/local/lib/python3.10/dist-packages (from torch) (2024.6.1)\nRequirement already satisfied: numpy in /usr/local/lib/python3.10/dist-packages (from torchvision) (1.26.4)\nRequirement already satisfied: pillow!=8.3.*,>=5.3.0 in /usr/local/lib/python3.10/dist-packages (from torchvision) (10.4.0)\nRequirement already satisfied: MarkupSafe>=2.0 in /usr/local/lib/python3.10/dist-packages (from jinja2->torch) (2.1.5)\nRequirement already satisfied: mpmath<1.4,>=1.1.0 in /usr/local/lib/python3.10/dist-packages (from sympy->torch) (1.3.0)\n",
          "output_type": "stream"
        }
      ],
      "execution_count": null
    },
    {
      "cell_type": "code",
      "source": [
        "import whisper\n",
        "\n",
        "# Load the Whisper model\n",
        "model = whisper.load_model(\"base\")  # Use \"tiny\", \"base\", \"small\", \"medium\", or \"large\" models\n",
        "\n",
        "# Transcribe the audio file\n",
        "def transcribe_audio(audio_file):\n",
        "    \"\"\"\n",
        "    Transcribes audio to text using Whisper.\n",
        "    \"\"\"\n",
        "    result = model.transcribe(audio_file)\n",
        "    text = result[\"text\"]\n",
        "    print(f\"Transcription: {text}\")\n",
        "    return text\n",
        "\n",
        "# Example usage\n",
        "audio_file = \"/kaggle/input/testdo/MoneyQ1.wav\"  # Ensure the file is in WAV format\n",
        "transcription = transcribe_audio(audio_file)\n"
      ],
      "metadata": {
        "trusted": true,
        "execution": {
          "iopub.status.busy": "2025-01-08T14:31:44.448794Z",
          "iopub.execute_input": "2025-01-08T14:31:44.449127Z",
          "iopub.status.idle": "2025-01-08T14:31:48.629146Z",
          "shell.execute_reply.started": "2025-01-08T14:31:44.449097Z",
          "shell.execute_reply": "2025-01-08T14:31:48.628229Z"
        },
        "id": "zXHtCcdayl9t",
        "outputId": "33b3f1e0-c71a-4205-f1fd-5e4b2de92656"
      },
      "outputs": [
        {
          "name": "stderr",
          "text": "100%|████████████████████████████████████████| 139M/139M [00:00<00:00, 184MiB/s]\n/usr/local/lib/python3.10/dist-packages/whisper/__init__.py:150: FutureWarning: You are using `torch.load` with `weights_only=False` (the current default value), which uses the default pickle module implicitly. It is possible to construct malicious pickle data which will execute arbitrary code during unpickling (See https://github.com/pytorch/pytorch/blob/main/SECURITY.md#untrusted-models for more details). In a future release, the default value for `weights_only` will be flipped to `True`. This limits the functions that could be executed during unpickling. Arbitrary objects will no longer be allowed to be loaded via this mode unless they are explicitly allowlisted by the user via `torch.serialization.add_safe_globals`. We recommend you start setting `weights_only=True` for any use case where you don't have full control of the loaded file. Please open an issue on GitHub for any issues related to this experimental feature.\n  checkpoint = torch.load(fp, map_location=device)\n",
          "output_type": "stream"
        },
        {
          "name": "stdout",
          "text": "Transcription:  What is money and what are different types of money?\n",
          "output_type": "stream"
        }
      ],
      "execution_count": null
    },
    {
      "cell_type": "code",
      "source": [
        "!pip install gTTS\n"
      ],
      "metadata": {
        "trusted": true,
        "execution": {
          "iopub.status.busy": "2025-01-08T14:31:48.630201Z",
          "iopub.execute_input": "2025-01-08T14:31:48.630548Z",
          "iopub.status.idle": "2025-01-08T14:31:51.865583Z",
          "shell.execute_reply.started": "2025-01-08T14:31:48.630516Z",
          "shell.execute_reply": "2025-01-08T14:31:51.864722Z"
        },
        "id": "uIHAu_Myyl9t",
        "outputId": "8cc0d2fe-2026-4145-d8db-9b392c78b5ec"
      },
      "outputs": [
        {
          "name": "stderr",
          "text": "/usr/lib/python3.10/pty.py:89: RuntimeWarning: os.fork() was called. os.fork() is incompatible with multithreaded code, and JAX is multithreaded, so this will likely lead to a deadlock.\n  pid, fd = os.forkpty()\n",
          "output_type": "stream"
        },
        {
          "name": "stdout",
          "text": "Requirement already satisfied: gTTS in /usr/local/lib/python3.10/dist-packages (2.5.4)\nRequirement already satisfied: requests<3,>=2.27 in /usr/local/lib/python3.10/dist-packages (from gTTS) (2.32.3)\nRequirement already satisfied: click<8.2,>=7.1 in /usr/local/lib/python3.10/dist-packages (from gTTS) (8.1.7)\nRequirement already satisfied: charset-normalizer<4,>=2 in /usr/local/lib/python3.10/dist-packages (from requests<3,>=2.27->gTTS) (3.3.2)\nRequirement already satisfied: idna<4,>=2.5 in /usr/local/lib/python3.10/dist-packages (from requests<3,>=2.27->gTTS) (3.10)\nRequirement already satisfied: urllib3<3,>=1.21.1 in /usr/local/lib/python3.10/dist-packages (from requests<3,>=2.27->gTTS) (2.2.3)\nRequirement already satisfied: certifi>=2017.4.17 in /usr/local/lib/python3.10/dist-packages (from requests<3,>=2.27->gTTS) (2024.8.30)\n",
          "output_type": "stream"
        }
      ],
      "execution_count": null
    },
    {
      "cell_type": "markdown",
      "source": [],
      "metadata": {
        "id": "0ID4f7Y1yl9t"
      }
    },
    {
      "cell_type": "code",
      "source": [
        " from gtts import gTTS\n",
        "import IPython.display as ipd\n",
        "\n",
        "def generate_response(user_question):\n",
        "    \"\"\"\n",
        "    Dummy response generator (replace with your custom logic).\n",
        "    \"\"\"\n",
        "    return f\"I heard: '{user_question}'. This is my response!\"\n",
        "\n",
        "def text_to_speech(text, output_file=\"response.mp3\"):\n",
        "    \"\"\"\n",
        "    Converts text to speech using gTTS and plays the audio.\n",
        "    \"\"\"\n",
        "    tts = gTTS(text)\n",
        "    tts.save(output_file)\n",
        "    return ipd.Audio(output_file)\n",
        "\n",
        "# Workflow: Transcribe -> Generate Response -> TTS\n",
        "user_question = transcribe_audio(audio_file)\n",
        "bot_response = generate_response(user_question)\n",
        "audio_output = text_to_speech(bot_response)\n",
        "ipd.display(audio_output)\n"
      ],
      "metadata": {
        "trusted": true,
        "execution": {
          "iopub.status.busy": "2025-01-08T14:31:51.866679Z",
          "iopub.execute_input": "2025-01-08T14:31:51.867049Z",
          "iopub.status.idle": "2025-01-08T14:31:52.424591Z",
          "shell.execute_reply.started": "2025-01-08T14:31:51.867Z",
          "shell.execute_reply": "2025-01-08T14:31:52.423767Z"
        },
        "id": "-UVxZ1HZyl9t",
        "outputId": "13b0fc9e-d787-4225-99d8-24314eeb01de"
      },
      "outputs": [
        {
          "name": "stdout",
          "text": "Transcription:  What is money and what are different types of money?\n",
          "output_type": "stream"
        },
        {
          "output_type": "display_data",
          "data": {
            "text/plain": "<IPython.lib.display.Audio object>",
            "text/html": "\n                <audio  controls=\"controls\" >\n                    <source src=\"data:audio/mpeg;base64,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\" type=\"audio/mpeg\" />\n                    Your browser does not support the audio element.\n                </audio>\n              "
          },
          "metadata": {}
        }
      ],
      "execution_count": null
    },
    {
      "cell_type": "code",
      "source": [
        "voice_interactive_bot('/kaggle/input/testdo/MoneyQ1.wav', chunks, chunk_embeddings)\n"
      ],
      "metadata": {
        "trusted": true,
        "execution": {
          "iopub.status.busy": "2025-01-08T14:31:52.425358Z",
          "iopub.execute_input": "2025-01-08T14:31:52.425706Z",
          "iopub.status.idle": "2025-01-08T14:31:54.973999Z",
          "shell.execute_reply.started": "2025-01-08T14:31:52.42568Z",
          "shell.execute_reply": "2025-01-08T14:31:54.973074Z"
        },
        "id": "8YTJfLR4yl9t",
        "outputId": "e36d2fb6-d602-4013-ec75-5408591bcc6a",
        "colab": {
          "referenced_widgets": [
            "c9b446eb94204fccaaa84a7d16170b24"
          ]
        }
      },
      "outputs": [
        {
          "name": "stderr",
          "text": "/usr/local/lib/python3.10/dist-packages/whisper/__init__.py:150: FutureWarning: You are using `torch.load` with `weights_only=False` (the current default value), which uses the default pickle module implicitly. It is possible to construct malicious pickle data which will execute arbitrary code during unpickling (See https://github.com/pytorch/pytorch/blob/main/SECURITY.md#untrusted-models for more details). In a future release, the default value for `weights_only` will be flipped to `True`. This limits the functions that could be executed during unpickling. Arbitrary objects will no longer be allowed to be loaded via this mode unless they are explicitly allowlisted by the user via `torch.serialization.add_safe_globals`. We recommend you start setting `weights_only=True` for any use case where you don't have full control of the loaded file. Please open an issue on GitHub for any issues related to this experimental feature.\n  checkpoint = torch.load(fp, map_location=device)\n",
          "output_type": "stream"
        },
        {
          "name": "stdout",
          "text": "User Question:  What is money and what are different types of money?\n",
          "output_type": "stream"
        },
        {
          "output_type": "display_data",
          "data": {
            "text/plain": "Batches:   0%|          | 0/1 [00:00<?, ?it/s]",
            "application/vnd.jupyter.widget-view+json": {
              "version_major": 2,
              "version_minor": 0,
              "model_id": "c9b446eb94204fccaaa84a7d16170b24"
            }
          },
          "metadata": {}
        },
        {
          "name": "stdout",
          "text": "Bot Answer: ('demand deposits', 'jess203.pdf')\n",
          "output_type": "stream"
        }
      ],
      "execution_count": null
    },
    {
      "cell_type": "code",
      "source": [
        "\n",
        "\n",
        "!pip install pyttsx3\n"
      ],
      "metadata": {
        "trusted": true,
        "execution": {
          "iopub.status.busy": "2025-01-08T14:31:54.974842Z",
          "iopub.execute_input": "2025-01-08T14:31:54.975094Z",
          "iopub.status.idle": "2025-01-08T14:31:58.197379Z",
          "shell.execute_reply.started": "2025-01-08T14:31:54.975072Z",
          "shell.execute_reply": "2025-01-08T14:31:58.196369Z"
        },
        "id": "CsEVaS19yl9t",
        "outputId": "7f9bd67c-8ee1-48b7-fc7b-24bf2bef6738"
      },
      "outputs": [
        {
          "name": "stderr",
          "text": "/usr/lib/python3.10/pty.py:89: RuntimeWarning: os.fork() was called. os.fork() is incompatible with multithreaded code, and JAX is multithreaded, so this will likely lead to a deadlock.\n  pid, fd = os.forkpty()\n",
          "output_type": "stream"
        },
        {
          "name": "stdout",
          "text": "Requirement already satisfied: pyttsx3 in /usr/local/lib/python3.10/dist-packages (2.98)\n",
          "output_type": "stream"
        }
      ],
      "execution_count": null
    },
    {
      "cell_type": "code",
      "source": [
        "import os\n",
        "\n",
        "source_file = \"/kaggle/input/audio-ws/Final Agenda - BV convocation 2025.wav\"\n",
        "destination_file = \"/kaggle/input/audio-ws/audio.wav\"\n",
        "\n",
        "try:\n",
        "    os.rename(source_file, destination_file)\n",
        "    print(f\"File renamed from {source_file} to {destination_file}\")\n",
        "except FileNotFoundError:\n",
        "    print(f\"Error: Source file {source_file} not found.\")\n",
        "except FileExistsError:\n",
        "    print(f\"Error: Destination file {destination_file} already exists.\")\n",
        "except OSError as e:\n",
        "    print(f\"An OS error occurred: {e}\")"
      ],
      "metadata": {
        "trusted": true,
        "execution": {
          "iopub.status.busy": "2025-01-08T14:31:58.198514Z",
          "iopub.execute_input": "2025-01-08T14:31:58.198791Z",
          "iopub.status.idle": "2025-01-08T14:31:58.20433Z",
          "shell.execute_reply.started": "2025-01-08T14:31:58.198766Z",
          "shell.execute_reply": "2025-01-08T14:31:58.203627Z"
        },
        "id": "1VLM0gEPyl9t",
        "outputId": "8948b52d-0d99-424e-9ae0-c8c78cc0522f"
      },
      "outputs": [
        {
          "name": "stdout",
          "text": "An OS error occurred: [Errno 30] Read-only file system: '/kaggle/input/audio-ws/Final Agenda - BV convocation 2025.wav' -> '/kaggle/input/audio-ws/audio.wav'\n",
          "output_type": "stream"
        }
      ],
      "execution_count": null
    },
    {
      "cell_type": "code",
      "source": [],
      "metadata": {
        "trusted": true,
        "id": "tJyt0Llryl9t"
      },
      "outputs": [],
      "execution_count": null
    }
  ]
}